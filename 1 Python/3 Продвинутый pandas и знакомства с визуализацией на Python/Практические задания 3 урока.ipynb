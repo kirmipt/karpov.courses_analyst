{
 "cells": [
  {
   "cell_type": "markdown",
   "id": "6609247a",
   "metadata": {},
   "source": [
    "# Домашние задание третьего урока."
   ]
  },
  {
   "cell_type": "markdown",
   "id": "4c8d968f",
   "metadata": {},
   "source": [
    "**1 .Переменная names содержит в себе строку, где хранятся имена в формате 'Name1 Surname1, Name2 Surname2, …'.\n",
    "Поместите в переменную names_list список со строками имён – ['Name1 Surname1', 'Name2 Surname2', …]**\n",
    "\n",
    "Переменная names уже задана."
   ]
  },
  {
   "cell_type": "code",
   "execution_count": 5,
   "id": "4c65c668",
   "metadata": {
    "scrolled": true
   },
   "outputs": [
    {
     "data": {
      "text/plain": [
       "'b'"
      ]
     },
     "execution_count": 5,
     "metadata": {},
     "output_type": "execute_result"
    }
   ],
   "source": [
    "names='a, b, c'\n",
    "names_list=names.split(', ')\n",
    "names_list"
   ]
  },
  {
   "cell_type": "markdown",
   "id": "60c9942f",
   "metadata": {},
   "source": [
    "**2. В переменной df содержатся данные такого вида**\n",
    "\n",
    "![](https://ucarecdn.com/46eb9638-0fb3-457f-a9b9-80187b100547/)\n",
    "\n",
    "**Отберите из них только те, где wealth принимает значение 'medium', а возраст составляет больше 35.\n",
    "Поместите результат в переменную medium_35.**"
   ]
  },
  {
   "cell_type": "code",
   "execution_count": null,
   "id": "18f0ac47",
   "metadata": {},
   "outputs": [],
   "source": [
    "medium_35 = df.query(\"wealth == 'medium' and age > 35\")"
   ]
  },
  {
   "cell_type": "markdown",
   "id": "1c328662",
   "metadata": {},
   "source": [
    "**3. Ваш коллега-новичок перепутал названия колонок в таблице df из предыдущих заданий и прислал вам такой вариант:**\n",
    "\n",
    "![](https://ucarecdn.com/e6eb7af1-3ef7-400f-9b56-0c9ee3e17d71/)\n",
    "\n",
    "**Воспользуйтесь методом rename и приведите таблицу к более каноничному виду, сохранив её в ту же самую переменную df.**\n",
    "\n",
    "![](https://ucarecdn.com/46eb9638-0fb3-457f-a9b9-80187b100547/)\n",
    "\n",
    "Note: колонка называется 'Клиент id' - шрифт плохо передаёт кейс i в id"
   ]
  },
  {
   "cell_type": "code",
   "execution_count": null,
   "id": "955c1c52",
   "metadata": {},
   "outputs": [],
   "source": [
    "df = df.rename(columns={'Клиент id': 'client_id', \n",
    "                        'Пол' : 'sex', \n",
    "                        'Благосостояние' : 'wealth', \n",
    "                        'Возраст': 'age'})"
   ]
  },
  {
   "cell_type": "markdown",
   "id": "78f5c94d",
   "metadata": {},
   "source": [
    "**4. Добавьте в исследуемый нами датафрэйм df колонку older_than_30, в которой будет информация превышает ли значение переменной возраста 30 лет или нет (булево значение)**\n",
    "\n",
    "![](https://ucarecdn.com/46eb9638-0fb3-457f-a9b9-80187b100547/)"
   ]
  },
  {
   "cell_type": "code",
   "execution_count": null,
   "id": "232d74ea",
   "metadata": {},
   "outputs": [],
   "source": [
    "df['older_than_30'] = df.age > 30"
   ]
  },
  {
   "cell_type": "markdown",
   "id": "cc99f777",
   "metadata": {},
   "source": [
    "**5. А теперь получите серию с числом уникальных значений для каждой колонки и присвойте её переменной unique_num.**\n",
    "\n",
    "![](https://ucarecdn.com/46eb9638-0fb3-457f-a9b9-80187b100547/)"
   ]
  },
  {
   "cell_type": "code",
   "execution_count": null,
   "id": "70189801",
   "metadata": {},
   "outputs": [],
   "source": [
    "unique_num = df.nunique()"
   ]
  },
  {
   "cell_type": "markdown",
   "id": "ce8e4773",
   "metadata": {},
   "source": [
    "**6. У нас появились новые данные! Переменная data хранит в себе датафрэйм следующего вида:**\n",
    "\n",
    "![](https://ucarecdn.com/abdf7c01-a13a-4075-bb5a-595bde5d55ef/)\n",
    "\n",
    "**Проведите inner join датафрейма data с df из предыдущего шага, объединив их по колонке client_id, и поместите результат в переменную full_data (да, придумывать названия переменных иногда бывает сложно)**\n",
    "\n",
    "**Предыдущий датафрейм загружен в переменную df, новый – в data**"
   ]
  },
  {
   "cell_type": "code",
   "execution_count": null,
   "id": "402ea63a",
   "metadata": {},
   "outputs": [],
   "source": [
    "df.merge(data, on='client_id')"
   ]
  },
  {
   "cell_type": "markdown",
   "id": "2797079c",
   "metadata": {},
   "source": [
    "**7. 💀 Сложное задание! 💀**\n",
    "\n",
    "**Теперь давайте создадим собственную функцию. Напишите функцию read_n_agg, которая:**\n",
    "\n",
    "1. принимает на вход один параметр – путь к файлу\n",
    "2. считывает переданный файл, в котором разделителем является ;\n",
    "3. считает средний заработок (income) по каждой компании (company), перенося колонку company в индекс (as_index=True)\n",
    "4. возвращает результат этих действий (агрегированный датафрэйм)\n",
    "\n",
    "![](https://ucarecdn.com/8a8350bf-521b-4047-9f46-1b26f546082a/)\n",
    "\n",
    "P.S. Небольшое уточнение – менять что-то в данных или переименовывать колонки не нужно.\n",
    "\n",
    "P.P.S. В задании надо указать только функцию, указывать конкретный путь к файлу и/или пытаться его читать не нужно!"
   ]
  },
  {
   "cell_type": "code",
   "execution_count": null,
   "id": "73d2ce26",
   "metadata": {},
   "outputs": [],
   "source": [
    "def read_n_agg(way)\n",
    "    df=pd.read_csv(way, sep=';')\n",
    "    return df.groupby('company', as_index=True).income().mean()"
   ]
  },
  {
   "cell_type": "markdown",
   "id": "969b44b3",
   "metadata": {},
   "source": [
    "у меня нету такого .csv, поэтому выполняю на покемонах аналогичные команды"
   ]
  },
  {
   "cell_type": "markdown",
   "id": "321e16e2",
   "metadata": {},
   "source": [
    "**8. Вернемся к данным по поездкам на такси. На этот раз – из Перу, с рейтингами водителей, пассажиров, координатами, и парой других деталей.**\n",
    "\n",
    "* journey_id – уникальный id поездки\n",
    "\n",
    "* user_id – id пользователя\n",
    "\n",
    "* driver_id – id водителя\n",
    "\n",
    "* taxi_id – id машины\n",
    "\n",
    "* icon – тип поездки\n",
    "\n",
    "* start_type – тип заказа (asap, reserved, delayed)\n",
    "\n",
    "* start_at – время начала поездки\n",
    "\n",
    "* start_lat – исходное местоположение пользователя, широта\n",
    "\n",
    "* start_lon – исходное местоположение пользователя, долгота\n",
    "\n",
    "* end_at – время окончания поездки\n",
    "\n",
    "* end_lat – итоговое местоположение, широта\n",
    "\n",
    "* end_lon – итоговое местоположение, долгота\n",
    "\n",
    "* end_state – состояние заказа\n",
    "\n",
    "* driver_start_lat – исходное местоположение водителя, широта\n",
    "\n",
    "* driver_start_lon – исходное местоположение водителя, долгота\n",
    "\n",
    "* arrived_at – время прибытия водителя\n",
    "\n",
    "* source – платформа, с которой сделан заказ\n",
    "\n",
    "* driver_score – оценка водителя клиентом\n",
    "\n",
    "* rider_score – оценка клиента водителем\n",
    " \n",
    "\n",
    "**Импортируйте pandas как pd. В данном задании ссылка на датасет находится в переменной path_to_file. \n",
    "Загрузите датасет, используя ; в качестве разделителя.**\n",
    "\n",
    "**Также укажите, что столбцы start_at, end_at, arrived_at нужно прочитать как даты (параметр parse_dates).\n",
    "Результат запишите в переменную taxi.**\n",
    "\n",
    " Может пригодиться: [read_csv()](https://lab.karpov.courses/learning/88/module/1103/lesson/9727/28493/133019/)"
   ]
  },
  {
   "cell_type": "code",
   "execution_count": 2,
   "id": "ef0a5f25",
   "metadata": {},
   "outputs": [],
   "source": [
    "import pandas as pd\n",
    "import matplotlib.pyplot as plt\n",
    "import seaborn as sns\n",
    "%matplotlib inline"
   ]
  },
  {
   "cell_type": "code",
   "execution_count": 5,
   "id": "7b0164a6",
   "metadata": {},
   "outputs": [
    {
     "data": {
      "text/html": [
       "<div>\n",
       "<style scoped>\n",
       "    .dataframe tbody tr th:only-of-type {\n",
       "        vertical-align: middle;\n",
       "    }\n",
       "\n",
       "    .dataframe tbody tr th {\n",
       "        vertical-align: top;\n",
       "    }\n",
       "\n",
       "    .dataframe thead th {\n",
       "        text-align: right;\n",
       "    }\n",
       "</style>\n",
       "<table border=\"1\" class=\"dataframe\">\n",
       "  <thead>\n",
       "    <tr style=\"text-align: right;\">\n",
       "      <th></th>\n",
       "      <th>journey_id</th>\n",
       "      <th>user_id</th>\n",
       "      <th>driver_id</th>\n",
       "      <th>taxi_id</th>\n",
       "      <th>icon</th>\n",
       "      <th>start_type</th>\n",
       "      <th>start_at</th>\n",
       "      <th>start_lat</th>\n",
       "      <th>start_lon</th>\n",
       "      <th>end_at</th>\n",
       "      <th>...</th>\n",
       "      <th>price_distance</th>\n",
       "      <th>price_duration</th>\n",
       "      <th>distance</th>\n",
       "      <th>duration</th>\n",
       "      <th>cost</th>\n",
       "      <th>cost_distance</th>\n",
       "      <th>cost_duration</th>\n",
       "      <th>source</th>\n",
       "      <th>driver_score</th>\n",
       "      <th>rider_score</th>\n",
       "    </tr>\n",
       "  </thead>\n",
       "  <tbody>\n",
       "    <tr>\n",
       "      <th>0</th>\n",
       "      <td>23a1406fc6a11d866e3c82f22eed4d4c</td>\n",
       "      <td>0e9af5bbf1edfe591b54ecdfd7e91e26</td>\n",
       "      <td>583949a89a9ee17d19e3ca4f137b6b4c</td>\n",
       "      <td>b12f4f09c783e29fe0d0ea624530db56</td>\n",
       "      <td>executive</td>\n",
       "      <td>asap</td>\n",
       "      <td>2010-11-16 16:44:00</td>\n",
       "      <td>-12,13983536</td>\n",
       "      <td>-77,02355957</td>\n",
       "      <td>2010-11-16 17:29:00</td>\n",
       "      <td>...</td>\n",
       "      <td>3626.0</td>\n",
       "      <td>195.0</td>\n",
       "      <td>11331.0</td>\n",
       "      <td>234.0</td>\n",
       "      <td>0.0</td>\n",
       "      <td>0.0</td>\n",
       "      <td>0.0</td>\n",
       "      <td>iPhone</td>\n",
       "      <td>5.0</td>\n",
       "      <td>5.0</td>\n",
       "    </tr>\n",
       "    <tr>\n",
       "      <th>1</th>\n",
       "      <td>dd2af4715d0dc16eded53afc0e243577</td>\n",
       "      <td>a553c46e3a22fb9c326aeb3d72b3334e</td>\n",
       "      <td>NaN</td>\n",
       "      <td>NaN</td>\n",
       "      <td>executive</td>\n",
       "      <td>asap</td>\n",
       "      <td>2010-06-01 00:34:00</td>\n",
       "      <td>-12,13874817</td>\n",
       "      <td>-76,99536133</td>\n",
       "      <td>2010-06-01 00:37:00</td>\n",
       "      <td>...</td>\n",
       "      <td>NaN</td>\n",
       "      <td>NaN</td>\n",
       "      <td>0.0</td>\n",
       "      <td>0.0</td>\n",
       "      <td>0.0</td>\n",
       "      <td>NaN</td>\n",
       "      <td>NaN</td>\n",
       "      <td>iPhone</td>\n",
       "      <td>NaN</td>\n",
       "      <td>NaN</td>\n",
       "    </tr>\n",
       "    <tr>\n",
       "      <th>2</th>\n",
       "      <td>dd91e131888064bf7df3ce08f3d4b4ad</td>\n",
       "      <td>a553c46e3a22fb9c326aeb3d72b3334e</td>\n",
       "      <td>NaN</td>\n",
       "      <td>NaN</td>\n",
       "      <td>executive</td>\n",
       "      <td>asap</td>\n",
       "      <td>2010-05-31 05:01:00</td>\n",
       "      <td>-12,12453079</td>\n",
       "      <td>-77,02780151</td>\n",
       "      <td>2010-05-31 05:04:00</td>\n",
       "      <td>...</td>\n",
       "      <td>NaN</td>\n",
       "      <td>NaN</td>\n",
       "      <td>0.0</td>\n",
       "      <td>0.0</td>\n",
       "      <td>0.0</td>\n",
       "      <td>NaN</td>\n",
       "      <td>NaN</td>\n",
       "      <td>iPhone</td>\n",
       "      <td>NaN</td>\n",
       "      <td>NaN</td>\n",
       "    </tr>\n",
       "    <tr>\n",
       "      <th>3</th>\n",
       "      <td>dd2af4715d0dc16eded53afc0e2466d0</td>\n",
       "      <td>a553c46e3a22fb9c326aeb3d72b3334e</td>\n",
       "      <td>NaN</td>\n",
       "      <td>NaN</td>\n",
       "      <td>executive</td>\n",
       "      <td>asap</td>\n",
       "      <td>2010-06-01 00:29:00</td>\n",
       "      <td>-12,13885117</td>\n",
       "      <td>-76,99530029</td>\n",
       "      <td>2010-06-01 00:32:00</td>\n",
       "      <td>...</td>\n",
       "      <td>NaN</td>\n",
       "      <td>NaN</td>\n",
       "      <td>0.0</td>\n",
       "      <td>0.0</td>\n",
       "      <td>0.0</td>\n",
       "      <td>NaN</td>\n",
       "      <td>NaN</td>\n",
       "      <td>iPhone</td>\n",
       "      <td>NaN</td>\n",
       "      <td>NaN</td>\n",
       "    </tr>\n",
       "    <tr>\n",
       "      <th>4</th>\n",
       "      <td>85b7eabcf5d84e42dc7629b7d27781af</td>\n",
       "      <td>56772d544fdfa589a020a1ff894a86f7</td>\n",
       "      <td>d665fb9f75ef5d9cd0fd89479380ba78</td>\n",
       "      <td>0accdd3aa5a322f4129fa20b53278c69</td>\n",
       "      <td>executive</td>\n",
       "      <td>reserved</td>\n",
       "      <td>2010-09-11 23:55:00</td>\n",
       "      <td>-12,08995438</td>\n",
       "      <td>-76,92626953</td>\n",
       "      <td>2010-09-12 01:07:00</td>\n",
       "      <td>...</td>\n",
       "      <td>7665.0</td>\n",
       "      <td>562.0</td>\n",
       "      <td>30270.0</td>\n",
       "      <td>715.0</td>\n",
       "      <td>6173.0</td>\n",
       "      <td>5756.0</td>\n",
       "      <td>417.0</td>\n",
       "      <td>iPhone</td>\n",
       "      <td>4.0</td>\n",
       "      <td>5.0</td>\n",
       "    </tr>\n",
       "    <tr>\n",
       "      <th>...</th>\n",
       "      <td>...</td>\n",
       "      <td>...</td>\n",
       "      <td>...</td>\n",
       "      <td>...</td>\n",
       "      <td>...</td>\n",
       "      <td>...</td>\n",
       "      <td>...</td>\n",
       "      <td>...</td>\n",
       "      <td>...</td>\n",
       "      <td>...</td>\n",
       "      <td>...</td>\n",
       "      <td>...</td>\n",
       "      <td>...</td>\n",
       "      <td>...</td>\n",
       "      <td>...</td>\n",
       "      <td>...</td>\n",
       "      <td>...</td>\n",
       "      <td>...</td>\n",
       "      <td>...</td>\n",
       "      <td>...</td>\n",
       "      <td>...</td>\n",
       "    </tr>\n",
       "    <tr>\n",
       "      <th>23106</th>\n",
       "      <td>4a18ea5737ce0ffecaf20b305a0e2c86</td>\n",
       "      <td>8998bb370b5f0cec43a373adebba0c72</td>\n",
       "      <td>d665fb9f75ef5d9cd0fd89479380ba78</td>\n",
       "      <td>16cbe35db7fff70fbc8251b4cda9fdc9</td>\n",
       "      <td>executive</td>\n",
       "      <td>reserved</td>\n",
       "      <td>2010-07-31 13:15:00</td>\n",
       "      <td>-12,08974075</td>\n",
       "      <td>-77,04699707</td>\n",
       "      <td>2010-07-31 13:27:00</td>\n",
       "      <td>...</td>\n",
       "      <td>509.0</td>\n",
       "      <td>337.0</td>\n",
       "      <td>1590.0</td>\n",
       "      <td>404.0</td>\n",
       "      <td>0.0</td>\n",
       "      <td>NaN</td>\n",
       "      <td>NaN</td>\n",
       "      <td>iPhone</td>\n",
       "      <td>5.0</td>\n",
       "      <td>5.0</td>\n",
       "    </tr>\n",
       "    <tr>\n",
       "      <th>23107</th>\n",
       "      <td>f1e4317f2c17991dd90d1cd17ae0d399</td>\n",
       "      <td>5f8a6ffef0ea5df78a8ee890267b60ec</td>\n",
       "      <td>17c21284245ff240c7212732991c2373</td>\n",
       "      <td>716a697375634f32a06d692b0448f13d</td>\n",
       "      <td>executive</td>\n",
       "      <td>asap</td>\n",
       "      <td>2010-10-02 05:26:00</td>\n",
       "      <td>-12,09253011</td>\n",
       "      <td>-77,02875271</td>\n",
       "      <td>2010-10-02 05:56:00</td>\n",
       "      <td>...</td>\n",
       "      <td>1923.0</td>\n",
       "      <td>0.0</td>\n",
       "      <td>6010.0</td>\n",
       "      <td>0.0</td>\n",
       "      <td>188500.0</td>\n",
       "      <td>1346.0</td>\n",
       "      <td>0.0</td>\n",
       "      <td>Android</td>\n",
       "      <td>NaN</td>\n",
       "      <td>5.0</td>\n",
       "    </tr>\n",
       "    <tr>\n",
       "      <th>23108</th>\n",
       "      <td>1e44c0fd0a266c3719ff30410b257bce</td>\n",
       "      <td>c0ffb6f6cd801004dd8609c12277c2d1</td>\n",
       "      <td>4851ee4c867c9b49b909c1adb76c31e9</td>\n",
       "      <td>4851ee4c867c9b49b909c1adb76c538e</td>\n",
       "      <td>executive</td>\n",
       "      <td>asap</td>\n",
       "      <td>2010-09-21 09:56:00</td>\n",
       "      <td>-12,1275637</td>\n",
       "      <td>-77,02642288</td>\n",
       "      <td>2010-09-21 10:18:00</td>\n",
       "      <td>...</td>\n",
       "      <td>1478.0</td>\n",
       "      <td>109.0</td>\n",
       "      <td>4620.0</td>\n",
       "      <td>131.0</td>\n",
       "      <td>1450.0</td>\n",
       "      <td>1109.0</td>\n",
       "      <td>81.0</td>\n",
       "      <td>Android</td>\n",
       "      <td>0.0</td>\n",
       "      <td>0.0</td>\n",
       "    </tr>\n",
       "    <tr>\n",
       "      <th>23109</th>\n",
       "      <td>7073883383b89ad289e864022150cdd7</td>\n",
       "      <td>c0ffb6f6cd801004dd8609c12277c2d1</td>\n",
       "      <td>56f59b58bcbbd1cdabc3652e713134c2</td>\n",
       "      <td>924d4f0e7554566623e8ebb3904a7b0c</td>\n",
       "      <td>executive</td>\n",
       "      <td>reserved</td>\n",
       "      <td>2010-04-29 04:30:00</td>\n",
       "      <td>-12,019468</td>\n",
       "      <td>-77,1077669</td>\n",
       "      <td>2010-04-29 05:11:00</td>\n",
       "      <td>...</td>\n",
       "      <td>4427.0</td>\n",
       "      <td>535.0</td>\n",
       "      <td>13835.0</td>\n",
       "      <td>641.0</td>\n",
       "      <td>3473.0</td>\n",
       "      <td>3099.0</td>\n",
       "      <td>374.0</td>\n",
       "      <td>Android</td>\n",
       "      <td>NaN</td>\n",
       "      <td>5.0</td>\n",
       "    </tr>\n",
       "    <tr>\n",
       "      <th>23110</th>\n",
       "      <td>b7dea45c3cc92b9efd5a4905e69ff9bf</td>\n",
       "      <td>c0ffb6f6cd801004dd8609c12277c2d1</td>\n",
       "      <td>924d4f0e7554566623e8ebb390491d08</td>\n",
       "      <td>924d4f0e7554566623e8ebb390491492</td>\n",
       "      <td>executive</td>\n",
       "      <td>asap</td>\n",
       "      <td>2010-03-16 19:58:00</td>\n",
       "      <td>-12,1334974</td>\n",
       "      <td>-77,0272581</td>\n",
       "      <td>2010-03-16 20:02:00</td>\n",
       "      <td>...</td>\n",
       "      <td>NaN</td>\n",
       "      <td>NaN</td>\n",
       "      <td>0.0</td>\n",
       "      <td>0.0</td>\n",
       "      <td>0.0</td>\n",
       "      <td>NaN</td>\n",
       "      <td>NaN</td>\n",
       "      <td>web</td>\n",
       "      <td>NaN</td>\n",
       "      <td>NaN</td>\n",
       "    </tr>\n",
       "  </tbody>\n",
       "</table>\n",
       "<p>23111 rows × 28 columns</p>\n",
       "</div>"
      ],
      "text/plain": [
       "                             journey_id                           user_id  \\\n",
       "0      23a1406fc6a11d866e3c82f22eed4d4c  0e9af5bbf1edfe591b54ecdfd7e91e26   \n",
       "1      dd2af4715d0dc16eded53afc0e243577  a553c46e3a22fb9c326aeb3d72b3334e   \n",
       "2      dd91e131888064bf7df3ce08f3d4b4ad  a553c46e3a22fb9c326aeb3d72b3334e   \n",
       "3      dd2af4715d0dc16eded53afc0e2466d0  a553c46e3a22fb9c326aeb3d72b3334e   \n",
       "4      85b7eabcf5d84e42dc7629b7d27781af  56772d544fdfa589a020a1ff894a86f7   \n",
       "...                                 ...                               ...   \n",
       "23106  4a18ea5737ce0ffecaf20b305a0e2c86  8998bb370b5f0cec43a373adebba0c72   \n",
       "23107  f1e4317f2c17991dd90d1cd17ae0d399  5f8a6ffef0ea5df78a8ee890267b60ec   \n",
       "23108  1e44c0fd0a266c3719ff30410b257bce  c0ffb6f6cd801004dd8609c12277c2d1   \n",
       "23109  7073883383b89ad289e864022150cdd7  c0ffb6f6cd801004dd8609c12277c2d1   \n",
       "23110  b7dea45c3cc92b9efd5a4905e69ff9bf  c0ffb6f6cd801004dd8609c12277c2d1   \n",
       "\n",
       "                              driver_id                           taxi_id  \\\n",
       "0      583949a89a9ee17d19e3ca4f137b6b4c  b12f4f09c783e29fe0d0ea624530db56   \n",
       "1                                   NaN                               NaN   \n",
       "2                                   NaN                               NaN   \n",
       "3                                   NaN                               NaN   \n",
       "4      d665fb9f75ef5d9cd0fd89479380ba78  0accdd3aa5a322f4129fa20b53278c69   \n",
       "...                                 ...                               ...   \n",
       "23106  d665fb9f75ef5d9cd0fd89479380ba78  16cbe35db7fff70fbc8251b4cda9fdc9   \n",
       "23107  17c21284245ff240c7212732991c2373  716a697375634f32a06d692b0448f13d   \n",
       "23108  4851ee4c867c9b49b909c1adb76c31e9  4851ee4c867c9b49b909c1adb76c538e   \n",
       "23109  56f59b58bcbbd1cdabc3652e713134c2  924d4f0e7554566623e8ebb3904a7b0c   \n",
       "23110  924d4f0e7554566623e8ebb390491d08  924d4f0e7554566623e8ebb390491492   \n",
       "\n",
       "            icon start_type            start_at     start_lat     start_lon  \\\n",
       "0      executive       asap 2010-11-16 16:44:00  -12,13983536  -77,02355957   \n",
       "1      executive       asap 2010-06-01 00:34:00  -12,13874817  -76,99536133   \n",
       "2      executive       asap 2010-05-31 05:01:00  -12,12453079  -77,02780151   \n",
       "3      executive       asap 2010-06-01 00:29:00  -12,13885117  -76,99530029   \n",
       "4      executive   reserved 2010-09-11 23:55:00  -12,08995438  -76,92626953   \n",
       "...          ...        ...                 ...           ...           ...   \n",
       "23106  executive   reserved 2010-07-31 13:15:00  -12,08974075  -77,04699707   \n",
       "23107  executive       asap 2010-10-02 05:26:00  -12,09253011  -77,02875271   \n",
       "23108  executive       asap 2010-09-21 09:56:00   -12,1275637  -77,02642288   \n",
       "23109  executive   reserved 2010-04-29 04:30:00    -12,019468   -77,1077669   \n",
       "23110  executive       asap 2010-03-16 19:58:00   -12,1334974   -77,0272581   \n",
       "\n",
       "                   end_at  ... price_distance price_duration distance  \\\n",
       "0     2010-11-16 17:29:00  ...         3626.0          195.0  11331.0   \n",
       "1     2010-06-01 00:37:00  ...            NaN            NaN      0.0   \n",
       "2     2010-05-31 05:04:00  ...            NaN            NaN      0.0   \n",
       "3     2010-06-01 00:32:00  ...            NaN            NaN      0.0   \n",
       "4     2010-09-12 01:07:00  ...         7665.0          562.0  30270.0   \n",
       "...                   ...  ...            ...            ...      ...   \n",
       "23106 2010-07-31 13:27:00  ...          509.0          337.0   1590.0   \n",
       "23107 2010-10-02 05:56:00  ...         1923.0            0.0   6010.0   \n",
       "23108 2010-09-21 10:18:00  ...         1478.0          109.0   4620.0   \n",
       "23109 2010-04-29 05:11:00  ...         4427.0          535.0  13835.0   \n",
       "23110 2010-03-16 20:02:00  ...            NaN            NaN      0.0   \n",
       "\n",
       "      duration      cost cost_distance cost_duration   source  driver_score  \\\n",
       "0        234.0       0.0           0.0           0.0   iPhone           5.0   \n",
       "1          0.0       0.0           NaN           NaN   iPhone           NaN   \n",
       "2          0.0       0.0           NaN           NaN   iPhone           NaN   \n",
       "3          0.0       0.0           NaN           NaN   iPhone           NaN   \n",
       "4        715.0    6173.0        5756.0         417.0   iPhone           4.0   \n",
       "...        ...       ...           ...           ...      ...           ...   \n",
       "23106    404.0       0.0           NaN           NaN   iPhone           5.0   \n",
       "23107      0.0  188500.0        1346.0           0.0  Android           NaN   \n",
       "23108    131.0    1450.0        1109.0          81.0  Android           0.0   \n",
       "23109    641.0    3473.0        3099.0         374.0  Android           NaN   \n",
       "23110      0.0       0.0           NaN           NaN      web           NaN   \n",
       "\n",
       "       rider_score  \n",
       "0              5.0  \n",
       "1              NaN  \n",
       "2              NaN  \n",
       "3              NaN  \n",
       "4              5.0  \n",
       "...            ...  \n",
       "23106          5.0  \n",
       "23107          5.0  \n",
       "23108          0.0  \n",
       "23109          5.0  \n",
       "23110          NaN  \n",
       "\n",
       "[23111 rows x 28 columns]"
      ]
     },
     "execution_count": 5,
     "metadata": {},
     "output_type": "execute_result"
    }
   ],
   "source": [
    "df=pd.read_csv('uber_peru_2010.csv', sep=';', parse_dates=['start_at', 'end_at', 'arrived_at'],\n",
    "              dayfirst=True) \n",
    "df"
   ]
  },
  {
   "cell_type": "markdown",
   "id": "c6dc9338",
   "metadata": {},
   "source": [
    "**9. Проверьте, с какой платформы было сделано больше всего заказов. В ответе укажите значение в %, округлённое до целого.**"
   ]
  },
  {
   "cell_type": "code",
   "execution_count": 7,
   "id": "74cf1411",
   "metadata": {},
   "outputs": [
    {
     "data": {
      "text/plain": [
       "source\n",
       "iPhone     42.0\n",
       "web        33.0\n",
       "Android    21.0\n",
       "iPad        2.0\n",
       "Wap         1.0\n",
       "Name: count, dtype: float64"
      ]
     },
     "execution_count": 7,
     "metadata": {},
     "output_type": "execute_result"
    }
   ],
   "source": [
    "import numpy as np\n",
    "#df.groupby('source').agg({'journey_id': 'count'}).max()/df.journey_id().count()*100\n",
    "np.round(df.source.value_counts()/len(df)*100)"
   ]
  },
  {
   "cell_type": "markdown",
   "id": "e9b63d96",
   "metadata": {},
   "source": [
    "Ответ: iPhone 42.0%"
   ]
  },
  {
   "cell_type": "markdown",
   "id": "e9d6a37c",
   "metadata": {},
   "source": [
    "**10. Чтобы показать разницу более наглядно, попробуем визуализировать показатели.**\n",
    "\n",
    "**Агрегируйте данные и постройте барчарт, где по оси x будет расположено название платформы (source), а по оси y – количество заказов (абсолютные значения).**\n",
    "\n",
    "Какой график получился?\n",
    "![](https://storage.yandexcloud.net/klms-public/production/learning-content/65/801/6468/19025/78899/%D0%B7%D0%B0%D0%B4%D0%B0%D0%BD%D0%B8%D0%B5_3_10.png)"
   ]
  },
  {
   "cell_type": "code",
   "execution_count": 13,
   "id": "fb45e86d",
   "metadata": {
    "scrolled": false
   },
   "outputs": [
    {
     "data": {
      "image/png": "[encoded data removed]",
      "text/plain": [
       "<Figure size 640x480 with 1 Axes>"
      ]
     },
     "metadata": {},
     "output_type": "display_data"
    }
   ],
   "source": [
    "dd=df['source'].value_counts()\n",
    "ax = sns.barplot(x=dd.index, y=dd.values)"
   ]
  },
  {
   "cell_type": "markdown",
   "id": "a9f0a36b",
   "metadata": {},
   "source": [
    "* A\n",
    "* B\n",
    "* **C**"
   ]
  },
  {
   "cell_type": "markdown",
   "id": "77dfddb8",
   "metadata": {},
   "source": [
    "**11. Альтернативный вариант построения распределения категориальной переменной – sns.countplot. В качестве единственного аргумента можно передать всего одну колонку: например, source, а количество значений для оси y функция посчитает самостоятельно.**\n",
    "\n",
    "sns.countplot(taxi['source'])\n",
    "\n",
    "**Используйте данный тип графика и проверьте, какой тип поездки (icon) встречался чаще всего.**"
   ]
  },
  {
   "cell_type": "code",
   "execution_count": 15,
   "id": "ed51b6b5",
   "metadata": {
    "scrolled": true
   },
   "outputs": [
    {
     "data": {
      "text/plain": [
       "<Axes: xlabel='icon', ylabel='count'>"
      ]
     },
     "execution_count": 15,
     "metadata": {},
     "output_type": "execute_result"
    },
    {
     "data": {
      "image/png": "[encoded data removed]",
      "text/plain": [
       "<Figure size 640x480 with 1 Axes>"
      ]
     },
     "metadata": {},
     "output_type": "display_data"
    }
   ],
   "source": [
    "sns.countplot(x='icon', data=df)"
   ]
  },
  {
   "cell_type": "markdown",
   "id": "17b166c2",
   "metadata": {},
   "source": [
    "* easy\n",
    "* group\n",
    "* **executive**"
   ]
  },
  {
   "cell_type": "markdown",
   "id": "d33a70bf",
   "metadata": {},
   "source": [
    "**12. Теперь попробуем построить более сложный график!**\n",
    "\n",
    "**С помощью sns.countplot и параметра hue визуализируйте распределение переменной end_state (итоговое состояние заказа) в разбивке по платформам (source).**\n",
    "\n",
    "**Иными словами, по оси x расположите платформу, а в качестве цвета используйте состояние заказа. Далее выберите верные утверждения.**"
   ]
  },
  {
   "cell_type": "code",
   "execution_count": 17,
   "id": "67406a97",
   "metadata": {},
   "outputs": [
    {
     "data": {
      "image/png": "[encoded data removed]",
      "text/plain": [
       "<Figure size 1600x900 with 1 Axes>"
      ]
     },
     "metadata": {},
     "output_type": "display_data"
    }
   ],
   "source": [
    "plt.figure(figsize=(16,9))\n",
    "sns.countplot(data=df, hue='end_state', x='source')\n",
    "plt.show() "
   ]
  },
  {
   "cell_type": "markdown",
   "id": "d9ae640a",
   "metadata": {},
   "source": [
    "* **Больше всего заказов со статусом drop off совершено с платформы iPhone**\n",
    "* **На Android количество отмененных поездок (rider cancel) меньше, чем на iPhone**\n",
    "* На web отмененных поездок (rider cancel) меньше, чем на Android\n",
    "* **Наибольшая разница между количеством drop off и rider cancel наблюдается для платформы iPhone**\n",
    "* Наибольшая разница между количеством drop off и rider cancel наблюдается для платформы Android"
   ]
  },
  {
   "cell_type": "markdown",
   "id": "7d02d7ba",
   "metadata": {},
   "source": [
    "**13. Проверим, как распределены оценки водителей (driver_score). Для подготовки данных выполните следующие шаги:**\n",
    "\n",
    "1. Посчитайте частоту встречаемости каждой из оценок\n",
    "2. Переведите в проценты и округлите до 2 знаков после точки (.mul(100).round(2))\n",
    "3. Сбросьте индексы\n",
    "4. Переименуйте колонки в driver_score и percentage\n",
    "5. Отсортируйте по driver_score в порядке возрастания (от 0 до 5)\n",
    "6. Запишите результат в driver_score_counts\n",
    " \n",
    "\n",
    "Полезные функции:\n",
    "\n",
    "* [.mul()](https://pandas.pydata.org/pandas-docs/stable/reference/api/pandas.Series.mul.html?highlight=mul#pandas.Series.mul) – умножение, более удобный вариант для использования в цепочке методов \n",
    "* [.round()](https://pandas.pydata.org/pandas-docs/stable/reference/api/pandas.Series.round.html#pandas.Series.round) – округление\n",
    "* [.reset_index()](https://lab.karpov.courses/learning/88/module/1103/lesson/9728/28498/133078/) – сбросить индекс\n",
    "* [.value_counts()](https://lab.karpov.courses/learning/88/module/1103/lesson/9727/28493/133026/) – сколько раз встречается каждое значение переменной"
   ]
  },
  {
   "cell_type": "code",
   "execution_count": 24,
   "id": "c4b0ffc9",
   "metadata": {},
   "outputs": [
    {
     "data": {
      "text/html": [
       "<div>\n",
       "<style scoped>\n",
       "    .dataframe tbody tr th:only-of-type {\n",
       "        vertical-align: middle;\n",
       "    }\n",
       "\n",
       "    .dataframe tbody tr th {\n",
       "        vertical-align: top;\n",
       "    }\n",
       "\n",
       "    .dataframe thead th {\n",
       "        text-align: right;\n",
       "    }\n",
       "</style>\n",
       "<table border=\"1\" class=\"dataframe\">\n",
       "  <thead>\n",
       "    <tr style=\"text-align: right;\">\n",
       "      <th></th>\n",
       "      <th>driver_score</th>\n",
       "      <th>percentage</th>\n",
       "    </tr>\n",
       "  </thead>\n",
       "  <tbody>\n",
       "    <tr>\n",
       "      <th>0</th>\n",
       "      <td>5.0</td>\n",
       "      <td>58.81</td>\n",
       "    </tr>\n",
       "    <tr>\n",
       "      <th>1</th>\n",
       "      <td>4.0</td>\n",
       "      <td>21.88</td>\n",
       "    </tr>\n",
       "    <tr>\n",
       "      <th>2</th>\n",
       "      <td>0.0</td>\n",
       "      <td>14.30</td>\n",
       "    </tr>\n",
       "    <tr>\n",
       "      <th>3</th>\n",
       "      <td>3.0</td>\n",
       "      <td>2.97</td>\n",
       "    </tr>\n",
       "    <tr>\n",
       "      <th>4</th>\n",
       "      <td>1.0</td>\n",
       "      <td>1.23</td>\n",
       "    </tr>\n",
       "    <tr>\n",
       "      <th>5</th>\n",
       "      <td>2.0</td>\n",
       "      <td>0.81</td>\n",
       "    </tr>\n",
       "  </tbody>\n",
       "</table>\n",
       "</div>"
      ],
      "text/plain": [
       "   driver_score  percentage\n",
       "0           5.0       58.81\n",
       "1           4.0       21.88\n",
       "2           0.0       14.30\n",
       "3           3.0        2.97\n",
       "4           1.0        1.23\n",
       "5           2.0        0.81"
      ]
     },
     "execution_count": 24,
     "metadata": {},
     "output_type": "execute_result"
    }
   ],
   "source": [
    "scores = df.driver_score.value_counts(normalize=True).mul(100).round(2) \\\n",
    "             .reset_index() \\\n",
    "             .rename(columns={'proportion' : 'percentage'})\n",
    "scores"
   ]
  },
  {
   "cell_type": "code",
   "execution_count": 25,
   "id": "977cc104",
   "metadata": {
    "scrolled": false
   },
   "outputs": [
    {
     "data": {
      "text/html": [
       "<div>\n",
       "<style scoped>\n",
       "    .dataframe tbody tr th:only-of-type {\n",
       "        vertical-align: middle;\n",
       "    }\n",
       "\n",
       "    .dataframe tbody tr th {\n",
       "        vertical-align: top;\n",
       "    }\n",
       "\n",
       "    .dataframe thead th {\n",
       "        text-align: right;\n",
       "    }\n",
       "</style>\n",
       "<table border=\"1\" class=\"dataframe\">\n",
       "  <thead>\n",
       "    <tr style=\"text-align: right;\">\n",
       "      <th></th>\n",
       "      <th>driver_score</th>\n",
       "      <th>percentage</th>\n",
       "    </tr>\n",
       "  </thead>\n",
       "  <tbody>\n",
       "    <tr>\n",
       "      <th>0</th>\n",
       "      <td>5.0</td>\n",
       "      <td>58.81</td>\n",
       "    </tr>\n",
       "    <tr>\n",
       "      <th>1</th>\n",
       "      <td>4.0</td>\n",
       "      <td>21.88</td>\n",
       "    </tr>\n",
       "    <tr>\n",
       "      <th>3</th>\n",
       "      <td>3.0</td>\n",
       "      <td>2.97</td>\n",
       "    </tr>\n",
       "    <tr>\n",
       "      <th>5</th>\n",
       "      <td>2.0</td>\n",
       "      <td>0.81</td>\n",
       "    </tr>\n",
       "    <tr>\n",
       "      <th>4</th>\n",
       "      <td>1.0</td>\n",
       "      <td>1.23</td>\n",
       "    </tr>\n",
       "    <tr>\n",
       "      <th>2</th>\n",
       "      <td>0.0</td>\n",
       "      <td>14.30</td>\n",
       "    </tr>\n",
       "  </tbody>\n",
       "</table>\n",
       "</div>"
      ],
      "text/plain": [
       "   driver_score  percentage\n",
       "0           5.0       58.81\n",
       "1           4.0       21.88\n",
       "3           3.0        2.97\n",
       "5           2.0        0.81\n",
       "4           1.0        1.23\n",
       "2           0.0       14.30"
      ]
     },
     "execution_count": 25,
     "metadata": {},
     "output_type": "execute_result"
    }
   ],
   "source": [
    "driver_score_counts = scores.sort_values('driver_score', ascending=False)\n",
    "driver_score_counts"
   ]
  },
  {
   "cell_type": "markdown",
   "id": "cc66666f",
   "metadata": {},
   "source": [
    "**14. Теперь строим график!\n",
    "Укажите, какую из четырех строчек в нижепредставленном коде нужно исправить, чтобы получить следующий график:**\n",
    "\n",
    "ax = sns.barplot(x=driver_score, y=percentage, data=driver_score_counts, color='blue', alpha=0.5)\n",
    "\n",
    "ax.set(xlabel='Driver score', ylabel='Percentage')\n",
    "\n",
    "sns.despine()  # убрать часть рамки графика\n",
    "\n",
    "plt.show()\n",
    "\n",
    "![](https://ucarecdn.com/b25244c8-7fce-44f4-8e15-8fec88ddeb4b/)"
   ]
  },
  {
   "cell_type": "markdown",
   "id": "95af1f6b",
   "metadata": {},
   "source": [
    "Ответ: 1"
   ]
  },
  {
   "cell_type": "markdown",
   "id": "35b6f371",
   "metadata": {},
   "source": [
    "**15. 💀 Сложное задание! 💀**\n",
    "\n",
    "**Проделайте аналогичные шаги для rider_score (оценок клиентов водителями), не забыв построить график.\n",
    "В чем его отличие от распределения оценок водителей?**"
   ]
  },
  {
   "cell_type": "code",
   "execution_count": 33,
   "id": "ce7abd5f",
   "metadata": {},
   "outputs": [
    {
     "data": {
      "image/png": "[encoded data removed]",
      "text/plain": [
       "<Figure size 640x480 with 1 Axes>"
      ]
     },
     "metadata": {},
     "output_type": "display_data"
    }
   ],
   "source": [
    "scores = df.rider_score.value_counts(normalize=True).mul(100).round(2) \\\n",
    "             .reset_index() \\\n",
    "             .rename(columns={'proportion' : 'percentage'})\n",
    "scores\n",
    "rider_score_counts = scores.sort_values('rider_score')\n",
    "ax = sns.barplot(x='rider_score', y='percentage', data=rider_score_counts, color='blue', alpha=0.5)\n",
    "ax.set(xlabel='Rider score', ylabel='Percentage')\n",
    "sns.despine()\n",
    "plt.show()"
   ]
  },
  {
   "cell_type": "markdown",
   "id": "2291ae5d",
   "metadata": {},
   "source": [
    "* Водители ставят больше 0, чем клиенты\n",
    "* **Водители ставят меньше 0, чем клиенты**\n",
    "* Более 20% оценок составляют 4\n",
    "* **Более чем в 80% случаев водители поставили клиентам 5 звездочек**"
   ]
  },
  {
   "cell_type": "code",
   "execution_count": null,
   "id": "54210bd5",
   "metadata": {},
   "outputs": [],
   "source": []
  }
 ],
 "metadata": {
  "kernelspec": {
   "display_name": "Python 3 (ipykernel)",
   "language": "python",
   "name": "python3"
  },
  "language_info": {
   "codemirror_mode": {
    "name": "ipython",
    "version": 3
   },
   "file_extension": ".py",
   "mimetype": "text/x-python",
   "name": "python",
   "nbconvert_exporter": "python",
   "pygments_lexer": "ipython3",
   "version": "3.10.11"
  }
 },
 "nbformat": 4,
 "nbformat_minor": 5
}
