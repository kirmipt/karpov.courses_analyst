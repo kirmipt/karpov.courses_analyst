{
 "cells": [
  {
   "cell_type": "markdown",
   "id": "0902a476",
   "metadata": {},
   "source": [
    "# Домашние задания четвертого урока."
   ]
  },
  {
   "cell_type": "markdown",
   "id": "40a1e2ef",
   "metadata": {},
   "source": [
    "**1. В переменной df находится датафрэйм. Запишите в переменную  df_shape строку с информацией о том, сколько строк и столбцов он содержит, в следующем виде:**\n",
    "\n",
    "'df has y rows and x columns'\n",
    "\n",
    "**где y — число строк, а x — число колонок.**"
   ]
  },
  {
   "cell_type": "code",
   "execution_count": 4,
   "id": "5ce83531",
   "metadata": {},
   "outputs": [
    {
     "data": {
      "text/plain": [
       "'df has 800 rows and 12 columns'"
      ]
     },
     "execution_count": 4,
     "metadata": {},
     "output_type": "execute_result"
    }
   ],
   "source": [
    "#df_shape='df has {} rows and {} columns'.format(df.shape[0], df.shape[1])\n",
    "df_shape=f'df has {df.shape[0]} rows and {df.shape[1]} columns'"
   ]
  },
  {
   "cell_type": "markdown",
   "id": "8a9525ff",
   "metadata": {},
   "source": [
    "**2. Сохраните в переменную na_number серию, в которой для каждой колонки будет указано, сколько пропущенных значений она содержит. Например, для такого датафрейма:**\n",
    "![](https://ucarecdn.com/e1075ffd-190a-4019-a1fa-456e4b26bb8a/)\n",
    "Ответ будет:\n",
    "![](https://ucarecdn.com/63f7129e-9e87-4437-b9e5-b267258ad5f2/)\n",
    "Note: датафрейм уже лежит в переменной **df**"
   ]
  },
  {
   "cell_type": "code",
   "execution_count": 1,
   "id": "1afeb1d7",
   "metadata": {
    "scrolled": true
   },
   "outputs": [
    {
     "data": {
      "text/html": [
       "<div>\n",
       "<style scoped>\n",
       "    .dataframe tbody tr th:only-of-type {\n",
       "        vertical-align: middle;\n",
       "    }\n",
       "\n",
       "    .dataframe tbody tr th {\n",
       "        vertical-align: top;\n",
       "    }\n",
       "\n",
       "    .dataframe thead th {\n",
       "        text-align: right;\n",
       "    }\n",
       "</style>\n",
       "<table border=\"1\" class=\"dataframe\">\n",
       "  <thead>\n",
       "    <tr style=\"text-align: right;\">\n",
       "      <th></th>\n",
       "      <th>#</th>\n",
       "      <th>Name</th>\n",
       "      <th>Type 1</th>\n",
       "      <th>Type 2</th>\n",
       "      <th>HP</th>\n",
       "      <th>Attack</th>\n",
       "      <th>Defense</th>\n",
       "      <th>Sp. Atk</th>\n",
       "      <th>Sp. Def</th>\n",
       "      <th>Speed</th>\n",
       "      <th>Generation</th>\n",
       "      <th>Legendary</th>\n",
       "    </tr>\n",
       "  </thead>\n",
       "  <tbody>\n",
       "    <tr>\n",
       "      <th>0</th>\n",
       "      <td>1</td>\n",
       "      <td>Bulbasaur</td>\n",
       "      <td>Grass</td>\n",
       "      <td>Poison</td>\n",
       "      <td>45</td>\n",
       "      <td>49</td>\n",
       "      <td>49</td>\n",
       "      <td>65</td>\n",
       "      <td>65</td>\n",
       "      <td>45</td>\n",
       "      <td>1</td>\n",
       "      <td>False</td>\n",
       "    </tr>\n",
       "    <tr>\n",
       "      <th>1</th>\n",
       "      <td>2</td>\n",
       "      <td>Ivysaur</td>\n",
       "      <td>Grass</td>\n",
       "      <td>Poison</td>\n",
       "      <td>60</td>\n",
       "      <td>62</td>\n",
       "      <td>63</td>\n",
       "      <td>80</td>\n",
       "      <td>80</td>\n",
       "      <td>60</td>\n",
       "      <td>1</td>\n",
       "      <td>False</td>\n",
       "    </tr>\n",
       "    <tr>\n",
       "      <th>2</th>\n",
       "      <td>3</td>\n",
       "      <td>Venusaur</td>\n",
       "      <td>Grass</td>\n",
       "      <td>Poison</td>\n",
       "      <td>80</td>\n",
       "      <td>82</td>\n",
       "      <td>83</td>\n",
       "      <td>100</td>\n",
       "      <td>100</td>\n",
       "      <td>80</td>\n",
       "      <td>1</td>\n",
       "      <td>False</td>\n",
       "    </tr>\n",
       "    <tr>\n",
       "      <th>3</th>\n",
       "      <td>3</td>\n",
       "      <td>VenusaurMega Venusaur</td>\n",
       "      <td>Grass</td>\n",
       "      <td>Poison</td>\n",
       "      <td>80</td>\n",
       "      <td>100</td>\n",
       "      <td>123</td>\n",
       "      <td>122</td>\n",
       "      <td>120</td>\n",
       "      <td>80</td>\n",
       "      <td>1</td>\n",
       "      <td>False</td>\n",
       "    </tr>\n",
       "    <tr>\n",
       "      <th>4</th>\n",
       "      <td>4</td>\n",
       "      <td>Charmander</td>\n",
       "      <td>Fire</td>\n",
       "      <td>NaN</td>\n",
       "      <td>39</td>\n",
       "      <td>52</td>\n",
       "      <td>43</td>\n",
       "      <td>60</td>\n",
       "      <td>50</td>\n",
       "      <td>65</td>\n",
       "      <td>1</td>\n",
       "      <td>False</td>\n",
       "    </tr>\n",
       "  </tbody>\n",
       "</table>\n",
       "</div>"
      ],
      "text/plain": [
       "   #                   Name Type 1  Type 2  HP  Attack  Defense  Sp. Atk  \\\n",
       "0  1              Bulbasaur  Grass  Poison  45      49       49       65   \n",
       "1  2                Ivysaur  Grass  Poison  60      62       63       80   \n",
       "2  3               Venusaur  Grass  Poison  80      82       83      100   \n",
       "3  3  VenusaurMega Venusaur  Grass  Poison  80     100      123      122   \n",
       "4  4             Charmander   Fire     NaN  39      52       43       60   \n",
       "\n",
       "   Sp. Def  Speed  Generation  Legendary  \n",
       "0       65     45           1      False  \n",
       "1       80     60           1      False  \n",
       "2      100     80           1      False  \n",
       "3      120     80           1      False  \n",
       "4       50     65           1      False  "
      ]
     },
     "execution_count": 1,
     "metadata": {},
     "output_type": "execute_result"
    }
   ],
   "source": [
    "import pandas as pd\n",
    "df = pd.read_csv('pokemon_data.csv')"
   ]
  },
  {
   "cell_type": "code",
   "execution_count": 6,
   "id": "de596c63",
   "metadata": {},
   "outputs": [
    {
     "data": {
      "text/plain": [
       "#               0\n",
       "Name            0\n",
       "Type 1          0\n",
       "Type 2        386\n",
       "HP              0\n",
       "Attack          0\n",
       "Defense         0\n",
       "Sp. Atk         0\n",
       "Sp. Def         0\n",
       "Speed           0\n",
       "Generation      0\n",
       "Legendary       0\n",
       "dtype: int64"
      ]
     },
     "execution_count": 6,
     "metadata": {},
     "output_type": "execute_result"
    }
   ],
   "source": [
    "df.isna().sum()"
   ]
  },
  {
   "cell_type": "markdown",
   "id": "65ba2158",
   "metadata": {},
   "source": [
    "**3. Сохраните в переменную df_types типы данных каждой колонки датафрэйма df.**"
   ]
  },
  {
   "cell_type": "code",
   "execution_count": null,
   "id": "d8b29534",
   "metadata": {},
   "outputs": [],
   "source": [
    "df_types = df.dtypes"
   ]
  },
  {
   "cell_type": "markdown",
   "id": "1f925ee3",
   "metadata": {},
   "source": [
    "**4. Внезапно оказалось, что в колонке age значения хранятся в виде строк! Поменяйте тип значений на целочисленный в этой колонке датафрэйма df.**"
   ]
  },
  {
   "cell_type": "code",
   "execution_count": null,
   "id": "4d3e1dc4",
   "metadata": {},
   "outputs": [],
   "source": [
    "df['age'] = df.astype({'age': 'int'})\n",
    "#или\n",
    "df['age'] = df.age.astype('int')"
   ]
  },
  {
   "cell_type": "markdown",
   "id": "62d7ee21",
   "metadata": {},
   "source": [
    "**5. Как выяснилось, для дальнейшего анализа нам не понадобятся колонки sex и age – удалите их из датафрэйма.**"
   ]
  },
  {
   "cell_type": "code",
   "execution_count": null,
   "id": "4edd70d7",
   "metadata": {},
   "outputs": [],
   "source": [
    "df = df.drop(columns=['age', 'sex'])"
   ]
  },
  {
   "cell_type": "markdown",
   "id": "4f061d02",
   "metadata": {},
   "source": [
    "**6. А теперь проверим, есть ли в нашей таблице df дубликаты по полю client_id. Сохраните в переменную df датафрейм, в котором не будет дубликатов по колонке client_id, оставив первую строку с id**"
   ]
  },
  {
   "cell_type": "code",
   "execution_count": null,
   "id": "7f012893",
   "metadata": {},
   "outputs": [],
   "source": [
    "#df.client_id.loc[df.client_id.duplicated()]\n",
    "#df.client_id.duplicated().any()\n",
    "df = df.drop_duplicates(subset='client_id)')"
   ]
  },
  {
   "cell_type": "markdown",
   "id": "42dea57b",
   "metadata": {},
   "source": [
    "**7. А сейчас ненадолго вернемся к чистому Python.**\n",
    "\n",
    "**В списке numbers содержатся числа. Добавьте через цикл в список positive_numbers положительные числа из numbers. Если вам попался 0, то нужно прекратить этот цикл.**\n",
    "\n",
    "**Например,**\n",
    "\n",
    "numbers = [1, -2, 3, 0, -3, 2]\n",
    "\n",
    "**Тогда positive_numbers должен быть:**\n",
    "\n",
    "positive_numbers = [1, 3]\n",
    "\n",
    "Hint: список numbers  уже создан."
   ]
  },
  {
   "cell_type": "code",
   "execution_count": 1,
   "id": "bd2de9da",
   "metadata": {},
   "outputs": [
    {
     "data": {
      "text/plain": [
       "[1, 3]"
      ]
     },
     "execution_count": 1,
     "metadata": {},
     "output_type": "execute_result"
    }
   ],
   "source": [
    "n = [1, -2, 3, 0, -3, 2]\n",
    "p = []\n",
    "for i in n:\n",
    "    if i == 0:\n",
    "        break\n",
    "    elif i > 0:\n",
    "        p.append(i)\n",
    "p"
   ]
  },
  {
   "cell_type": "markdown",
   "id": "f4fd42fe",
   "metadata": {},
   "source": [
    "**8. Продолжим анализ данных по поездкам на такси из Перу. В предыдущем уроке вы изучили распределения оценок водителей и клиентов. Теперь посмотрим на колонки со временем!**\n",
    "\n",
    "**Ссылка на датасет находится в переменной path_to_file. Сохраните данные в переменную taxi, разделитель — ;.**\n",
    "\n",
    "**Затем приведите столбцы start_at, end_at, arrived_at к формату даты, используя pd.to_datetime(). Отфильтруйте данные и оставьте наблюдения со статусом заказа \"asap\" и \"reserved\" (start_type).**\n",
    "\n",
    "Полезная ссылка: [pd.to_datetime()](https://lab.karpov.courses/learning/88/module/1103/lesson/9729/28503/133123/)"
   ]
  },
  {
   "cell_type": "code",
   "execution_count": 2,
   "id": "88ffdc26",
   "metadata": {},
   "outputs": [
    {
     "data": {
      "text/html": [
       "<div>\n",
       "<style scoped>\n",
       "    .dataframe tbody tr th:only-of-type {\n",
       "        vertical-align: middle;\n",
       "    }\n",
       "\n",
       "    .dataframe tbody tr th {\n",
       "        vertical-align: top;\n",
       "    }\n",
       "\n",
       "    .dataframe thead th {\n",
       "        text-align: right;\n",
       "    }\n",
       "</style>\n",
       "<table border=\"1\" class=\"dataframe\">\n",
       "  <thead>\n",
       "    <tr style=\"text-align: right;\">\n",
       "      <th></th>\n",
       "      <th>journey_id</th>\n",
       "      <th>user_id</th>\n",
       "      <th>driver_id</th>\n",
       "      <th>taxi_id</th>\n",
       "      <th>icon</th>\n",
       "      <th>start_type</th>\n",
       "      <th>start_at</th>\n",
       "      <th>start_lat</th>\n",
       "      <th>start_lon</th>\n",
       "      <th>end_at</th>\n",
       "      <th>...</th>\n",
       "      <th>price_distance</th>\n",
       "      <th>price_duration</th>\n",
       "      <th>distance</th>\n",
       "      <th>duration</th>\n",
       "      <th>cost</th>\n",
       "      <th>cost_distance</th>\n",
       "      <th>cost_duration</th>\n",
       "      <th>source</th>\n",
       "      <th>driver_score</th>\n",
       "      <th>rider_score</th>\n",
       "    </tr>\n",
       "  </thead>\n",
       "  <tbody>\n",
       "    <tr>\n",
       "      <th>0</th>\n",
       "      <td>23a1406fc6a11d866e3c82f22eed4d4c</td>\n",
       "      <td>0e9af5bbf1edfe591b54ecdfd7e91e26</td>\n",
       "      <td>583949a89a9ee17d19e3ca4f137b6b4c</td>\n",
       "      <td>b12f4f09c783e29fe0d0ea624530db56</td>\n",
       "      <td>executive</td>\n",
       "      <td>asap</td>\n",
       "      <td>2010-11-16 16:44:00</td>\n",
       "      <td>-12,13983536</td>\n",
       "      <td>-77,02355957</td>\n",
       "      <td>2010-11-16 17:29:00</td>\n",
       "      <td>...</td>\n",
       "      <td>3626.0</td>\n",
       "      <td>195.0</td>\n",
       "      <td>11331.0</td>\n",
       "      <td>234.0</td>\n",
       "      <td>0.0</td>\n",
       "      <td>0.0</td>\n",
       "      <td>0.0</td>\n",
       "      <td>iPhone</td>\n",
       "      <td>5.0</td>\n",
       "      <td>5.0</td>\n",
       "    </tr>\n",
       "    <tr>\n",
       "      <th>1</th>\n",
       "      <td>dd2af4715d0dc16eded53afc0e243577</td>\n",
       "      <td>a553c46e3a22fb9c326aeb3d72b3334e</td>\n",
       "      <td>NaN</td>\n",
       "      <td>NaN</td>\n",
       "      <td>executive</td>\n",
       "      <td>asap</td>\n",
       "      <td>2010-06-01 00:34:00</td>\n",
       "      <td>-12,13874817</td>\n",
       "      <td>-76,99536133</td>\n",
       "      <td>2010-06-01 00:37:00</td>\n",
       "      <td>...</td>\n",
       "      <td>NaN</td>\n",
       "      <td>NaN</td>\n",
       "      <td>0.0</td>\n",
       "      <td>0.0</td>\n",
       "      <td>0.0</td>\n",
       "      <td>NaN</td>\n",
       "      <td>NaN</td>\n",
       "      <td>iPhone</td>\n",
       "      <td>NaN</td>\n",
       "      <td>NaN</td>\n",
       "    </tr>\n",
       "    <tr>\n",
       "      <th>2</th>\n",
       "      <td>dd91e131888064bf7df3ce08f3d4b4ad</td>\n",
       "      <td>a553c46e3a22fb9c326aeb3d72b3334e</td>\n",
       "      <td>NaN</td>\n",
       "      <td>NaN</td>\n",
       "      <td>executive</td>\n",
       "      <td>asap</td>\n",
       "      <td>2010-05-31 05:01:00</td>\n",
       "      <td>-12,12453079</td>\n",
       "      <td>-77,02780151</td>\n",
       "      <td>2010-05-31 05:04:00</td>\n",
       "      <td>...</td>\n",
       "      <td>NaN</td>\n",
       "      <td>NaN</td>\n",
       "      <td>0.0</td>\n",
       "      <td>0.0</td>\n",
       "      <td>0.0</td>\n",
       "      <td>NaN</td>\n",
       "      <td>NaN</td>\n",
       "      <td>iPhone</td>\n",
       "      <td>NaN</td>\n",
       "      <td>NaN</td>\n",
       "    </tr>\n",
       "    <tr>\n",
       "      <th>3</th>\n",
       "      <td>dd2af4715d0dc16eded53afc0e2466d0</td>\n",
       "      <td>a553c46e3a22fb9c326aeb3d72b3334e</td>\n",
       "      <td>NaN</td>\n",
       "      <td>NaN</td>\n",
       "      <td>executive</td>\n",
       "      <td>asap</td>\n",
       "      <td>2010-06-01 00:29:00</td>\n",
       "      <td>-12,13885117</td>\n",
       "      <td>-76,99530029</td>\n",
       "      <td>2010-06-01 00:32:00</td>\n",
       "      <td>...</td>\n",
       "      <td>NaN</td>\n",
       "      <td>NaN</td>\n",
       "      <td>0.0</td>\n",
       "      <td>0.0</td>\n",
       "      <td>0.0</td>\n",
       "      <td>NaN</td>\n",
       "      <td>NaN</td>\n",
       "      <td>iPhone</td>\n",
       "      <td>NaN</td>\n",
       "      <td>NaN</td>\n",
       "    </tr>\n",
       "    <tr>\n",
       "      <th>4</th>\n",
       "      <td>85b7eabcf5d84e42dc7629b7d27781af</td>\n",
       "      <td>56772d544fdfa589a020a1ff894a86f7</td>\n",
       "      <td>d665fb9f75ef5d9cd0fd89479380ba78</td>\n",
       "      <td>0accdd3aa5a322f4129fa20b53278c69</td>\n",
       "      <td>executive</td>\n",
       "      <td>reserved</td>\n",
       "      <td>2010-09-11 23:55:00</td>\n",
       "      <td>-12,08995438</td>\n",
       "      <td>-76,92626953</td>\n",
       "      <td>2010-09-12 01:07:00</td>\n",
       "      <td>...</td>\n",
       "      <td>7665.0</td>\n",
       "      <td>562.0</td>\n",
       "      <td>30270.0</td>\n",
       "      <td>715.0</td>\n",
       "      <td>6173.0</td>\n",
       "      <td>5756.0</td>\n",
       "      <td>417.0</td>\n",
       "      <td>iPhone</td>\n",
       "      <td>4.0</td>\n",
       "      <td>5.0</td>\n",
       "    </tr>\n",
       "  </tbody>\n",
       "</table>\n",
       "<p>5 rows × 28 columns</p>\n",
       "</div>"
      ],
      "text/plain": [
       "                         journey_id                           user_id  \\\n",
       "0  23a1406fc6a11d866e3c82f22eed4d4c  0e9af5bbf1edfe591b54ecdfd7e91e26   \n",
       "1  dd2af4715d0dc16eded53afc0e243577  a553c46e3a22fb9c326aeb3d72b3334e   \n",
       "2  dd91e131888064bf7df3ce08f3d4b4ad  a553c46e3a22fb9c326aeb3d72b3334e   \n",
       "3  dd2af4715d0dc16eded53afc0e2466d0  a553c46e3a22fb9c326aeb3d72b3334e   \n",
       "4  85b7eabcf5d84e42dc7629b7d27781af  56772d544fdfa589a020a1ff894a86f7   \n",
       "\n",
       "                          driver_id                           taxi_id  \\\n",
       "0  583949a89a9ee17d19e3ca4f137b6b4c  b12f4f09c783e29fe0d0ea624530db56   \n",
       "1                               NaN                               NaN   \n",
       "2                               NaN                               NaN   \n",
       "3                               NaN                               NaN   \n",
       "4  d665fb9f75ef5d9cd0fd89479380ba78  0accdd3aa5a322f4129fa20b53278c69   \n",
       "\n",
       "        icon start_type            start_at     start_lat     start_lon  \\\n",
       "0  executive       asap 2010-11-16 16:44:00  -12,13983536  -77,02355957   \n",
       "1  executive       asap 2010-06-01 00:34:00  -12,13874817  -76,99536133   \n",
       "2  executive       asap 2010-05-31 05:01:00  -12,12453079  -77,02780151   \n",
       "3  executive       asap 2010-06-01 00:29:00  -12,13885117  -76,99530029   \n",
       "4  executive   reserved 2010-09-11 23:55:00  -12,08995438  -76,92626953   \n",
       "\n",
       "               end_at  ... price_distance price_duration distance duration  \\\n",
       "0 2010-11-16 17:29:00  ...         3626.0          195.0  11331.0    234.0   \n",
       "1 2010-06-01 00:37:00  ...            NaN            NaN      0.0      0.0   \n",
       "2 2010-05-31 05:04:00  ...            NaN            NaN      0.0      0.0   \n",
       "3 2010-06-01 00:32:00  ...            NaN            NaN      0.0      0.0   \n",
       "4 2010-09-12 01:07:00  ...         7665.0          562.0  30270.0    715.0   \n",
       "\n",
       "     cost cost_distance cost_duration  source  driver_score  rider_score  \n",
       "0     0.0           0.0           0.0  iPhone           5.0          5.0  \n",
       "1     0.0           NaN           NaN  iPhone           NaN          NaN  \n",
       "2     0.0           NaN           NaN  iPhone           NaN          NaN  \n",
       "3     0.0           NaN           NaN  iPhone           NaN          NaN  \n",
       "4  6173.0        5756.0         417.0  iPhone           4.0          5.0  \n",
       "\n",
       "[5 rows x 28 columns]"
      ]
     },
     "execution_count": 2,
     "metadata": {},
     "output_type": "execute_result"
    }
   ],
   "source": [
    "import pandas as pd\n",
    "df=pd.read_csv('uber_peru_2010.csv', sep=';', parse_dates=['start_at', 'end_at', 'arrived_at'],\n",
    "              dayfirst=True) \n",
    "# taxi['start_at'] = pd.to_datetime(taxi['start_at'])\n",
    "# taxi['end_at'] = pd.to_datetime(taxi['end_at'])\n",
    "# taxi['arrived_at'] = pd.to_datetime(taxi['arrived_at'])\n",
    "df = df.query(\"start_type == 'asap' or start_type == 'reserved'\")\n",
    "df.head()"
   ]
  },
  {
   "cell_type": "markdown",
   "id": "cffc5565",
   "metadata": {},
   "source": [
    "**9. ⭐️Задание со звёздочкой!⭐️**\n",
    "\n",
    "**Создайте колонку wait_time, в которой будет храниться разница между временем подачи машины (arrived_at) и временем заказа (start_at) в минутах.**\n",
    "\n",
    "**Чтобы сконвертировать полученный результат в минуты, можно использовать метод  .astype('timedelta64[m]').**\n",
    "\n",
    "Полезная ссылка: \n",
    "[Подробнее об astype](https://lab.karpov.courses/learning/88/module/1103/lesson/9729/28503/133118/)\n",
    "\n",
    "**Данные загружены в taxi и отфильтрованы, как в 8 шаге.**"
   ]
  },
  {
   "cell_type": "code",
   "execution_count": 3,
   "id": "21f5a0e4",
   "metadata": {},
   "outputs": [
    {
     "data": {
      "text/plain": [
       "0         0 days 00:18:00\n",
       "1                     NaT\n",
       "2                     NaT\n",
       "3                     NaT\n",
       "4       -1 days +23:55:00\n",
       "               ...       \n",
       "23106     0 days 00:00:00\n",
       "23107     0 days 00:13:00\n",
       "23108     0 days 00:09:00\n",
       "23109   -1 days +23:53:00\n",
       "23110                 NaT\n",
       "Name: wait_time, Length: 23091, dtype: timedelta64[s]"
      ]
     },
     "execution_count": 3,
     "metadata": {},
     "output_type": "execute_result"
    }
   ],
   "source": [
    "import numpy as np\n",
    "\n",
    "df['wait_time']=df.arrived_at-df.start_at\n",
    "df['wait_time']=df.wait_time/ np.timedelta64(1, 'm')#.astype('timedelta64[m]')\n",
    "df['wait_time']=df.wait_time.astype('timedelta64[m]')\n",
    "df.wait_time"
   ]
  },
  {
   "cell_type": "markdown",
   "id": "627607c3",
   "metadata": {},
   "source": [
    "**10. ⭐️Задание со звёздочкой!⭐️**\n",
    "\n",
    "**Посмотрим, какие водители опаздывали на заказы к определенному времени (start_type == 'reserved'). Опозданием считается время ожидания wait_time > 0.0.**\n",
    "\n",
    "**Сгруппируйте отфильтрованные данные по driver_id и в качестве ответа укажите id водителя, который опоздал на заказ интересующего нас типа наибольшее число раз**"
   ]
  },
  {
   "cell_type": "code",
   "execution_count": 190,
   "id": "930fc703",
   "metadata": {},
   "outputs": [
    {
     "data": {
      "text/plain": [
       "'406921adcca37705ef527b4246c0cfea'"
      ]
     },
     "execution_count": 190,
     "metadata": {},
     "output_type": "execute_result"
    }
   ],
   "source": [
    "#df.query('start_type == \"reserved\"' and 'wait_time > 0.0').groupby('driver_id').count().idxmax()\n",
    "df.loc[(df.start_type == 'reserved') & (df.wait_time > np.timedelta64(0, 'm'))].driver_id.value_counts().idxmax()"
   ]
  },
  {
   "cell_type": "markdown",
   "id": "dceaa6dc",
   "metadata": {},
   "source": [
    "**11. Подумайте, что может влиять на число опозданий из прошлого задания 🤔**\n",
    "\n",
    "* **Число взятых заказов**\n",
    "* **Пунктуальность водителя**\n",
    "* Поставленная водителем оценка клиента\n",
    "* Цвет машины"
   ]
  },
  {
   "cell_type": "code",
   "execution_count": 223,
   "id": "9a50fa70",
   "metadata": {},
   "outputs": [
    {
     "data": {
      "text/html": [
       "<div>\n",
       "<style scoped>\n",
       "    .dataframe tbody tr th:only-of-type {\n",
       "        vertical-align: middle;\n",
       "    }\n",
       "\n",
       "    .dataframe tbody tr th {\n",
       "        vertical-align: top;\n",
       "    }\n",
       "\n",
       "    .dataframe thead th {\n",
       "        text-align: right;\n",
       "    }\n",
       "</style>\n",
       "<table border=\"1\" class=\"dataframe\">\n",
       "  <thead>\n",
       "    <tr style=\"text-align: right;\">\n",
       "      <th></th>\n",
       "      <th>driver_id</th>\n",
       "      <th>count</th>\n",
       "    </tr>\n",
       "  </thead>\n",
       "  <tbody>\n",
       "    <tr>\n",
       "      <th>0</th>\n",
       "      <td>c814db2127582cf95dea1f74f43127c2</td>\n",
       "      <td>1523</td>\n",
       "    </tr>\n",
       "    <tr>\n",
       "      <th>1</th>\n",
       "      <td>d665fb9f75ef5d9cd0fd89479380ba78</td>\n",
       "      <td>1225</td>\n",
       "    </tr>\n",
       "    <tr>\n",
       "      <th>2</th>\n",
       "      <td>ff5c924e0b630fd7c019a4234059fdf4</td>\n",
       "      <td>1111</td>\n",
       "    </tr>\n",
       "    <tr>\n",
       "      <th>3</th>\n",
       "      <td>406921adcca37705ef527b4246c0cfea</td>\n",
       "      <td>1075</td>\n",
       "    </tr>\n",
       "    <tr>\n",
       "      <th>4</th>\n",
       "      <td>ec84a73745199ff840ecafcb924383ad</td>\n",
       "      <td>974</td>\n",
       "    </tr>\n",
       "  </tbody>\n",
       "</table>\n",
       "</div>"
      ],
      "text/plain": [
       "                          driver_id  count\n",
       "0  c814db2127582cf95dea1f74f43127c2   1523\n",
       "1  d665fb9f75ef5d9cd0fd89479380ba78   1225\n",
       "2  ff5c924e0b630fd7c019a4234059fdf4   1111\n",
       "3  406921adcca37705ef527b4246c0cfea   1075\n",
       "4  ec84a73745199ff840ecafcb924383ad    974"
      ]
     },
     "execution_count": 223,
     "metadata": {},
     "output_type": "execute_result"
    }
   ],
   "source": [
    "#топ 101 по числу заказов\n",
    "a=df.value_counts('driver_id')[0:50].reset_index()\n",
    "a.head()\n",
    "#наш водитель на 3-ей позиции\n",
    "#получается он один из самых занятых"
   ]
  },
  {
   "cell_type": "code",
   "execution_count": 224,
   "id": "b26e5bab",
   "metadata": {
    "scrolled": true
   },
   "outputs": [
    {
     "data": {
      "text/plain": [
       "driver_id\n",
       "406921adcca37705ef527b4246c0cfea    67\n",
       "d665fb9f75ef5d9cd0fd89479380ba78    59\n",
       "ec84a73745199ff840ecafcb924383ad    57\n",
       "56f59b58bcbbd1cdabc3652e713134c2    51\n",
       "c814db2127582cf95dea1f74f43127c2    45\n",
       "ff5c924e0b630fd7c019a4234059fdf4    42\n",
       "ab581e277813d5d9ff98d03b1c96a13f    42\n",
       "ae06c34243f741e203e97c48ebcbd9da    37\n",
       "eef4aeee867d60d44e1d077d16054b6a    37\n",
       "6e168888d1ec73590b7ea371548757b5    35\n",
       "b66c43e298753a3d39220e53008a4325    33\n",
       "e84fda9c5df33f03c89b6923c361fb35    28\n",
       "406921adcca37705ef527b4246bbbff5    26\n",
       "406921adcca37705ef527b4246c19db3    23\n",
       "8ff94ac5183d99dc41b042ad5cb1e655    20\n",
       "baacf396f773709519bbde35a5eab861    19\n",
       "d04f1a596fe4a582f48e6eb2f9e8f617    19\n",
       "40187316352d2c03ddc19e9c8ad7c514    18\n",
       "3abce16ea601affbeae8f50584ce72ef    18\n",
       "583949a89a9ee17d19e3ca4f137b6b4c    18\n",
       "c814db2127582cf95dea1f74f4337bc0    16\n",
       "593ae49af455f324457edc1472aee6ad    14\n",
       "9653e4379509630affa82d7744c825ec    14\n",
       "ccfcfc81abe6485b505ba742749e61aa    13\n",
       "23d3dae9d68c241a9b591f35ee5b18cd    12\n",
       "b66c43e298753a3d39220e53008a1eb8    12\n",
       "e1332f68e81526e498e4d845233a6d7d    11\n",
       "ccfcfc81abe6485b505ba742749e6b8b     9\n",
       "593ae49af455f324457edc1472ae6cce     8\n",
       "0aa51cbf1d21c8c6462dbf0e10028a07     8\n",
       "633dbc6b4e8edc3bf01b07b01ab543fe     8\n",
       "883360491194dd3b866c897b258b53bf     7\n",
       "c75c6643b92e4b184d71197e0ff9d34d     7\n",
       "68fe4d0ad82cc2d715d1319533360be6     7\n",
       "ae06c34243f741e203e97c48eb632cb6     7\n",
       "8d6e3838b34e9c7181ac358dbc30bfe1     6\n",
       "a86217dc9fc6e34f29bbbcc62973ecd1     6\n",
       "27c157e605c56c7df70c605963e1d386     6\n",
       "8ed36e0e9dbf62743c06c09e5f6b5be7     6\n",
       "65b6f3b7075270499ddd0f1dc1130459     6\n",
       "fb81277200c0aea311ad85f90d548d5a     6\n",
       "1083bcecf6e3df9df65525ec3a66b5fb     6\n",
       "ecdcce0c956e266ed26c80fd9e1c188c     5\n",
       "12c472dd8efc6ed622ae8669257e9ec9     5\n",
       "8cacd92bb3ea82079e446fd4b8fd9816     5\n",
       "1d8ba0bdacccf2d0d70ee9925185d231     5\n",
       "294e869d187357cad25b8af65aa6a196     5\n",
       "1577e80ebfeb851767e6012382449efc     5\n",
       "ecdcce0c956e266ed26c80fd9e5cbb8f     5\n",
       "ff5c924e0b630fd7c019a4234059081c     5\n",
       "Name: count, dtype: int64"
      ]
     },
     "execution_count": 224,
     "metadata": {},
     "output_type": "execute_result"
    }
   ],
   "source": [
    "b=df.loc[(df.start_type == 'reserved') & (df.wait_time > np.timedelta64(0, 'm'))] \\\n",
    ".driver_id.value_counts()[0:50]\n",
    "b"
   ]
  },
  {
   "cell_type": "code",
   "execution_count": 226,
   "id": "e3bc8754",
   "metadata": {
    "scrolled": true
   },
   "outputs": [
    {
     "data": {
      "text/html": [
       "<div>\n",
       "<style scoped>\n",
       "    .dataframe tbody tr th:only-of-type {\n",
       "        vertical-align: middle;\n",
       "    }\n",
       "\n",
       "    .dataframe tbody tr th {\n",
       "        vertical-align: top;\n",
       "    }\n",
       "\n",
       "    .dataframe thead th {\n",
       "        text-align: right;\n",
       "    }\n",
       "</style>\n",
       "<table border=\"1\" class=\"dataframe\">\n",
       "  <thead>\n",
       "    <tr style=\"text-align: right;\">\n",
       "      <th></th>\n",
       "      <th>driver_id</th>\n",
       "      <th>count_x</th>\n",
       "      <th>count_y</th>\n",
       "    </tr>\n",
       "  </thead>\n",
       "  <tbody>\n",
       "    <tr>\n",
       "      <th>0</th>\n",
       "      <td>c814db2127582cf95dea1f74f43127c2</td>\n",
       "      <td>1523</td>\n",
       "      <td>45</td>\n",
       "    </tr>\n",
       "    <tr>\n",
       "      <th>1</th>\n",
       "      <td>d665fb9f75ef5d9cd0fd89479380ba78</td>\n",
       "      <td>1225</td>\n",
       "      <td>59</td>\n",
       "    </tr>\n",
       "    <tr>\n",
       "      <th>2</th>\n",
       "      <td>ff5c924e0b630fd7c019a4234059fdf4</td>\n",
       "      <td>1111</td>\n",
       "      <td>42</td>\n",
       "    </tr>\n",
       "    <tr>\n",
       "      <th>3</th>\n",
       "      <td>406921adcca37705ef527b4246c0cfea</td>\n",
       "      <td>1075</td>\n",
       "      <td>67</td>\n",
       "    </tr>\n",
       "    <tr>\n",
       "      <th>4</th>\n",
       "      <td>ec84a73745199ff840ecafcb924383ad</td>\n",
       "      <td>974</td>\n",
       "      <td>57</td>\n",
       "    </tr>\n",
       "    <tr>\n",
       "      <th>5</th>\n",
       "      <td>ab581e277813d5d9ff98d03b1c96a13f</td>\n",
       "      <td>865</td>\n",
       "      <td>42</td>\n",
       "    </tr>\n",
       "    <tr>\n",
       "      <th>6</th>\n",
       "      <td>406921adcca37705ef527b4246bbbff5</td>\n",
       "      <td>750</td>\n",
       "      <td>26</td>\n",
       "    </tr>\n",
       "    <tr>\n",
       "      <th>7</th>\n",
       "      <td>d04f1a596fe4a582f48e6eb2f9e8f617</td>\n",
       "      <td>633</td>\n",
       "      <td>19</td>\n",
       "    </tr>\n",
       "    <tr>\n",
       "      <th>8</th>\n",
       "      <td>40187316352d2c03ddc19e9c8ad7c514</td>\n",
       "      <td>624</td>\n",
       "      <td>18</td>\n",
       "    </tr>\n",
       "    <tr>\n",
       "      <th>9</th>\n",
       "      <td>e84fda9c5df33f03c89b6923c361fb35</td>\n",
       "      <td>604</td>\n",
       "      <td>28</td>\n",
       "    </tr>\n",
       "    <tr>\n",
       "      <th>10</th>\n",
       "      <td>b66c43e298753a3d39220e53008a4325</td>\n",
       "      <td>558</td>\n",
       "      <td>33</td>\n",
       "    </tr>\n",
       "    <tr>\n",
       "      <th>11</th>\n",
       "      <td>eef4aeee867d60d44e1d077d16054b6a</td>\n",
       "      <td>524</td>\n",
       "      <td>37</td>\n",
       "    </tr>\n",
       "    <tr>\n",
       "      <th>12</th>\n",
       "      <td>ae06c34243f741e203e97c48ebcbd9da</td>\n",
       "      <td>517</td>\n",
       "      <td>37</td>\n",
       "    </tr>\n",
       "    <tr>\n",
       "      <th>13</th>\n",
       "      <td>56f59b58bcbbd1cdabc3652e713134c2</td>\n",
       "      <td>481</td>\n",
       "      <td>51</td>\n",
       "    </tr>\n",
       "    <tr>\n",
       "      <th>14</th>\n",
       "      <td>583949a89a9ee17d19e3ca4f137b6b4c</td>\n",
       "      <td>390</td>\n",
       "      <td>18</td>\n",
       "    </tr>\n",
       "    <tr>\n",
       "      <th>15</th>\n",
       "      <td>fb81277200c0aea311ad85f90d548d5a</td>\n",
       "      <td>365</td>\n",
       "      <td>6</td>\n",
       "    </tr>\n",
       "    <tr>\n",
       "      <th>16</th>\n",
       "      <td>6e168888d1ec73590b7ea371548757b5</td>\n",
       "      <td>265</td>\n",
       "      <td>35</td>\n",
       "    </tr>\n",
       "    <tr>\n",
       "      <th>17</th>\n",
       "      <td>406921adcca37705ef527b4246c19db3</td>\n",
       "      <td>254</td>\n",
       "      <td>23</td>\n",
       "    </tr>\n",
       "    <tr>\n",
       "      <th>18</th>\n",
       "      <td>3abce16ea601affbeae8f50584ce72ef</td>\n",
       "      <td>251</td>\n",
       "      <td>18</td>\n",
       "    </tr>\n",
       "    <tr>\n",
       "      <th>19</th>\n",
       "      <td>9653e4379509630affa82d7744c825ec</td>\n",
       "      <td>244</td>\n",
       "      <td>14</td>\n",
       "    </tr>\n",
       "    <tr>\n",
       "      <th>20</th>\n",
       "      <td>c814db2127582cf95dea1f74f4337bc0</td>\n",
       "      <td>231</td>\n",
       "      <td>16</td>\n",
       "    </tr>\n",
       "    <tr>\n",
       "      <th>21</th>\n",
       "      <td>23d3dae9d68c241a9b591f35ee5b18cd</td>\n",
       "      <td>221</td>\n",
       "      <td>12</td>\n",
       "    </tr>\n",
       "    <tr>\n",
       "      <th>22</th>\n",
       "      <td>0aa51cbf1d21c8c6462dbf0e10028a07</td>\n",
       "      <td>210</td>\n",
       "      <td>8</td>\n",
       "    </tr>\n",
       "    <tr>\n",
       "      <th>23</th>\n",
       "      <td>294e869d187357cad25b8af65aa6a196</td>\n",
       "      <td>190</td>\n",
       "      <td>5</td>\n",
       "    </tr>\n",
       "    <tr>\n",
       "      <th>24</th>\n",
       "      <td>ecdcce0c956e266ed26c80fd9e5cbb8f</td>\n",
       "      <td>181</td>\n",
       "      <td>5</td>\n",
       "    </tr>\n",
       "    <tr>\n",
       "      <th>25</th>\n",
       "      <td>c75c6643b92e4b184d71197e0ff9d34d</td>\n",
       "      <td>169</td>\n",
       "      <td>7</td>\n",
       "    </tr>\n",
       "    <tr>\n",
       "      <th>26</th>\n",
       "      <td>b66c43e298753a3d39220e53008a1eb8</td>\n",
       "      <td>152</td>\n",
       "      <td>12</td>\n",
       "    </tr>\n",
       "    <tr>\n",
       "      <th>27</th>\n",
       "      <td>1577e80ebfeb851767e6012382449efc</td>\n",
       "      <td>151</td>\n",
       "      <td>5</td>\n",
       "    </tr>\n",
       "    <tr>\n",
       "      <th>28</th>\n",
       "      <td>1d8ba0bdacccf2d0d70ee9925185d231</td>\n",
       "      <td>147</td>\n",
       "      <td>5</td>\n",
       "    </tr>\n",
       "    <tr>\n",
       "      <th>29</th>\n",
       "      <td>baacf396f773709519bbde35a5eab861</td>\n",
       "      <td>141</td>\n",
       "      <td>19</td>\n",
       "    </tr>\n",
       "    <tr>\n",
       "      <th>30</th>\n",
       "      <td>27c157e605c56c7df70c605963e1d386</td>\n",
       "      <td>130</td>\n",
       "      <td>6</td>\n",
       "    </tr>\n",
       "    <tr>\n",
       "      <th>31</th>\n",
       "      <td>633dbc6b4e8edc3bf01b07b01ab543fe</td>\n",
       "      <td>98</td>\n",
       "      <td>8</td>\n",
       "    </tr>\n",
       "    <tr>\n",
       "      <th>32</th>\n",
       "      <td>ccfcfc81abe6485b505ba742749e61aa</td>\n",
       "      <td>98</td>\n",
       "      <td>13</td>\n",
       "    </tr>\n",
       "    <tr>\n",
       "      <th>33</th>\n",
       "      <td>ccfcfc81abe6485b505ba742749e6b8b</td>\n",
       "      <td>96</td>\n",
       "      <td>9</td>\n",
       "    </tr>\n",
       "    <tr>\n",
       "      <th>34</th>\n",
       "      <td>68fe4d0ad82cc2d715d1319533360be6</td>\n",
       "      <td>91</td>\n",
       "      <td>7</td>\n",
       "    </tr>\n",
       "    <tr>\n",
       "      <th>35</th>\n",
       "      <td>883360491194dd3b866c897b258b53bf</td>\n",
       "      <td>79</td>\n",
       "      <td>7</td>\n",
       "    </tr>\n",
       "  </tbody>\n",
       "</table>\n",
       "</div>"
      ],
      "text/plain": [
       "                           driver_id  count_x  count_y\n",
       "0   c814db2127582cf95dea1f74f43127c2     1523       45\n",
       "1   d665fb9f75ef5d9cd0fd89479380ba78     1225       59\n",
       "2   ff5c924e0b630fd7c019a4234059fdf4     1111       42\n",
       "3   406921adcca37705ef527b4246c0cfea     1075       67\n",
       "4   ec84a73745199ff840ecafcb924383ad      974       57\n",
       "5   ab581e277813d5d9ff98d03b1c96a13f      865       42\n",
       "6   406921adcca37705ef527b4246bbbff5      750       26\n",
       "7   d04f1a596fe4a582f48e6eb2f9e8f617      633       19\n",
       "8   40187316352d2c03ddc19e9c8ad7c514      624       18\n",
       "9   e84fda9c5df33f03c89b6923c361fb35      604       28\n",
       "10  b66c43e298753a3d39220e53008a4325      558       33\n",
       "11  eef4aeee867d60d44e1d077d16054b6a      524       37\n",
       "12  ae06c34243f741e203e97c48ebcbd9da      517       37\n",
       "13  56f59b58bcbbd1cdabc3652e713134c2      481       51\n",
       "14  583949a89a9ee17d19e3ca4f137b6b4c      390       18\n",
       "15  fb81277200c0aea311ad85f90d548d5a      365        6\n",
       "16  6e168888d1ec73590b7ea371548757b5      265       35\n",
       "17  406921adcca37705ef527b4246c19db3      254       23\n",
       "18  3abce16ea601affbeae8f50584ce72ef      251       18\n",
       "19  9653e4379509630affa82d7744c825ec      244       14\n",
       "20  c814db2127582cf95dea1f74f4337bc0      231       16\n",
       "21  23d3dae9d68c241a9b591f35ee5b18cd      221       12\n",
       "22  0aa51cbf1d21c8c6462dbf0e10028a07      210        8\n",
       "23  294e869d187357cad25b8af65aa6a196      190        5\n",
       "24  ecdcce0c956e266ed26c80fd9e5cbb8f      181        5\n",
       "25  c75c6643b92e4b184d71197e0ff9d34d      169        7\n",
       "26  b66c43e298753a3d39220e53008a1eb8      152       12\n",
       "27  1577e80ebfeb851767e6012382449efc      151        5\n",
       "28  1d8ba0bdacccf2d0d70ee9925185d231      147        5\n",
       "29  baacf396f773709519bbde35a5eab861      141       19\n",
       "30  27c157e605c56c7df70c605963e1d386      130        6\n",
       "31  633dbc6b4e8edc3bf01b07b01ab543fe       98        8\n",
       "32  ccfcfc81abe6485b505ba742749e61aa       98       13\n",
       "33  ccfcfc81abe6485b505ba742749e6b8b       96        9\n",
       "34  68fe4d0ad82cc2d715d1319533360be6       91        7\n",
       "35  883360491194dd3b866c897b258b53bf       79        7"
      ]
     },
     "execution_count": 226,
     "metadata": {},
     "output_type": "execute_result"
    }
   ],
   "source": [
    "a.merge(b, on='driver_id', how='inner')#.shape\n",
    "#топ опаздывающих на 36 из 51 совпадает с топом загруженных\n",
    "#и загрузка пропорциональна опозданиям"
   ]
  },
  {
   "cell_type": "code",
   "execution_count": null,
   "id": "a4cd97d2",
   "metadata": {},
   "outputs": [],
   "source": [
    "#как измерить пунктуальность?\n",
    "#доля опозданий среди всех поездок в которых можно было опоздать"
   ]
  },
  {
   "cell_type": "code",
   "execution_count": 216,
   "id": "77150b21",
   "metadata": {},
   "outputs": [
    {
     "data": {
      "text/plain": [
       "count    105.000000\n",
       "mean       0.220206\n",
       "std        0.167542\n",
       "min        0.024390\n",
       "25%        0.125000\n",
       "50%        0.173913\n",
       "75%        0.263158\n",
       "max        1.000000\n",
       "Name: count, dtype: float64"
      ]
     },
     "execution_count": 216,
     "metadata": {},
     "output_type": "execute_result"
    }
   ],
   "source": [
    "c = df.loc[(df.start_type == 'reserved') & (df.wait_time > np.timedelta64(0, 'm'))] \\\n",
    ".value_counts('driver_id')\n",
    "d = df[df.driver_id.isin(list(c.index))] \\\n",
    "    .loc[df.start_type == 'reserved'].value_counts('driver_id')\n",
    "e = c/d #merge не нужен, пандас и так сопоставляет id\n",
    "e.describe()"
   ]
  },
  {
   "cell_type": "code",
   "execution_count": 174,
   "id": "23793483",
   "metadata": {},
   "outputs": [
    {
     "data": {
      "text/plain": [
       "0.18457300275482094"
      ]
     },
     "execution_count": 174,
     "metadata": {},
     "output_type": "execute_result"
    }
   ],
   "source": [
    "e['406921adcca37705ef527b4246c0cfea']"
   ]
  },
  {
   "cell_type": "code",
   "execution_count": 229,
   "id": "a0c2ff64",
   "metadata": {
    "scrolled": true
   },
   "outputs": [
    {
     "data": {
      "text/plain": [
       "(40,)"
      ]
     },
     "execution_count": 229,
     "metadata": {},
     "output_type": "execute_result"
    }
   ],
   "source": [
    "#пунктуальность немного лучше среднего cреди опаздывающих\n",
    "#у остальных водителей пунткуальность идеальна share==0\n",
    "#таких водителей не мало - \n",
    "#40 идеальнопунктуальных vs 105 опаздывающих\n",
    "df[(df.start_type == 'reserved') & ~df.driver_id.isin(list(c.index))] \\\n",
    ".driver_id.unique().shape"
   ]
  },
  {
   "cell_type": "code",
   "execution_count": 197,
   "id": "328d1f0b",
   "metadata": {
    "scrolled": true
   },
   "outputs": [
    {
     "data": {
      "text/html": [
       "<div>\n",
       "<style scoped>\n",
       "    .dataframe tbody tr th:only-of-type {\n",
       "        vertical-align: middle;\n",
       "    }\n",
       "\n",
       "    .dataframe tbody tr th {\n",
       "        vertical-align: top;\n",
       "    }\n",
       "\n",
       "    .dataframe thead th {\n",
       "        text-align: right;\n",
       "    }\n",
       "</style>\n",
       "<table border=\"1\" class=\"dataframe\">\n",
       "  <thead>\n",
       "    <tr style=\"text-align: right;\">\n",
       "      <th></th>\n",
       "      <th>0</th>\n",
       "    </tr>\n",
       "  </thead>\n",
       "  <tbody>\n",
       "    <tr>\n",
       "      <th>count</th>\n",
       "      <td>145.000000</td>\n",
       "    </tr>\n",
       "    <tr>\n",
       "      <th>mean</th>\n",
       "      <td>0.159459</td>\n",
       "    </tr>\n",
       "    <tr>\n",
       "      <th>std</th>\n",
       "      <td>0.173283</td>\n",
       "    </tr>\n",
       "    <tr>\n",
       "      <th>min</th>\n",
       "      <td>0.000000</td>\n",
       "    </tr>\n",
       "    <tr>\n",
       "      <th>25%</th>\n",
       "      <td>0.000000</td>\n",
       "    </tr>\n",
       "    <tr>\n",
       "      <th>50%</th>\n",
       "      <td>0.130841</td>\n",
       "    </tr>\n",
       "    <tr>\n",
       "      <th>75%</th>\n",
       "      <td>0.233333</td>\n",
       "    </tr>\n",
       "    <tr>\n",
       "      <th>max</th>\n",
       "      <td>1.000000</td>\n",
       "    </tr>\n",
       "  </tbody>\n",
       "</table>\n",
       "</div>"
      ],
      "text/plain": [
       "                0\n",
       "count  145.000000\n",
       "mean     0.159459\n",
       "std      0.173283\n",
       "min      0.000000\n",
       "25%      0.000000\n",
       "50%      0.130841\n",
       "75%      0.233333\n",
       "max      1.000000"
      ]
     },
     "execution_count": 197,
     "metadata": {},
     "output_type": "execute_result"
    }
   ],
   "source": [
    "f = pd.concat([e, pd.DataFrame([0]*40)])\n",
    "f.describe()\n",
    "#наш водитель близок к средней пунктуальности"
   ]
  },
  {
   "cell_type": "code",
   "execution_count": 239,
   "id": "c8f30ec4",
   "metadata": {},
   "outputs": [
    {
     "data": {
      "text/plain": [
       "<Axes: xlabel='count_x'>"
      ]
     },
     "execution_count": 239,
     "metadata": {},
     "output_type": "execute_result"
    },
    {
     "data": {
      "image/png": "[encoded data removed]",
      "text/plain": [
       "<Figure size 640x480 with 1 Axes>"
      ]
     },
     "metadata": {},
     "output_type": "display_data"
    }
   ],
   "source": [
    "# e2 = pd.concat([e, pd.DataFrame([0]*40)]).reset_index()\n",
    "# c2 = pd.concat([c, pd.DataFrame([0]*40)]).reset_index()\n",
    "ee = e.reset_index().merge(c, on='driver_id', how='inner') \n",
    "ee.sort_values('count_x').plot('count_x', 'count_y')"
   ]
  },
  {
   "cell_type": "code",
   "execution_count": null,
   "id": "2d1945da",
   "metadata": {},
   "outputs": [],
   "source": [
    "#пунктуальность растет от 1.0 к 0.0 \n",
    "#большинство опозданий сделано среднепунктуальными (0.024-0.200)\n",
    "#возможно тк самых непунктуальных уволили в какой то момент\n",
    "\n",
    "#внутри опаздывающих нету тренда корреляции\n",
    "#получается наша шкала пунктуальности работает дискретно\n",
    "#share == 0 соотв 0 опозданий\n",
    "#share != 0 соотв случайному числу опозданий 1-67\n",
    "#100% вывод я не могу сделать таким образом\n",
    "#сначала бы статистику пройти\n",
    "#а в условии 100% и не спрашивают\n",
    "#!!видно, что влияние пунктуальности возможно\n",
    "\n",
    "#наша шкала пунктуальности не учитывает насколько опоздания..."
   ]
  },
  {
   "cell_type": "code",
   "execution_count": null,
   "id": "385db203",
   "metadata": {},
   "outputs": [],
   "source": [
    "#--Поставленная водителем оценка клиента\n",
    "#--Цвет машины\n",
    "#можно найти взаимосвязи/кореляции, \n",
    "#но не думаю что в них будет смысл"
   ]
  },
  {
   "cell_type": "markdown",
   "id": "3ac0b993",
   "metadata": {},
   "source": [
    "**12. ⭐️Задание со звёздочкой!⭐️**\n",
    "\n",
    "**Добавьте столбец month, где будет храниться номер месяца, в котором был сделан заказ (start_at),  и столбец weekday – название дня недели.**\n",
    "\n",
    "Полезные ссылки:\n",
    "\n",
    "* [как](https://lab.karpov.courses/learning/88/module/1103/lesson/9729/28503/133123/) извлечь нужное значение из даты?\n",
    "\n",
    "* **.dt.strftime('%A')** – извлечь день недели в формате названия\n",
    "\n",
    "**Данные загружены в taxi и отфильтрованы, как в 8 шаге.**"
   ]
  },
  {
   "cell_type": "code",
   "execution_count": 240,
   "id": "49e34f43",
   "metadata": {},
   "outputs": [
    {
     "data": {
      "text/html": [
       "<div>\n",
       "<style scoped>\n",
       "    .dataframe tbody tr th:only-of-type {\n",
       "        vertical-align: middle;\n",
       "    }\n",
       "\n",
       "    .dataframe tbody tr th {\n",
       "        vertical-align: top;\n",
       "    }\n",
       "\n",
       "    .dataframe thead th {\n",
       "        text-align: right;\n",
       "    }\n",
       "</style>\n",
       "<table border=\"1\" class=\"dataframe\">\n",
       "  <thead>\n",
       "    <tr style=\"text-align: right;\">\n",
       "      <th></th>\n",
       "      <th>start_at</th>\n",
       "      <th>month</th>\n",
       "      <th>weekday</th>\n",
       "    </tr>\n",
       "  </thead>\n",
       "  <tbody>\n",
       "    <tr>\n",
       "      <th>0</th>\n",
       "      <td>2010-11-16 16:44:00</td>\n",
       "      <td>11</td>\n",
       "      <td>Tuesday</td>\n",
       "    </tr>\n",
       "    <tr>\n",
       "      <th>1</th>\n",
       "      <td>2010-06-01 00:34:00</td>\n",
       "      <td>6</td>\n",
       "      <td>Tuesday</td>\n",
       "    </tr>\n",
       "    <tr>\n",
       "      <th>2</th>\n",
       "      <td>2010-05-31 05:01:00</td>\n",
       "      <td>5</td>\n",
       "      <td>Monday</td>\n",
       "    </tr>\n",
       "    <tr>\n",
       "      <th>3</th>\n",
       "      <td>2010-06-01 00:29:00</td>\n",
       "      <td>6</td>\n",
       "      <td>Tuesday</td>\n",
       "    </tr>\n",
       "    <tr>\n",
       "      <th>4</th>\n",
       "      <td>2010-09-11 23:55:00</td>\n",
       "      <td>9</td>\n",
       "      <td>Saturday</td>\n",
       "    </tr>\n",
       "  </tbody>\n",
       "</table>\n",
       "</div>"
      ],
      "text/plain": [
       "             start_at  month   weekday\n",
       "0 2010-11-16 16:44:00     11   Tuesday\n",
       "1 2010-06-01 00:34:00      6   Tuesday\n",
       "2 2010-05-31 05:01:00      5    Monday\n",
       "3 2010-06-01 00:29:00      6   Tuesday\n",
       "4 2010-09-11 23:55:00      9  Saturday"
      ]
     },
     "execution_count": 240,
     "metadata": {},
     "output_type": "execute_result"
    }
   ],
   "source": [
    "df['month'] = df.start_at.dt.month\n",
    "df['weekday'] = df.start_at.dt.day_name()\n",
    "df[['start_at', 'month', 'weekday']].head()"
   ]
  },
  {
   "cell_type": "markdown",
   "id": "b3dfe57e",
   "metadata": {},
   "source": [
    "**13. ⭐️Задание со звёздочкой!⭐️**\n",
    "\n",
    "**Постройте график числа заказов по месяцам (month). Подумайте, с чем может быть связана полученная картина.**\n",
    "\n",
    "**Вопрос: в каком летнем месяце было сделано наименьшее число заказов? В качестве ответа введите номер месяца (6, 7 или 8).** \n",
    "\n",
    "Полезная ссылка: [sns.countplot](https://seaborn.pydata.org/generated/seaborn.countplot.html) "
   ]
  },
  {
   "cell_type": "code",
   "execution_count": 242,
   "id": "776396ca",
   "metadata": {},
   "outputs": [
    {
     "data": {
      "image/png": "[encoded data removed]",
      "text/plain": [
       "<Figure size 640x480 with 1 Axes>"
      ]
     },
     "metadata": {},
     "output_type": "display_data"
    }
   ],
   "source": [
    "import seaborn as sns\n",
    "sns.countplot(data=df, x='month')\n",
    "sns.despine()"
   ]
  },
  {
   "cell_type": "markdown",
   "id": "3171260f",
   "metadata": {},
   "source": [
    "**14. ⭐️Задание со звёздочкой!⭐️**\n",
    "\n",
    "**А теперь – график по дням недели (weekday). Задать порядок столбиков на графике можно с помощью аргумента order, которому нужно передать список названий в нужном порядке. Например:**\n",
    "\n",
    "sns.countplot(data['column'], order=['One', 'Two', 'Three'])\n",
    "\n",
    "**Вопрос: в какой день недели суммарно поступает меньше всего заказов? Укажите то название, которое написано в самом датафрейме.**"
   ]
  },
  {
   "cell_type": "code",
   "execution_count": 244,
   "id": "c32ac98c",
   "metadata": {},
   "outputs": [
    {
     "data": {
      "image/png": "[encoded data removed]",
      "text/plain": [
       "<Figure size 640x480 with 1 Axes>"
      ]
     },
     "metadata": {},
     "output_type": "display_data"
    }
   ],
   "source": [
    "order = ['Monday', 'Tuesday', 'Wednesday', 'Thursday', 'Friday', 'Saturday', 'Sunday']\n",
    "ax = sns.countplot(data=df, x='weekday', order=order)\n",
    "ax.tick_params(axis='x', rotation=45)"
   ]
  },
  {
   "cell_type": "markdown",
   "id": "a2f89049",
   "metadata": {},
   "source": [
    "**15. ⭐️Задание со звёздочкой!⭐️**\n",
    "\n",
    "Также мы можем посмотреть на несколько простых метрик, показывающих число уникальных пользователей за определённый период:\n",
    "\n",
    "* DAU (daily active users) – число уникальных пользователей за день\n",
    "* WAU (weekly active users) – число уникальных пользователей за неделю\n",
    "* MAU (monthly active users) – число уникальных пользователей за месяц\n",
    "\n",
    "**Активные пользователи – те, кто воспользовался приложением и сделал хотя бы один заказ за выбранный промежуток времени. Постройте график MAU и выберите верные утверждения.**\n",
    "\n",
    "Могут пригодиться:\n",
    "\n",
    "* groupby – группировка\n",
    "* nunique – число уникальных значений\n",
    "* plot.line – линейная диаграмма"
   ]
  },
  {
   "cell_type": "markdown",
   "id": "5947f852",
   "metadata": {},
   "source": [
    "* Летом наблюдался спад числа уникальных пользователей в месяц\n",
    "* **В течение всего года число уникальных пользователей увеличивалось**\n",
    "* Число уникальных юзеров в течение года как увеличивалось, так и уменьшалось\n",
    "* **MAU за апрель примерно в 2.5 раза больше, чем за январь**"
   ]
  },
  {
   "cell_type": "code",
   "execution_count": 247,
   "id": "10caa8ae",
   "metadata": {},
   "outputs": [
    {
     "data": {
      "text/plain": [
       "month\n",
       "1     102\n",
       "2     110\n",
       "3     162\n",
       "4     253\n",
       "5     275\n",
       "6     309\n",
       "7     318\n",
       "8     377\n",
       "9     416\n",
       "10    437\n",
       "11    504\n",
       "12    569\n",
       "Name: user_id, dtype: int64"
      ]
     },
     "execution_count": 247,
     "metadata": {},
     "output_type": "execute_result"
    }
   ],
   "source": [
    "mau = df.groupby('month').user_id.nunique()\n",
    "mau"
   ]
  },
  {
   "cell_type": "code",
   "execution_count": 248,
   "id": "f6741598",
   "metadata": {},
   "outputs": [
    {
     "data": {
      "text/plain": [
       "<Axes: xlabel='month', ylabel='user_id'>"
      ]
     },
     "execution_count": 248,
     "metadata": {},
     "output_type": "execute_result"
    },
    {
     "data": {
      "image/png": "[encoded data removed]",
      "text/plain": [
       "<Figure size 640x480 with 1 Axes>"
      ]
     },
     "metadata": {},
     "output_type": "display_data"
    }
   ],
   "source": [
    "sns.lineplot(data=mau, marker='o')"
   ]
  }
 ],
 "metadata": {
  "kernelspec": {
   "display_name": "Python 3 (ipykernel)",
   "language": "python",
   "name": "python3"
  },
  "language_info": {
   "codemirror_mode": {
    "name": "ipython",
    "version": 3
   },
   "file_extension": ".py",
   "mimetype": "text/x-python",
   "name": "python",
   "nbconvert_exporter": "python",
   "pygments_lexer": "ipython3",
   "version": "3.10.11"
  }
 },
 "nbformat": 4,
 "nbformat_minor": 5
}
