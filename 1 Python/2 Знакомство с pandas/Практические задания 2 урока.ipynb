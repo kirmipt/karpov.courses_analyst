{
 "cells": [
  {
   "cell_type": "markdown",
   "id": "781080f2",
   "metadata": {},
   "source": [
    "# Домашние задания второго урока."
   ]
  },
  {
   "cell_type": "markdown",
   "id": "48045672",
   "metadata": {},
   "source": [
    "**1. В следующих степах потренируемся использовать изученные функции.**\n",
    "\n",
    "**Начнем с простого вопроса: что произойдет в результате выполнения следующей команды?**\n",
    "```python\n",
    "import pandas as pd\n",
    "```\n",
    "* Сможем использовать библиотеку pandas, обращаясь и как pandas, и как pnds\n",
    "* Вовсе не сможем использовать библиотеку, потому что использовали сокращение pnds, а не pd\n",
    "* **Сможем использовать библиотеку pandas, обращаясь к ней как pnds**"
   ]
  },
  {
   "cell_type": "markdown",
   "id": "9edfd6ad",
   "metadata": {},
   "source": [
    "**2. Отлично! Теперь поработаем с данными о поездках на такси в Нью-Йорке, где также имеется информация о погодных условиях и выходных днях.**  \n",
    "\n",
    "* pickup_dt – период с точностью до часа\n",
    "\n",
    "* pickup_month – месяц\n",
    "\n",
    "* borough – район Нью-Йорка, из которого был сделан заказ (5 районов + аэропорт)\n",
    "\n",
    "* pickups – число поездок за период (час)\n",
    "\n",
    "* hday – является ли день праздничным/выходным; Y - да,  N - нет\n",
    "\n",
    "* spd – скорость ветра в милях в час\n",
    "\n",
    "* vsb – видимость\n",
    "\n",
    "* temp – температура в градусах Фаренгейта\n",
    "\n",
    "* dewp – точка росы по Фаренгейту\n",
    "\n",
    "* slp – давление\n",
    "\n",
    "* pcp_01 – количество осадков за час\n",
    "\n",
    "* pcp_06 – количество осадков за 6 часов\n",
    "\n",
    "* pcp_24 – количество осадков за 24 часа\n",
    "\n",
    "* sd – глубина снега в дюймах\n",
    "      \n",
    "\n",
    "**Но перед тем, как приступать к работе, давайте загрузим данные. На LMS путь к данным лежит в переменной path_to_file (условно, path_to_file = \"/some/path/to/file.csv\"). Импортируйте библиотеку pandas, а затем загрузите данные по вышеупомянутой ссылке. **\n",
    "\n",
    "**Результат сохраните в переменную taxi.**"
   ]
  },
  {
   "cell_type": "code",
   "execution_count": 101,
   "id": "50d424e8",
   "metadata": {},
   "outputs": [],
   "source": [
    "import pandas as pd\n",
    "taxi = pd.read_csv('taxi.csv', parse_dates=['pickup_dt'])"
   ]
  },
  {
   "cell_type": "markdown",
   "id": "2b104f91",
   "metadata": {},
   "source": [
    "**3. Проверьте, сколько всего строк и столбцов имеется в датасете.**\n",
    "\n",
    "* 21715 столбцов, 14 строк\n",
    "* **29101 строка, 14 столбцов**\n",
    "* 21715 строк, 14 столбцов\n",
    "* 29101 столбец, 14 строк\n",
    "* 26058 строк, 14 столбцов"
   ]
  },
  {
   "cell_type": "code",
   "execution_count": 2,
   "id": "9d7951b6",
   "metadata": {
    "scrolled": false
   },
   "outputs": [
    {
     "data": {
      "text/plain": [
       "(29101, 13)"
      ]
     },
     "execution_count": 2,
     "metadata": {},
     "output_type": "execute_result"
    }
   ],
   "source": [
    "taxi.shape\n",
    "#видимо кэгловский файл отличается немного"
   ]
  },
  {
   "cell_type": "markdown",
   "id": "0c04e8ea",
   "metadata": {},
   "source": [
    "**4. Давайте посмотрим на типы колонок. Все ли из них считались правильно? В качестве ответа выберите тип, преобладающий в датасете.**\n",
    "\n",
    "* int64\n",
    "* **float64**\n",
    "* datetime64\n",
    "* object"
   ]
  },
  {
   "cell_type": "code",
   "execution_count": 95,
   "id": "251e0b10",
   "metadata": {},
   "outputs": [
    {
     "data": {
      "text/plain": [
       "pickup_dt     object\n",
       "borough       object\n",
       "pickups        int64\n",
       "spd          float64\n",
       "vsb          float64\n",
       "temp         float64\n",
       "dewp         float64\n",
       "slp          float64\n",
       "pcp01        float64\n",
       "pcp06        float64\n",
       "pcp24        float64\n",
       "sd           float64\n",
       "hday          object\n",
       "dtype: object"
      ]
     },
     "execution_count": 95,
     "metadata": {},
     "output_type": "execute_result"
    }
   ],
   "source": [
    "taxi.dtypes"
   ]
  },
  {
   "cell_type": "markdown",
   "id": "1bb9129e",
   "metadata": {},
   "source": [
    "**5. В названиях столбцов pcp 01, pcp 06, pcp 24 встречается пробел. Это не очень удобно, если в дальнейшем вы планируете обращаться к колонкам через точку, без использования кавычек и скобочек.** \n",
    "\n",
    "**Замените пробел в названиях на знак нижнего подчеркивания.**\n",
    "\n",
    "**Данные сохранены в переменную taxi. Данные должны быть изменены в этом же датафрейме.**"
   ]
  },
  {
   "cell_type": "code",
   "execution_count": 5,
   "id": "0b5588c4",
   "metadata": {},
   "outputs": [],
   "source": [
    "taxi = taxi.rename(columns={'pcp 01': 'pcp_01', 'pcp 06': 'pcp_06', 'pcp 24': 'pcp_24'})"
   ]
  },
  {
   "cell_type": "markdown",
   "id": "a21184dd",
   "metadata": {},
   "source": [
    "**6. Вас попросили узнать, сколько записей (строк) в датафрейме относятся к району Манхэттен (Manhattan). Получить ответ на данный вопрос можно было бы, например, с помощью следующей команды:**\n",
    "```python\n",
    "taxi.query(\"borough=='Manhattan'\").shape[0]\n",
    "taxi.value_counts\n",
    "```\n",
    "**А если мы хотим посмотреть, сколько раз встречается каждый из районов? Неужели придется использовать подобную конструкцию для каждого уровня переменной? Здесь на помощь приходит метод value_counts(), подробнее о котором можно почитать в конспекте!**\n",
    "\n",
    "**Сколько раз в данных встречается район Бруклин (Brooklyn)?**\n",
    "\n",
    "Ответ: `4343`"
   ]
  },
  {
   "cell_type": "markdown",
   "id": "2e15e36a",
   "metadata": {},
   "source": [
    "**7. Следующая задача: выяснить, из какого района было совершено наибольшее количество поездок за весь период. Для начала, посчитайте общее количество поездок (pickups), без группировки.**\n",
    "\n",
    "Ответ: `14265773`"
   ]
  },
  {
   "cell_type": "code",
   "execution_count": 6,
   "id": "9026641f",
   "metadata": {},
   "outputs": [
    {
     "data": {
      "text/plain": [
       "14265773"
      ]
     },
     "execution_count": 6,
     "metadata": {},
     "output_type": "execute_result"
    }
   ],
   "source": [
    "taxi.pickups.sum()"
   ]
  },
  {
   "cell_type": "markdown",
   "id": "1442c08e",
   "metadata": {},
   "source": [
    "**8. А теперь сгруппируйте данные по району (borough) и укажите, из какого пункта было совершено больше всего поездок.**\n",
    "\n",
    "* Staten Island\n",
    "* Brooklyn\n",
    "* Queens\n",
    "* Bronx\n",
    "* **Manhattan**"
   ]
  },
  {
   "cell_type": "code",
   "execution_count": 11,
   "id": "b6022c8e",
   "metadata": {},
   "outputs": [
    {
     "data": {
      "text/html": [
       "<div>\n",
       "<style scoped>\n",
       "    .dataframe tbody tr th:only-of-type {\n",
       "        vertical-align: middle;\n",
       "    }\n",
       "\n",
       "    .dataframe tbody tr th {\n",
       "        vertical-align: top;\n",
       "    }\n",
       "\n",
       "    .dataframe thead th {\n",
       "        text-align: right;\n",
       "    }\n",
       "</style>\n",
       "<table border=\"1\" class=\"dataframe\">\n",
       "  <thead>\n",
       "    <tr style=\"text-align: right;\">\n",
       "      <th></th>\n",
       "      <th>pickups</th>\n",
       "    </tr>\n",
       "    <tr>\n",
       "      <th>borough</th>\n",
       "      <th></th>\n",
       "    </tr>\n",
       "  </thead>\n",
       "  <tbody>\n",
       "    <tr>\n",
       "      <th>Bronx</th>\n",
       "      <td>220047</td>\n",
       "    </tr>\n",
       "    <tr>\n",
       "      <th>Brooklyn</th>\n",
       "      <td>2321035</td>\n",
       "    </tr>\n",
       "    <tr>\n",
       "      <th>EWR</th>\n",
       "      <td>105</td>\n",
       "    </tr>\n",
       "    <tr>\n",
       "      <th>Manhattan</th>\n",
       "      <td>10367841</td>\n",
       "    </tr>\n",
       "    <tr>\n",
       "      <th>Queens</th>\n",
       "      <td>1343528</td>\n",
       "    </tr>\n",
       "    <tr>\n",
       "      <th>Staten Island</th>\n",
       "      <td>6957</td>\n",
       "    </tr>\n",
       "  </tbody>\n",
       "</table>\n",
       "</div>"
      ],
      "text/plain": [
       "                pickups\n",
       "borough                \n",
       "Bronx            220047\n",
       "Brooklyn        2321035\n",
       "EWR                 105\n",
       "Manhattan      10367841\n",
       "Queens          1343528\n",
       "Staten Island      6957"
      ]
     },
     "execution_count": 11,
     "metadata": {},
     "output_type": "execute_result"
    }
   ],
   "source": [
    "taxi.groupby('borough').agg({'pickups': 'sum'}) "
   ]
  },
  {
   "cell_type": "markdown",
   "id": "c3749934",
   "metadata": {},
   "source": [
    "**9. ⭐️Задание со звёздочкой!⭐️**\n",
    "\n",
    "**Еще несколько полезных методов в pandas! Возможно, в предыдущем степе вы просто посмотрели на данные или отсортировали значения. Ускорить данный процесс в дальнейшем помогут методы idxmin() и idxmax(), которые возвращают индекс минимального или максимального значения.**\n",
    "\n",
    "idxmin – индекс минимального значения\n",
    "\n",
    "idxmax – индекс максимального значения\n",
    "\n",
    "**Сохраните название района с наименьшим числом поездок в переменную min_pickups, применив подходящий метод.**\n",
    "\n",
    "**Исходные данные сохранены в переменную taxi.**"
   ]
  },
  {
   "cell_type": "code",
   "execution_count": 13,
   "id": "7fa61c02",
   "metadata": {
    "scrolled": true
   },
   "outputs": [
    {
     "data": {
      "text/plain": [
       "'Manhattan'"
      ]
     },
     "execution_count": 13,
     "metadata": {},
     "output_type": "execute_result"
    }
   ],
   "source": [
    "#min_pickups=\n",
    "taxi \\\n",
    "    .groupby(['borough']) \\\n",
    "    .aggregate({'pickups': 'sum'}) \\\n",
    "    .idxmax()[0]"
   ]
  },
  {
   "cell_type": "markdown",
   "id": "6e074637",
   "metadata": {},
   "source": [
    "**10. Продолжим изучение данных и посмотрим на число поездок в выходные дни. Сгруппируйте данные по двум признакам: району города и является ли день выходным (колонки borough и hday). Сравните среднее число поездок, и выберите районы, из которых по праздникам в среднем поступает больше заказов, чем в обычные дни.**\n",
    "\n",
    "* Staten Island\n",
    "* Brooklyn\n",
    "* Bronx\n",
    "* **Queens**\n",
    "* **EWR**\n",
    "* Manhattan"
   ]
  },
  {
   "cell_type": "code",
   "execution_count": 89,
   "id": "eafb8f28",
   "metadata": {},
   "outputs": [
    {
     "name": "stdout",
     "output_type": "stream",
     "text": [
      "EWR\n",
      "Queens\n"
     ]
    }
   ],
   "source": [
    "taxi2 = taxi \\\n",
    "    .groupby(['borough', 'hday']) \\\n",
    "    .aggregate({'pickups': 'mean'}) \n",
    "    #.reset_index()\n",
    "for x in list(set([x[0] for x in taxi2.index])):\n",
    "    if taxi2.loc[x, 'Y'].item() > taxi2.loc[x, 'N'].item():\n",
    "        print(x)"
   ]
  },
  {
   "cell_type": "markdown",
   "id": "3e384201",
   "metadata": {},
   "source": [
    "**11. Для каждого района посчитайте число поездок по месяцам. Отсортируйте полученные значения по убыванию и сохраните результирующий датафрейм в pickups_by_mon_bor.**\n",
    "\n",
    "**Обратите внимание, что итоговый датасет должен состоять из 3-х колонок - pickup_month, borough, pickups.**\n",
    "\n",
    "**Данные сохранены в переменную taxi.**"
   ]
  },
  {
   "cell_type": "code",
   "execution_count": 105,
   "id": "6a877186",
   "metadata": {},
   "outputs": [
    {
     "data": {
      "text/html": [
       "<div>\n",
       "<style scoped>\n",
       "    .dataframe tbody tr th:only-of-type {\n",
       "        vertical-align: middle;\n",
       "    }\n",
       "\n",
       "    .dataframe tbody tr th {\n",
       "        vertical-align: top;\n",
       "    }\n",
       "\n",
       "    .dataframe thead th {\n",
       "        text-align: right;\n",
       "    }\n",
       "</style>\n",
       "<table border=\"1\" class=\"dataframe\">\n",
       "  <thead>\n",
       "    <tr style=\"text-align: right;\">\n",
       "      <th></th>\n",
       "      <th>borough</th>\n",
       "      <th>pickup_month</th>\n",
       "      <th>pickups</th>\n",
       "    </tr>\n",
       "  </thead>\n",
       "  <tbody>\n",
       "    <tr>\n",
       "      <th>23</th>\n",
       "      <td>Manhattan</td>\n",
       "      <td>06</td>\n",
       "      <td>1995388</td>\n",
       "    </tr>\n",
       "    <tr>\n",
       "      <th>22</th>\n",
       "      <td>Manhattan</td>\n",
       "      <td>05</td>\n",
       "      <td>1888800</td>\n",
       "    </tr>\n",
       "    <tr>\n",
       "      <th>19</th>\n",
       "      <td>Manhattan</td>\n",
       "      <td>02</td>\n",
       "      <td>1718571</td>\n",
       "    </tr>\n",
       "    <tr>\n",
       "      <th>20</th>\n",
       "      <td>Manhattan</td>\n",
       "      <td>03</td>\n",
       "      <td>1661261</td>\n",
       "    </tr>\n",
       "    <tr>\n",
       "      <th>21</th>\n",
       "      <td>Manhattan</td>\n",
       "      <td>04</td>\n",
       "      <td>1648278</td>\n",
       "    </tr>\n",
       "  </tbody>\n",
       "</table>\n",
       "</div>"
      ],
      "text/plain": [
       "      borough pickup_month  pickups\n",
       "23  Manhattan           06  1995388\n",
       "22  Manhattan           05  1888800\n",
       "19  Manhattan           02  1718571\n",
       "20  Manhattan           03  1661261\n",
       "21  Manhattan           04  1648278"
      ]
     },
     "execution_count": 105,
     "metadata": {},
     "output_type": "execute_result"
    }
   ],
   "source": [
    "import datetime\n",
    "#кэгловский df отличается тем что месяца нету\n",
    "taxi['pickup_month'] = taxi['pickup_dt'] \\\n",
    ".apply(lambda x: x.strftime(\"%m\"))\n",
    "pickups_by_mon_bor = taxi \\\n",
    "     .groupby(['borough', 'pickup_month'], as_index=False) \\\n",
    "     .aggregate({'pickups': 'sum'}) \\\n",
    "     .sort_values('pickups', ascending=False)\n",
    "pickups_by_mon_bor.head()"
   ]
  },
  {
   "cell_type": "markdown",
   "id": "9bd5bc27",
   "metadata": {},
   "source": [
    "**11. 💀 Сложное задание! 💀**\n",
    "\n",
    "**Теперь задача посложнее! Попрактикуемся в написании собственных функций и их применении к датафрейму. Поскольку данные о поездках в Нью-Йорке, температура представлена в градусах Фаренгейта.**\n",
    "\n",
    "**Напишите функцию temp_to_celcius, которая получает на вход колонку с температурой в °F, и возвращает значения, переведенные в градусы Цельсия.**\n",
    "\n",
    "Формула:\n",
    "\n",
    "t °С = 5/9 (t °F - 32)\n",
    "\n",
    "Пример работы функции:\n",
    "```python\n",
    "> taxi['temp'][:5]\n",
    "0    30.0\n",
    "1    30.0\n",
    "2    30.0\n",
    "3    30.0\n",
    "4    30.0\n",
    "\n",
    "> taxi['temp_C'] = temp_to_celcius(taxi['temp'])\n",
    "> taxi['temp_C'][:5]\n",
    "0   -1.111111\n",
    "1   -1.111111\n",
    "2   -1.111111\n",
    "3   -1.111111\n",
    "4   -1.111111\n",
    "```\n",
    "**NB! В окошке ниже надо написать только саму функцию. Так как урок посвящён pandas, то и всё содержимое функции должно быть выполнено средствами этой библиотеки - убедитесь, что на выходе она даёт pandas Series.**"
   ]
  },
  {
   "cell_type": "code",
   "execution_count": 108,
   "id": "8e5e6b59",
   "metadata": {},
   "outputs": [
    {
     "data": {
      "text/plain": [
       "0        -1.111111\n",
       "1        -1.111111\n",
       "2        -1.111111\n",
       "3        -1.111111\n",
       "4        -1.111111\n",
       "           ...    \n",
       "29096    23.888889\n",
       "29097    23.888889\n",
       "29098    23.888889\n",
       "29099    23.888889\n",
       "29100    23.888889\n",
       "Name: temp, Length: 29101, dtype: float64"
      ]
     },
     "execution_count": 108,
     "metadata": {},
     "output_type": "execute_result"
    }
   ],
   "source": [
    "def TC(ds):\n",
    "    return (5/9) * (ds - 32)\n",
    "\n",
    "TC(taxi['temp'])"
   ]
  }
 ],
 "metadata": {
  "kernelspec": {
   "display_name": "Python 3 (ipykernel)",
   "language": "python",
   "name": "python3"
  },
  "language_info": {
   "codemirror_mode": {
    "name": "ipython",
    "version": 3
   },
   "file_extension": ".py",
   "mimetype": "text/x-python",
   "name": "python",
   "nbconvert_exporter": "python",
   "pygments_lexer": "ipython3",
   "version": "3.10.11"
  }
 },
 "nbformat": 4,
 "nbformat_minor": 5
}
