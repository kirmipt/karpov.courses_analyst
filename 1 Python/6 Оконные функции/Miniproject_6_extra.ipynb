{
 "cells": [
  {
   "cell_type": "markdown",
   "id": "f2d8a620",
   "metadata": {},
   "source": [
    "# Дополнительный проект\n",
    "В данном проекте вы поработаете с довольно нетипичными для аналитика данными: `gff` файлом, который описывает геном мухи (описание формата можно найти здесь). При его выполнении вам может понадобиться часть конспекта про работу со строковыми данными, а именно – про строковые методы серий.\n",
    "\n",
    "# Задачи\n",
    "1. Выделите из колонки attributes значение атрибута Parent. Т.е. если там записано Parent=x, то нам нужен x\n",
    "2. Выясните, какое из этих значений является самым частым\n",
    "3. Постройте распределение встречаемости значений в столбце type"
   ]
  },
  {
   "cell_type": "markdown",
   "id": "0517ee86",
   "metadata": {},
   "source": [
    "**1. Какое значение атрибута Parent самое частое?**"
   ]
  },
  {
   "cell_type": "code",
   "execution_count": 1,
   "id": "e5f3912f",
   "metadata": {},
   "outputs": [],
   "source": [
    "import pandas as pd\n",
    "import re\n",
    "import seaborn as sns\n",
    "import matplotlib.pyplot as plt\n",
    "\n",
    "%matplotlib inline"
   ]
  },
  {
   "cell_type": "code",
   "execution_count": 152,
   "id": "aa9c7f8d",
   "metadata": {},
   "outputs": [
    {
     "data": {
      "text/html": [
       "<div>\n",
       "<style scoped>\n",
       "    .dataframe tbody tr th:only-of-type {\n",
       "        vertical-align: middle;\n",
       "    }\n",
       "\n",
       "    .dataframe tbody tr th {\n",
       "        vertical-align: top;\n",
       "    }\n",
       "\n",
       "    .dataframe thead th {\n",
       "        text-align: right;\n",
       "    }\n",
       "</style>\n",
       "<table border=\"1\" class=\"dataframe\">\n",
       "  <thead>\n",
       "    <tr style=\"text-align: right;\">\n",
       "      <th></th>\n",
       "      <th>seq_id</th>\n",
       "      <th>source</th>\n",
       "      <th>type</th>\n",
       "      <th>start</th>\n",
       "      <th>end</th>\n",
       "      <th>score</th>\n",
       "      <th>strand</th>\n",
       "      <th>phase</th>\n",
       "      <th>attributes</th>\n",
       "    </tr>\n",
       "  </thead>\n",
       "  <tbody>\n",
       "    <tr>\n",
       "      <th>0</th>\n",
       "      <td>chr17</td>\n",
       "      <td>RefSeq</td>\n",
       "      <td>exon</td>\n",
       "      <td>6811330</td>\n",
       "      <td>6811453</td>\n",
       "      <td>.</td>\n",
       "      <td>+</td>\n",
       "      <td>.</td>\n",
       "      <td>Parent=XM_001475631.1</td>\n",
       "    </tr>\n",
       "    <tr>\n",
       "      <th>1</th>\n",
       "      <td>chr17</td>\n",
       "      <td>RefSeq</td>\n",
       "      <td>CDS</td>\n",
       "      <td>6808204</td>\n",
       "      <td>6808245</td>\n",
       "      <td>.</td>\n",
       "      <td>+</td>\n",
       "      <td>0</td>\n",
       "      <td>Name=CDS:NC_000083.5:LOC100040603;Parent=XM_00...</td>\n",
       "    </tr>\n",
       "    <tr>\n",
       "      <th>2</th>\n",
       "      <td>chr17</td>\n",
       "      <td>RefSeq</td>\n",
       "      <td>CDS</td>\n",
       "      <td>6811792</td>\n",
       "      <td>6811869</td>\n",
       "      <td>.</td>\n",
       "      <td>+</td>\n",
       "      <td>2</td>\n",
       "      <td>Name=CDS:NC_000083.5:LOC100040603;Parent=XM_00...</td>\n",
       "    </tr>\n",
       "    <tr>\n",
       "      <th>3</th>\n",
       "      <td>chr17</td>\n",
       "      <td>RefSeq</td>\n",
       "      <td>exon</td>\n",
       "      <td>6806513</td>\n",
       "      <td>6806553</td>\n",
       "      <td>.</td>\n",
       "      <td>+</td>\n",
       "      <td>.</td>\n",
       "      <td>Parent=XM_001475631.1</td>\n",
       "    </tr>\n",
       "    <tr>\n",
       "      <th>4</th>\n",
       "      <td>chr17</td>\n",
       "      <td>RefSeq</td>\n",
       "      <td>five_prime_UTR</td>\n",
       "      <td>6806513</td>\n",
       "      <td>6806526</td>\n",
       "      <td>.</td>\n",
       "      <td>+</td>\n",
       "      <td>.</td>\n",
       "      <td>Parent=XM_001475631.1</td>\n",
       "    </tr>\n",
       "    <tr>\n",
       "      <th>...</th>\n",
       "      <td>...</td>\n",
       "      <td>...</td>\n",
       "      <td>...</td>\n",
       "      <td>...</td>\n",
       "      <td>...</td>\n",
       "      <td>...</td>\n",
       "      <td>...</td>\n",
       "      <td>...</td>\n",
       "      <td>...</td>\n",
       "    </tr>\n",
       "    <tr>\n",
       "      <th>507</th>\n",
       "      <td>chr17</td>\n",
       "      <td>RefSeq</td>\n",
       "      <td>exon</td>\n",
       "      <td>6812219</td>\n",
       "      <td>6818159</td>\n",
       "      <td>.</td>\n",
       "      <td>+</td>\n",
       "      <td>.</td>\n",
       "      <td>Parent=XM_001475631.1</td>\n",
       "    </tr>\n",
       "    <tr>\n",
       "      <th>508</th>\n",
       "      <td>chr17</td>\n",
       "      <td>RefSeq</td>\n",
       "      <td>protein</td>\n",
       "      <td>6806527</td>\n",
       "      <td>6812289</td>\n",
       "      <td>.</td>\n",
       "      <td>+</td>\n",
       "      <td>.</td>\n",
       "      <td>ID=;Parent=XM_001475631.1</td>\n",
       "    </tr>\n",
       "    <tr>\n",
       "      <th>509</th>\n",
       "      <td>chr17</td>\n",
       "      <td>RefSeq</td>\n",
       "      <td>CDS</td>\n",
       "      <td>6806527</td>\n",
       "      <td>6806553</td>\n",
       "      <td>.</td>\n",
       "      <td>+</td>\n",
       "      <td>0</td>\n",
       "      <td>Name=CDS:NC_000083.5:LOC100040603;Parent=XM_00...</td>\n",
       "    </tr>\n",
       "    <tr>\n",
       "      <th>510</th>\n",
       "      <td>chr17</td>\n",
       "      <td>RefSeq</td>\n",
       "      <td>exon</td>\n",
       "      <td>6811792</td>\n",
       "      <td>6811869</td>\n",
       "      <td>.</td>\n",
       "      <td>+</td>\n",
       "      <td>.</td>\n",
       "      <td>Parent=XM_001475631.1</td>\n",
       "    </tr>\n",
       "    <tr>\n",
       "      <th>511</th>\n",
       "      <td>chr17</td>\n",
       "      <td>RefSeq</td>\n",
       "      <td>exon</td>\n",
       "      <td>6806513</td>\n",
       "      <td>6806553</td>\n",
       "      <td>.</td>\n",
       "      <td>+</td>\n",
       "      <td>.</td>\n",
       "      <td>Parent=XM_001475631.1</td>\n",
       "    </tr>\n",
       "  </tbody>\n",
       "</table>\n",
       "<p>512 rows × 9 columns</p>\n",
       "</div>"
      ],
      "text/plain": [
       "    seq_id  source            type    start      end score strand phase  \\\n",
       "0    chr17  RefSeq            exon  6811330  6811453     .      +     .   \n",
       "1    chr17  RefSeq             CDS  6808204  6808245     .      +     0   \n",
       "2    chr17  RefSeq             CDS  6811792  6811869     .      +     2   \n",
       "3    chr17  RefSeq            exon  6806513  6806553     .      +     .   \n",
       "4    chr17  RefSeq  five_prime_UTR  6806513  6806526     .      +     .   \n",
       "..     ...     ...             ...      ...      ...   ...    ...   ...   \n",
       "507  chr17  RefSeq            exon  6812219  6818159     .      +     .   \n",
       "508  chr17  RefSeq         protein  6806527  6812289     .      +     .   \n",
       "509  chr17  RefSeq             CDS  6806527  6806553     .      +     0   \n",
       "510  chr17  RefSeq            exon  6811792  6811869     .      +     .   \n",
       "511  chr17  RefSeq            exon  6806513  6806553     .      +     .   \n",
       "\n",
       "                                            attributes  \n",
       "0                                Parent=XM_001475631.1  \n",
       "1    Name=CDS:NC_000083.5:LOC100040603;Parent=XM_00...  \n",
       "2    Name=CDS:NC_000083.5:LOC100040603;Parent=XM_00...  \n",
       "3                                Parent=XM_001475631.1  \n",
       "4                                Parent=XM_001475631.1  \n",
       "..                                                 ...  \n",
       "507                              Parent=XM_001475631.1  \n",
       "508                          ID=;Parent=XM_001475631.1  \n",
       "509  Name=CDS:NC_000083.5:LOC100040603;Parent=XM_00...  \n",
       "510                              Parent=XM_001475631.1  \n",
       "511                              Parent=XM_001475631.1  \n",
       "\n",
       "[512 rows x 9 columns]"
      ]
     },
     "execution_count": 152,
     "metadata": {},
     "output_type": "execute_result"
    }
   ],
   "source": [
    "df = pd.read_csv('data/gff.tsv', sep='\\t')\n",
    "df"
   ]
  },
  {
   "cell_type": "code",
   "execution_count": 253,
   "id": "0dc3d2a6",
   "metadata": {},
   "outputs": [
    {
     "data": {
      "text/plain": [
       "array(['Parent=XM_001475631.1',\n",
       "       'Name=CDS:NC_000083.5:LOC100040603;Parent=XM_001475631.1,',\n",
       "       'ID=XM_001475631.1;Parent=NC_000083.5:LOC100040603',\n",
       "       'ID=;Parent=XM_001475631.1'], dtype=object)"
      ]
     },
     "execution_count": 253,
     "metadata": {},
     "output_type": "execute_result"
    }
   ],
   "source": [
    "df.attributes.astype(str).unique()"
   ]
  },
  {
   "cell_type": "code",
   "execution_count": 223,
   "id": "cb2aaeb4",
   "metadata": {},
   "outputs": [
    {
     "data": {
      "text/plain": [
       "array([\"['XM_001475631.1']\", \"['XM_001475631.1,']\",\n",
       "       \"['NC_000083.5:LOC100040603']\"], dtype=object)"
      ]
     },
     "execution_count": 223,
     "metadata": {},
     "output_type": "execute_result"
    }
   ],
   "source": [
    "df.attributes.str.findall('Parent=(.*)').astype(str).unique()\n",
    "#^[^,]\n",
    "#extract('(?<Parent>)Parent.*')"
   ]
  },
  {
   "cell_type": "code",
   "execution_count": 251,
   "id": "383c46d3",
   "metadata": {},
   "outputs": [
    {
     "data": {
      "text/plain": [
       "array([\"['XM_001475631.1']\", \"['NC_000083.5']\"], dtype=object)"
      ]
     },
     "execution_count": 251,
     "metadata": {},
     "output_type": "execute_result"
    }
   ],
   "source": [
    "#без :LOC\n",
    "df.attributes.str.findall('Parent=([\\w\\.]*)').astype(str).unique()"
   ]
  },
  {
   "cell_type": "code",
   "execution_count": null,
   "id": "fa45fed7",
   "metadata": {},
   "outputs": [],
   "source": [
    "#:LOC это часть парента? я думаю да"
   ]
  },
  {
   "cell_type": "code",
   "execution_count": 257,
   "id": "c2b5fe7b",
   "metadata": {},
   "outputs": [
    {
     "data": {
      "text/plain": [
       "array([\"['XM_001475631.1']\", \"['NC_000083.5:LOC100040603']\"], dtype=object)"
      ]
     },
     "execution_count": 257,
     "metadata": {},
     "output_type": "execute_result"
    }
   ],
   "source": [
    "#добавил :LOC\n",
    "df.attributes.str.findall('Parent=([\\w\\.:]*)').astype(str).unique()"
   ]
  },
  {
   "cell_type": "code",
   "execution_count": 283,
   "id": "62faf269",
   "metadata": {},
   "outputs": [
    {
     "data": {
      "text/plain": [
       "0      [XM_001475631.1]\n",
       "1      [XM_001475631.1]\n",
       "2      [XM_001475631.1]\n",
       "3      [XM_001475631.1]\n",
       "4      [XM_001475631.1]\n",
       "             ...       \n",
       "507    [XM_001475631.1]\n",
       "508    [XM_001475631.1]\n",
       "509    [XM_001475631.1]\n",
       "510    [XM_001475631.1]\n",
       "511    [XM_001475631.1]\n",
       "Name: attributes, Length: 512, dtype: object"
      ]
     },
     "execution_count": 283,
     "metadata": {},
     "output_type": "execute_result"
    }
   ],
   "source": [
    "par = df.attributes.str.findall('Parent=([\\w\\.:]*)') \n",
    "par"
   ]
  },
  {
   "cell_type": "code",
   "execution_count": 267,
   "id": "341e0910",
   "metadata": {},
   "outputs": [
    {
     "data": {
      "text/html": [
       "<div>\n",
       "<style scoped>\n",
       "    .dataframe tbody tr th:only-of-type {\n",
       "        vertical-align: middle;\n",
       "    }\n",
       "\n",
       "    .dataframe tbody tr th {\n",
       "        vertical-align: top;\n",
       "    }\n",
       "\n",
       "    .dataframe thead th {\n",
       "        text-align: right;\n",
       "    }\n",
       "</style>\n",
       "<table border=\"1\" class=\"dataframe\">\n",
       "  <thead>\n",
       "    <tr style=\"text-align: right;\">\n",
       "      <th></th>\n",
       "      <th>parent</th>\n",
       "    </tr>\n",
       "  </thead>\n",
       "  <tbody>\n",
       "    <tr>\n",
       "      <th>0</th>\n",
       "      <td>XM_001475631.1</td>\n",
       "    </tr>\n",
       "    <tr>\n",
       "      <th>1</th>\n",
       "      <td>XM_001475631.1</td>\n",
       "    </tr>\n",
       "    <tr>\n",
       "      <th>2</th>\n",
       "      <td>XM_001475631.1</td>\n",
       "    </tr>\n",
       "    <tr>\n",
       "      <th>3</th>\n",
       "      <td>XM_001475631.1</td>\n",
       "    </tr>\n",
       "    <tr>\n",
       "      <th>4</th>\n",
       "      <td>XM_001475631.1</td>\n",
       "    </tr>\n",
       "    <tr>\n",
       "      <th>...</th>\n",
       "      <td>...</td>\n",
       "    </tr>\n",
       "    <tr>\n",
       "      <th>507</th>\n",
       "      <td>XM_001475631.1</td>\n",
       "    </tr>\n",
       "    <tr>\n",
       "      <th>508</th>\n",
       "      <td>XM_001475631.1</td>\n",
       "    </tr>\n",
       "    <tr>\n",
       "      <th>509</th>\n",
       "      <td>XM_001475631.1</td>\n",
       "    </tr>\n",
       "    <tr>\n",
       "      <th>510</th>\n",
       "      <td>XM_001475631.1</td>\n",
       "    </tr>\n",
       "    <tr>\n",
       "      <th>511</th>\n",
       "      <td>XM_001475631.1</td>\n",
       "    </tr>\n",
       "  </tbody>\n",
       "</table>\n",
       "<p>512 rows × 1 columns</p>\n",
       "</div>"
      ],
      "text/plain": [
       "             parent\n",
       "0    XM_001475631.1\n",
       "1    XM_001475631.1\n",
       "2    XM_001475631.1\n",
       "3    XM_001475631.1\n",
       "4    XM_001475631.1\n",
       "..              ...\n",
       "507  XM_001475631.1\n",
       "508  XM_001475631.1\n",
       "509  XM_001475631.1\n",
       "510  XM_001475631.1\n",
       "511  XM_001475631.1\n",
       "\n",
       "[512 rows x 1 columns]"
      ]
     },
     "execution_count": 267,
     "metadata": {},
     "output_type": "execute_result"
    }
   ],
   "source": [
    "pattern = r'Parent=(?P<parent>[\\w\\.:]+)'\n",
    "par = df.attributes.str.extract(pattern)\n",
    "par"
   ]
  },
  {
   "cell_type": "code",
   "execution_count": 268,
   "id": "4015f813",
   "metadata": {},
   "outputs": [
    {
     "data": {
      "text/plain": [
       "parent                  \n",
       "XM_001475631.1              479\n",
       "NC_000083.5:LOC100040603     33\n",
       "Name: count, dtype: int64"
      ]
     },
     "execution_count": 268,
     "metadata": {},
     "output_type": "execute_result"
    }
   ],
   "source": [
    "par.value_counts()"
   ]
  },
  {
   "cell_type": "markdown",
   "id": "bd7987ee",
   "metadata": {},
   "source": [
    "Ответ: XM_001475631.1"
   ]
  },
  {
   "cell_type": "markdown",
   "id": "9a790b56",
   "metadata": {},
   "source": [
    "**2. Какое самое частое значение в колонке type?**"
   ]
  },
  {
   "cell_type": "code",
   "execution_count": 285,
   "id": "3e4ad78a",
   "metadata": {},
   "outputs": [
    {
     "data": {
      "text/plain": [
       "type\n",
       "exon               201\n",
       "CDS                170\n",
       "five_prime_UTR      47\n",
       "mRNA                33\n",
       "three_prime_UTR     32\n",
       "protein             29\n",
       "Name: count, dtype: int64"
      ]
     },
     "execution_count": 285,
     "metadata": {},
     "output_type": "execute_result"
    }
   ],
   "source": [
    "df.type.value_counts()"
   ]
  },
  {
   "cell_type": "markdown",
   "id": "671ca0fe",
   "metadata": {},
   "source": [
    "* **exon**\n",
    "* CDS\n",
    "* five_prime_UTR\n",
    "* mRNA\n",
    "* protein\n",
    "* three_prime_UTR"
   ]
  },
  {
   "cell_type": "markdown",
   "id": "36a1c589",
   "metadata": {},
   "source": [
    "**3. Постройте распределение встречаемости значений в столбце type**"
   ]
  },
  {
   "cell_type": "code",
   "execution_count": 295,
   "id": "75dcdcf3",
   "metadata": {},
   "outputs": [
    {
     "data": {
      "image/png": "[encoded data removed]",
      "text/plain": [
       "<Figure size 640x480 with 1 Axes>"
      ]
     },
     "metadata": {},
     "output_type": "display_data"
    }
   ],
   "source": [
    "fig, ax = plt.subplots()\n",
    "sns.countplot(data=df, x='type', ax=ax)\n",
    "ax.tick_params(axis='x', rotation=45)"
   ]
  }
 ],
 "metadata": {
  "kernelspec": {
   "display_name": "Python 3 (ipykernel)",
   "language": "python",
   "name": "python3"
  },
  "language_info": {
   "codemirror_mode": {
    "name": "ipython",
    "version": 3
   },
   "file_extension": ".py",
   "mimetype": "text/x-python",
   "name": "python",
   "nbconvert_exporter": "python",
   "pygments_lexer": "ipython3",
   "version": "3.10.11"
  }
 },
 "nbformat": 4,
 "nbformat_minor": 5
}
