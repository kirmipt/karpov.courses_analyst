{
 "cells": [
  {
   "cell_type": "markdown",
   "id": "48fa4406",
   "metadata": {},
   "source": [
    "Перед вами данные взаимодействий с рекламными объявлениями на некоторой площадке за 6 дней. И таблица с характеристиками рекламных клиентов (тех, кто разместил эти объявления).\n",
    "\n",
    "# Задачи\n",
    "1. Разберемся с распределением количества показов и кликов. Посчитайте среднее количество показов и среднее количество кликов на объявления за весь период (округлите до целых).\n",
    "2. Нарисуйте график распределения показов на объявление за весь период.\n",
    "3. Давайте посчитаем скользящее среднее показов с окном 2. Какое значение скользящего среднего получим за 6 апреля 2019 года (ответ округлите до целых)?\n",
    "4. Скользящее среднее часто используется для поиска аномалий в данных. Давайте попробуем нанести на один график значения арифметического среднего по дням и скользящего среднего количества показов. В какой день наблюдается наибольшая разница по модулю между арифметическим средним и скользящим средним? Дни, в которых скользящее среднее равно NaN, не учитываем. \n",
    "5. *Напишите функцию, которая найдет проблемное объявление (с наибольшим/наименьшим количеством показов) в день, в который была замечена самая большая по модулю аномалия. \n",
    "6. Теперь подгрузим данные по рекламным клиентам и найдем среднее количество дней от даты создания рекламного клиента и первым запуском рекламного объявления этим клиентом.\n",
    "7. Вычислите конверсию из создания рекламного клиента в запуск первой рекламы в течение не более 365 дней. Ответ дайте в процентах и округлите до сотых. (Фильтровать нужно по значению в формате pd.Timedelta(365, unit='d'))\n",
    "8. Давайте разобъем наших клиентов по промежуткам от создания до запуска рекламного объявления, равным 30. Определите, сколько уникальных клиентов запустили свое первое объявление в первый месяц своего существования (от 0 до 30 дней). Список промежутков для метода pd.cut – [0, 30, 90, 180, 365]\n",
    "9. А теперь – выведем на интерактивный график эти категории с количеством уникальных клиентов в них.\n",
    "\n",
    "# Описание данных\n",
    "**ads_data.csv** – данные взаимодействий с рекламными объявлениями\n",
    "\n",
    "* date – дата\n",
    "* time – время\n",
    "* event – действие (просмотр/клик)\n",
    "* platform – платформа\n",
    "* ad_id – id объявления\n",
    "* client_union_id – id рекламного кабинета\n",
    "* campaign_union_id – id рекламной кампании\n",
    "* ad_cost_type – тип оплаты\n",
    "* ad_cost – цена\n",
    "* has_video – есть ли видео\n",
    "* target_audience_count – размер аудитории\n",
    "\n",
    "**ads_clients_data.csv** – характеристики рекламных клиентов\n",
    "\n",
    "* date – дата\n",
    "* client_union_id – id рекламного кабинета\n",
    "* community_id – id сообщества\n",
    "* create_date – дата создания рекламного клиента"
   ]
  },
  {
   "cell_type": "code",
   "execution_count": 1,
   "id": "86e650f8",
   "metadata": {},
   "outputs": [],
   "source": [
    "import pandas as pd\n",
    "import numpy as np\n",
    "import seaborn as sns\n",
    "import matplotlib.pyplot as plt\n",
    "import plotly.express as px\n",
    "\n",
    "%matplotlib inline"
   ]
  },
  {
   "cell_type": "code",
   "execution_count": 7,
   "id": "b9c912d1",
   "metadata": {},
   "outputs": [
    {
     "name": "stdout",
     "output_type": "stream",
     "text": [
      "0:00:01.703000\n"
     ]
    }
   ],
   "source": [
    "import time\n",
    "# from datetime import timedelta\n",
    "# start_time = time.monotonic()\n",
    "\n",
    "cli = pd.read_csv('data/ads_clients_data.csv', parse_dates=['date', 'create_date'])\n",
    "ads = pd.read_csv('data/ads_data.csv', parse_dates=['date', 'time'])\n",
    "\n",
    "# end_time = time.monotonic()\n",
    "# print(timedelta(seconds=end_time - start_time))"
   ]
  },
  {
   "cell_type": "code",
   "execution_count": null,
   "id": "21e5d512",
   "metadata": {},
   "outputs": [],
   "source": [
    "ads.head()"
   ]
  },
  {
   "cell_type": "code",
   "execution_count": 17,
   "id": "f4c0e304",
   "metadata": {},
   "outputs": [
    {
     "data": {
      "text/plain": [
       "(1000000, 11)"
      ]
     },
     "execution_count": 17,
     "metadata": {},
     "output_type": "execute_result"
    }
   ],
   "source": [
    "ads.shape"
   ]
  },
  {
   "cell_type": "code",
   "execution_count": 18,
   "id": "57d3eca5",
   "metadata": {},
   "outputs": [
    {
     "data": {
      "text/plain": [
       "(122078, 4)"
      ]
     },
     "execution_count": 18,
     "metadata": {},
     "output_type": "execute_result"
    }
   ],
   "source": [
    "cli.shape"
   ]
  },
  {
   "cell_type": "markdown",
   "id": "a968080c",
   "metadata": {},
   "source": [
    "**1. Для начала посчитаем среднее количество разных рекламных событий (показы и клики) по объявлениям. Тонкий момент: помните, что некоторые показываемые объявления не кликались, и при группировке в таких случаях не будет строк с кликами, а для подсчёта среднего по объявлениям их нужно учитывать. Округлите ответы до целых чисел.**\n",
    "\n",
    "Могут понадобиться:\n",
    "\n",
    "* pivot()\n",
    "* fillna()"
   ]
  },
  {
   "cell_type": "code",
   "execution_count": 20,
   "id": "cafc3a22",
   "metadata": {},
   "outputs": [
    {
     "data": {
      "text/plain": [
       "event\n",
       "view     890822\n",
       "click    109178\n",
       "Name: count, dtype: int64"
      ]
     },
     "execution_count": 20,
     "metadata": {},
     "output_type": "execute_result"
    }
   ],
   "source": [
    "ads.event.value_counts()"
   ]
  },
  {
   "cell_type": "code",
   "execution_count": 26,
   "id": "b54c1995",
   "metadata": {},
   "outputs": [
    {
     "data": {
      "text/plain": [
       "965"
      ]
     },
     "execution_count": 26,
     "metadata": {},
     "output_type": "execute_result"
    }
   ],
   "source": [
    "ads.ad_id.nunique()\n",
    "#many views and clicks \n",
    "#not much id-s\n",
    "#means one id has many views and clicks\n",
    "#two classes of events + agg -> calls for pivot"
   ]
  },
  {
   "cell_type": "code",
   "execution_count": 24,
   "id": "7fa4d39f",
   "metadata": {},
   "outputs": [
    {
     "data": {
      "text/plain": [
       "date               0\n",
       "client_union_id    0\n",
       "community_id       0\n",
       "create_date        0\n",
       "dtype: int64"
      ]
     },
     "execution_count": 24,
     "metadata": {},
     "output_type": "execute_result"
    }
   ],
   "source": [
    "ads.isna().sum()"
   ]
  },
  {
   "cell_type": "code",
   "execution_count": 8,
   "id": "58ae723e",
   "metadata": {},
   "outputs": [
    {
     "data": {
      "text/html": [
       "<div>\n",
       "<style scoped>\n",
       "    .dataframe tbody tr th:only-of-type {\n",
       "        vertical-align: middle;\n",
       "    }\n",
       "\n",
       "    .dataframe tbody tr th {\n",
       "        vertical-align: top;\n",
       "    }\n",
       "\n",
       "    .dataframe thead th {\n",
       "        text-align: right;\n",
       "    }\n",
       "</style>\n",
       "<table border=\"1\" class=\"dataframe\">\n",
       "  <thead>\n",
       "    <tr style=\"text-align: right;\">\n",
       "      <th></th>\n",
       "      <th>ad_id</th>\n",
       "      <th>event</th>\n",
       "      <th>size</th>\n",
       "    </tr>\n",
       "  </thead>\n",
       "  <tbody>\n",
       "    <tr>\n",
       "      <th>0</th>\n",
       "      <td>2</td>\n",
       "      <td>click</td>\n",
       "      <td>1</td>\n",
       "    </tr>\n",
       "    <tr>\n",
       "      <th>1</th>\n",
       "      <td>2</td>\n",
       "      <td>view</td>\n",
       "      <td>101</td>\n",
       "    </tr>\n",
       "    <tr>\n",
       "      <th>2</th>\n",
       "      <td>3</td>\n",
       "      <td>click</td>\n",
       "      <td>3</td>\n",
       "    </tr>\n",
       "    <tr>\n",
       "      <th>3</th>\n",
       "      <td>3</td>\n",
       "      <td>view</td>\n",
       "      <td>184</td>\n",
       "    </tr>\n",
       "    <tr>\n",
       "      <th>4</th>\n",
       "      <td>1902</td>\n",
       "      <td>click</td>\n",
       "      <td>1</td>\n",
       "    </tr>\n",
       "    <tr>\n",
       "      <th>...</th>\n",
       "      <td>...</td>\n",
       "      <td>...</td>\n",
       "      <td>...</td>\n",
       "    </tr>\n",
       "    <tr>\n",
       "      <th>1476</th>\n",
       "      <td>122013</td>\n",
       "      <td>view</td>\n",
       "      <td>156</td>\n",
       "    </tr>\n",
       "    <tr>\n",
       "      <th>1477</th>\n",
       "      <td>122023</td>\n",
       "      <td>view</td>\n",
       "      <td>68</td>\n",
       "    </tr>\n",
       "    <tr>\n",
       "      <th>1478</th>\n",
       "      <td>122031</td>\n",
       "      <td>click</td>\n",
       "      <td>1</td>\n",
       "    </tr>\n",
       "    <tr>\n",
       "      <th>1479</th>\n",
       "      <td>122031</td>\n",
       "      <td>view</td>\n",
       "      <td>138</td>\n",
       "    </tr>\n",
       "    <tr>\n",
       "      <th>1480</th>\n",
       "      <td>122078</td>\n",
       "      <td>view</td>\n",
       "      <td>42</td>\n",
       "    </tr>\n",
       "  </tbody>\n",
       "</table>\n",
       "<p>1481 rows × 3 columns</p>\n",
       "</div>"
      ],
      "text/plain": [
       "       ad_id  event  size\n",
       "0          2  click     1\n",
       "1          2   view   101\n",
       "2          3  click     3\n",
       "3          3   view   184\n",
       "4       1902  click     1\n",
       "...      ...    ...   ...\n",
       "1476  122013   view   156\n",
       "1477  122023   view    68\n",
       "1478  122031  click     1\n",
       "1479  122031   view   138\n",
       "1480  122078   view    42\n",
       "\n",
       "[1481 rows x 3 columns]"
      ]
     },
     "execution_count": 8,
     "metadata": {},
     "output_type": "execute_result"
    }
   ],
   "source": [
    "#ads.groupby('ad_id').event.value_counts()\n",
    "ev_count=ads.groupby(['ad_id', 'event'], as_index=False).size()\n",
    "ev_count"
   ]
  },
  {
   "cell_type": "code",
   "execution_count": 9,
   "id": "12d0276a",
   "metadata": {},
   "outputs": [
    {
     "data": {
      "text/html": [
       "<div>\n",
       "<style scoped>\n",
       "    .dataframe tbody tr th:only-of-type {\n",
       "        vertical-align: middle;\n",
       "    }\n",
       "\n",
       "    .dataframe tbody tr th {\n",
       "        vertical-align: top;\n",
       "    }\n",
       "\n",
       "    .dataframe thead th {\n",
       "        text-align: right;\n",
       "    }\n",
       "</style>\n",
       "<table border=\"1\" class=\"dataframe\">\n",
       "  <thead>\n",
       "    <tr style=\"text-align: right;\">\n",
       "      <th>event</th>\n",
       "      <th>click</th>\n",
       "      <th>view</th>\n",
       "    </tr>\n",
       "    <tr>\n",
       "      <th>ad_id</th>\n",
       "      <th></th>\n",
       "      <th></th>\n",
       "    </tr>\n",
       "  </thead>\n",
       "  <tbody>\n",
       "    <tr>\n",
       "      <th>2</th>\n",
       "      <td>1.0</td>\n",
       "      <td>101.0</td>\n",
       "    </tr>\n",
       "    <tr>\n",
       "      <th>3</th>\n",
       "      <td>3.0</td>\n",
       "      <td>184.0</td>\n",
       "    </tr>\n",
       "    <tr>\n",
       "      <th>1902</th>\n",
       "      <td>1.0</td>\n",
       "      <td>41.0</td>\n",
       "    </tr>\n",
       "    <tr>\n",
       "      <th>2064</th>\n",
       "      <td>0.0</td>\n",
       "      <td>35.0</td>\n",
       "    </tr>\n",
       "    <tr>\n",
       "      <th>2132</th>\n",
       "      <td>1.0</td>\n",
       "      <td>58.0</td>\n",
       "    </tr>\n",
       "    <tr>\n",
       "      <th>...</th>\n",
       "      <td>...</td>\n",
       "      <td>...</td>\n",
       "    </tr>\n",
       "    <tr>\n",
       "      <th>122004</th>\n",
       "      <td>4.0</td>\n",
       "      <td>100.0</td>\n",
       "    </tr>\n",
       "    <tr>\n",
       "      <th>122013</th>\n",
       "      <td>0.0</td>\n",
       "      <td>156.0</td>\n",
       "    </tr>\n",
       "    <tr>\n",
       "      <th>122023</th>\n",
       "      <td>0.0</td>\n",
       "      <td>68.0</td>\n",
       "    </tr>\n",
       "    <tr>\n",
       "      <th>122031</th>\n",
       "      <td>1.0</td>\n",
       "      <td>138.0</td>\n",
       "    </tr>\n",
       "    <tr>\n",
       "      <th>122078</th>\n",
       "      <td>0.0</td>\n",
       "      <td>42.0</td>\n",
       "    </tr>\n",
       "  </tbody>\n",
       "</table>\n",
       "<p>965 rows × 2 columns</p>\n",
       "</div>"
      ],
      "text/plain": [
       "event   click   view\n",
       "ad_id               \n",
       "2         1.0  101.0\n",
       "3         3.0  184.0\n",
       "1902      1.0   41.0\n",
       "2064      0.0   35.0\n",
       "2132      1.0   58.0\n",
       "...       ...    ...\n",
       "122004    4.0  100.0\n",
       "122013    0.0  156.0\n",
       "122023    0.0   68.0\n",
       "122031    1.0  138.0\n",
       "122078    0.0   42.0\n",
       "\n",
       "[965 rows x 2 columns]"
      ]
     },
     "execution_count": 9,
     "metadata": {},
     "output_type": "execute_result"
    }
   ],
   "source": [
    "ev_piv = ev_count.pivot(index='ad_id', columns='event', values='size') \\\n",
    ".fillna(0)\n",
    "ev_piv"
   ]
  },
  {
   "cell_type": "code",
   "execution_count": 47,
   "id": "f56a9aa5",
   "metadata": {},
   "outputs": [
    {
     "data": {
      "text/plain": [
       "event\n",
       "click    113.137824\n",
       "view     923.131606\n",
       "dtype: float64"
      ]
     },
     "execution_count": 47,
     "metadata": {},
     "output_type": "execute_result"
    }
   ],
   "source": [
    "ev_piv.mean()"
   ]
  },
  {
   "cell_type": "markdown",
   "id": "2317547e",
   "metadata": {},
   "source": [
    "Среднее количество кликов на объявление **113**. Среднее количество показов на объявление **923**."
   ]
  },
  {
   "cell_type": "markdown",
   "id": "7020c377",
   "metadata": {},
   "source": [
    "**2. Давайте посмотрим на распределение показов объявлений!**\n",
    "\n",
    "* По оси x – число показов\n",
    "* По оси y – доля объявлений с такими показами\n",
    "\n",
    "**Прологарифмируйте число показов, а затем постройте такой график, чтобы можно было понять форму распределения. Выберите соответствующий график:**\n",
    "![](https://ucarecdn.com/54b16d2c-b0e9-4900-acf6-1745d72108f1/-/crop/1001x569/55,42/-/preview/)\n",
    "\n",
    "Для такого же отображения используйте эти настройки\n",
    "```python\n",
    "sns.set(\n",
    "    font_scale=2,    \n",
    "    style=\"whitegrid\",    \n",
    "    rc={'figure.figsize':(20,7)}    \n",
    "        )\n",
    "```\n",
    "\n",
    "Могут пригодиться:\n",
    "\n",
    "* sns.distplot\n",
    "* np.log"
   ]
  },
  {
   "cell_type": "code",
   "execution_count": 81,
   "id": "71e8aa5d",
   "metadata": {
    "scrolled": true
   },
   "outputs": [
    {
     "name": "stderr",
     "output_type": "stream",
     "text": [
      "F:\\Users\\123\\AppData\\Local\\Programs\\Python\\Python310\\lib\\site-packages\\pandas\\core\\arraylike.py:396: RuntimeWarning: divide by zero encountered in log\n",
      "  result = getattr(ufunc, method)(*inputs, **kwargs)\n"
     ]
    },
    {
     "data": {
      "text/plain": [
       "<Axes: xlabel='view', ylabel='Count'>"
      ]
     },
     "execution_count": 81,
     "metadata": {},
     "output_type": "execute_result"
    },
    {
     "data": {
      "image/png": "[encoded data removed]",
      "text/plain": [
       "<Figure size 640x480 with 1 Axes>"
      ]
     },
     "metadata": {},
     "output_type": "display_data"
    }
   ],
   "source": [
    "sns.histplot(np.log(ev_piv.view), kde=True)"
   ]
  },
  {
   "cell_type": "code",
   "execution_count": 83,
   "id": "875fd02e",
   "metadata": {},
   "outputs": [
    {
     "data": {
      "text/plain": [
       "<Axes: >"
      ]
     },
     "execution_count": 83,
     "metadata": {},
     "output_type": "execute_result"
    },
    {
     "data": {
      "image/png": "[encoded data removed]",
      "text/plain": [
       "<Figure size 640x480 with 1 Axes>"
      ]
     },
     "metadata": {},
     "output_type": "display_data"
    }
   ],
   "source": [
    "ev_piv.view.apply(np.log10) \\\n",
    ".replace(float(\"-inf\"), float(\"NaN\")).dropna() \\\n",
    ".hist(bins=20)"
   ]
  },
  {
   "cell_type": "markdown",
   "id": "a2a7bba5",
   "metadata": {},
   "source": [
    "* **A**\n",
    "* B\n",
    "* C\n",
    "* D"
   ]
  },
  {
   "cell_type": "markdown",
   "id": "40adcd39",
   "metadata": {},
   "source": [
    "**3. Теперь нужно найти среднее количество показов на 1 объявление (ad_id) по дням, не учитывая объявления, у которых не было показов (обычное среднее). После этого посчитайте скользящее среднее по полученному результату с окном в 2 элемента.**\n",
    "\n",
    "**Вопрос**: Какое значение скользящего среднего получим за 6 апреля 2019 года? Округлите ответ до целого числа.\n",
    "\n",
    "Могут пригодиться:\n",
    "\n",
    "* pivot()\n",
    "* скользящее среднее"
   ]
  },
  {
   "cell_type": "code",
   "execution_count": 10,
   "id": "ccc192ff",
   "metadata": {},
   "outputs": [
    {
     "data": {
      "text/plain": [
       "date\n",
       "2019-04-01    154.482270\n",
       "2019-04-02    137.786982\n",
       "2019-04-03    163.952778\n",
       "2019-04-04    675.901720\n",
       "2019-04-05    919.109677\n",
       "2019-04-06    277.122727\n",
       "dtype: float64"
      ]
     },
     "execution_count": 10,
     "metadata": {},
     "output_type": "execute_result"
    }
   ],
   "source": [
    "ads_day = ads[ads.event=='view'] \\\n",
    ".pivot_table(index='ad_id',\n",
    "                           columns='date',\n",
    "                           values='time', \n",
    "                           aggfunc='count')\n",
    "# ads_day = ads.groupby(['ad_id', 'event'], as_index=False).size()\n",
    "# ads_day = ads_day.rename(columns={\"size\": \"sz\"})\n",
    "# ads_day_mean = ads_day.groupby(['date']).sz.mean()\n",
    "# ads_day_mean.rolling(2).mean()\n",
    "ads_day_mean  = ads_day.mean()\n",
    "ads_day_mean"
   ]
  },
  {
   "cell_type": "code",
   "execution_count": 14,
   "id": "b1174a9b",
   "metadata": {},
   "outputs": [
    {
     "data": {
      "text/plain": [
       "date\n",
       "2019-04-01      NaN\n",
       "2019-04-02    146.0\n",
       "2019-04-03    151.0\n",
       "2019-04-04    420.0\n",
       "2019-04-05    798.0\n",
       "2019-04-06    598.0\n",
       "dtype: float64"
      ]
     },
     "execution_count": 14,
     "metadata": {},
     "output_type": "execute_result"
    }
   ],
   "source": [
    "ads_day_roll = ads_day_mean.rolling(2).mean().round(0)\n",
    "ads_day_roll"
   ]
  },
  {
   "cell_type": "code",
   "execution_count": 15,
   "id": "e8893705",
   "metadata": {},
   "outputs": [
    {
     "data": {
      "text/plain": [
       "598.0"
      ]
     },
     "execution_count": 15,
     "metadata": {},
     "output_type": "execute_result"
    }
   ],
   "source": [
    "ads_day_roll['2019-04-06']"
   ]
  },
  {
   "cell_type": "markdown",
   "id": "9660323f",
   "metadata": {},
   "source": [
    "Ответ: `598`"
   ]
  },
  {
   "cell_type": "markdown",
   "id": "9de57c8b",
   "metadata": {},
   "source": [
    "**4. Скользящее среднее часто используется для поиска аномалий в данных. Давайте попробуем нанести на один график значения просто среднего количества показов по дням и скользящего среднего на основе этих данных (которое мы получили в прошлом задании).**\n",
    "\n",
    "**Посчитайте, в какой день наблюдается наибольшая разница по модулю между арифметическим средним и скользящим средним? Дни, в которых скользящее среднее равно NaN, не учитываем. Запишите ответ в формате yyyy-MM-dd**\n",
    "\n",
    "Пример ответа:\n",
    "\n",
    "`2020-12-31`\n",
    "\n",
    "Могут пригодиться:\n",
    "\n",
    "* sns.lineplot()\n",
    "* скользящее среднее\n",
    "* значение по модулю"
   ]
  },
  {
   "cell_type": "code",
   "execution_count": 21,
   "id": "ae55cb58",
   "metadata": {},
   "outputs": [
    {
     "data": {
      "text/plain": [
       "<matplotlib.legend.Legend at 0x2898079f880>"
      ]
     },
     "execution_count": 21,
     "metadata": {},
     "output_type": "execute_result"
    },
    {
     "data": {
      "image/png": "[encoded data removed]",
      "text/plain": [
       "<Figure size 640x480 with 1 Axes>"
      ]
     },
     "metadata": {},
     "output_type": "display_data"
    }
   ],
   "source": [
    "sns.lineplot(ads_day_mean, label='m')\n",
    "sns.lineplot(ads_day_roll, label='r')\n",
    "\n",
    "plt.legend()"
   ]
  },
  {
   "cell_type": "code",
   "execution_count": 33,
   "id": "14f93788",
   "metadata": {},
   "outputs": [
    {
     "data": {
      "text/plain": [
       "'2019-04-06'"
      ]
     },
     "execution_count": 33,
     "metadata": {},
     "output_type": "execute_result"
    }
   ],
   "source": [
    "str((abs(ads_day_mean[1:]-ads_day_roll[1:])) \\\n",
    "    .idxmax())[0:10]"
   ]
  },
  {
   "cell_type": "markdown",
   "id": "7c7ffeaa",
   "metadata": {},
   "source": [
    "**5. Объедините данные рекламы с данными о рекламных клиентах и найдите среднее количество дней от даты создания рекламного клиента (create_date) и первым запуском рекламного объявления этим клиентом (date).**\n",
    "\n",
    "**В качестве ответа укажите среднее число дней.**"
   ]
  },
  {
   "cell_type": "code",
   "execution_count": 38,
   "id": "d89a3ef3",
   "metadata": {},
   "outputs": [
    {
     "data": {
      "text/html": [
       "<div>\n",
       "<style scoped>\n",
       "    .dataframe tbody tr th:only-of-type {\n",
       "        vertical-align: middle;\n",
       "    }\n",
       "\n",
       "    .dataframe tbody tr th {\n",
       "        vertical-align: top;\n",
       "    }\n",
       "\n",
       "    .dataframe thead th {\n",
       "        text-align: right;\n",
       "    }\n",
       "</style>\n",
       "<table border=\"1\" class=\"dataframe\">\n",
       "  <thead>\n",
       "    <tr style=\"text-align: right;\">\n",
       "      <th></th>\n",
       "      <th>date_cli</th>\n",
       "      <th>client_union_id</th>\n",
       "      <th>community_id</th>\n",
       "      <th>create_date</th>\n",
       "      <th>date_ads</th>\n",
       "      <th>time</th>\n",
       "      <th>event</th>\n",
       "      <th>platform</th>\n",
       "      <th>ad_id</th>\n",
       "      <th>campaign_union_id</th>\n",
       "      <th>ad_cost_type</th>\n",
       "      <th>ad_cost</th>\n",
       "      <th>has_video</th>\n",
       "      <th>target_audience_count</th>\n",
       "    </tr>\n",
       "  </thead>\n",
       "  <tbody>\n",
       "    <tr>\n",
       "      <th>0</th>\n",
       "      <td>2020-05-07</td>\n",
       "      <td>1</td>\n",
       "      <td>-130371893</td>\n",
       "      <td>2018-12-24</td>\n",
       "      <td>2019-04-01</td>\n",
       "      <td>2019-04-01 00:08:51</td>\n",
       "      <td>view</td>\n",
       "      <td>android</td>\n",
       "      <td>3</td>\n",
       "      <td>1</td>\n",
       "      <td>CPC</td>\n",
       "      <td>46.7</td>\n",
       "      <td>0</td>\n",
       "      <td>45035</td>\n",
       "    </tr>\n",
       "    <tr>\n",
       "      <th>1</th>\n",
       "      <td>2020-05-07</td>\n",
       "      <td>1</td>\n",
       "      <td>-130371893</td>\n",
       "      <td>2018-12-24</td>\n",
       "      <td>2019-04-01</td>\n",
       "      <td>2019-04-01 00:09:36</td>\n",
       "      <td>view</td>\n",
       "      <td>ios</td>\n",
       "      <td>3</td>\n",
       "      <td>1</td>\n",
       "      <td>CPC</td>\n",
       "      <td>46.7</td>\n",
       "      <td>0</td>\n",
       "      <td>45035</td>\n",
       "    </tr>\n",
       "    <tr>\n",
       "      <th>2</th>\n",
       "      <td>2020-05-07</td>\n",
       "      <td>1</td>\n",
       "      <td>-130371893</td>\n",
       "      <td>2018-12-24</td>\n",
       "      <td>2019-04-01</td>\n",
       "      <td>2019-04-01 00:29:30</td>\n",
       "      <td>view</td>\n",
       "      <td>ios</td>\n",
       "      <td>3</td>\n",
       "      <td>1</td>\n",
       "      <td>CPC</td>\n",
       "      <td>46.7</td>\n",
       "      <td>0</td>\n",
       "      <td>45035</td>\n",
       "    </tr>\n",
       "    <tr>\n",
       "      <th>3</th>\n",
       "      <td>2020-05-07</td>\n",
       "      <td>1</td>\n",
       "      <td>-130371893</td>\n",
       "      <td>2018-12-24</td>\n",
       "      <td>2019-04-01</td>\n",
       "      <td>2019-04-01 00:29:58</td>\n",
       "      <td>view</td>\n",
       "      <td>android</td>\n",
       "      <td>3</td>\n",
       "      <td>1</td>\n",
       "      <td>CPC</td>\n",
       "      <td>46.7</td>\n",
       "      <td>0</td>\n",
       "      <td>45035</td>\n",
       "    </tr>\n",
       "    <tr>\n",
       "      <th>4</th>\n",
       "      <td>2020-05-07</td>\n",
       "      <td>1</td>\n",
       "      <td>-130371893</td>\n",
       "      <td>2018-12-24</td>\n",
       "      <td>2019-04-01</td>\n",
       "      <td>2019-04-01 00:51:54</td>\n",
       "      <td>view</td>\n",
       "      <td>android</td>\n",
       "      <td>3</td>\n",
       "      <td>1</td>\n",
       "      <td>CPC</td>\n",
       "      <td>46.7</td>\n",
       "      <td>0</td>\n",
       "      <td>45035</td>\n",
       "    </tr>\n",
       "  </tbody>\n",
       "</table>\n",
       "</div>"
      ],
      "text/plain": [
       "    date_cli  client_union_id  community_id create_date   date_ads  \\\n",
       "0 2020-05-07                1    -130371893  2018-12-24 2019-04-01   \n",
       "1 2020-05-07                1    -130371893  2018-12-24 2019-04-01   \n",
       "2 2020-05-07                1    -130371893  2018-12-24 2019-04-01   \n",
       "3 2020-05-07                1    -130371893  2018-12-24 2019-04-01   \n",
       "4 2020-05-07                1    -130371893  2018-12-24 2019-04-01   \n",
       "\n",
       "                 time event platform  ad_id  campaign_union_id ad_cost_type  \\\n",
       "0 2019-04-01 00:08:51  view  android      3                  1          CPC   \n",
       "1 2019-04-01 00:09:36  view      ios      3                  1          CPC   \n",
       "2 2019-04-01 00:29:30  view      ios      3                  1          CPC   \n",
       "3 2019-04-01 00:29:58  view  android      3                  1          CPC   \n",
       "4 2019-04-01 00:51:54  view  android      3                  1          CPC   \n",
       "\n",
       "   ad_cost  has_video  target_audience_count  \n",
       "0     46.7          0                  45035  \n",
       "1     46.7          0                  45035  \n",
       "2     46.7          0                  45035  \n",
       "3     46.7          0                  45035  \n",
       "4     46.7          0                  45035  "
      ]
     },
     "execution_count": 38,
     "metadata": {},
     "output_type": "execute_result"
    }
   ],
   "source": [
    "cli_ads = pd.merge(cli, ads, on='client_union_id',\n",
    "                  suffixes=(\"_cli\", \"_ads\"))\n",
    "cli_ads.head()"
   ]
  },
  {
   "cell_type": "code",
   "execution_count": 65,
   "id": "a28b0dd7",
   "metadata": {},
   "outputs": [],
   "source": [
    "cli_ads['difference'] = (cli_ads.date_ads - \n",
    " cli_ads.create_date)"
   ]
  },
  {
   "cell_type": "code",
   "execution_count": 102,
   "id": "b058fdce",
   "metadata": {},
   "outputs": [
    {
     "data": {
      "text/plain": [
       "124"
      ]
     },
     "execution_count": 102,
     "metadata": {},
     "output_type": "execute_result"
    }
   ],
   "source": [
    "diff_gp = cli_ads.groupby('client_union_id').difference.min() \n",
    "diff_gp.mean().days"
   ]
  },
  {
   "cell_type": "markdown",
   "id": "c5d4abc2",
   "metadata": {},
   "source": [
    "Ответ: `124`"
   ]
  },
  {
   "cell_type": "markdown",
   "id": "9c6fbbc3",
   "metadata": {},
   "source": [
    "**6. 💀 Сложное задание! 💀**\n",
    "\n",
    "**Давайте вычислим конверсию из создания рекламного кабинета в запуск первой рекламы в течение не более 365 дней.**\n",
    "\n",
    "**Конверсия – отношение числа клиентов, которые совершили целевое действие (создали рекламу), к общему числу клиентов. Например, 1000 клиентов создали кабинет, но лишь 50 из них запустили рекламу. В таком случае конверсия будет равна**\n",
    "\n",
    "50/1000 * 100 = 5%\n",
    "\n",
    "**Чтобы отобрать данные за нужный промежуток, можно воспользоваться сравнением времени до создания первой рекламы с pd.Timedelta(365, unit='day'))**\n",
    "\n",
    "**Ответ дайте в процентах и округлите до сотых. Пример ответа:**\n",
    "\n",
    "34.69"
   ]
  },
  {
   "cell_type": "code",
   "execution_count": 97,
   "id": "16e1a6a4",
   "metadata": {},
   "outputs": [
    {
     "data": {
      "text/plain": [
       "1000000"
      ]
     },
     "execution_count": 97,
     "metadata": {},
     "output_type": "execute_result"
    }
   ],
   "source": [
    "(cli_ads.difference<=timedelta(days=365)).sum()\n",
    "#нету больше 365"
   ]
  },
  {
   "cell_type": "code",
   "execution_count": 100,
   "id": "86086d19",
   "metadata": {},
   "outputs": [
    {
     "data": {
      "text/plain": [
       "Timedelta('252 days 00:00:00')"
      ]
     },
     "execution_count": 100,
     "metadata": {},
     "output_type": "execute_result"
    }
   ],
   "source": [
    "cli_ads.difference.max()"
   ]
  },
  {
   "cell_type": "code",
   "execution_count": 101,
   "id": "c9b40c54",
   "metadata": {},
   "outputs": [
    {
     "data": {
      "text/plain": [
       "0.6864463703533806"
      ]
     },
     "execution_count": 101,
     "metadata": {},
     "output_type": "execute_result"
    }
   ],
   "source": [
    "(cli_ads.client_union_id.nunique()/\n",
    "cli.client_union_id.nunique())*100"
   ]
  },
  {
   "cell_type": "markdown",
   "id": "1c6746a3",
   "metadata": {},
   "source": [
    "Ответ: `0.69`"
   ]
  },
  {
   "cell_type": "markdown",
   "id": "37f9b29c",
   "metadata": {},
   "source": [
    "**7. Давайте разобъем наших клиентов по промежуткам от создания рекламного кабинета до запуска первого рекламного объявления.**\n",
    "\n",
    "**Определите, сколько уникальных клиентов запустили свое первое объявление в первый месяц своего существования (от 0 до 30 дней). Список промежутков дней для метода pd.cut() – [0, 30, 90, 180, 365]. Создать временные промежутки можно с помощью pd.to_timedelta().**\n",
    "\n",
    "Могут пригодиться:\n",
    "\n",
    "* pd.cut()\n",
    "* value_counts()"
   ]
  },
  {
   "cell_type": "code",
   "execution_count": 112,
   "id": "8db4d78d",
   "metadata": {},
   "outputs": [
    {
     "data": {
      "text/plain": [
       "client_union_id\n",
       "2137     29 days\n",
       "14606    29 days\n",
       "21194    28 days\n",
       "24853    28 days\n",
       "27420    29 days\n",
       "38094    28 days\n",
       "98415    29 days\n",
       "108678   26 days\n",
       "110442   29 days\n",
       "114880   30 days\n",
       "116173   29 days\n",
       "Name: difference, dtype: timedelta64[ns]"
      ]
     },
     "execution_count": 112,
     "metadata": {},
     "output_type": "execute_result"
    }
   ],
   "source": [
    "px.bar(diff_cut) \\\n",
    ".update_xaxes(categoryorder=\"total ascending\")diff_gp[diff_gp<=timedelta(days=30)]\n",
    "#быстрее без pd.cut но ладно"
   ]
  },
  {
   "cell_type": "code",
   "execution_count": 137,
   "id": "14b1d18c",
   "metadata": {},
   "outputs": [
    {
     "data": {
      "text/plain": [
       "client_union_id\n",
       "1         90-180\n",
       "9         90-180\n",
       "13         30-90\n",
       "16        90-180\n",
       "20         30-90\n",
       "           ...  \n",
       "122004     30-90\n",
       "122013    90-180\n",
       "122023    90-180\n",
       "122031    90-180\n",
       "122078     30-90\n",
       "Name: difference, Length: 838, dtype: category\n",
       "Categories (4, object): ['0-30' < '30-90' < '90-180' < '180-365']"
      ]
     },
     "execution_count": 137,
     "metadata": {},
     "output_type": "execute_result"
    }
   ],
   "source": [
    "tdlist = \\\n",
    "[timedelta(days=x) for x in [0, 30, 90, 180, 365]]\n",
    "labels = \\\n",
    "['0-30', '30-90', '90-180', '180-365']\n",
    "#[str(x.days)+'-'+str(y.days) for x, y \\\n",
    "#in zip(tdlist[:-1], tdlist[1:])]\n",
    "diff_cut = pd.cut(diff_gp, tdlist, labels=labels)\n",
    "diff_cut"
   ]
  },
  {
   "cell_type": "code",
   "execution_count": 143,
   "id": "6198e55f",
   "metadata": {},
   "outputs": [
    {
     "data": {
      "text/plain": [
       "difference\n",
       "90-180     396\n",
       "30-90      263\n",
       "180-365    168\n",
       "0-30        11\n",
       "Name: count, dtype: int64"
      ]
     },
     "execution_count": 143,
     "metadata": {},
     "output_type": "execute_result"
    }
   ],
   "source": [
    "diff_cut.value_counts()"
   ]
  },
  {
   "cell_type": "markdown",
   "id": "4856b837",
   "metadata": {},
   "source": [
    "Ответ: `0-30 => 11`"
   ]
  },
  {
   "cell_type": "markdown",
   "id": "34146373",
   "metadata": {},
   "source": [
    "**8. И последнее задание: постройте интерактивный барплот, на котором будут показаны категории с количеством уникальных клиентов в них (то, что у вас получилось на прошлом степе, по запуску первого рекламного объявления). Расположите их так, чтобы внизу была самая малочисленная, а наверху – самая большая.**"
   ]
  },
  {
   "cell_type": "code",
   "execution_count": 149,
   "id": "7037de4f",
   "metadata": {},
   "outputs": [
    {
     "data": {
      "application/vnd.plotly.v1+json": {
       "config": {
        "plotlyServerURL": "https://plot.ly"
       },
       "data": [
        {
         "alignmentgroup": "True",
         "hovertemplate": "variable=difference<br>value=%{x}<br>count=%{y}<extra></extra>",
         "legendgroup": "difference",
         "marker": {
          "color": "#636efa",
          "pattern": {
           "shape": ""
          }
         },
         "name": "difference",
         "offsetgroup": "difference",
         "orientation": "v",
         "showlegend": true,
         "textposition": "auto",
         "type": "bar",
         "x": [
          "90-180",
          "90-180",
          "30-90",
          "90-180",
          "30-90",
          "90-180",
          "90-180",
          "30-90",
          "90-180",
          "90-180",
          "90-180",
          "180-365",
          "180-365",
          "180-365",
          "30-90",
          "90-180",
          "90-180",
          "90-180",
          "30-90",
          "180-365",
          "30-90",
          "90-180",
          "90-180",
          "90-180",
          "30-90",
          "90-180",
          "90-180",
          "30-90",
          "30-90",
          "30-90",
          "90-180",
          "180-365",
          "30-90",
          "180-365",
          "30-90",
          "90-180",
          "90-180",
          "180-365",
          "30-90",
          "90-180",
          "90-180",
          "30-90",
          "180-365",
          "180-365",
          "90-180",
          "30-90",
          "90-180",
          "90-180",
          "90-180",
          "30-90",
          "30-90",
          "180-365",
          "90-180",
          "30-90",
          "30-90",
          "90-180",
          "90-180",
          "90-180",
          "30-90",
          "90-180",
          "30-90",
          "30-90",
          "90-180",
          "30-90",
          "30-90",
          "90-180",
          "90-180",
          "90-180",
          "30-90",
          "90-180",
          "180-365",
          "90-180",
          "180-365",
          "30-90",
          "90-180",
          "30-90",
          "30-90",
          "180-365",
          "90-180",
          "90-180",
          "90-180",
          "180-365",
          "30-90",
          "30-90",
          "90-180",
          "90-180",
          "180-365",
          "30-90",
          "90-180",
          "90-180",
          "90-180",
          "90-180",
          "90-180",
          "90-180",
          "90-180",
          "0-30",
          "90-180",
          "180-365",
          "180-365",
          "90-180",
          "30-90",
          "90-180",
          "30-90",
          "180-365",
          "90-180",
          "90-180",
          "90-180",
          "90-180",
          "90-180",
          "30-90",
          "30-90",
          "90-180",
          "180-365",
          "90-180",
          "30-90",
          "90-180",
          "180-365",
          "30-90",
          "90-180",
          "90-180",
          "30-90",
          "90-180",
          "30-90",
          "90-180",
          "30-90",
          "180-365",
          "180-365",
          "30-90",
          "180-365",
          "90-180",
          "90-180",
          "30-90",
          "180-365",
          "30-90",
          "90-180",
          "90-180",
          "90-180",
          "90-180",
          "30-90",
          "90-180",
          "180-365",
          "180-365",
          "30-90",
          "30-90",
          "90-180",
          "30-90",
          "90-180",
          "90-180",
          "90-180",
          "30-90",
          "30-90",
          "30-90",
          "30-90",
          "180-365",
          "90-180",
          "30-90",
          "90-180",
          "90-180",
          "90-180",
          "30-90",
          "30-90",
          "30-90",
          "90-180",
          "30-90",
          "0-30",
          "90-180",
          "90-180",
          "180-365",
          "30-90",
          "180-365",
          "30-90",
          "90-180",
          "90-180",
          "30-90",
          "30-90",
          "90-180",
          "90-180",
          "90-180",
          "180-365",
          "30-90",
          "30-90",
          "90-180",
          "180-365",
          "180-365",
          "90-180",
          "90-180",
          "30-90",
          "180-365",
          "180-365",
          "30-90",
          "180-365",
          "90-180",
          "90-180",
          "30-90",
          "180-365",
          "30-90",
          "0-30",
          "90-180",
          "90-180",
          "90-180",
          "90-180",
          "30-90",
          "180-365",
          "30-90",
          "30-90",
          "30-90",
          "30-90",
          "90-180",
          "30-90",
          "30-90",
          "30-90",
          "90-180",
          "90-180",
          "90-180",
          "90-180",
          "90-180",
          "30-90",
          "30-90",
          "90-180",
          "90-180",
          "180-365",
          "30-90",
          "90-180",
          "90-180",
          "90-180",
          "90-180",
          "90-180",
          "90-180",
          "90-180",
          "90-180",
          "90-180",
          "30-90",
          "180-365",
          "30-90",
          "90-180",
          "180-365",
          "180-365",
          "180-365",
          "180-365",
          "90-180",
          "30-90",
          "180-365",
          "180-365",
          "90-180",
          "30-90",
          "30-90",
          "90-180",
          "90-180",
          "90-180",
          "90-180",
          "90-180",
          "30-90",
          "30-90",
          "30-90",
          "180-365",
          "30-90",
          "90-180",
          "90-180",
          "90-180",
          "90-180",
          "90-180",
          "30-90",
          "90-180",
          "90-180",
          "90-180",
          "30-90",
          "30-90",
          "180-365",
          "90-180",
          "180-365",
          "30-90",
          "30-90",
          "180-365",
          "90-180",
          "30-90",
          "90-180",
          "30-90",
          "90-180",
          "90-180",
          "90-180",
          "90-180",
          "30-90",
          "90-180",
          "30-90",
          "90-180",
          "30-90",
          "90-180",
          "180-365",
          "90-180",
          "180-365",
          "30-90",
          "90-180",
          "90-180",
          "180-365",
          "90-180",
          "90-180",
          "90-180",
          "90-180",
          "90-180",
          "30-90",
          "180-365",
          "90-180",
          "90-180",
          "90-180",
          "90-180",
          "30-90",
          "180-365",
          "180-365",
          "180-365",
          "180-365",
          "180-365",
          "90-180",
          "30-90",
          "90-180",
          "90-180",
          "90-180",
          "30-90",
          "180-365",
          "30-90",
          "180-365",
          "90-180",
          "90-180",
          "30-90",
          "180-365",
          "90-180",
          "90-180",
          "30-90",
          "30-90",
          "90-180",
          "30-90",
          "90-180",
          "90-180",
          "90-180",
          "180-365",
          "30-90",
          "30-90",
          "90-180",
          "180-365",
          "180-365",
          "180-365",
          "180-365",
          "30-90",
          "180-365",
          "30-90",
          "90-180",
          "30-90",
          "90-180",
          "90-180",
          "90-180",
          "90-180",
          "180-365",
          "30-90",
          "30-90",
          "0-30",
          "90-180",
          "90-180",
          "90-180",
          "90-180",
          "90-180",
          "90-180",
          "180-365",
          "90-180",
          "180-365",
          "30-90",
          "90-180",
          "180-365",
          "30-90",
          "30-90",
          "30-90",
          "180-365",
          "90-180",
          "90-180",
          "90-180",
          "30-90",
          "180-365",
          "90-180",
          "90-180",
          "30-90",
          "180-365",
          "90-180",
          "30-90",
          "180-365",
          "180-365",
          "90-180",
          "180-365",
          "90-180",
          "90-180",
          "90-180",
          "90-180",
          "180-365",
          "180-365",
          "90-180",
          "30-90",
          "30-90",
          "30-90",
          "30-90",
          "180-365",
          "30-90",
          "180-365",
          "180-365",
          "0-30",
          "30-90",
          "180-365",
          "30-90",
          "90-180",
          "180-365",
          "180-365",
          "30-90",
          "90-180",
          "180-365",
          "180-365",
          "90-180",
          "90-180",
          "180-365",
          "90-180",
          "90-180",
          "180-365",
          "30-90",
          "180-365",
          "30-90",
          "180-365",
          "30-90",
          "90-180",
          "30-90",
          "90-180",
          "30-90",
          "180-365",
          "90-180",
          "30-90",
          "180-365",
          "90-180",
          "90-180",
          "90-180",
          "180-365",
          "90-180",
          "30-90",
          "30-90",
          "90-180",
          "30-90",
          "30-90",
          "90-180",
          "90-180",
          "30-90",
          "180-365",
          "30-90",
          "30-90",
          "30-90",
          "180-365",
          "90-180",
          "180-365",
          "180-365",
          "30-90",
          "30-90",
          "90-180",
          "180-365",
          "30-90",
          "180-365",
          "90-180",
          "180-365",
          "180-365",
          "30-90",
          "90-180",
          "90-180",
          "30-90",
          "90-180",
          "180-365",
          "30-90",
          "30-90",
          "30-90",
          "180-365",
          "90-180",
          "30-90",
          "180-365",
          "30-90",
          "90-180",
          "30-90",
          "30-90",
          "30-90",
          "180-365",
          "30-90",
          "180-365",
          "90-180",
          "90-180",
          "90-180",
          "90-180",
          "90-180",
          "180-365",
          "180-365",
          "90-180",
          "30-90",
          "90-180",
          "90-180",
          "30-90",
          "90-180",
          "90-180",
          "90-180",
          "90-180",
          "90-180",
          "90-180",
          "90-180",
          "180-365",
          "90-180",
          "90-180",
          "30-90",
          "30-90",
          "30-90",
          "90-180",
          "30-90",
          "180-365",
          "90-180",
          "30-90",
          "30-90",
          "180-365",
          "30-90",
          "90-180",
          "90-180",
          "90-180",
          "30-90",
          "180-365",
          "30-90",
          "0-30",
          "90-180",
          "90-180",
          "30-90",
          "180-365",
          "180-365",
          "90-180",
          "180-365",
          "30-90",
          "30-90",
          "30-90",
          "90-180",
          "180-365",
          "90-180",
          "90-180",
          "30-90",
          "90-180",
          "90-180",
          "30-90",
          "90-180",
          "180-365",
          "180-365",
          "180-365",
          "90-180",
          "180-365",
          "180-365",
          "90-180",
          "90-180",
          "30-90",
          "90-180",
          "30-90",
          "30-90",
          "90-180",
          "30-90",
          "90-180",
          "90-180",
          "180-365",
          "30-90",
          "30-90",
          "90-180",
          "90-180",
          "180-365",
          "90-180",
          "90-180",
          "30-90",
          "30-90",
          "180-365",
          "90-180",
          "90-180",
          "90-180",
          "90-180",
          "90-180",
          "90-180",
          "30-90",
          "180-365",
          "90-180",
          "90-180",
          "90-180",
          "30-90",
          "30-90",
          "90-180",
          "30-90",
          "90-180",
          "180-365",
          "90-180",
          "90-180",
          "180-365",
          "30-90",
          "30-90",
          "90-180",
          "90-180",
          "30-90",
          "90-180",
          "30-90",
          "30-90",
          "90-180",
          "30-90",
          "90-180",
          "90-180",
          "180-365",
          "180-365",
          "30-90",
          "90-180",
          "0-30",
          "180-365",
          "180-365",
          "90-180",
          "90-180",
          "30-90",
          "180-365",
          "90-180",
          "30-90",
          "90-180",
          "30-90",
          "90-180",
          "90-180",
          "180-365",
          "90-180",
          "30-90",
          "90-180",
          "30-90",
          "30-90",
          "30-90",
          "30-90",
          "30-90",
          "30-90",
          "30-90",
          "90-180",
          "90-180",
          "90-180",
          "90-180",
          "30-90",
          "30-90",
          "90-180",
          "90-180",
          "180-365",
          "90-180",
          "180-365",
          "90-180",
          "30-90",
          "90-180",
          "90-180",
          "90-180",
          "90-180",
          "90-180",
          "90-180",
          "30-90",
          "180-365",
          "90-180",
          "180-365",
          "180-365",
          "90-180",
          "180-365",
          "30-90",
          "90-180",
          "90-180",
          "90-180",
          "90-180",
          "30-90",
          "30-90",
          "90-180",
          "30-90",
          "90-180",
          "90-180",
          "90-180",
          "0-30",
          "90-180",
          "90-180",
          "90-180",
          "90-180",
          "90-180",
          "30-90",
          "180-365",
          "30-90",
          "30-90",
          "30-90",
          "90-180",
          "0-30",
          "90-180",
          "90-180",
          "30-90",
          "90-180",
          "30-90",
          "90-180",
          "30-90",
          "90-180",
          "30-90",
          "180-365",
          "30-90",
          "90-180",
          "30-90",
          "90-180",
          "30-90",
          "180-365",
          "90-180",
          "90-180",
          "30-90",
          "30-90",
          "30-90",
          "30-90",
          "90-180",
          "90-180",
          "90-180",
          "90-180",
          "30-90",
          "90-180",
          "180-365",
          "30-90",
          "30-90",
          "180-365",
          "90-180",
          "90-180",
          "180-365",
          "180-365",
          "90-180",
          "90-180",
          "90-180",
          "180-365",
          "30-90",
          "30-90",
          "90-180",
          "30-90",
          "30-90",
          "90-180",
          "180-365",
          "180-365",
          "90-180",
          "0-30",
          "90-180",
          "180-365",
          "180-365",
          "180-365",
          "180-365",
          "90-180",
          "180-365",
          "30-90",
          "90-180",
          "30-90",
          "180-365",
          "90-180",
          "90-180",
          "90-180",
          "30-90",
          "90-180",
          "30-90",
          "0-30",
          "180-365",
          "90-180",
          "90-180",
          "180-365",
          "90-180",
          "90-180",
          "30-90",
          "90-180",
          "180-365",
          "30-90",
          "90-180",
          "90-180",
          "30-90",
          "90-180",
          "30-90",
          "30-90",
          "180-365",
          "30-90",
          "180-365",
          "90-180",
          "30-90",
          "90-180",
          "90-180",
          "90-180",
          "30-90",
          "30-90",
          "90-180",
          "30-90",
          "180-365",
          "30-90",
          "90-180",
          "90-180",
          "90-180",
          "30-90",
          "30-90",
          "90-180",
          "90-180",
          "90-180",
          "90-180",
          "90-180",
          "90-180",
          "90-180",
          "90-180",
          "30-90",
          "30-90",
          "90-180",
          "90-180",
          "90-180",
          "90-180",
          "30-90",
          "90-180",
          "30-90",
          "30-90",
          "90-180",
          "180-365",
          "90-180",
          "180-365",
          "90-180",
          "90-180",
          "90-180",
          "90-180",
          "90-180",
          "90-180",
          "180-365",
          "90-180",
          "30-90",
          "90-180",
          "30-90",
          "90-180",
          "30-90",
          "90-180",
          "90-180",
          "30-90",
          "90-180",
          "90-180",
          "90-180",
          "90-180",
          "90-180",
          "90-180",
          "90-180",
          "90-180",
          "90-180",
          "180-365",
          "180-365",
          "180-365",
          "30-90",
          "30-90",
          "30-90",
          "90-180",
          "90-180",
          "90-180",
          "30-90"
         ],
         "xaxis": "x",
         "y": [
          1,
          1,
          1,
          1,
          1,
          1,
          1,
          1,
          1,
          1,
          1,
          1,
          1,
          1,
          1,
          1,
          1,
          1,
          1,
          1,
          1,
          1,
          1,
          1,
          1,
          1,
          1,
          1,
          1,
          1,
          1,
          1,
          1,
          1,
          1,
          1,
          1,
          1,
          1,
          1,
          1,
          1,
          1,
          1,
          1,
          1,
          1,
          1,
          1,
          1,
          1,
          1,
          1,
          1,
          1,
          1,
          1,
          1,
          1,
          1,
          1,
          1,
          1,
          1,
          1,
          1,
          1,
          1,
          1,
          1,
          1,
          1,
          1,
          1,
          1,
          1,
          1,
          1,
          1,
          1,
          1,
          1,
          1,
          1,
          1,
          1,
          1,
          1,
          1,
          1,
          1,
          1,
          1,
          1,
          1,
          1,
          1,
          1,
          1,
          1,
          1,
          1,
          1,
          1,
          1,
          1,
          1,
          1,
          1,
          1,
          1,
          1,
          1,
          1,
          1,
          1,
          1,
          1,
          1,
          1,
          1,
          1,
          1,
          1,
          1,
          1,
          1,
          1,
          1,
          1,
          1,
          1,
          1,
          1,
          1,
          1,
          1,
          1,
          1,
          1,
          1,
          1,
          1,
          1,
          1,
          1,
          1,
          1,
          1,
          1,
          1,
          1,
          1,
          1,
          1,
          1,
          1,
          1,
          1,
          1,
          1,
          1,
          1,
          1,
          1,
          1,
          1,
          1,
          1,
          1,
          1,
          1,
          1,
          1,
          1,
          1,
          1,
          1,
          1,
          1,
          1,
          1,
          1,
          1,
          1,
          1,
          1,
          1,
          1,
          1,
          1,
          1,
          1,
          1,
          1,
          1,
          1,
          1,
          1,
          1,
          1,
          1,
          1,
          1,
          1,
          1,
          1,
          1,
          1,
          1,
          1,
          1,
          1,
          1,
          1,
          1,
          1,
          1,
          1,
          1,
          1,
          1,
          1,
          1,
          1,
          1,
          1,
          1,
          1,
          1,
          1,
          1,
          1,
          1,
          1,
          1,
          1,
          1,
          1,
          1,
          1,
          1,
          1,
          1,
          1,
          1,
          1,
          1,
          1,
          1,
          1,
          1,
          1,
          1,
          1,
          1,
          1,
          1,
          1,
          1,
          1,
          1,
          1,
          1,
          1,
          1,
          1,
          1,
          1,
          1,
          1,
          1,
          1,
          1,
          1,
          1,
          1,
          1,
          1,
          1,
          1,
          1,
          1,
          1,
          1,
          1,
          1,
          1,
          1,
          1,
          1,
          1,
          1,
          1,
          1,
          1,
          1,
          1,
          1,
          1,
          1,
          1,
          1,
          1,
          1,
          1,
          1,
          1,
          1,
          1,
          1,
          1,
          1,
          1,
          1,
          1,
          1,
          1,
          1,
          1,
          1,
          1,
          1,
          1,
          1,
          1,
          1,
          1,
          1,
          1,
          1,
          1,
          1,
          1,
          1,
          1,
          1,
          1,
          1,
          1,
          1,
          1,
          1,
          1,
          1,
          1,
          1,
          1,
          1,
          1,
          1,
          1,
          1,
          1,
          1,
          1,
          1,
          1,
          1,
          1,
          1,
          1,
          1,
          1,
          1,
          1,
          1,
          1,
          1,
          1,
          1,
          1,
          1,
          1,
          1,
          1,
          1,
          1,
          1,
          1,
          1,
          1,
          1,
          1,
          1,
          1,
          1,
          1,
          1,
          1,
          1,
          1,
          1,
          1,
          1,
          1,
          1,
          1,
          1,
          1,
          1,
          1,
          1,
          1,
          1,
          1,
          1,
          1,
          1,
          1,
          1,
          1,
          1,
          1,
          1,
          1,
          1,
          1,
          1,
          1,
          1,
          1,
          1,
          1,
          1,
          1,
          1,
          1,
          1,
          1,
          1,
          1,
          1,
          1,
          1,
          1,
          1,
          1,
          1,
          1,
          1,
          1,
          1,
          1,
          1,
          1,
          1,
          1,
          1,
          1,
          1,
          1,
          1,
          1,
          1,
          1,
          1,
          1,
          1,
          1,
          1,
          1,
          1,
          1,
          1,
          1,
          1,
          1,
          1,
          1,
          1,
          1,
          1,
          1,
          1,
          1,
          1,
          1,
          1,
          1,
          1,
          1,
          1,
          1,
          1,
          1,
          1,
          1,
          1,
          1,
          1,
          1,
          1,
          1,
          1,
          1,
          1,
          1,
          1,
          1,
          1,
          1,
          1,
          1,
          1,
          1,
          1,
          1,
          1,
          1,
          1,
          1,
          1,
          1,
          1,
          1,
          1,
          1,
          1,
          1,
          1,
          1,
          1,
          1,
          1,
          1,
          1,
          1,
          1,
          1,
          1,
          1,
          1,
          1,
          1,
          1,
          1,
          1,
          1,
          1,
          1,
          1,
          1,
          1,
          1,
          1,
          1,
          1,
          1,
          1,
          1,
          1,
          1,
          1,
          1,
          1,
          1,
          1,
          1,
          1,
          1,
          1,
          1,
          1,
          1,
          1,
          1,
          1,
          1,
          1,
          1,
          1,
          1,
          1,
          1,
          1,
          1,
          1,
          1,
          1,
          1,
          1,
          1,
          1,
          1,
          1,
          1,
          1,
          1,
          1,
          1,
          1,
          1,
          1,
          1,
          1,
          1,
          1,
          1,
          1,
          1,
          1,
          1,
          1,
          1,
          1,
          1,
          1,
          1,
          1,
          1,
          1,
          1,
          1,
          1,
          1,
          1,
          1,
          1,
          1,
          1,
          1,
          1,
          1,
          1,
          1,
          1,
          1,
          1,
          1,
          1,
          1,
          1,
          1,
          1,
          1,
          1,
          1,
          1,
          1,
          1,
          1,
          1,
          1,
          1,
          1,
          1,
          1,
          1,
          1,
          1,
          1,
          1,
          1,
          1,
          1,
          1,
          1,
          1,
          1,
          1,
          1,
          1,
          1,
          1,
          1,
          1,
          1,
          1,
          1,
          1,
          1,
          1,
          1,
          1,
          1,
          1,
          1,
          1,
          1,
          1,
          1,
          1,
          1,
          1,
          1,
          1,
          1,
          1,
          1,
          1,
          1,
          1,
          1,
          1,
          1,
          1,
          1,
          1,
          1,
          1,
          1,
          1,
          1,
          1,
          1,
          1,
          1,
          1,
          1,
          1,
          1,
          1,
          1,
          1,
          1,
          1,
          1,
          1,
          1,
          1,
          1,
          1,
          1,
          1,
          1,
          1,
          1,
          1,
          1,
          1,
          1,
          1,
          1,
          1,
          1,
          1,
          1,
          1,
          1,
          1,
          1,
          1,
          1,
          1,
          1,
          1,
          1,
          1,
          1,
          1,
          1,
          1,
          1,
          1,
          1,
          1,
          1,
          1,
          1,
          1,
          1,
          1,
          1,
          1,
          1,
          1,
          1,
          1,
          1,
          1,
          1,
          1,
          1,
          1,
          1,
          1,
          1,
          1,
          1,
          1,
          1,
          1,
          1,
          1,
          1,
          1,
          1,
          1,
          1,
          1,
          1,
          1,
          1,
          1,
          1,
          1,
          1,
          1,
          1,
          1,
          1,
          1,
          1,
          1,
          1,
          1,
          1,
          1,
          1,
          1,
          1,
          1,
          1,
          1,
          1,
          1,
          1,
          1,
          1,
          1,
          1,
          1,
          1,
          1,
          1,
          1,
          1,
          1,
          1,
          1,
          1,
          1,
          1,
          1,
          1,
          1,
          1
         ],
         "yaxis": "y"
        }
       ],
       "layout": {
        "barmode": "relative",
        "legend": {
         "title": {
          "text": "variable"
         },
         "tracegroupgap": 0
        },
        "margin": {
         "t": 60
        },
        "template": {
         "data": {
          "bar": [
           {
            "error_x": {
             "color": "#2a3f5f"
            },
            "error_y": {
             "color": "#2a3f5f"
            },
            "marker": {
             "line": {
              "color": "#E5ECF6",
              "width": 0.5
             },
             "pattern": {
              "fillmode": "overlay",
              "size": 10,
              "solidity": 0.2
             }
            },
            "type": "bar"
           }
          ],
          "barpolar": [
           {
            "marker": {
             "line": {
              "color": "#E5ECF6",
              "width": 0.5
             },
             "pattern": {
              "fillmode": "overlay",
              "size": 10,
              "solidity": 0.2
             }
            },
            "type": "barpolar"
           }
          ],
          "carpet": [
           {
            "aaxis": {
             "endlinecolor": "#2a3f5f",
             "gridcolor": "white",
             "linecolor": "white",
             "minorgridcolor": "white",
             "startlinecolor": "#2a3f5f"
            },
            "baxis": {
             "endlinecolor": "#2a3f5f",
             "gridcolor": "white",
             "linecolor": "white",
             "minorgridcolor": "white",
             "startlinecolor": "#2a3f5f"
            },
            "type": "carpet"
           }
          ],
          "choropleth": [
           {
            "colorbar": {
             "outlinewidth": 0,
             "ticks": ""
            },
            "type": "choropleth"
           }
          ],
          "contour": [
           {
            "colorbar": {
             "outlinewidth": 0,
             "ticks": ""
            },
            "colorscale": [
             [
              0,
              "#0d0887"
             ],
             [
              0.1111111111111111,
              "#46039f"
             ],
             [
              0.2222222222222222,
              "#7201a8"
             ],
             [
              0.3333333333333333,
              "#9c179e"
             ],
             [
              0.4444444444444444,
              "#bd3786"
             ],
             [
              0.5555555555555556,
              "#d8576b"
             ],
             [
              0.6666666666666666,
              "#ed7953"
             ],
             [
              0.7777777777777778,
              "#fb9f3a"
             ],
             [
              0.8888888888888888,
              "#fdca26"
             ],
             [
              1,
              "#f0f921"
             ]
            ],
            "type": "contour"
           }
          ],
          "contourcarpet": [
           {
            "colorbar": {
             "outlinewidth": 0,
             "ticks": ""
            },
            "type": "contourcarpet"
           }
          ],
          "heatmap": [
           {
            "colorbar": {
             "outlinewidth": 0,
             "ticks": ""
            },
            "colorscale": [
             [
              0,
              "#0d0887"
             ],
             [
              0.1111111111111111,
              "#46039f"
             ],
             [
              0.2222222222222222,
              "#7201a8"
             ],
             [
              0.3333333333333333,
              "#9c179e"
             ],
             [
              0.4444444444444444,
              "#bd3786"
             ],
             [
              0.5555555555555556,
              "#d8576b"
             ],
             [
              0.6666666666666666,
              "#ed7953"
             ],
             [
              0.7777777777777778,
              "#fb9f3a"
             ],
             [
              0.8888888888888888,
              "#fdca26"
             ],
             [
              1,
              "#f0f921"
             ]
            ],
            "type": "heatmap"
           }
          ],
          "heatmapgl": [
           {
            "colorbar": {
             "outlinewidth": 0,
             "ticks": ""
            },
            "colorscale": [
             [
              0,
              "#0d0887"
             ],
             [
              0.1111111111111111,
              "#46039f"
             ],
             [
              0.2222222222222222,
              "#7201a8"
             ],
             [
              0.3333333333333333,
              "#9c179e"
             ],
             [
              0.4444444444444444,
              "#bd3786"
             ],
             [
              0.5555555555555556,
              "#d8576b"
             ],
             [
              0.6666666666666666,
              "#ed7953"
             ],
             [
              0.7777777777777778,
              "#fb9f3a"
             ],
             [
              0.8888888888888888,
              "#fdca26"
             ],
             [
              1,
              "#f0f921"
             ]
            ],
            "type": "heatmapgl"
           }
          ],
          "histogram": [
           {
            "marker": {
             "pattern": {
              "fillmode": "overlay",
              "size": 10,
              "solidity": 0.2
             }
            },
            "type": "histogram"
           }
          ],
          "histogram2d": [
           {
            "colorbar": {
             "outlinewidth": 0,
             "ticks": ""
            },
            "colorscale": [
             [
              0,
              "#0d0887"
             ],
             [
              0.1111111111111111,
              "#46039f"
             ],
             [
              0.2222222222222222,
              "#7201a8"
             ],
             [
              0.3333333333333333,
              "#9c179e"
             ],
             [
              0.4444444444444444,
              "#bd3786"
             ],
             [
              0.5555555555555556,
              "#d8576b"
             ],
             [
              0.6666666666666666,
              "#ed7953"
             ],
             [
              0.7777777777777778,
              "#fb9f3a"
             ],
             [
              0.8888888888888888,
              "#fdca26"
             ],
             [
              1,
              "#f0f921"
             ]
            ],
            "type": "histogram2d"
           }
          ],
          "histogram2dcontour": [
           {
            "colorbar": {
             "outlinewidth": 0,
             "ticks": ""
            },
            "colorscale": [
             [
              0,
              "#0d0887"
             ],
             [
              0.1111111111111111,
              "#46039f"
             ],
             [
              0.2222222222222222,
              "#7201a8"
             ],
             [
              0.3333333333333333,
              "#9c179e"
             ],
             [
              0.4444444444444444,
              "#bd3786"
             ],
             [
              0.5555555555555556,
              "#d8576b"
             ],
             [
              0.6666666666666666,
              "#ed7953"
             ],
             [
              0.7777777777777778,
              "#fb9f3a"
             ],
             [
              0.8888888888888888,
              "#fdca26"
             ],
             [
              1,
              "#f0f921"
             ]
            ],
            "type": "histogram2dcontour"
           }
          ],
          "mesh3d": [
           {
            "colorbar": {
             "outlinewidth": 0,
             "ticks": ""
            },
            "type": "mesh3d"
           }
          ],
          "parcoords": [
           {
            "line": {
             "colorbar": {
              "outlinewidth": 0,
              "ticks": ""
             }
            },
            "type": "parcoords"
           }
          ],
          "pie": [
           {
            "automargin": true,
            "type": "pie"
           }
          ],
          "scatter": [
           {
            "fillpattern": {
             "fillmode": "overlay",
             "size": 10,
             "solidity": 0.2
            },
            "type": "scatter"
           }
          ],
          "scatter3d": [
           {
            "line": {
             "colorbar": {
              "outlinewidth": 0,
              "ticks": ""
             }
            },
            "marker": {
             "colorbar": {
              "outlinewidth": 0,
              "ticks": ""
             }
            },
            "type": "scatter3d"
           }
          ],
          "scattercarpet": [
           {
            "marker": {
             "colorbar": {
              "outlinewidth": 0,
              "ticks": ""
             }
            },
            "type": "scattercarpet"
           }
          ],
          "scattergeo": [
           {
            "marker": {
             "colorbar": {
              "outlinewidth": 0,
              "ticks": ""
             }
            },
            "type": "scattergeo"
           }
          ],
          "scattergl": [
           {
            "marker": {
             "colorbar": {
              "outlinewidth": 0,
              "ticks": ""
             }
            },
            "type": "scattergl"
           }
          ],
          "scattermapbox": [
           {
            "marker": {
             "colorbar": {
              "outlinewidth": 0,
              "ticks": ""
             }
            },
            "type": "scattermapbox"
           }
          ],
          "scatterpolar": [
           {
            "marker": {
             "colorbar": {
              "outlinewidth": 0,
              "ticks": ""
             }
            },
            "type": "scatterpolar"
           }
          ],
          "scatterpolargl": [
           {
            "marker": {
             "colorbar": {
              "outlinewidth": 0,
              "ticks": ""
             }
            },
            "type": "scatterpolargl"
           }
          ],
          "scatterternary": [
           {
            "marker": {
             "colorbar": {
              "outlinewidth": 0,
              "ticks": ""
             }
            },
            "type": "scatterternary"
           }
          ],
          "surface": [
           {
            "colorbar": {
             "outlinewidth": 0,
             "ticks": ""
            },
            "colorscale": [
             [
              0,
              "#0d0887"
             ],
             [
              0.1111111111111111,
              "#46039f"
             ],
             [
              0.2222222222222222,
              "#7201a8"
             ],
             [
              0.3333333333333333,
              "#9c179e"
             ],
             [
              0.4444444444444444,
              "#bd3786"
             ],
             [
              0.5555555555555556,
              "#d8576b"
             ],
             [
              0.6666666666666666,
              "#ed7953"
             ],
             [
              0.7777777777777778,
              "#fb9f3a"
             ],
             [
              0.8888888888888888,
              "#fdca26"
             ],
             [
              1,
              "#f0f921"
             ]
            ],
            "type": "surface"
           }
          ],
          "table": [
           {
            "cells": {
             "fill": {
              "color": "#EBF0F8"
             },
             "line": {
              "color": "white"
             }
            },
            "header": {
             "fill": {
              "color": "#C8D4E3"
             },
             "line": {
              "color": "white"
             }
            },
            "type": "table"
           }
          ]
         },
         "layout": {
          "annotationdefaults": {
           "arrowcolor": "#2a3f5f",
           "arrowhead": 0,
           "arrowwidth": 1
          },
          "autotypenumbers": "strict",
          "coloraxis": {
           "colorbar": {
            "outlinewidth": 0,
            "ticks": ""
           }
          },
          "colorscale": {
           "diverging": [
            [
             0,
             "#8e0152"
            ],
            [
             0.1,
             "#c51b7d"
            ],
            [
             0.2,
             "#de77ae"
            ],
            [
             0.3,
             "#f1b6da"
            ],
            [
             0.4,
             "#fde0ef"
            ],
            [
             0.5,
             "#f7f7f7"
            ],
            [
             0.6,
             "#e6f5d0"
            ],
            [
             0.7,
             "#b8e186"
            ],
            [
             0.8,
             "#7fbc41"
            ],
            [
             0.9,
             "#4d9221"
            ],
            [
             1,
             "#276419"
            ]
           ],
           "sequential": [
            [
             0,
             "#0d0887"
            ],
            [
             0.1111111111111111,
             "#46039f"
            ],
            [
             0.2222222222222222,
             "#7201a8"
            ],
            [
             0.3333333333333333,
             "#9c179e"
            ],
            [
             0.4444444444444444,
             "#bd3786"
            ],
            [
             0.5555555555555556,
             "#d8576b"
            ],
            [
             0.6666666666666666,
             "#ed7953"
            ],
            [
             0.7777777777777778,
             "#fb9f3a"
            ],
            [
             0.8888888888888888,
             "#fdca26"
            ],
            [
             1,
             "#f0f921"
            ]
           ],
           "sequentialminus": [
            [
             0,
             "#0d0887"
            ],
            [
             0.1111111111111111,
             "#46039f"
            ],
            [
             0.2222222222222222,
             "#7201a8"
            ],
            [
             0.3333333333333333,
             "#9c179e"
            ],
            [
             0.4444444444444444,
             "#bd3786"
            ],
            [
             0.5555555555555556,
             "#d8576b"
            ],
            [
             0.6666666666666666,
             "#ed7953"
            ],
            [
             0.7777777777777778,
             "#fb9f3a"
            ],
            [
             0.8888888888888888,
             "#fdca26"
            ],
            [
             1,
             "#f0f921"
            ]
           ]
          },
          "colorway": [
           "#636efa",
           "#EF553B",
           "#00cc96",
           "#ab63fa",
           "#FFA15A",
           "#19d3f3",
           "#FF6692",
           "#B6E880",
           "#FF97FF",
           "#FECB52"
          ],
          "font": {
           "color": "#2a3f5f"
          },
          "geo": {
           "bgcolor": "white",
           "lakecolor": "white",
           "landcolor": "#E5ECF6",
           "showlakes": true,
           "showland": true,
           "subunitcolor": "white"
          },
          "hoverlabel": {
           "align": "left"
          },
          "hovermode": "closest",
          "mapbox": {
           "style": "light"
          },
          "paper_bgcolor": "white",
          "plot_bgcolor": "#E5ECF6",
          "polar": {
           "angularaxis": {
            "gridcolor": "white",
            "linecolor": "white",
            "ticks": ""
           },
           "bgcolor": "#E5ECF6",
           "radialaxis": {
            "gridcolor": "white",
            "linecolor": "white",
            "ticks": ""
           }
          },
          "scene": {
           "xaxis": {
            "backgroundcolor": "#E5ECF6",
            "gridcolor": "white",
            "gridwidth": 2,
            "linecolor": "white",
            "showbackground": true,
            "ticks": "",
            "zerolinecolor": "white"
           },
           "yaxis": {
            "backgroundcolor": "#E5ECF6",
            "gridcolor": "white",
            "gridwidth": 2,
            "linecolor": "white",
            "showbackground": true,
            "ticks": "",
            "zerolinecolor": "white"
           },
           "zaxis": {
            "backgroundcolor": "#E5ECF6",
            "gridcolor": "white",
            "gridwidth": 2,
            "linecolor": "white",
            "showbackground": true,
            "ticks": "",
            "zerolinecolor": "white"
           }
          },
          "shapedefaults": {
           "line": {
            "color": "#2a3f5f"
           }
          },
          "ternary": {
           "aaxis": {
            "gridcolor": "white",
            "linecolor": "white",
            "ticks": ""
           },
           "baxis": {
            "gridcolor": "white",
            "linecolor": "white",
            "ticks": ""
           },
           "bgcolor": "#E5ECF6",
           "caxis": {
            "gridcolor": "white",
            "linecolor": "white",
            "ticks": ""
           }
          },
          "title": {
           "x": 0.05
          },
          "xaxis": {
           "automargin": true,
           "gridcolor": "white",
           "linecolor": "white",
           "ticks": "",
           "title": {
            "standoff": 15
           },
           "zerolinecolor": "white",
           "zerolinewidth": 2
          },
          "yaxis": {
           "automargin": true,
           "gridcolor": "white",
           "linecolor": "white",
           "ticks": "",
           "title": {
            "standoff": 15
           },
           "zerolinecolor": "white",
           "zerolinewidth": 2
          }
         }
        },
        "xaxis": {
         "anchor": "y",
         "categoryorder": "total ascending",
         "domain": [
          0,
          1
         ],
         "title": {
          "text": "value"
         }
        },
        "yaxis": {
         "anchor": "x",
         "domain": [
          0,
          1
         ],
         "title": {
          "text": "count"
         }
        }
       }
      },
      "text/html": [
       "<div>                            <div id=\"d3b66712-6fc6-4d45-bf93-42f63f4170c3\" class=\"plotly-graph-div\" style=\"height:525px; width:100%;\"></div>            <script type=\"text/javascript\">                require([\"plotly\"], function(Plotly) {                    window.PLOTLYENV=window.PLOTLYENV || {};                                    if (document.getElementById(\"d3b66712-6fc6-4d45-bf93-42f63f4170c3\")) {                    Plotly.newPlot(                        \"d3b66712-6fc6-4d45-bf93-42f63f4170c3\",                        [{\"alignmentgroup\":\"True\",\"hovertemplate\":\"variable=difference\\u003cbr\\u003evalue=%{x}\\u003cbr\\u003ecount=%{y}\\u003cextra\\u003e\\u003c\\u002fextra\\u003e\",\"legendgroup\":\"difference\",\"marker\":{\"color\":\"#636efa\",\"pattern\":{\"shape\":\"\"}},\"name\":\"difference\",\"offsetgroup\":\"difference\",\"orientation\":\"v\",\"showlegend\":true,\"textposition\":\"auto\",\"x\":[\"90-180\",\"90-180\",\"30-90\",\"90-180\",\"30-90\",\"90-180\",\"90-180\",\"30-90\",\"90-180\",\"90-180\",\"90-180\",\"180-365\",\"180-365\",\"180-365\",\"30-90\",\"90-180\",\"90-180\",\"90-180\",\"30-90\",\"180-365\",\"30-90\",\"90-180\",\"90-180\",\"90-180\",\"30-90\",\"90-180\",\"90-180\",\"30-90\",\"30-90\",\"30-90\",\"90-180\",\"180-365\",\"30-90\",\"180-365\",\"30-90\",\"90-180\",\"90-180\",\"180-365\",\"30-90\",\"90-180\",\"90-180\",\"30-90\",\"180-365\",\"180-365\",\"90-180\",\"30-90\",\"90-180\",\"90-180\",\"90-180\",\"30-90\",\"30-90\",\"180-365\",\"90-180\",\"30-90\",\"30-90\",\"90-180\",\"90-180\",\"90-180\",\"30-90\",\"90-180\",\"30-90\",\"30-90\",\"90-180\",\"30-90\",\"30-90\",\"90-180\",\"90-180\",\"90-180\",\"30-90\",\"90-180\",\"180-365\",\"90-180\",\"180-365\",\"30-90\",\"90-180\",\"30-90\",\"30-90\",\"180-365\",\"90-180\",\"90-180\",\"90-180\",\"180-365\",\"30-90\",\"30-90\",\"90-180\",\"90-180\",\"180-365\",\"30-90\",\"90-180\",\"90-180\",\"90-180\",\"90-180\",\"90-180\",\"90-180\",\"90-180\",\"0-30\",\"90-180\",\"180-365\",\"180-365\",\"90-180\",\"30-90\",\"90-180\",\"30-90\",\"180-365\",\"90-180\",\"90-180\",\"90-180\",\"90-180\",\"90-180\",\"30-90\",\"30-90\",\"90-180\",\"180-365\",\"90-180\",\"30-90\",\"90-180\",\"180-365\",\"30-90\",\"90-180\",\"90-180\",\"30-90\",\"90-180\",\"30-90\",\"90-180\",\"30-90\",\"180-365\",\"180-365\",\"30-90\",\"180-365\",\"90-180\",\"90-180\",\"30-90\",\"180-365\",\"30-90\",\"90-180\",\"90-180\",\"90-180\",\"90-180\",\"30-90\",\"90-180\",\"180-365\",\"180-365\",\"30-90\",\"30-90\",\"90-180\",\"30-90\",\"90-180\",\"90-180\",\"90-180\",\"30-90\",\"30-90\",\"30-90\",\"30-90\",\"180-365\",\"90-180\",\"30-90\",\"90-180\",\"90-180\",\"90-180\",\"30-90\",\"30-90\",\"30-90\",\"90-180\",\"30-90\",\"0-30\",\"90-180\",\"90-180\",\"180-365\",\"30-90\",\"180-365\",\"30-90\",\"90-180\",\"90-180\",\"30-90\",\"30-90\",\"90-180\",\"90-180\",\"90-180\",\"180-365\",\"30-90\",\"30-90\",\"90-180\",\"180-365\",\"180-365\",\"90-180\",\"90-180\",\"30-90\",\"180-365\",\"180-365\",\"30-90\",\"180-365\",\"90-180\",\"90-180\",\"30-90\",\"180-365\",\"30-90\",\"0-30\",\"90-180\",\"90-180\",\"90-180\",\"90-180\",\"30-90\",\"180-365\",\"30-90\",\"30-90\",\"30-90\",\"30-90\",\"90-180\",\"30-90\",\"30-90\",\"30-90\",\"90-180\",\"90-180\",\"90-180\",\"90-180\",\"90-180\",\"30-90\",\"30-90\",\"90-180\",\"90-180\",\"180-365\",\"30-90\",\"90-180\",\"90-180\",\"90-180\",\"90-180\",\"90-180\",\"90-180\",\"90-180\",\"90-180\",\"90-180\",\"30-90\",\"180-365\",\"30-90\",\"90-180\",\"180-365\",\"180-365\",\"180-365\",\"180-365\",\"90-180\",\"30-90\",\"180-365\",\"180-365\",\"90-180\",\"30-90\",\"30-90\",\"90-180\",\"90-180\",\"90-180\",\"90-180\",\"90-180\",\"30-90\",\"30-90\",\"30-90\",\"180-365\",\"30-90\",\"90-180\",\"90-180\",\"90-180\",\"90-180\",\"90-180\",\"30-90\",\"90-180\",\"90-180\",\"90-180\",\"30-90\",\"30-90\",\"180-365\",\"90-180\",\"180-365\",\"30-90\",\"30-90\",\"180-365\",\"90-180\",\"30-90\",\"90-180\",\"30-90\",\"90-180\",\"90-180\",\"90-180\",\"90-180\",\"30-90\",\"90-180\",\"30-90\",\"90-180\",\"30-90\",\"90-180\",\"180-365\",\"90-180\",\"180-365\",\"30-90\",\"90-180\",\"90-180\",\"180-365\",\"90-180\",\"90-180\",\"90-180\",\"90-180\",\"90-180\",\"30-90\",\"180-365\",\"90-180\",\"90-180\",\"90-180\",\"90-180\",\"30-90\",\"180-365\",\"180-365\",\"180-365\",\"180-365\",\"180-365\",\"90-180\",\"30-90\",\"90-180\",\"90-180\",\"90-180\",\"30-90\",\"180-365\",\"30-90\",\"180-365\",\"90-180\",\"90-180\",\"30-90\",\"180-365\",\"90-180\",\"90-180\",\"30-90\",\"30-90\",\"90-180\",\"30-90\",\"90-180\",\"90-180\",\"90-180\",\"180-365\",\"30-90\",\"30-90\",\"90-180\",\"180-365\",\"180-365\",\"180-365\",\"180-365\",\"30-90\",\"180-365\",\"30-90\",\"90-180\",\"30-90\",\"90-180\",\"90-180\",\"90-180\",\"90-180\",\"180-365\",\"30-90\",\"30-90\",\"0-30\",\"90-180\",\"90-180\",\"90-180\",\"90-180\",\"90-180\",\"90-180\",\"180-365\",\"90-180\",\"180-365\",\"30-90\",\"90-180\",\"180-365\",\"30-90\",\"30-90\",\"30-90\",\"180-365\",\"90-180\",\"90-180\",\"90-180\",\"30-90\",\"180-365\",\"90-180\",\"90-180\",\"30-90\",\"180-365\",\"90-180\",\"30-90\",\"180-365\",\"180-365\",\"90-180\",\"180-365\",\"90-180\",\"90-180\",\"90-180\",\"90-180\",\"180-365\",\"180-365\",\"90-180\",\"30-90\",\"30-90\",\"30-90\",\"30-90\",\"180-365\",\"30-90\",\"180-365\",\"180-365\",\"0-30\",\"30-90\",\"180-365\",\"30-90\",\"90-180\",\"180-365\",\"180-365\",\"30-90\",\"90-180\",\"180-365\",\"180-365\",\"90-180\",\"90-180\",\"180-365\",\"90-180\",\"90-180\",\"180-365\",\"30-90\",\"180-365\",\"30-90\",\"180-365\",\"30-90\",\"90-180\",\"30-90\",\"90-180\",\"30-90\",\"180-365\",\"90-180\",\"30-90\",\"180-365\",\"90-180\",\"90-180\",\"90-180\",\"180-365\",\"90-180\",\"30-90\",\"30-90\",\"90-180\",\"30-90\",\"30-90\",\"90-180\",\"90-180\",\"30-90\",\"180-365\",\"30-90\",\"30-90\",\"30-90\",\"180-365\",\"90-180\",\"180-365\",\"180-365\",\"30-90\",\"30-90\",\"90-180\",\"180-365\",\"30-90\",\"180-365\",\"90-180\",\"180-365\",\"180-365\",\"30-90\",\"90-180\",\"90-180\",\"30-90\",\"90-180\",\"180-365\",\"30-90\",\"30-90\",\"30-90\",\"180-365\",\"90-180\",\"30-90\",\"180-365\",\"30-90\",\"90-180\",\"30-90\",\"30-90\",\"30-90\",\"180-365\",\"30-90\",\"180-365\",\"90-180\",\"90-180\",\"90-180\",\"90-180\",\"90-180\",\"180-365\",\"180-365\",\"90-180\",\"30-90\",\"90-180\",\"90-180\",\"30-90\",\"90-180\",\"90-180\",\"90-180\",\"90-180\",\"90-180\",\"90-180\",\"90-180\",\"180-365\",\"90-180\",\"90-180\",\"30-90\",\"30-90\",\"30-90\",\"90-180\",\"30-90\",\"180-365\",\"90-180\",\"30-90\",\"30-90\",\"180-365\",\"30-90\",\"90-180\",\"90-180\",\"90-180\",\"30-90\",\"180-365\",\"30-90\",\"0-30\",\"90-180\",\"90-180\",\"30-90\",\"180-365\",\"180-365\",\"90-180\",\"180-365\",\"30-90\",\"30-90\",\"30-90\",\"90-180\",\"180-365\",\"90-180\",\"90-180\",\"30-90\",\"90-180\",\"90-180\",\"30-90\",\"90-180\",\"180-365\",\"180-365\",\"180-365\",\"90-180\",\"180-365\",\"180-365\",\"90-180\",\"90-180\",\"30-90\",\"90-180\",\"30-90\",\"30-90\",\"90-180\",\"30-90\",\"90-180\",\"90-180\",\"180-365\",\"30-90\",\"30-90\",\"90-180\",\"90-180\",\"180-365\",\"90-180\",\"90-180\",\"30-90\",\"30-90\",\"180-365\",\"90-180\",\"90-180\",\"90-180\",\"90-180\",\"90-180\",\"90-180\",\"30-90\",\"180-365\",\"90-180\",\"90-180\",\"90-180\",\"30-90\",\"30-90\",\"90-180\",\"30-90\",\"90-180\",\"180-365\",\"90-180\",\"90-180\",\"180-365\",\"30-90\",\"30-90\",\"90-180\",\"90-180\",\"30-90\",\"90-180\",\"30-90\",\"30-90\",\"90-180\",\"30-90\",\"90-180\",\"90-180\",\"180-365\",\"180-365\",\"30-90\",\"90-180\",\"0-30\",\"180-365\",\"180-365\",\"90-180\",\"90-180\",\"30-90\",\"180-365\",\"90-180\",\"30-90\",\"90-180\",\"30-90\",\"90-180\",\"90-180\",\"180-365\",\"90-180\",\"30-90\",\"90-180\",\"30-90\",\"30-90\",\"30-90\",\"30-90\",\"30-90\",\"30-90\",\"30-90\",\"90-180\",\"90-180\",\"90-180\",\"90-180\",\"30-90\",\"30-90\",\"90-180\",\"90-180\",\"180-365\",\"90-180\",\"180-365\",\"90-180\",\"30-90\",\"90-180\",\"90-180\",\"90-180\",\"90-180\",\"90-180\",\"90-180\",\"30-90\",\"180-365\",\"90-180\",\"180-365\",\"180-365\",\"90-180\",\"180-365\",\"30-90\",\"90-180\",\"90-180\",\"90-180\",\"90-180\",\"30-90\",\"30-90\",\"90-180\",\"30-90\",\"90-180\",\"90-180\",\"90-180\",\"0-30\",\"90-180\",\"90-180\",\"90-180\",\"90-180\",\"90-180\",\"30-90\",\"180-365\",\"30-90\",\"30-90\",\"30-90\",\"90-180\",\"0-30\",\"90-180\",\"90-180\",\"30-90\",\"90-180\",\"30-90\",\"90-180\",\"30-90\",\"90-180\",\"30-90\",\"180-365\",\"30-90\",\"90-180\",\"30-90\",\"90-180\",\"30-90\",\"180-365\",\"90-180\",\"90-180\",\"30-90\",\"30-90\",\"30-90\",\"30-90\",\"90-180\",\"90-180\",\"90-180\",\"90-180\",\"30-90\",\"90-180\",\"180-365\",\"30-90\",\"30-90\",\"180-365\",\"90-180\",\"90-180\",\"180-365\",\"180-365\",\"90-180\",\"90-180\",\"90-180\",\"180-365\",\"30-90\",\"30-90\",\"90-180\",\"30-90\",\"30-90\",\"90-180\",\"180-365\",\"180-365\",\"90-180\",\"0-30\",\"90-180\",\"180-365\",\"180-365\",\"180-365\",\"180-365\",\"90-180\",\"180-365\",\"30-90\",\"90-180\",\"30-90\",\"180-365\",\"90-180\",\"90-180\",\"90-180\",\"30-90\",\"90-180\",\"30-90\",\"0-30\",\"180-365\",\"90-180\",\"90-180\",\"180-365\",\"90-180\",\"90-180\",\"30-90\",\"90-180\",\"180-365\",\"30-90\",\"90-180\",\"90-180\",\"30-90\",\"90-180\",\"30-90\",\"30-90\",\"180-365\",\"30-90\",\"180-365\",\"90-180\",\"30-90\",\"90-180\",\"90-180\",\"90-180\",\"30-90\",\"30-90\",\"90-180\",\"30-90\",\"180-365\",\"30-90\",\"90-180\",\"90-180\",\"90-180\",\"30-90\",\"30-90\",\"90-180\",\"90-180\",\"90-180\",\"90-180\",\"90-180\",\"90-180\",\"90-180\",\"90-180\",\"30-90\",\"30-90\",\"90-180\",\"90-180\",\"90-180\",\"90-180\",\"30-90\",\"90-180\",\"30-90\",\"30-90\",\"90-180\",\"180-365\",\"90-180\",\"180-365\",\"90-180\",\"90-180\",\"90-180\",\"90-180\",\"90-180\",\"90-180\",\"180-365\",\"90-180\",\"30-90\",\"90-180\",\"30-90\",\"90-180\",\"30-90\",\"90-180\",\"90-180\",\"30-90\",\"90-180\",\"90-180\",\"90-180\",\"90-180\",\"90-180\",\"90-180\",\"90-180\",\"90-180\",\"90-180\",\"180-365\",\"180-365\",\"180-365\",\"30-90\",\"30-90\",\"30-90\",\"90-180\",\"90-180\",\"90-180\",\"30-90\"],\"xaxis\":\"x\",\"y\":[1,1,1,1,1,1,1,1,1,1,1,1,1,1,1,1,1,1,1,1,1,1,1,1,1,1,1,1,1,1,1,1,1,1,1,1,1,1,1,1,1,1,1,1,1,1,1,1,1,1,1,1,1,1,1,1,1,1,1,1,1,1,1,1,1,1,1,1,1,1,1,1,1,1,1,1,1,1,1,1,1,1,1,1,1,1,1,1,1,1,1,1,1,1,1,1,1,1,1,1,1,1,1,1,1,1,1,1,1,1,1,1,1,1,1,1,1,1,1,1,1,1,1,1,1,1,1,1,1,1,1,1,1,1,1,1,1,1,1,1,1,1,1,1,1,1,1,1,1,1,1,1,1,1,1,1,1,1,1,1,1,1,1,1,1,1,1,1,1,1,1,1,1,1,1,1,1,1,1,1,1,1,1,1,1,1,1,1,1,1,1,1,1,1,1,1,1,1,1,1,1,1,1,1,1,1,1,1,1,1,1,1,1,1,1,1,1,1,1,1,1,1,1,1,1,1,1,1,1,1,1,1,1,1,1,1,1,1,1,1,1,1,1,1,1,1,1,1,1,1,1,1,1,1,1,1,1,1,1,1,1,1,1,1,1,1,1,1,1,1,1,1,1,1,1,1,1,1,1,1,1,1,1,1,1,1,1,1,1,1,1,1,1,1,1,1,1,1,1,1,1,1,1,1,1,1,1,1,1,1,1,1,1,1,1,1,1,1,1,1,1,1,1,1,1,1,1,1,1,1,1,1,1,1,1,1,1,1,1,1,1,1,1,1,1,1,1,1,1,1,1,1,1,1,1,1,1,1,1,1,1,1,1,1,1,1,1,1,1,1,1,1,1,1,1,1,1,1,1,1,1,1,1,1,1,1,1,1,1,1,1,1,1,1,1,1,1,1,1,1,1,1,1,1,1,1,1,1,1,1,1,1,1,1,1,1,1,1,1,1,1,1,1,1,1,1,1,1,1,1,1,1,1,1,1,1,1,1,1,1,1,1,1,1,1,1,1,1,1,1,1,1,1,1,1,1,1,1,1,1,1,1,1,1,1,1,1,1,1,1,1,1,1,1,1,1,1,1,1,1,1,1,1,1,1,1,1,1,1,1,1,1,1,1,1,1,1,1,1,1,1,1,1,1,1,1,1,1,1,1,1,1,1,1,1,1,1,1,1,1,1,1,1,1,1,1,1,1,1,1,1,1,1,1,1,1,1,1,1,1,1,1,1,1,1,1,1,1,1,1,1,1,1,1,1,1,1,1,1,1,1,1,1,1,1,1,1,1,1,1,1,1,1,1,1,1,1,1,1,1,1,1,1,1,1,1,1,1,1,1,1,1,1,1,1,1,1,1,1,1,1,1,1,1,1,1,1,1,1,1,1,1,1,1,1,1,1,1,1,1,1,1,1,1,1,1,1,1,1,1,1,1,1,1,1,1,1,1,1,1,1,1,1,1,1,1,1,1,1,1,1,1,1,1,1,1,1,1,1,1,1,1,1,1,1,1,1,1,1,1,1,1,1,1,1,1,1,1,1,1,1,1,1,1,1,1,1,1,1,1,1,1,1,1,1,1,1,1,1,1,1,1,1,1,1,1,1,1,1,1,1,1,1,1,1,1,1,1,1,1,1,1,1,1,1,1,1,1,1,1,1,1,1,1,1,1,1,1,1,1,1,1,1,1,1,1,1,1,1,1,1,1,1,1,1,1,1,1,1,1,1,1,1,1,1,1,1,1,1,1,1,1,1,1,1,1,1,1,1,1,1,1,1,1,1,1,1,1,1,1,1,1,1,1,1,1,1,1,1,1,1,1,1,1,1,1,1,1,1,1,1,1,1,1,1,1,1,1,1,1,1,1,1,1,1,1,1,1,1,1,1,1,1,1,1,1,1,1],\"yaxis\":\"y\",\"type\":\"bar\"}],                        {\"template\":{\"data\":{\"histogram2dcontour\":[{\"type\":\"histogram2dcontour\",\"colorbar\":{\"outlinewidth\":0,\"ticks\":\"\"},\"colorscale\":[[0.0,\"#0d0887\"],[0.1111111111111111,\"#46039f\"],[0.2222222222222222,\"#7201a8\"],[0.3333333333333333,\"#9c179e\"],[0.4444444444444444,\"#bd3786\"],[0.5555555555555556,\"#d8576b\"],[0.6666666666666666,\"#ed7953\"],[0.7777777777777778,\"#fb9f3a\"],[0.8888888888888888,\"#fdca26\"],[1.0,\"#f0f921\"]]}],\"choropleth\":[{\"type\":\"choropleth\",\"colorbar\":{\"outlinewidth\":0,\"ticks\":\"\"}}],\"histogram2d\":[{\"type\":\"histogram2d\",\"colorbar\":{\"outlinewidth\":0,\"ticks\":\"\"},\"colorscale\":[[0.0,\"#0d0887\"],[0.1111111111111111,\"#46039f\"],[0.2222222222222222,\"#7201a8\"],[0.3333333333333333,\"#9c179e\"],[0.4444444444444444,\"#bd3786\"],[0.5555555555555556,\"#d8576b\"],[0.6666666666666666,\"#ed7953\"],[0.7777777777777778,\"#fb9f3a\"],[0.8888888888888888,\"#fdca26\"],[1.0,\"#f0f921\"]]}],\"heatmap\":[{\"type\":\"heatmap\",\"colorbar\":{\"outlinewidth\":0,\"ticks\":\"\"},\"colorscale\":[[0.0,\"#0d0887\"],[0.1111111111111111,\"#46039f\"],[0.2222222222222222,\"#7201a8\"],[0.3333333333333333,\"#9c179e\"],[0.4444444444444444,\"#bd3786\"],[0.5555555555555556,\"#d8576b\"],[0.6666666666666666,\"#ed7953\"],[0.7777777777777778,\"#fb9f3a\"],[0.8888888888888888,\"#fdca26\"],[1.0,\"#f0f921\"]]}],\"heatmapgl\":[{\"type\":\"heatmapgl\",\"colorbar\":{\"outlinewidth\":0,\"ticks\":\"\"},\"colorscale\":[[0.0,\"#0d0887\"],[0.1111111111111111,\"#46039f\"],[0.2222222222222222,\"#7201a8\"],[0.3333333333333333,\"#9c179e\"],[0.4444444444444444,\"#bd3786\"],[0.5555555555555556,\"#d8576b\"],[0.6666666666666666,\"#ed7953\"],[0.7777777777777778,\"#fb9f3a\"],[0.8888888888888888,\"#fdca26\"],[1.0,\"#f0f921\"]]}],\"contourcarpet\":[{\"type\":\"contourcarpet\",\"colorbar\":{\"outlinewidth\":0,\"ticks\":\"\"}}],\"contour\":[{\"type\":\"contour\",\"colorbar\":{\"outlinewidth\":0,\"ticks\":\"\"},\"colorscale\":[[0.0,\"#0d0887\"],[0.1111111111111111,\"#46039f\"],[0.2222222222222222,\"#7201a8\"],[0.3333333333333333,\"#9c179e\"],[0.4444444444444444,\"#bd3786\"],[0.5555555555555556,\"#d8576b\"],[0.6666666666666666,\"#ed7953\"],[0.7777777777777778,\"#fb9f3a\"],[0.8888888888888888,\"#fdca26\"],[1.0,\"#f0f921\"]]}],\"surface\":[{\"type\":\"surface\",\"colorbar\":{\"outlinewidth\":0,\"ticks\":\"\"},\"colorscale\":[[0.0,\"#0d0887\"],[0.1111111111111111,\"#46039f\"],[0.2222222222222222,\"#7201a8\"],[0.3333333333333333,\"#9c179e\"],[0.4444444444444444,\"#bd3786\"],[0.5555555555555556,\"#d8576b\"],[0.6666666666666666,\"#ed7953\"],[0.7777777777777778,\"#fb9f3a\"],[0.8888888888888888,\"#fdca26\"],[1.0,\"#f0f921\"]]}],\"mesh3d\":[{\"type\":\"mesh3d\",\"colorbar\":{\"outlinewidth\":0,\"ticks\":\"\"}}],\"scatter\":[{\"fillpattern\":{\"fillmode\":\"overlay\",\"size\":10,\"solidity\":0.2},\"type\":\"scatter\"}],\"parcoords\":[{\"type\":\"parcoords\",\"line\":{\"colorbar\":{\"outlinewidth\":0,\"ticks\":\"\"}}}],\"scatterpolargl\":[{\"type\":\"scatterpolargl\",\"marker\":{\"colorbar\":{\"outlinewidth\":0,\"ticks\":\"\"}}}],\"bar\":[{\"error_x\":{\"color\":\"#2a3f5f\"},\"error_y\":{\"color\":\"#2a3f5f\"},\"marker\":{\"line\":{\"color\":\"#E5ECF6\",\"width\":0.5},\"pattern\":{\"fillmode\":\"overlay\",\"size\":10,\"solidity\":0.2}},\"type\":\"bar\"}],\"scattergeo\":[{\"type\":\"scattergeo\",\"marker\":{\"colorbar\":{\"outlinewidth\":0,\"ticks\":\"\"}}}],\"scatterpolar\":[{\"type\":\"scatterpolar\",\"marker\":{\"colorbar\":{\"outlinewidth\":0,\"ticks\":\"\"}}}],\"histogram\":[{\"marker\":{\"pattern\":{\"fillmode\":\"overlay\",\"size\":10,\"solidity\":0.2}},\"type\":\"histogram\"}],\"scattergl\":[{\"type\":\"scattergl\",\"marker\":{\"colorbar\":{\"outlinewidth\":0,\"ticks\":\"\"}}}],\"scatter3d\":[{\"type\":\"scatter3d\",\"line\":{\"colorbar\":{\"outlinewidth\":0,\"ticks\":\"\"}},\"marker\":{\"colorbar\":{\"outlinewidth\":0,\"ticks\":\"\"}}}],\"scattermapbox\":[{\"type\":\"scattermapbox\",\"marker\":{\"colorbar\":{\"outlinewidth\":0,\"ticks\":\"\"}}}],\"scatterternary\":[{\"type\":\"scatterternary\",\"marker\":{\"colorbar\":{\"outlinewidth\":0,\"ticks\":\"\"}}}],\"scattercarpet\":[{\"type\":\"scattercarpet\",\"marker\":{\"colorbar\":{\"outlinewidth\":0,\"ticks\":\"\"}}}],\"carpet\":[{\"aaxis\":{\"endlinecolor\":\"#2a3f5f\",\"gridcolor\":\"white\",\"linecolor\":\"white\",\"minorgridcolor\":\"white\",\"startlinecolor\":\"#2a3f5f\"},\"baxis\":{\"endlinecolor\":\"#2a3f5f\",\"gridcolor\":\"white\",\"linecolor\":\"white\",\"minorgridcolor\":\"white\",\"startlinecolor\":\"#2a3f5f\"},\"type\":\"carpet\"}],\"table\":[{\"cells\":{\"fill\":{\"color\":\"#EBF0F8\"},\"line\":{\"color\":\"white\"}},\"header\":{\"fill\":{\"color\":\"#C8D4E3\"},\"line\":{\"color\":\"white\"}},\"type\":\"table\"}],\"barpolar\":[{\"marker\":{\"line\":{\"color\":\"#E5ECF6\",\"width\":0.5},\"pattern\":{\"fillmode\":\"overlay\",\"size\":10,\"solidity\":0.2}},\"type\":\"barpolar\"}],\"pie\":[{\"automargin\":true,\"type\":\"pie\"}]},\"layout\":{\"autotypenumbers\":\"strict\",\"colorway\":[\"#636efa\",\"#EF553B\",\"#00cc96\",\"#ab63fa\",\"#FFA15A\",\"#19d3f3\",\"#FF6692\",\"#B6E880\",\"#FF97FF\",\"#FECB52\"],\"font\":{\"color\":\"#2a3f5f\"},\"hovermode\":\"closest\",\"hoverlabel\":{\"align\":\"left\"},\"paper_bgcolor\":\"white\",\"plot_bgcolor\":\"#E5ECF6\",\"polar\":{\"bgcolor\":\"#E5ECF6\",\"angularaxis\":{\"gridcolor\":\"white\",\"linecolor\":\"white\",\"ticks\":\"\"},\"radialaxis\":{\"gridcolor\":\"white\",\"linecolor\":\"white\",\"ticks\":\"\"}},\"ternary\":{\"bgcolor\":\"#E5ECF6\",\"aaxis\":{\"gridcolor\":\"white\",\"linecolor\":\"white\",\"ticks\":\"\"},\"baxis\":{\"gridcolor\":\"white\",\"linecolor\":\"white\",\"ticks\":\"\"},\"caxis\":{\"gridcolor\":\"white\",\"linecolor\":\"white\",\"ticks\":\"\"}},\"coloraxis\":{\"colorbar\":{\"outlinewidth\":0,\"ticks\":\"\"}},\"colorscale\":{\"sequential\":[[0.0,\"#0d0887\"],[0.1111111111111111,\"#46039f\"],[0.2222222222222222,\"#7201a8\"],[0.3333333333333333,\"#9c179e\"],[0.4444444444444444,\"#bd3786\"],[0.5555555555555556,\"#d8576b\"],[0.6666666666666666,\"#ed7953\"],[0.7777777777777778,\"#fb9f3a\"],[0.8888888888888888,\"#fdca26\"],[1.0,\"#f0f921\"]],\"sequentialminus\":[[0.0,\"#0d0887\"],[0.1111111111111111,\"#46039f\"],[0.2222222222222222,\"#7201a8\"],[0.3333333333333333,\"#9c179e\"],[0.4444444444444444,\"#bd3786\"],[0.5555555555555556,\"#d8576b\"],[0.6666666666666666,\"#ed7953\"],[0.7777777777777778,\"#fb9f3a\"],[0.8888888888888888,\"#fdca26\"],[1.0,\"#f0f921\"]],\"diverging\":[[0,\"#8e0152\"],[0.1,\"#c51b7d\"],[0.2,\"#de77ae\"],[0.3,\"#f1b6da\"],[0.4,\"#fde0ef\"],[0.5,\"#f7f7f7\"],[0.6,\"#e6f5d0\"],[0.7,\"#b8e186\"],[0.8,\"#7fbc41\"],[0.9,\"#4d9221\"],[1,\"#276419\"]]},\"xaxis\":{\"gridcolor\":\"white\",\"linecolor\":\"white\",\"ticks\":\"\",\"title\":{\"standoff\":15},\"zerolinecolor\":\"white\",\"automargin\":true,\"zerolinewidth\":2},\"yaxis\":{\"gridcolor\":\"white\",\"linecolor\":\"white\",\"ticks\":\"\",\"title\":{\"standoff\":15},\"zerolinecolor\":\"white\",\"automargin\":true,\"zerolinewidth\":2},\"scene\":{\"xaxis\":{\"backgroundcolor\":\"#E5ECF6\",\"gridcolor\":\"white\",\"linecolor\":\"white\",\"showbackground\":true,\"ticks\":\"\",\"zerolinecolor\":\"white\",\"gridwidth\":2},\"yaxis\":{\"backgroundcolor\":\"#E5ECF6\",\"gridcolor\":\"white\",\"linecolor\":\"white\",\"showbackground\":true,\"ticks\":\"\",\"zerolinecolor\":\"white\",\"gridwidth\":2},\"zaxis\":{\"backgroundcolor\":\"#E5ECF6\",\"gridcolor\":\"white\",\"linecolor\":\"white\",\"showbackground\":true,\"ticks\":\"\",\"zerolinecolor\":\"white\",\"gridwidth\":2}},\"shapedefaults\":{\"line\":{\"color\":\"#2a3f5f\"}},\"annotationdefaults\":{\"arrowcolor\":\"#2a3f5f\",\"arrowhead\":0,\"arrowwidth\":1},\"geo\":{\"bgcolor\":\"white\",\"landcolor\":\"#E5ECF6\",\"subunitcolor\":\"white\",\"showland\":true,\"showlakes\":true,\"lakecolor\":\"white\"},\"title\":{\"x\":0.05},\"mapbox\":{\"style\":\"light\"}}},\"xaxis\":{\"anchor\":\"y\",\"domain\":[0.0,1.0],\"title\":{\"text\":\"value\"},\"categoryorder\":\"total ascending\"},\"yaxis\":{\"anchor\":\"x\",\"domain\":[0.0,1.0],\"title\":{\"text\":\"count\"}},\"legend\":{\"title\":{\"text\":\"variable\"},\"tracegroupgap\":0},\"margin\":{\"t\":60},\"barmode\":\"relative\"},                        {\"responsive\": true}                    ).then(function(){\n",
       "                            \n",
       "var gd = document.getElementById('d3b66712-6fc6-4d45-bf93-42f63f4170c3');\n",
       "var x = new MutationObserver(function (mutations, observer) {{\n",
       "        var display = window.getComputedStyle(gd).display;\n",
       "        if (!display || display === 'none') {{\n",
       "            console.log([gd, 'removed!']);\n",
       "            Plotly.purge(gd);\n",
       "            observer.disconnect();\n",
       "        }}\n",
       "}});\n",
       "\n",
       "// Listen for the removal of the full notebook cells\n",
       "var notebookContainer = gd.closest('#notebook-container');\n",
       "if (notebookContainer) {{\n",
       "    x.observe(notebookContainer, {childList: true});\n",
       "}}\n",
       "\n",
       "// Listen for the clearing of the current output cell\n",
       "var outputEl = gd.closest('.output');\n",
       "if (outputEl) {{\n",
       "    x.observe(outputEl, {childList: true});\n",
       "}}\n",
       "\n",
       "                        })                };                });            </script>        </div>"
      ]
     },
     "metadata": {},
     "output_type": "display_data"
    }
   ],
   "source": [
    "px.bar(diff_cut) \\\n",
    ".update_xaxes(categoryorder=\"total ascending\")\n",
    "#интерактивность графиков в том, что они не сохраняются?\n",
    "#Plotly is a more sophisticated tool than Seaborn and Bokeh, and it is well-suited for creating interactive visualizations with its well-designed tooling and APIs"
   ]
  },
  {
   "cell_type": "markdown",
   "id": "6bc09749",
   "metadata": {},
   "source": [
    "1. **от 90 до 180**\n",
    "2. **от 30 до 90**\n",
    "3. **от 180 до 365**\n",
    "4. **от 0 до 30**"
   ]
  }
 ],
 "metadata": {
  "kernelspec": {
   "display_name": "Python 3 (ipykernel)",
   "language": "python",
   "name": "python3"
  },
  "language_info": {
   "codemirror_mode": {
    "name": "ipython",
    "version": 3
   },
   "file_extension": ".py",
   "mimetype": "text/x-python",
   "name": "python",
   "nbconvert_exporter": "python",
   "pygments_lexer": "ipython3",
   "version": "3.10.11"
  }
 },
 "nbformat": 4,
 "nbformat_minor": 5
}
