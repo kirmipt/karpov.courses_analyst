{
 "cells": [
  {
   "cell_type": "markdown",
   "id": "48f41beb",
   "metadata": {},
   "source": [
    "## Ссылка на решение: [Приоритизация](https://docs.google.com/spreadsheets/d/1BJxUlH7DaGBvaWar_OUzak15etlqKG44ddoZVufhQgU/edit?usp=sharing)"
   ]
  }
 ],
 "metadata": {
  "kernelspec": {
   "display_name": "Python 3 (ipykernel)",
   "language": "python",
   "name": "python3"
  },
  "language_info": {
   "codemirror_mode": {
    "name": "ipython",
    "version": 3
   },
   "file_extension": ".py",
   "mimetype": "text/x-python",
   "name": "python",
   "nbconvert_exporter": "python",
   "pygments_lexer": "ipython3",
   "version": "3.10.11"
  }
 },
 "nbformat": 4,
 "nbformat_minor": 5
}
