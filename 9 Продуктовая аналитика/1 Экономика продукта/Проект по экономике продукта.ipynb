{
 "cells": [
  {
   "cell_type": "markdown",
   "id": "66c8a758",
   "metadata": {},
   "source": [
    "## Ссылка на решение: [Unit-экономика](https://docs.google.com/spreadsheets/d/1HwDg4cp6F-ti-C8UvhpRZy38j_qT28OT3E5voFC5DQ0/edit?usp=sharing)"
   ]
  }
 ],
 "metadata": {
  "kernelspec": {
   "display_name": "Python 3 (ipykernel)",
   "language": "python",
   "name": "python3"
  },
  "language_info": {
   "codemirror_mode": {
    "name": "ipython",
    "version": 3
   },
   "file_extension": ".py",
   "mimetype": "text/x-python",
   "name": "python",
   "nbconvert_exporter": "python",
   "pygments_lexer": "ipython3",
   "version": "3.10.11"
  }
 },
 "nbformat": 4,
 "nbformat_minor": 5
}
