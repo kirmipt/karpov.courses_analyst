{
 "cells": [
  {
   "cell_type": "markdown",
   "id": "55998242",
   "metadata": {},
   "source": [
    "# Часть 1\n",
    "Дана книга с графиками. Вам необходимо собрать дашборд, используя все графики из книги и прислать ссылку на опубликованный дашборд на Tableau Public. Сделайте дашборду подходящий заголовок, помните о правилах близости, контраста и направлении чтения.\n",
    "\n",
    "\n",
    "Решение: https://public.tableau.com/views/MonthlyProfitAnalysis/MonthlySalesOverviewDashboard2?:language=en-US&:display_count=n&:origin=viz_share_link\n",
    "\n",
    "\n",
    "# Часть 2\n",
    "Дан датасет с вакансиями аналитиков (HH_data.csv), которые нашлись по какому-то ключевому запросу на сайте hh. Одна и та же вакансия может быть найдена по нескольким запросам. Придумайте дашборд, состоящий минимум из трёх графиков, и пришлите ссылку на опубликованную работу. \n",
    "\n",
    "Примеры вопросов, на которые можно отвечать с помощью графиков:\n",
    "\n",
    "1. В каком месяце наблюдался наибольший спад количества вакансий?\n",
    "2. В каких городах больше 40 вакансий?\n",
    "3. В каких компаниях требуется наибольшее количество аналитиков?\n",
    "4. Зарабатывают больше с навыком Power BI или Tableau?\n",
    "5. Какие из вакансий имеют наибольший разброс по вилке?\n",
    "\n",
    "Описание полей:\n",
    "\n",
    "* archived — актуальная или в архиве\n",
    "* area_name — название региона \n",
    "* direction — направление аналитики для ключевого слова\n",
    "* employer_name — название работодателя \n",
    "* level — уровень позиции\n",
    "* name — название вакансии\n",
    "* published_at — дата публикации \n",
    "* query_string — поисковый запрос\n",
    "* type — тип поискового запроса (навык/профессия)\n",
    "* url — ссылка на вакансию\n",
    "* vacancy_id — id вакансии\n",
    "* lat — координаты вакансии, широта\n",
    "* lng — координаты вакансии, долгота\n",
    "* employer_id — id работодателя \n",
    "* salary, net — средняя зарплата в указной вилке после вычета налога\n",
    "* salary_from — минимальное значение зарплаты в вилке\n",
    "* salary_gross_flag — 0 — вилка указана net, 1 — вилка указана gross.\n",
    "* salary_to — максимальное значение зарплаты в вилке\n",
    "\n",
    "Решение: https://public.tableau.com/views/HH_17005342228360/Dashboard1?:language=en-US&:display_count=n&:origin=viz_share_link"
   ]
  }
 ],
 "metadata": {
  "kernelspec": {
   "display_name": "Python 3 (ipykernel)",
   "language": "python",
   "name": "python3"
  },
  "language_info": {
   "codemirror_mode": {
    "name": "ipython",
    "version": 3
   },
   "file_extension": ".py",
   "mimetype": "text/x-python",
   "name": "python",
   "nbconvert_exporter": "python",
   "pygments_lexer": "ipython3",
   "version": "3.10.11"
  }
 },
 "nbformat": 4,
 "nbformat_minor": 5
}
