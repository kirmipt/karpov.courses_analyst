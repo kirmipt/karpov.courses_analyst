{
 "cells": [
  {
   "cell_type": "markdown",
   "id": "32526cb3",
   "metadata": {},
   "source": [
    "Итак, настало время провести свой первый A/B тест.\n",
    "\n",
    "## Задание\n",
    "Представьте, что вы работаете аналитиком в очень крупной компании по доставке пиццы над приложением для курьеров (да, обычно в таких компаниях есть приложение для курьеров и отдельно приложение для потребителей).\n",
    "\n",
    "У вас есть несколько ресторанов в разных частях города и целый штат курьеров. Но есть одна проблема — к вечеру скорость доставки падает из-за того, что курьеры уходят домой после рабочего дня, а количество заказов лишь растет. Это приводит к тому, что в момент пересмены наша доставка очень сильно проседает в эффективности. \n",
    "\n",
    "Наши data scientist-ы придумали новый алгоритм, который позволяет курьерам запланировать свои последние заказы перед окончанием рабочего дня так, чтобы их маршрут доставки совпадал с маршрутом до дома. То есть, чтобы курьеры доставляли последние свои заказы за день как бы \"по пути\" домой. \n",
    "\n",
    "Вы вместе с командой решили раскатить A/B тест на две равные группы курьеров. Часть курьеров использует старый алгоритм без опции \"по пути\", другие видят в своем приложении эту опцию и могут ее выбрать. Ваша задача – проанализировать данные эксперимента и помочь бизнесу принять решение о раскатке новой фичи на всех курьеров.\n",
    "\n",
    "## Описание данных\n",
    "* `order_id - id` заказа\n",
    "* `delivery_time` - время доставки в минутах\n",
    "* `district` - район доставки\n",
    "* `experiment_group` - экспериментальная группа\n",
    "\n",
    "\n",
    "## Задание 1\n",
    "\n",
    "Для начала давайте сформулируем гипотезы для проверки. Выберите статистические гипотезы, которые мы сможем проверить в этом эксперименте:\n",
    "\n",
    "* Нулевая гипотеза (H0): Разница между средним временем доставки в тестовой и контрольной группе есть\n",
    "\n",
    "* **Альтернативная гипотеза (H1): Разница между средним временем доставки в тестовой и контрольной группе есть**\n",
    "\n",
    "* Нулевая гипотеза (H0): Изменение алгоритма не влияет на скорость доставки\n",
    "\n",
    "* Альтернативная гипотеза (H1): Разницы между средним временем доставки в тестовой и контрольной нет\n",
    "\n",
    "* **Нулевая гипотеза (H0): Разницы между средним временем доставки в тестовой и контрольной группе нет**\n",
    "\n",
    "* Альтернативная гипотеза (H1): Изменение алгоритма влияет на скорость доставки\n",
    "\n",
    "\n",
    "# Задание 2\n",
    "Сопоставьте графики распределения и  экспериментальные группы:\n",
    "\n",
    "A)\n",
    "![](https://ucarecdn.com/84dd7581-93ac-4914-81bd-07284b9f62ae/)\n",
    "\n",
    "Б)\n",
    "![](https://ucarecdn.com/b08ec5ac-4fe8-43fc-bd3d-3edac1349bd0/)"
   ]
  },
  {
   "cell_type": "code",
   "execution_count": 49,
   "id": "930c662c",
   "metadata": {},
   "outputs": [],
   "source": [
    "import pandas as pd\n",
    "import numpy as np\n",
    "import seaborn as sns\n",
    "import matplotlib.pyplot as plt\n",
    "\n",
    "import scipy\n",
    "from scipy import stats"
   ]
  },
  {
   "cell_type": "code",
   "execution_count": 3,
   "id": "7a329e5c",
   "metadata": {},
   "outputs": [
    {
     "data": {
      "text/html": [
       "<div>\n",
       "<style scoped>\n",
       "    .dataframe tbody tr th:only-of-type {\n",
       "        vertical-align: middle;\n",
       "    }\n",
       "\n",
       "    .dataframe tbody tr th {\n",
       "        vertical-align: top;\n",
       "    }\n",
       "\n",
       "    .dataframe thead th {\n",
       "        text-align: right;\n",
       "    }\n",
       "</style>\n",
       "<table border=\"1\" class=\"dataframe\">\n",
       "  <thead>\n",
       "    <tr style=\"text-align: right;\">\n",
       "      <th></th>\n",
       "      <th>order_id</th>\n",
       "      <th>delivery_time</th>\n",
       "      <th>district</th>\n",
       "      <th>experiment_group</th>\n",
       "    </tr>\n",
       "  </thead>\n",
       "  <tbody>\n",
       "    <tr>\n",
       "      <th>0</th>\n",
       "      <td>3159</td>\n",
       "      <td>44.0</td>\n",
       "      <td>Purlieus</td>\n",
       "      <td>control</td>\n",
       "    </tr>\n",
       "    <tr>\n",
       "      <th>1</th>\n",
       "      <td>10426</td>\n",
       "      <td>51.0</td>\n",
       "      <td>Purlieus</td>\n",
       "      <td>control</td>\n",
       "    </tr>\n",
       "    <tr>\n",
       "      <th>2</th>\n",
       "      <td>9155</td>\n",
       "      <td>46.0</td>\n",
       "      <td>Purlieus</td>\n",
       "      <td>control</td>\n",
       "    </tr>\n",
       "    <tr>\n",
       "      <th>3</th>\n",
       "      <td>10699</td>\n",
       "      <td>34.0</td>\n",
       "      <td>Purlieus</td>\n",
       "      <td>control</td>\n",
       "    </tr>\n",
       "    <tr>\n",
       "      <th>4</th>\n",
       "      <td>10061</td>\n",
       "      <td>43.0</td>\n",
       "      <td>Purlieus</td>\n",
       "      <td>control</td>\n",
       "    </tr>\n",
       "  </tbody>\n",
       "</table>\n",
       "</div>"
      ],
      "text/plain": [
       "   order_id  delivery_time  district experiment_group\n",
       "0      3159           44.0  Purlieus          control\n",
       "1     10426           51.0  Purlieus          control\n",
       "2      9155           46.0  Purlieus          control\n",
       "3     10699           34.0  Purlieus          control\n",
       "4     10061           43.0  Purlieus          control"
      ]
     },
     "execution_count": 3,
     "metadata": {},
     "output_type": "execute_result"
    }
   ],
   "source": [
    "data = pd.read_csv('data2/experiment_lesson_4.csv')\n",
    "data.head()"
   ]
  },
  {
   "cell_type": "code",
   "execution_count": 33,
   "id": "1b789619",
   "metadata": {},
   "outputs": [
    {
     "data": {
      "image/png": "[encoded data removed]",
      "text/plain": [
       "<Figure size 432x288 with 1 Axes>"
      ]
     },
     "metadata": {
      "needs_background": "light"
     },
     "output_type": "display_data"
    }
   ],
   "source": [
    "data.query(\"experiment_group == 'control'\").groupby('district').delivery_time.hist()\n",
    "sns.despine()"
   ]
  },
  {
   "cell_type": "code",
   "execution_count": 34,
   "id": "48e115bc",
   "metadata": {},
   "outputs": [
    {
     "data": {
      "image/png": "[encoded data removed]",
      "text/plain": [
       "<Figure size 432x288 with 1 Axes>"
      ]
     },
     "metadata": {
      "needs_background": "light"
     },
     "output_type": "display_data"
    }
   ],
   "source": [
    "data.query(\"experiment_group == 'test'\").groupby('district').delivery_time.hist()\n",
    "sns.despine()"
   ]
  },
  {
   "cell_type": "markdown",
   "id": "6812414f",
   "metadata": {},
   "source": [
    "б - `тест`\n",
    "\n",
    "а - `контроль`\n",
    "\n",
    "# Задание 3\n",
    "Посчитайте количество наблюдений в тестовой и контрольной группе. На сколько по модулю отличается количество наблюдений в тесте и контроле?"
   ]
  },
  {
   "cell_type": "code",
   "execution_count": 38,
   "id": "a2a7859a",
   "metadata": {},
   "outputs": [
    {
     "data": {
      "text/plain": [
       "10104"
      ]
     },
     "execution_count": 38,
     "metadata": {},
     "output_type": "execute_result"
    }
   ],
   "source": [
    "data.query(\"experiment_group == 'test'\").value_counts().sum()"
   ]
  },
  {
   "cell_type": "code",
   "execution_count": 39,
   "id": "4f3e3e02",
   "metadata": {},
   "outputs": [
    {
     "data": {
      "text/plain": [
       "10092"
      ]
     },
     "execution_count": 39,
     "metadata": {},
     "output_type": "execute_result"
    }
   ],
   "source": [
    "data.query(\"experiment_group == 'control'\").value_counts().sum()"
   ]
  },
  {
   "cell_type": "code",
   "execution_count": 40,
   "id": "833f1206",
   "metadata": {},
   "outputs": [
    {
     "data": {
      "text/plain": [
       "12"
      ]
     },
     "execution_count": 40,
     "metadata": {},
     "output_type": "execute_result"
    }
   ],
   "source": [
    "data.query(\"experiment_group == 'test'\").value_counts().sum() - \n",
    "data.query(\"experiment_group == 'control'\").value_counts().sum()"
   ]
  },
  {
   "cell_type": "markdown",
   "id": "5a367f86",
   "metadata": {},
   "source": [
    "Ответ: `12`\n",
    "\n",
    "\n",
    "# Задание 4\n",
    "Теперь давайте изучим наши распределения. Проверим выполнение условий на нормальность и посчитаем стандартное отклонение в тесте и в контроле.\n",
    "\n",
    "Обязательно сделайте семплирование перед применением критерия при проверке на нормальность (и для теста, и для контроля), так как на больших выборках вы можете получать неверные результаты: \n",
    "```python\n",
    "experiment[experiment['experiment_group'] == 'test']['delivery_time'].sample(1000, random_state=17)\n",
    "```\n",
    "Почему тест может дать здесь неправильный ответ? Загляните в подсказки - в первом пункте мы постарались осветить этот момент подробнее :)\n",
    "\n",
    "Заполните пропуски ниже:"
   ]
  },
  {
   "cell_type": "code",
   "execution_count": 72,
   "id": "930342ef",
   "metadata": {},
   "outputs": [
    {
     "data": {
      "text/plain": [
       "ShapiroResult(statistic=0.9975479245185852, pvalue=0.14013493061065674)"
      ]
     },
     "execution_count": 72,
     "metadata": {},
     "output_type": "execute_result"
    }
   ],
   "source": [
    "scipy.stats.shapiro(data[data['experiment_group'] == 'test']['delivery_time'].sample(1000, random_state=17))"
   ]
  },
  {
   "cell_type": "code",
   "execution_count": 73,
   "id": "0a047ee0",
   "metadata": {},
   "outputs": [
    {
     "data": {
      "text/plain": [
       "ShapiroResult(statistic=0.9974725842475891, pvalue=0.12411931157112122)"
      ]
     },
     "execution_count": 73,
     "metadata": {},
     "output_type": "execute_result"
    }
   ],
   "source": [
    "scipy.stats.shapiro(data[data['experiment_group'] == 'control']['delivery_time'].sample(1000, random_state=17))"
   ]
  },
  {
   "cell_type": "code",
   "execution_count": 70,
   "id": "67734494",
   "metadata": {},
   "outputs": [
    {
     "data": {
      "text/plain": [
       "9.88"
      ]
     },
     "execution_count": 70,
     "metadata": {},
     "output_type": "execute_result"
    }
   ],
   "source": [
    "np.round(data.query(\"experiment_group == 'test'\").delivery_time.std(), 2)"
   ]
  },
  {
   "cell_type": "code",
   "execution_count": 71,
   "id": "56782c9a",
   "metadata": {},
   "outputs": [
    {
     "data": {
      "text/plain": [
       "9.99"
      ]
     },
     "execution_count": 71,
     "metadata": {},
     "output_type": "execute_result"
    }
   ],
   "source": [
    "np.round(data.query(\"experiment_group == 'control'\").delivery_time.std(), 2)"
   ]
  },
  {
   "cell_type": "markdown",
   "id": "bcd5932a",
   "metadata": {},
   "source": [
    "Для того, чтобы проверить нормальность распределения, я использую `SHAPIRO-WILK TEST`. Этот тест показывает, что значения в тестовой группе распределены `НОРМАЛЬНО`. В контрольной группе распределение является `НОРМАЛЬНЫМ`. Стандартное отклонение времени доставки в тесте равно (округлите до сотых) `9.88`. Стандартное отклонение времени доставки в контроле равно (округлите до сотых) `9.99`.\n",
    "\n",
    "\n",
    "# Задание 5\n",
    "\n",
    "Пришло время сравнить средние в тесте и контроле. Внимание: здесь уже не нужно пользоваться методом .sample() — он нам нужен был только для теста Шапиро-Уилка, остальные тесты надо проводить на полных данных.\n",
    "\n",
    "Заполните пропуски ниже:"
   ]
  },
  {
   "cell_type": "code",
   "execution_count": 81,
   "id": "8cda6136",
   "metadata": {},
   "outputs": [
    {
     "data": {
      "text/plain": [
       "Ttest_indResult(statistic=-43.03582663183714, pvalue=0.0)"
      ]
     },
     "execution_count": 81,
     "metadata": {},
     "output_type": "execute_result"
    }
   ],
   "source": [
    "scipy.stats.ttest_ind(data.query(\"experiment_group == 'test'\").delivery_time, \n",
    "                      data.query(\"experiment_group == 'control'\").delivery_time )"
   ]
  },
  {
   "cell_type": "markdown",
   "id": "07e8d774",
   "metadata": {},
   "source": [
    "Для сравнения средних в данных экспериментальных группах я использую `STUDENT'S T-TEST`. Статистика в тесте равна (округлите до целого) `-43`, p-value `<= 0.05`.\n",
    "\n",
    "\n",
    "# Задание 6\n",
    "\n",
    "На сколько процентов изменилось среднее время доставки в тестовой группе по сравнению с контрольной (округлите до сотых)? \n",
    "\n",
    "Знак изменения необходимо учесть!"
   ]
  },
  {
   "cell_type": "code",
   "execution_count": 82,
   "id": "4254442d",
   "metadata": {},
   "outputs": [
    {
     "data": {
      "text/plain": [
       "39.04681314330958"
      ]
     },
     "execution_count": 82,
     "metadata": {},
     "output_type": "execute_result"
    }
   ],
   "source": [
    "data.query(\"experiment_group == 'test'\").delivery_time.mean()"
   ]
  },
  {
   "cell_type": "code",
   "execution_count": 83,
   "id": "c0af5e94",
   "metadata": {},
   "outputs": [
    {
     "data": {
      "text/plain": [
       "45.065101070154576"
      ]
     },
     "execution_count": 83,
     "metadata": {},
     "output_type": "execute_result"
    }
   ],
   "source": [
    "data.query(\"experiment_group == 'control'\").delivery_time.mean()"
   ]
  },
  {
   "cell_type": "code",
   "execution_count": 119,
   "id": "ee96b54a",
   "metadata": {},
   "outputs": [
    {
     "data": {
      "text/plain": [
       "-13.35"
      ]
     },
     "execution_count": 119,
     "metadata": {},
     "output_type": "execute_result"
    }
   ],
   "source": [
    "np.round(((data.query(\"experiment_group == 'test'\").delivery_time.mean() -\n",
    "         data.query(\"experiment_group == 'control'\").delivery_time.mean()) / \n",
    "         data.query(\"experiment_group == 'control'\").delivery_time.mean()) * 100, 2)"
   ]
  },
  {
   "cell_type": "markdown",
   "id": "f0f6e27d",
   "metadata": {},
   "source": [
    "Ответ: `-13.35`"
   ]
  },
  {
   "cell_type": "markdown",
   "id": "011645d6",
   "metadata": {},
   "source": [
    "# Что в итоге? Катим? \n",
    "\n",
    "* Да, раскатываем на всех, новый алгоритм напрямую влияет на скорость доставки.\n",
    "* Да, раскатываем новый алгоритм на всех, так как среднее время доставки статистически значимо изменилось. Среднее время доставки в тесте больше, чем в контроле.\n",
    "* **Да, раскатываем новый алгоритм на всех, так как среднее время доставки статистически значимо изменилось. Среднее время доставки в тесте меньше, чем в контроле.**\n",
    "* Не катим, так как среднее время доставки статистически значимо не изменилось."
   ]
  }
 ],
 "metadata": {
  "kernelspec": {
   "display_name": "Python 3 (ipykernel)",
   "language": "python",
   "name": "python3"
  },
  "language_info": {
   "codemirror_mode": {
    "name": "ipython",
    "version": 3
   },
   "file_extension": ".py",
   "mimetype": "text/x-python",
   "name": "python",
   "nbconvert_exporter": "python",
   "pygments_lexer": "ipython3",
   "version": "3.10.11"
  }
 },
 "nbformat": 4,
 "nbformat_minor": 5
}
