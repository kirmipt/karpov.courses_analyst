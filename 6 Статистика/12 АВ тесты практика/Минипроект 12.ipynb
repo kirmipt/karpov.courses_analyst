{
 "cells": [
  {
   "cell_type": "markdown",
   "id": "ba9435e6",
   "metadata": {},
   "source": [
    "# Практическое задание\n",
    "В этом занятии вам предстоит продолжить пример с лекции и протестировать несколько других гипотез.\n",
    "\n",
    "Есть данные о такси-компании, которая хочет изучить отток водителей и посмотреть, какие есть различия между водителями, которые покидают сервис, и которые остаются. Нужно сформулировать и протестировать гипотезы, выделить группы водителей, которые наиболее подвержены \"оттоку\". На основе результатов сделать выводы о том, что можно улучшить в сервисе, чтобы в дальнейшем внести изменения.\n",
    "\n",
    "### Вопросы для проверки:\n",
    "* Проверьте, есть ли различия в размерах оттока клиентов в разных городах (churn, city)\n",
    "* Есть ли разница в активности в первые 30 дней с момента регистрации между водителями из разных городов? (city, trips_in_first_30_days)\n",
    "* Может ли отток быть связан с активностью в первые 30 дней после регистрации? (churn, trips_in_first_30_days)\n",
    "\n",
    "Перед проведением тестов проверьте распределения переменных, а также удовлетворяются ли параметрические условия. В зависимости от этого выберите правильный метод (схема выбора – здесь). Возможно пригодятся:\n",
    "```python\n",
    "from scipy.stats import chi2_contingency, chi2, mannwhitneyu, shapiro, kruskal\n",
    "import statsmodels.api as sa \n",
    "import scikit_posthocs as sp  # sp.posthoc_dunn() для непараметрического аналога anova \n",
    "```\n",
    "\n",
    "## Описание данных\n",
    "* `city` – город\n",
    "* `phone` – основное устройство, которое использует водитель\n",
    "* `signup_date` – дата регистрации аккаунта (YYYYMMDD)\n",
    "* `last_trip_date` – дата последней поездки (YYYYMMDD)\n",
    "* `avg_dist` – среднее расстояние (в милях) за поездку в первые 30 дней после регистрации\n",
    "* `avg_rating_by_driver` – средняя оценка поездок водителем\n",
    "* `vg_rating_of_driver` – средняя оценка поездок водителя\n",
    "* `surge_pct` – процент поездок, совершенных с множителем > 1 (кажется когда большая загруженность и тд)\n",
    "* `avg_surge` – средний множитель всплеска за все поездки этого водителя\n",
    "* `trips_in_first_30_days` – количество поездок, которые совершил водитель в первые 30 дней после регистрации\n",
    "* `luxury_car_user` – TRUE, если пользователь в первые 30 дней использовал премиум-автомобиль\n",
    "* `weekday_pct` – процент поездок пользователя, совершенных в будние дни"
   ]
  },
  {
   "cell_type": "code",
   "execution_count": 3,
   "id": "c3fc9fc4",
   "metadata": {},
   "outputs": [],
   "source": [
    "import scipy.stats as ss\n",
    "from scipy.stats import chi2_contingency, chi2, kruskal, mannwhitneyu\n",
    "import scikit_posthocs as sp\n",
    "import pingouin as pg\n",
    "\n",
    "import numpy as np\n",
    "import pandas as pd\n",
    "import seaborn as sns\n",
    "import matplotlib.pyplot as plt\n",
    "\n",
    "\n",
    "import warnings\n",
    "warnings.filterwarnings(\"ignore\")\n",
    "\n",
    "%matplotlib inline"
   ]
  },
  {
   "cell_type": "markdown",
   "id": "bd2c9a8c",
   "metadata": {},
   "source": [
    "### Проверьте, есть ли различия в размерах оттока клиентов в разных городах (churn, city)"
   ]
  },
  {
   "cell_type": "code",
   "execution_count": 4,
   "id": "842d97c0",
   "metadata": {},
   "outputs": [
    {
     "data": {
      "text/html": [
       "<div>\n",
       "<style scoped>\n",
       "    .dataframe tbody tr th:only-of-type {\n",
       "        vertical-align: middle;\n",
       "    }\n",
       "\n",
       "    .dataframe tbody tr th {\n",
       "        vertical-align: top;\n",
       "    }\n",
       "\n",
       "    .dataframe thead th {\n",
       "        text-align: right;\n",
       "    }\n",
       "</style>\n",
       "<table border=\"1\" class=\"dataframe\">\n",
       "  <thead>\n",
       "    <tr style=\"text-align: right;\">\n",
       "      <th></th>\n",
       "      <th>avg_dist</th>\n",
       "      <th>avg_rating_by_driver</th>\n",
       "      <th>avg_rating_of_driver</th>\n",
       "      <th>avg_surge</th>\n",
       "      <th>city</th>\n",
       "      <th>last_trip_date</th>\n",
       "      <th>phone</th>\n",
       "      <th>signup_date</th>\n",
       "      <th>surge_pct</th>\n",
       "      <th>trips_in_first_30_days</th>\n",
       "      <th>luxury_car_user</th>\n",
       "      <th>weekday_pct</th>\n",
       "    </tr>\n",
       "  </thead>\n",
       "  <tbody>\n",
       "    <tr>\n",
       "      <th>0</th>\n",
       "      <td>3.67</td>\n",
       "      <td>5.0</td>\n",
       "      <td>4.7</td>\n",
       "      <td>1.10</td>\n",
       "      <td>King's Landing</td>\n",
       "      <td>2014-06-17</td>\n",
       "      <td>iPhone</td>\n",
       "      <td>2014-01-25</td>\n",
       "      <td>15.4</td>\n",
       "      <td>4</td>\n",
       "      <td>True</td>\n",
       "      <td>46.2</td>\n",
       "    </tr>\n",
       "    <tr>\n",
       "      <th>1</th>\n",
       "      <td>8.26</td>\n",
       "      <td>5.0</td>\n",
       "      <td>5.0</td>\n",
       "      <td>1.00</td>\n",
       "      <td>Astapor</td>\n",
       "      <td>2014-05-05</td>\n",
       "      <td>Android</td>\n",
       "      <td>2014-01-29</td>\n",
       "      <td>0.0</td>\n",
       "      <td>0</td>\n",
       "      <td>False</td>\n",
       "      <td>50.0</td>\n",
       "    </tr>\n",
       "    <tr>\n",
       "      <th>2</th>\n",
       "      <td>0.77</td>\n",
       "      <td>5.0</td>\n",
       "      <td>4.3</td>\n",
       "      <td>1.00</td>\n",
       "      <td>Astapor</td>\n",
       "      <td>2014-01-07</td>\n",
       "      <td>iPhone</td>\n",
       "      <td>2014-01-06</td>\n",
       "      <td>0.0</td>\n",
       "      <td>3</td>\n",
       "      <td>False</td>\n",
       "      <td>100.0</td>\n",
       "    </tr>\n",
       "    <tr>\n",
       "      <th>3</th>\n",
       "      <td>2.36</td>\n",
       "      <td>4.9</td>\n",
       "      <td>4.6</td>\n",
       "      <td>1.14</td>\n",
       "      <td>King's Landing</td>\n",
       "      <td>2014-06-29</td>\n",
       "      <td>iPhone</td>\n",
       "      <td>2014-01-10</td>\n",
       "      <td>20.0</td>\n",
       "      <td>9</td>\n",
       "      <td>True</td>\n",
       "      <td>80.0</td>\n",
       "    </tr>\n",
       "    <tr>\n",
       "      <th>4</th>\n",
       "      <td>3.13</td>\n",
       "      <td>4.9</td>\n",
       "      <td>4.4</td>\n",
       "      <td>1.19</td>\n",
       "      <td>Winterfell</td>\n",
       "      <td>2014-03-15</td>\n",
       "      <td>Android</td>\n",
       "      <td>2014-01-27</td>\n",
       "      <td>11.8</td>\n",
       "      <td>14</td>\n",
       "      <td>False</td>\n",
       "      <td>82.4</td>\n",
       "    </tr>\n",
       "  </tbody>\n",
       "</table>\n",
       "</div>"
      ],
      "text/plain": [
       "   avg_dist  avg_rating_by_driver  avg_rating_of_driver  avg_surge  \\\n",
       "0      3.67                   5.0                   4.7       1.10   \n",
       "1      8.26                   5.0                   5.0       1.00   \n",
       "2      0.77                   5.0                   4.3       1.00   \n",
       "3      2.36                   4.9                   4.6       1.14   \n",
       "4      3.13                   4.9                   4.4       1.19   \n",
       "\n",
       "             city last_trip_date    phone signup_date  surge_pct  \\\n",
       "0  King's Landing     2014-06-17   iPhone  2014-01-25       15.4   \n",
       "1         Astapor     2014-05-05  Android  2014-01-29        0.0   \n",
       "2         Astapor     2014-01-07   iPhone  2014-01-06        0.0   \n",
       "3  King's Landing     2014-06-29   iPhone  2014-01-10       20.0   \n",
       "4      Winterfell     2014-03-15  Android  2014-01-27       11.8   \n",
       "\n",
       "   trips_in_first_30_days  luxury_car_user  weekday_pct  \n",
       "0                       4             True         46.2  \n",
       "1                       0            False         50.0  \n",
       "2                       3            False        100.0  \n",
       "3                       9             True         80.0  \n",
       "4                      14            False         82.4  "
      ]
     },
     "execution_count": 4,
     "metadata": {},
     "output_type": "execute_result"
    }
   ],
   "source": [
    "df = pd.read_csv('churn.csv', parse_dates=['last_trip_date', 'signup_date'])\n",
    "df.head()"
   ]
  },
  {
   "cell_type": "code",
   "execution_count": 5,
   "id": "449a9377",
   "metadata": {},
   "outputs": [],
   "source": [
    "sincelast = (df.last_trip_date.max()-df.last_trip_date).dt.days"
   ]
  },
  {
   "cell_type": "code",
   "execution_count": 6,
   "id": "9dc5e3e6",
   "metadata": {},
   "outputs": [
    {
     "data": {
      "text/plain": [
       "181"
      ]
     },
     "execution_count": 6,
     "metadata": {},
     "output_type": "execute_result"
    }
   ],
   "source": [
    "sincelast.max()"
   ]
  },
  {
   "cell_type": "code",
   "execution_count": 7,
   "id": "605064bf",
   "metadata": {
    "scrolled": false
   },
   "outputs": [
    {
     "data": {
      "text/html": [
       "<div>\n",
       "<style scoped>\n",
       "    .dataframe tbody tr th:only-of-type {\n",
       "        vertical-align: middle;\n",
       "    }\n",
       "\n",
       "    .dataframe tbody tr th {\n",
       "        vertical-align: top;\n",
       "    }\n",
       "\n",
       "    .dataframe thead th {\n",
       "        text-align: right;\n",
       "    }\n",
       "</style>\n",
       "<table border=\"1\" class=\"dataframe\">\n",
       "  <thead>\n",
       "    <tr style=\"text-align: right;\">\n",
       "      <th></th>\n",
       "      <th>avg_dist</th>\n",
       "      <th>avg_rating_by_driver</th>\n",
       "      <th>avg_rating_of_driver</th>\n",
       "      <th>avg_surge</th>\n",
       "      <th>city</th>\n",
       "      <th>last_trip_date</th>\n",
       "      <th>phone</th>\n",
       "      <th>signup_date</th>\n",
       "      <th>surge_pct</th>\n",
       "      <th>trips_in_first_30_days</th>\n",
       "      <th>luxury_car_user</th>\n",
       "      <th>weekday_pct</th>\n",
       "      <th>churn</th>\n",
       "    </tr>\n",
       "  </thead>\n",
       "  <tbody>\n",
       "    <tr>\n",
       "      <th>0</th>\n",
       "      <td>3.67</td>\n",
       "      <td>5.0</td>\n",
       "      <td>4.7</td>\n",
       "      <td>1.10</td>\n",
       "      <td>King's Landing</td>\n",
       "      <td>2014-06-17</td>\n",
       "      <td>iPhone</td>\n",
       "      <td>2014-01-25</td>\n",
       "      <td>15.4</td>\n",
       "      <td>4</td>\n",
       "      <td>True</td>\n",
       "      <td>46.2</td>\n",
       "      <td>churn</td>\n",
       "    </tr>\n",
       "    <tr>\n",
       "      <th>1</th>\n",
       "      <td>8.26</td>\n",
       "      <td>5.0</td>\n",
       "      <td>5.0</td>\n",
       "      <td>1.00</td>\n",
       "      <td>Astapor</td>\n",
       "      <td>2014-05-05</td>\n",
       "      <td>Android</td>\n",
       "      <td>2014-01-29</td>\n",
       "      <td>0.0</td>\n",
       "      <td>0</td>\n",
       "      <td>False</td>\n",
       "      <td>50.0</td>\n",
       "      <td>not_churn</td>\n",
       "    </tr>\n",
       "    <tr>\n",
       "      <th>2</th>\n",
       "      <td>0.77</td>\n",
       "      <td>5.0</td>\n",
       "      <td>4.3</td>\n",
       "      <td>1.00</td>\n",
       "      <td>Astapor</td>\n",
       "      <td>2014-01-07</td>\n",
       "      <td>iPhone</td>\n",
       "      <td>2014-01-06</td>\n",
       "      <td>0.0</td>\n",
       "      <td>3</td>\n",
       "      <td>False</td>\n",
       "      <td>100.0</td>\n",
       "      <td>not_churn</td>\n",
       "    </tr>\n",
       "    <tr>\n",
       "      <th>3</th>\n",
       "      <td>2.36</td>\n",
       "      <td>4.9</td>\n",
       "      <td>4.6</td>\n",
       "      <td>1.14</td>\n",
       "      <td>King's Landing</td>\n",
       "      <td>2014-06-29</td>\n",
       "      <td>iPhone</td>\n",
       "      <td>2014-01-10</td>\n",
       "      <td>20.0</td>\n",
       "      <td>9</td>\n",
       "      <td>True</td>\n",
       "      <td>80.0</td>\n",
       "      <td>churn</td>\n",
       "    </tr>\n",
       "    <tr>\n",
       "      <th>4</th>\n",
       "      <td>3.13</td>\n",
       "      <td>4.9</td>\n",
       "      <td>4.4</td>\n",
       "      <td>1.19</td>\n",
       "      <td>Winterfell</td>\n",
       "      <td>2014-03-15</td>\n",
       "      <td>Android</td>\n",
       "      <td>2014-01-27</td>\n",
       "      <td>11.8</td>\n",
       "      <td>14</td>\n",
       "      <td>False</td>\n",
       "      <td>82.4</td>\n",
       "      <td>not_churn</td>\n",
       "    </tr>\n",
       "  </tbody>\n",
       "</table>\n",
       "</div>"
      ],
      "text/plain": [
       "   avg_dist  avg_rating_by_driver  avg_rating_of_driver  avg_surge  \\\n",
       "0      3.67                   5.0                   4.7       1.10   \n",
       "1      8.26                   5.0                   5.0       1.00   \n",
       "2      0.77                   5.0                   4.3       1.00   \n",
       "3      2.36                   4.9                   4.6       1.14   \n",
       "4      3.13                   4.9                   4.4       1.19   \n",
       "\n",
       "             city last_trip_date    phone signup_date  surge_pct  \\\n",
       "0  King's Landing     2014-06-17   iPhone  2014-01-25       15.4   \n",
       "1         Astapor     2014-05-05  Android  2014-01-29        0.0   \n",
       "2         Astapor     2014-01-07   iPhone  2014-01-06        0.0   \n",
       "3  King's Landing     2014-06-29   iPhone  2014-01-10       20.0   \n",
       "4      Winterfell     2014-03-15  Android  2014-01-27       11.8   \n",
       "\n",
       "   trips_in_first_30_days  luxury_car_user  weekday_pct      churn  \n",
       "0                       4             True         46.2      churn  \n",
       "1                       0            False         50.0  not_churn  \n",
       "2                       3            False        100.0  not_churn  \n",
       "3                       9             True         80.0      churn  \n",
       "4                      14            False         82.4  not_churn  "
      ]
     },
     "execution_count": 7,
     "metadata": {},
     "output_type": "execute_result"
    }
   ],
   "source": [
    "df['churn'] = pd.cut(sincelast, [0, 31, 181], labels = ['churn', 'not_churn'])\n",
    "df.head()"
   ]
  },
  {
   "cell_type": "code",
   "execution_count": 8,
   "id": "a3063fc3",
   "metadata": {
    "scrolled": true
   },
   "outputs": [
    {
     "data": {
      "image/png": "[encoded data removed]",
      "text/plain": [
       "<Figure size 640x480 with 1 Axes>"
      ]
     },
     "metadata": {},
     "output_type": "display_data"
    }
   ],
   "source": [
    "#churn зав от city? - \n",
    "#номин/номин - chi2\n",
    "#barplot\n",
    "bar = df[df.churn=='churn'].groupby('city').size() / df.groupby('city').size()\n",
    "bar = bar.mul(100)\n",
    "sns.barplot(x=bar.index, y=bar.values)\n",
    "sns.despine()"
   ]
  },
  {
   "cell_type": "code",
   "execution_count": 9,
   "id": "c46d8e99",
   "metadata": {},
   "outputs": [
    {
     "data": {
      "text/html": [
       "<div>\n",
       "<style scoped>\n",
       "    .dataframe tbody tr th:only-of-type {\n",
       "        vertical-align: middle;\n",
       "    }\n",
       "\n",
       "    .dataframe tbody tr th {\n",
       "        vertical-align: top;\n",
       "    }\n",
       "\n",
       "    .dataframe thead th {\n",
       "        text-align: right;\n",
       "    }\n",
       "</style>\n",
       "<table border=\"1\" class=\"dataframe\">\n",
       "  <thead>\n",
       "    <tr style=\"text-align: right;\">\n",
       "      <th>city</th>\n",
       "      <th>Astapor</th>\n",
       "      <th>King's Landing</th>\n",
       "      <th>Winterfell</th>\n",
       "    </tr>\n",
       "    <tr>\n",
       "      <th>churn</th>\n",
       "      <th></th>\n",
       "      <th></th>\n",
       "      <th></th>\n",
       "    </tr>\n",
       "  </thead>\n",
       "  <tbody>\n",
       "    <tr>\n",
       "      <th>churn</th>\n",
       "      <td>4298</td>\n",
       "      <td>6206</td>\n",
       "      <td>8171</td>\n",
       "    </tr>\n",
       "    <tr>\n",
       "      <th>not_churn</th>\n",
       "      <td>12137</td>\n",
       "      <td>3721</td>\n",
       "      <td>14919</td>\n",
       "    </tr>\n",
       "  </tbody>\n",
       "</table>\n",
       "</div>"
      ],
      "text/plain": [
       "city       Astapor  King's Landing  Winterfell\n",
       "churn                                         \n",
       "churn         4298            6206        8171\n",
       "not_churn    12137            3721       14919"
      ]
     },
     "execution_count": 9,
     "metadata": {},
     "output_type": "execute_result"
    }
   ],
   "source": [
    "pd.crosstab(df.churn, df.city)"
   ]
  },
  {
   "cell_type": "code",
   "execution_count": 10,
   "id": "397d2ec4",
   "metadata": {},
   "outputs": [],
   "source": [
    "#таксисты в игре престолов... ладно"
   ]
  },
  {
   "cell_type": "code",
   "execution_count": 11,
   "id": "9325df84",
   "metadata": {},
   "outputs": [],
   "source": [
    "#требования\n",
    "#1. Все наблюдения независимы\n",
    "#2. Количество наблюдений в каждой ячейке больше 5"
   ]
  },
  {
   "cell_type": "code",
   "execution_count": 12,
   "id": "14a2cc35",
   "metadata": {},
   "outputs": [],
   "source": [
    "stat, p, dof, expected = chi2_contingency(pd.crosstab(df.churn, df.city))"
   ]
  },
  {
   "cell_type": "code",
   "execution_count": 13,
   "id": "66ab87b8",
   "metadata": {
    "scrolled": true
   },
   "outputs": [
    {
     "data": {
      "text/plain": [
       "True"
      ]
     },
     "execution_count": 13,
     "metadata": {},
     "output_type": "execute_result"
    }
   ],
   "source": [
    "p<=0.05\n",
    "#отклоняем H0 о независимости от города"
   ]
  },
  {
   "cell_type": "markdown",
   "id": "ffd67d26",
   "metadata": {},
   "source": [
    "Для проверки этой гипотезы я использую `ХИ-КВАДРАТ`, поскольку переменные: `ОБЕ КАТЕГОРИАЛЬНЫЕ`. Нулевая гипотеза `ОТКЛОНЯЕТСЯ`, поскольку `p-value < 0. 05`. Значит, `ВЗАИМОСВЯЗЬ ЕСТЬ`.\n",
    "\n",
    "## Есть ли разница в активности в первые 30 дней с момента регистрации между водителями из разных городов? (city, trips_in_first_30_days)\n",
    "\n",
    "Проверим распределение на нормальность:\n",
    "```python\n",
    "from scipy.stats import shapiro\n",
    "```\n",
    "\n",
    "Не забудьте использовать .sample(1000)."
   ]
  },
  {
   "cell_type": "code",
   "execution_count": 14,
   "id": "a055a9f4",
   "metadata": {},
   "outputs": [],
   "source": [
    "#зависимость поездок в первый месяц   от   города\n",
    "# numerical/categorical - Anova"
   ]
  },
  {
   "cell_type": "markdown",
   "id": "0b768b45",
   "metadata": {},
   "source": [
    "чек требований \n",
    "<br>1 дисп levene \n",
    "<br>2 если выборки<30 то shapiro - у нас >30\n",
    "<br>2 если не равн размер выборок то shapiro - но у нас не равные выборки"
   ]
  },
  {
   "cell_type": "code",
   "execution_count": 15,
   "id": "7e75b8c6",
   "metadata": {},
   "outputs": [
    {
     "data": {
      "text/html": [
       "<div>\n",
       "<style scoped>\n",
       "    .dataframe tbody tr th:only-of-type {\n",
       "        vertical-align: middle;\n",
       "    }\n",
       "\n",
       "    .dataframe tbody tr th {\n",
       "        vertical-align: top;\n",
       "    }\n",
       "\n",
       "    .dataframe thead th {\n",
       "        text-align: right;\n",
       "    }\n",
       "</style>\n",
       "<table border=\"1\" class=\"dataframe\">\n",
       "  <thead>\n",
       "    <tr style=\"text-align: right;\">\n",
       "      <th></th>\n",
       "      <th>W</th>\n",
       "      <th>pval</th>\n",
       "      <th>equal_var</th>\n",
       "    </tr>\n",
       "  </thead>\n",
       "  <tbody>\n",
       "    <tr>\n",
       "      <th>levene</th>\n",
       "      <td>98.098728</td>\n",
       "      <td>3.017436e-43</td>\n",
       "      <td>False</td>\n",
       "    </tr>\n",
       "  </tbody>\n",
       "</table>\n",
       "</div>"
      ],
      "text/plain": [
       "                W          pval  equal_var\n",
       "levene  98.098728  3.017436e-43      False"
      ]
     },
     "execution_count": 15,
     "metadata": {},
     "output_type": "execute_result"
    }
   ],
   "source": [
    "pg.homoscedasticity(data=df, dv='trips_in_first_30_days', \n",
    "                          group='city')"
   ]
  },
  {
   "cell_type": "code",
   "execution_count": 16,
   "id": "f44c6041",
   "metadata": {},
   "outputs": [
    {
     "name": "stdout",
     "output_type": "stream",
     "text": [
      "ShapiroResult(statistic=0.5591932535171509, pvalue=1.961817850054744e-44)\n",
      "ShapiroResult(statistic=0.607285737991333, pvalue=1.0047309989208938e-42)\n",
      "ShapiroResult(statistic=0.6106932163238525, pvalue=1.3508517196091237e-42)\n"
     ]
    }
   ],
   "source": [
    "city = [x for x in df.city.unique()]\n",
    "dfshap = [0] * 3\n",
    "s=[0]*3\n",
    "\n",
    "for i in [*range(3)]:\n",
    "    s[i] = df[df.city==city[i]].trips_in_first_30_days\n",
    "    print(ss.shapiro(s[i].sample(1000, replace=True, random_state=17)))"
   ]
  },
  {
   "cell_type": "markdown",
   "id": "dfe41041",
   "metadata": {},
   "source": [
    "Левен не пройден, Шапиро не пройден => нужен Kruskal"
   ]
  },
  {
   "cell_type": "markdown",
   "id": "97999b6b",
   "metadata": {},
   "source": [
    "* Распределения не являются нормальными, поэтому используем ANOVA\n",
    "* **Распределения не являются нормальными, поэтому используем непараметрический аналог ANOVA – критерий Краскела-Уоллиса**\n",
    "* Распределения являются нормальными, поэтому используем ANOVA\n",
    "* Распределения являются нормальными, поэтому используем t-test\n",
    "* Распределения являются нормальными, поэтому используем непараметрический аналог ANOVA – критерий Краскела-Уоллиса\n",
    "\n",
    "## Есть ли разница в активности в первые 30 дней с момента регистрации между водителями из разных городов? (city, trips_in_first_30_days)"
   ]
  },
  {
   "cell_type": "code",
   "execution_count": 17,
   "id": "c859d039",
   "metadata": {},
   "outputs": [
    {
     "data": {
      "text/plain": [
       "KruskalResult(statistic=221.32105325317454, pvalue=8.724567791938856e-49)"
      ]
     },
     "execution_count": 17,
     "metadata": {},
     "output_type": "execute_result"
    }
   ],
   "source": [
    "kruskal(s[0], s[1], s[2])"
   ]
  },
  {
   "cell_type": "code",
   "execution_count": 18,
   "id": "e1d9b275",
   "metadata": {},
   "outputs": [],
   "source": [
    "#откл H0\n",
    "#хотя бы одна пара ср отличается\n",
    "#город влияет на количество поездок"
   ]
  },
  {
   "cell_type": "markdown",
   "id": "2840af08",
   "metadata": {},
   "source": [
    "Обнаружены ли статистически значимые различия?\n",
    "\n",
    "* **Да**\n",
    "* Нет\n",
    "\n",
    "## Может ли отток быть связан с активностью в первые 30 дней после регистрации? (churn, trips_in_first_30_days)"
   ]
  },
  {
   "cell_type": "code",
   "execution_count": 19,
   "id": "28781a52",
   "metadata": {},
   "outputs": [],
   "source": [
    "#categ(2lvl-s) и numer переменные - номинативная разделяет на 2 выборки \n",
    "# используем T-test \n",
    "#можно было быприменить логистическую регрессию, но модель оказалась\n",
    "#ненадежной(R-sq = 0.03)"
   ]
  },
  {
   "cell_type": "code",
   "execution_count": 20,
   "id": "0336d166",
   "metadata": {},
   "outputs": [],
   "source": [
    "churn = df[df.churn == 'churn'].trips_in_first_30_days\n",
    "not_churn = df[df.churn == 'not_churn'].trips_in_first_30_days"
   ]
  },
  {
   "cell_type": "code",
   "execution_count": 21,
   "id": "38f93411",
   "metadata": {},
   "outputs": [
    {
     "data": {
      "image/png": "[encoded data removed]",
      "text/plain": [
       "<Figure size 640x480 with 1 Axes>"
      ]
     },
     "metadata": {},
     "output_type": "display_data"
    }
   ],
   "source": [
    "sns.distplot(churn)\n",
    "sns.despine()"
   ]
  },
  {
   "cell_type": "code",
   "execution_count": 22,
   "id": "897adf6f",
   "metadata": {},
   "outputs": [
    {
     "data": {
      "image/png": "[encoded data removed]",
      "text/plain": [
       "<Figure size 640x480 with 1 Axes>"
      ]
     },
     "metadata": {},
     "output_type": "display_data"
    }
   ],
   "source": [
    "sns.distplot(not_churn)\n",
    "sns.despine()"
   ]
  },
  {
   "cell_type": "code",
   "execution_count": 23,
   "id": "62ed8c70",
   "metadata": {},
   "outputs": [
    {
     "data": {
      "text/plain": [
       "MannwhitneyuResult(statistic=341629370.5, pvalue=3.0609441759773124e-288)"
      ]
     },
     "execution_count": 23,
     "metadata": {},
     "output_type": "execute_result"
    }
   ],
   "source": [
    "mannwhitneyu(churn, not_churn)"
   ]
  },
  {
   "cell_type": "code",
   "execution_count": 24,
   "id": "bae26e1d",
   "metadata": {
    "scrolled": true
   },
   "outputs": [
    {
     "data": {
      "image/png": "[encoded data removed]",
      "text/plain": [
       "<Figure size 640x480 with 1 Axes>"
      ]
     },
     "metadata": {},
     "output_type": "display_data"
    }
   ],
   "source": [
    "sns.pointplot(x='churn', y='trips_in_first_30_days', data=df)\n",
    "sns.despine()"
   ]
  },
  {
   "cell_type": "markdown",
   "id": "94965e4c",
   "metadata": {},
   "source": [
    "Распределение переменной trips_in_first_30_days `НЕ ЯВЛЯЕТСЯ НОРМАЛЬНЫМ`, поэтому для проверки гипотезы я использую `U-КРИТЕРИЙ МАННА-УИТНИ`. Результат оказался статистически `ЗНАЧИМ`. Значит, `ЗНАЧИМЫЕ РАЗЛИЧИЯ ЕСТЬ, УШЕДШИЕ ПОЛЬЗОВАТЕЛИ БЫЛИ МЕНЕЕ АКТИВНЫ`."
   ]
  }
 ],
 "metadata": {
  "kernelspec": {
   "display_name": "Python 3 (ipykernel)",
   "language": "python",
   "name": "python3"
  },
  "language_info": {
   "codemirror_mode": {
    "name": "ipython",
    "version": 3
   },
   "file_extension": ".py",
   "mimetype": "text/x-python",
   "name": "python",
   "nbconvert_exporter": "python",
   "pygments_lexer": "ipython3",
   "version": "3.10.11"
  }
 },
 "nbformat": 4,
 "nbformat_minor": 5
}
