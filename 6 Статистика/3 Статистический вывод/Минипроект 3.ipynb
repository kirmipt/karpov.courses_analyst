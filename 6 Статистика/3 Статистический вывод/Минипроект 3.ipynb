{
 "cells": [
  {
   "cell_type": "markdown",
   "id": "68cc3d44",
   "metadata": {},
   "source": [
    "Представьте, что вы работаете аналитиком в компании, которая занимается арендой велосипедов. Коллега из офиса в Лондоне прислал вам данные за два года: с 4 января 2015 по 3 января 2017. Вам предстоит изучить динамику числа аренд, наличие связи с погодными условиями и выходными, а также объяснить несколько аномалий на графике.\n",
    "\n",
    "## Задания\n",
    "Загрузите данные, проверьте число наблюдений и столбцов, наличие пропусков. Убедитесь, что типы данных были прочитаны правильно. При необходимости – приведите переменные к нужным типам.\n",
    "Постройте график по числу поездок по дате и времени.\n",
    "Преобразуйте данные и посчитайте число поездок по дням. Визуализируйте результат.\n",
    "Используйте агрегированные данные по дням и посчитайте скользящее среднее с окном 3. В качестве ответа укажите полученное число аренд за 2015-07-09, округлив значение до целого.\n",
    "Посчитайте разницу между наблюдаемыми и значениями, подсчитанными с помощью скользящего среднего. Далее – найдите стандартное отклонение.\n",
    "Определите границы 99% доверительного интервала, добавьте данную информацию в датафрейм.\n",
    "Изучите аномально высокие значения и укажите день, когда число аренд было наибольшим. Найдите причину данной аномалии.\n",
    "Изучите аномально низкие значения, найдите день с наименьшим числом аренд. Найдите причину данной аномалии.\n",
    "\n",
    "## Описание данных\n",
    "* timestamp – дата и время (точность до часа)\n",
    "* cnt – количество аренд велосипедов за этот час\n",
    "* t1 – температура, в С\n",
    "* t2 – температура \"ощущается как\", в С \n",
    "* hum – влажность (%)\n",
    "* wind_speed – скорость ветра, км/ч\n",
    "* weather_code – погодные условия:\n",
    "\n",
    "1 – ясно (SKC)\n",
    "\n",
    "2 – преимущественно ясно / встречаются отдельные облака (SCT)\n",
    "\n",
    "3 – облачно / значительные облака (BKN)\n",
    "\n",
    "4 – пасмурно (OVC)\n",
    "\n",
    "7 – небольшой дождь Rain/ light Rain shower/ Light rain \n",
    "\n",
    "10 – дождь с грозой\n",
    "\n",
    "26 – снегопад \n",
    "\n",
    "94 – ледяной туман (да, такое бывает!)\n",
    "\n",
    "* isholiday – является ли день праздником (1 – праздник, 0 – нет)\n",
    "* isweekend –  является ли день выходным (1 – выходной, 0 – нет)\n",
    "* season – метеорологический сезон (0 – весна, 1 – лето, 2 – осень, 3 – зима)\n",
    "\n",
    "### Задание 1\n",
    "\n",
    "**Загрузите данные, проверьте число наблюдений и столбцов, наличие пропусков. Убедитесь, что типы данных были прочитаны правильно. При необходимости – приведите переменные к нужным типам.**\n",
    "\n",
    "**Есть ли в данных пропущенные значения?**"
   ]
  },
  {
   "cell_type": "code",
   "execution_count": 6,
   "id": "19c5ff7c",
   "metadata": {
    "scrolled": true
   },
   "outputs": [
    {
     "data": {
      "text/html": [
       "<div>\n",
       "<style scoped>\n",
       "    .dataframe tbody tr th:only-of-type {\n",
       "        vertical-align: middle;\n",
       "    }\n",
       "\n",
       "    .dataframe tbody tr th {\n",
       "        vertical-align: top;\n",
       "    }\n",
       "\n",
       "    .dataframe thead th {\n",
       "        text-align: right;\n",
       "    }\n",
       "</style>\n",
       "<table border=\"1\" class=\"dataframe\">\n",
       "  <thead>\n",
       "    <tr style=\"text-align: right;\">\n",
       "      <th></th>\n",
       "      <th>timestamp</th>\n",
       "      <th>cnt</th>\n",
       "      <th>t1</th>\n",
       "      <th>t2</th>\n",
       "      <th>hum</th>\n",
       "      <th>wind_speed</th>\n",
       "      <th>weather_code</th>\n",
       "      <th>is_holiday</th>\n",
       "      <th>is_weekend</th>\n",
       "      <th>season</th>\n",
       "    </tr>\n",
       "  </thead>\n",
       "  <tbody>\n",
       "    <tr>\n",
       "      <th>0</th>\n",
       "      <td>2015-01-04 00:00:00</td>\n",
       "      <td>182</td>\n",
       "      <td>3.0</td>\n",
       "      <td>2.0</td>\n",
       "      <td>93.0</td>\n",
       "      <td>6.0</td>\n",
       "      <td>3.0</td>\n",
       "      <td>0.0</td>\n",
       "      <td>1.0</td>\n",
       "      <td>3.0</td>\n",
       "    </tr>\n",
       "    <tr>\n",
       "      <th>1</th>\n",
       "      <td>2015-01-04 01:00:00</td>\n",
       "      <td>138</td>\n",
       "      <td>3.0</td>\n",
       "      <td>2.5</td>\n",
       "      <td>93.0</td>\n",
       "      <td>5.0</td>\n",
       "      <td>1.0</td>\n",
       "      <td>0.0</td>\n",
       "      <td>1.0</td>\n",
       "      <td>3.0</td>\n",
       "    </tr>\n",
       "    <tr>\n",
       "      <th>2</th>\n",
       "      <td>2015-01-04 02:00:00</td>\n",
       "      <td>134</td>\n",
       "      <td>2.5</td>\n",
       "      <td>2.5</td>\n",
       "      <td>96.5</td>\n",
       "      <td>0.0</td>\n",
       "      <td>1.0</td>\n",
       "      <td>0.0</td>\n",
       "      <td>1.0</td>\n",
       "      <td>3.0</td>\n",
       "    </tr>\n",
       "    <tr>\n",
       "      <th>3</th>\n",
       "      <td>2015-01-04 03:00:00</td>\n",
       "      <td>72</td>\n",
       "      <td>2.0</td>\n",
       "      <td>2.0</td>\n",
       "      <td>100.0</td>\n",
       "      <td>0.0</td>\n",
       "      <td>1.0</td>\n",
       "      <td>0.0</td>\n",
       "      <td>1.0</td>\n",
       "      <td>3.0</td>\n",
       "    </tr>\n",
       "    <tr>\n",
       "      <th>4</th>\n",
       "      <td>2015-01-04 04:00:00</td>\n",
       "      <td>47</td>\n",
       "      <td>2.0</td>\n",
       "      <td>0.0</td>\n",
       "      <td>93.0</td>\n",
       "      <td>6.5</td>\n",
       "      <td>1.0</td>\n",
       "      <td>0.0</td>\n",
       "      <td>1.0</td>\n",
       "      <td>3.0</td>\n",
       "    </tr>\n",
       "  </tbody>\n",
       "</table>\n",
       "</div>"
      ],
      "text/plain": [
       "            timestamp  cnt   t1   t2    hum  wind_speed  weather_code  \\\n",
       "0 2015-01-04 00:00:00  182  3.0  2.0   93.0         6.0           3.0   \n",
       "1 2015-01-04 01:00:00  138  3.0  2.5   93.0         5.0           1.0   \n",
       "2 2015-01-04 02:00:00  134  2.5  2.5   96.5         0.0           1.0   \n",
       "3 2015-01-04 03:00:00   72  2.0  2.0  100.0         0.0           1.0   \n",
       "4 2015-01-04 04:00:00   47  2.0  0.0   93.0         6.5           1.0   \n",
       "\n",
       "   is_holiday  is_weekend  season  \n",
       "0         0.0         1.0     3.0  \n",
       "1         0.0         1.0     3.0  \n",
       "2         0.0         1.0     3.0  \n",
       "3         0.0         1.0     3.0  \n",
       "4         0.0         1.0     3.0  "
      ]
     },
     "execution_count": 6,
     "metadata": {},
     "output_type": "execute_result"
    }
   ],
   "source": [
    "import pandas as pd\n",
    "import numpy as np\n",
    "import seaborn as sns\n",
    "import matplotlib.pyplot as plt\n",
    "from scipy import stats as ss\n",
    "\n",
    "%matplotlib inline\n",
    "\n",
    "df = pd.read_csv('data/london.csv', parse_dates=['timestamp'])\n",
    "df.head()"
   ]
  },
  {
   "cell_type": "code",
   "execution_count": 7,
   "id": "a9aef4b8",
   "metadata": {},
   "outputs": [
    {
     "data": {
      "text/plain": [
       "(17414, 10)"
      ]
     },
     "execution_count": 7,
     "metadata": {},
     "output_type": "execute_result"
    }
   ],
   "source": [
    "df.shape"
   ]
  },
  {
   "cell_type": "code",
   "execution_count": 8,
   "id": "e698b229",
   "metadata": {},
   "outputs": [
    {
     "data": {
      "text/plain": [
       "timestamp       0\n",
       "cnt             0\n",
       "t1              0\n",
       "t2              0\n",
       "hum             0\n",
       "wind_speed      0\n",
       "weather_code    0\n",
       "is_holiday      0\n",
       "is_weekend      0\n",
       "season          0\n",
       "dtype: int64"
      ]
     },
     "execution_count": 8,
     "metadata": {},
     "output_type": "execute_result"
    }
   ],
   "source": [
    "df.isna().sum()"
   ]
  },
  {
   "cell_type": "code",
   "execution_count": 9,
   "id": "6b07d0e9",
   "metadata": {},
   "outputs": [
    {
     "data": {
      "text/plain": [
       "timestamp       datetime64[ns]\n",
       "cnt                      int64\n",
       "t1                     float64\n",
       "t2                     float64\n",
       "hum                    float64\n",
       "wind_speed             float64\n",
       "weather_code           float64\n",
       "is_holiday             float64\n",
       "is_weekend             float64\n",
       "season                 float64\n",
       "dtype: object"
      ]
     },
     "execution_count": 9,
     "metadata": {},
     "output_type": "execute_result"
    }
   ],
   "source": [
    "df.dtypes\n",
    "#можно в некоторые флоты в инт, но оставим"
   ]
  },
  {
   "cell_type": "markdown",
   "id": "e457ab92",
   "metadata": {},
   "source": [
    "* Да, но совсем немного\n",
    "* Да, во многих\n",
    "* **Нет**\n",
    "\n",
    "\n",
    "### Задание 2\n",
    "\n",
    "**Для начала попробуем посмотреть на число поездок по датам и времени. Постройте график, где:**\n",
    "\n",
    "* по оси x – дата (timestamp)\n",
    "* по оси y – число поездок (cnt)\n",
    "\n",
    "**Выберите верные утверждения:**\n",
    "\n",
    "Hint: sns.lineplot "
   ]
  },
  {
   "cell_type": "code",
   "execution_count": 9,
   "id": "1d1c151c",
   "metadata": {
    "scrolled": false
   },
   "outputs": [
    {
     "data": {
      "image/png": "[encoded data removed]",
      "text/plain": [
       "<Figure size 640x480 with 1 Axes>"
      ]
     },
     "metadata": {},
     "output_type": "display_data"
    }
   ],
   "source": [
    "plt.figure\n",
    "sns.lineplot(x=df.timestamp, y=df.cnt)\n",
    "sns.despine()"
   ]
  },
  {
   "cell_type": "markdown",
   "id": "5f00951c",
   "metadata": {},
   "source": [
    "* В выходные поездок точно меньше, чем в будние дни\n",
    "* **Очень сложно что-то понять, нужно преобразовать данные, чтобы увидеть тренды**\n",
    "* Случались только аномальные скачки вверх, вниз ничего не падало\n",
    "\n",
    "### Задание 3\n",
    "\n",
    "**Отлично! Предположим, что данные действительно нужно немного преобразовать. В этом нам поможет resample, с которым вы могли столкнуться в дополнительных темах pandas. Этот метод позволяет преобразовать данные и применить к какому-либо столбцу другой метод (напр. sum). Так можно рассчитать показатели, например, за весь день или месяц, имея данные с точностью до минут. Например, посчитать сумму показателя по дням, имея данные по часам, можно следующим образом:**\n",
    "```python\n",
    "data.resample(rule='D').column_name.sum() #способ 1\n",
    "data.resample(rule='D').agg({'column_name':'sum'}) #способ 2, эквивалентный предыдущему\n",
    "```\n",
    "\n",
    "**Агрегируйте число поездок по дням и визуализируйте результат. Что вы можете сказать о полученном графике?**"
   ]
  },
  {
   "cell_type": "code",
   "execution_count": 11,
   "id": "a2c8c631",
   "metadata": {},
   "outputs": [
    {
     "data": {
      "text/plain": [
       "<Axes: xlabel='timestamp'>"
      ]
     },
     "execution_count": 11,
     "metadata": {},
     "output_type": "execute_result"
    },
    {
     "data": {
      "image/png": "[encoded data removed]",
      "text/plain": [
       "<Figure size 640x480 with 1 Axes>"
      ]
     },
     "metadata": {},
     "output_type": "display_data"
    }
   ],
   "source": [
    "dd = df.set_index('timestamp').resample(rule='D') \\\n",
    ".cnt.sum()\n",
    "dd.plot()"
   ]
  },
  {
   "cell_type": "markdown",
   "id": "eca1774a",
   "metadata": {},
   "source": [
    "* Встречаются только резкие скачки вверх\n",
    "* Максимальное число аренд за день – более 1 000 000\n",
    "* **Зимой число аренд меньше, чем летом**\n",
    "* **Встречаются как очень резкие скачки числа аренд, так и падения**\n",
    "* **Максимальное число аренд за день составляет более 70 000**\n",
    "* Число аренд зимой и летом никак не различается\n",
    "* Максимальное число аренд за день не превышало 8 000\n",
    "\n",
    "## Задание 4\n",
    "Итак, вы обнаружили на графике некоторые скачки. Давайте проверим, что же могло произойти в тот день 🤔.\n",
    "\n",
    "Для этого разделим дальнейшие действия на несколько этапов:\n",
    "\n",
    "* сначала посчитаем скользящее среднее, чтобы сгладить ряд\n",
    "* далее – разницу между наблюдаемыми и сглаженными значениями\n",
    "* определим верхние и нижние границы 99% доверительного интервала \n",
    "* найдем причины аномалий!\n",
    "\n",
    "На данном шаге возьмите агрегированные данные по дням с предыдущего шага и посчитайте скользящее среднее с окном 3. В качестве ответа укажите полученное число аренд за 2015-07-09, округлив значение до целого."
   ]
  },
  {
   "cell_type": "code",
   "execution_count": 12,
   "id": "a1b8b1fc",
   "metadata": {},
   "outputs": [
    {
     "data": {
      "text/plain": [
       "<Axes: xlabel='timestamp'>"
      ]
     },
     "execution_count": 12,
     "metadata": {},
     "output_type": "execute_result"
    },
    {
     "data": {
      "image/png": "[encoded data removed]",
      "text/plain": [
       "<Figure size 640x480 with 1 Axes>"
      ]
     },
     "metadata": {},
     "output_type": "display_data"
    }
   ],
   "source": [
    "ddroll = dd.rolling(3).mean()\n",
    "ddroll.plot()\n",
    "dd.plot()"
   ]
  },
  {
   "cell_type": "code",
   "execution_count": 13,
   "id": "2d8bbadf",
   "metadata": {},
   "outputs": [
    {
     "data": {
      "text/plain": [
       "50705.0"
      ]
     },
     "execution_count": 13,
     "metadata": {},
     "output_type": "execute_result"
    }
   ],
   "source": [
    "ddroll['2015-07-09']"
   ]
  },
  {
   "cell_type": "markdown",
   "id": "2dd51306",
   "metadata": {},
   "source": [
    "Ответ: `50705`\n",
    "\n",
    "## Задание 5\n",
    "\n",
    "Теперь посчитайте разницу между наблюдаемыми и подсчитанными значениями. Далее – примените функцию для подсчета стандартного отклонения. Например:\n",
    "```\n",
    "c = a - b\n",
    "std = np.std(c)\n",
    "```\n",
    "В качестве ответа введите полученное стандартное отклонение, округленное до 2 знаков после точки."
   ]
  },
  {
   "cell_type": "code",
   "execution_count": 14,
   "id": "19945df6",
   "metadata": {},
   "outputs": [
    {
     "data": {
      "text/plain": [
       "4558.58664111794"
      ]
     },
     "execution_count": 14,
     "metadata": {},
     "output_type": "execute_result"
    }
   ],
   "source": [
    "dd_diff = (ddroll-dd)\n",
    "se = np.std(dd_diff) \n",
    "se"
   ]
  },
  {
   "cell_type": "markdown",
   "id": "8c7aa5a7",
   "metadata": {},
   "source": [
    "Ответ: `4558.59`\n",
    "\n",
    "## Задание 6\n",
    "\n",
    "Теперь определим границы интервалов. Для этого нужно взять данные, полученные при расчете скользящего среднего, и создать следующие объекты:\n",
    "\n",
    "* upper_bound – верхняя граница; к скользящим средним прибавляем 2.576∗std\n",
    "* lower_bound – нижняя граница; вычитаем 2.576∗std\n",
    "\n",
    "Полученные значения запишите в новые столбцы датафрейма с агрегированными данными.\n",
    "\n",
    "Чему равно значение верхней границы для последнего наблюдения? Ответ укажите с точностью до 2 знаков после точки.\n",
    "\n",
    "Note: в качестве std нужно брать стандартное отклонение без округления.\n",
    "\n",
    "Note 2: вам может понадобиться убрать даты из индекса - иногда из-за этого колонки могут не присваиваться в датафрейм. Вам пригодится .reset_index()."
   ]
  },
  {
   "cell_type": "code",
   "execution_count": 15,
   "id": "c45215bc",
   "metadata": {
    "scrolled": false
   },
   "outputs": [
    {
     "data": {
      "text/plain": [
       "24302.919187519816"
      ]
     },
     "execution_count": 15,
     "metadata": {},
     "output_type": "execute_result"
    }
   ],
   "source": [
    "upper_bound = ddroll + 2.576*se\n",
    "lower_bound = ddroll - 2.576*se\n",
    "upper_bound[-1]"
   ]
  },
  {
   "cell_type": "code",
   "execution_count": 16,
   "id": "90527b39",
   "metadata": {},
   "outputs": [
    {
     "data": {
      "text/html": [
       "<div>\n",
       "<style scoped>\n",
       "    .dataframe tbody tr th:only-of-type {\n",
       "        vertical-align: middle;\n",
       "    }\n",
       "\n",
       "    .dataframe tbody tr th {\n",
       "        vertical-align: top;\n",
       "    }\n",
       "\n",
       "    .dataframe thead th {\n",
       "        text-align: right;\n",
       "    }\n",
       "</style>\n",
       "<table border=\"1\" class=\"dataframe\">\n",
       "  <thead>\n",
       "    <tr style=\"text-align: right;\">\n",
       "      <th></th>\n",
       "      <th>timestamp</th>\n",
       "      <th>cnt</th>\n",
       "      <th>ub</th>\n",
       "      <th>lb</th>\n",
       "    </tr>\n",
       "  </thead>\n",
       "  <tbody>\n",
       "    <tr>\n",
       "      <th>0</th>\n",
       "      <td>2015-01-04</td>\n",
       "      <td>9234</td>\n",
       "      <td>NaN</td>\n",
       "      <td>NaN</td>\n",
       "    </tr>\n",
       "    <tr>\n",
       "      <th>1</th>\n",
       "      <td>2015-01-05</td>\n",
       "      <td>20372</td>\n",
       "      <td>NaN</td>\n",
       "      <td>NaN</td>\n",
       "    </tr>\n",
       "    <tr>\n",
       "      <th>2</th>\n",
       "      <td>2015-01-06</td>\n",
       "      <td>20613</td>\n",
       "      <td>28482.585854</td>\n",
       "      <td>4996.747479</td>\n",
       "    </tr>\n",
       "    <tr>\n",
       "      <th>3</th>\n",
       "      <td>2015-01-07</td>\n",
       "      <td>21064</td>\n",
       "      <td>32425.919188</td>\n",
       "      <td>8940.080812</td>\n",
       "    </tr>\n",
       "    <tr>\n",
       "      <th>4</th>\n",
       "      <td>2015-01-08</td>\n",
       "      <td>15601</td>\n",
       "      <td>30835.585854</td>\n",
       "      <td>7349.747479</td>\n",
       "    </tr>\n",
       "    <tr>\n",
       "      <th>...</th>\n",
       "      <td>...</td>\n",
       "      <td>...</td>\n",
       "      <td>...</td>\n",
       "      <td>...</td>\n",
       "    </tr>\n",
       "    <tr>\n",
       "      <th>726</th>\n",
       "      <td>2016-12-30</td>\n",
       "      <td>11566</td>\n",
       "      <td>24424.919188</td>\n",
       "      <td>939.080812</td>\n",
       "    </tr>\n",
       "    <tr>\n",
       "      <th>727</th>\n",
       "      <td>2016-12-31</td>\n",
       "      <td>11424</td>\n",
       "      <td>24090.252521</td>\n",
       "      <td>604.414146</td>\n",
       "    </tr>\n",
       "    <tr>\n",
       "      <th>728</th>\n",
       "      <td>2017-01-01</td>\n",
       "      <td>6421</td>\n",
       "      <td>21546.585854</td>\n",
       "      <td>-1939.252521</td>\n",
       "    </tr>\n",
       "    <tr>\n",
       "      <th>729</th>\n",
       "      <td>2017-01-02</td>\n",
       "      <td>11823</td>\n",
       "      <td>21632.252521</td>\n",
       "      <td>-1853.585854</td>\n",
       "    </tr>\n",
       "    <tr>\n",
       "      <th>730</th>\n",
       "      <td>2017-01-03</td>\n",
       "      <td>19436</td>\n",
       "      <td>24302.919188</td>\n",
       "      <td>817.080812</td>\n",
       "    </tr>\n",
       "  </tbody>\n",
       "</table>\n",
       "<p>731 rows × 4 columns</p>\n",
       "</div>"
      ],
      "text/plain": [
       "     timestamp    cnt            ub           lb\n",
       "0   2015-01-04   9234           NaN          NaN\n",
       "1   2015-01-05  20372           NaN          NaN\n",
       "2   2015-01-06  20613  28482.585854  4996.747479\n",
       "3   2015-01-07  21064  32425.919188  8940.080812\n",
       "4   2015-01-08  15601  30835.585854  7349.747479\n",
       "..         ...    ...           ...          ...\n",
       "726 2016-12-30  11566  24424.919188   939.080812\n",
       "727 2016-12-31  11424  24090.252521   604.414146\n",
       "728 2017-01-01   6421  21546.585854 -1939.252521\n",
       "729 2017-01-02  11823  21632.252521 -1853.585854\n",
       "730 2017-01-03  19436  24302.919188   817.080812\n",
       "\n",
       "[731 rows x 4 columns]"
      ]
     },
     "execution_count": 16,
     "metadata": {},
     "output_type": "execute_result"
    }
   ],
   "source": [
    "dd = dd.reset_index()\n",
    "dd['ub'] = upper_bound.reset_index(drop=True)\n",
    "dd['lb'] = lower_bound.reset_index(drop=True)\n",
    "dd"
   ]
  },
  {
   "cell_type": "markdown",
   "id": "ab8b7e69",
   "metadata": {},
   "source": [
    "Ответ: `24302.92`\n",
    "\n",
    "## Задание 7\n",
    "\n",
    "И наконец – изучим аномально высокие значения! Сначала выведите наблюдения, для которых наблюдаемые значения оказались больше верхней границы 99% доверительного интервала.\n",
    "\n",
    "В какой день значение числа аренд оказалось наибольшим? Укажите дату в формате 2020-12-31."
   ]
  },
  {
   "cell_type": "code",
   "execution_count": 117,
   "id": "b8ec7a8b",
   "metadata": {},
   "outputs": [
    {
     "data": {
      "text/html": [
       "<div>\n",
       "<style scoped>\n",
       "    .dataframe tbody tr th:only-of-type {\n",
       "        vertical-align: middle;\n",
       "    }\n",
       "\n",
       "    .dataframe tbody tr th {\n",
       "        vertical-align: top;\n",
       "    }\n",
       "\n",
       "    .dataframe thead th {\n",
       "        text-align: right;\n",
       "    }\n",
       "</style>\n",
       "<table border=\"1\" class=\"dataframe\">\n",
       "  <thead>\n",
       "    <tr style=\"text-align: right;\">\n",
       "      <th></th>\n",
       "      <th>timestamp</th>\n",
       "      <th>cnt</th>\n",
       "      <th>ub</th>\n",
       "      <th>lb</th>\n",
       "    </tr>\n",
       "  </thead>\n",
       "  <tbody>\n",
       "    <tr>\n",
       "      <th>186</th>\n",
       "      <td>2015-07-09</td>\n",
       "      <td>72504</td>\n",
       "      <td>62447.919188</td>\n",
       "      <td>38962.080812</td>\n",
       "    </tr>\n",
       "    <tr>\n",
       "      <th>214</th>\n",
       "      <td>2015-08-06</td>\n",
       "      <td>63468</td>\n",
       "      <td>58370.252521</td>\n",
       "      <td>34884.414146</td>\n",
       "    </tr>\n",
       "    <tr>\n",
       "      <th>609</th>\n",
       "      <td>2016-09-04</td>\n",
       "      <td>27512</td>\n",
       "      <td>26001.919188</td>\n",
       "      <td>2516.080812</td>\n",
       "    </tr>\n",
       "    <tr>\n",
       "      <th>721</th>\n",
       "      <td>2016-12-25</td>\n",
       "      <td>36653</td>\n",
       "      <td>31393.585854</td>\n",
       "      <td>7907.747479</td>\n",
       "    </tr>\n",
       "  </tbody>\n",
       "</table>\n",
       "</div>"
      ],
      "text/plain": [
       "     timestamp    cnt            ub            lb\n",
       "186 2015-07-09  72504  62447.919188  38962.080812\n",
       "214 2015-08-06  63468  58370.252521  34884.414146\n",
       "609 2016-09-04  27512  26001.919188   2516.080812\n",
       "721 2016-12-25  36653  31393.585854   7907.747479"
      ]
     },
     "execution_count": 117,
     "metadata": {},
     "output_type": "execute_result"
    }
   ],
   "source": [
    "dd[dd.cnt > dd.ub]"
   ]
  },
  {
   "cell_type": "code",
   "execution_count": 120,
   "id": "d2859d8a",
   "metadata": {
    "scrolled": false
   },
   "outputs": [
    {
     "data": {
      "text/plain": [
       "186   2015-07-09\n",
       "Name: timestamp, dtype: datetime64[ns]"
      ]
     },
     "execution_count": 120,
     "metadata": {},
     "output_type": "execute_result"
    }
   ],
   "source": [
    "dd[dd.cnt == dd[dd.cnt > dd.ub].cnt.max()].timestamp"
   ]
  },
  {
   "cell_type": "markdown",
   "id": "cee84960",
   "metadata": {},
   "source": [
    "Ответ: `2015-07-09`\n",
    "\n",
    "## Задание 8\n",
    "\n",
    "Подумайте, в чем может быть причина столь высокого числа аренд в этот день. Для этого можете исследовать уже имеющиеся переменные в датасете, проверить наличие ошибок в данных (повторяющихся строк), а также использовать поиск Google. \n",
    "\n",
    "В качестве ответа выберите наиболее вероятную причину столь резкого скачка:\n",
    "\n",
    "* **Забастовки в метро**\n",
    "* Ветер\n",
    "* Погода\n",
    "* Ошибка при сборе данных\n",
    "* Выборы"
   ]
  },
  {
   "cell_type": "code",
   "execution_count": 124,
   "id": "acea45d7",
   "metadata": {},
   "outputs": [
    {
     "data": {
      "text/plain": [
       "0"
      ]
     },
     "execution_count": 124,
     "metadata": {},
     "output_type": "execute_result"
    }
   ],
   "source": [
    "df.duplicated().sum()"
   ]
  },
  {
   "cell_type": "markdown",
   "id": "420885f5",
   "metadata": {},
   "source": [
    "## Задание 9\n",
    "\n",
    "Проделайте аналогичную операцию для дней, когда число аренд оказалось ниже ожидаемого. В чем может быть причина падения числа аренд 2016-09-02?\n",
    "\n"
   ]
  },
  {
   "cell_type": "code",
   "execution_count": 127,
   "id": "13027b06",
   "metadata": {
    "scrolled": true
   },
   "outputs": [
    {
     "data": {
      "text/html": [
       "<div>\n",
       "<style scoped>\n",
       "    .dataframe tbody tr th:only-of-type {\n",
       "        vertical-align: middle;\n",
       "    }\n",
       "\n",
       "    .dataframe tbody tr th {\n",
       "        vertical-align: top;\n",
       "    }\n",
       "\n",
       "    .dataframe thead th {\n",
       "        text-align: right;\n",
       "    }\n",
       "</style>\n",
       "<table border=\"1\" class=\"dataframe\">\n",
       "  <thead>\n",
       "    <tr style=\"text-align: right;\">\n",
       "      <th></th>\n",
       "      <th>timestamp</th>\n",
       "      <th>cnt</th>\n",
       "      <th>ub</th>\n",
       "      <th>lb</th>\n",
       "    </tr>\n",
       "  </thead>\n",
       "  <tbody>\n",
       "    <tr>\n",
       "      <th>130</th>\n",
       "      <td>2015-05-14</td>\n",
       "      <td>15609</td>\n",
       "      <td>40452.252521</td>\n",
       "      <td>16966.414146</td>\n",
       "    </tr>\n",
       "    <tr>\n",
       "      <th>189</th>\n",
       "      <td>2015-07-12</td>\n",
       "      <td>23240</td>\n",
       "      <td>47779.585854</td>\n",
       "      <td>24293.747479</td>\n",
       "    </tr>\n",
       "    <tr>\n",
       "      <th>201</th>\n",
       "      <td>2015-07-24</td>\n",
       "      <td>16034</td>\n",
       "      <td>42756.585854</td>\n",
       "      <td>19270.747479</td>\n",
       "    </tr>\n",
       "    <tr>\n",
       "      <th>232</th>\n",
       "      <td>2015-08-24</td>\n",
       "      <td>17400</td>\n",
       "      <td>41272.252521</td>\n",
       "      <td>17786.414146</td>\n",
       "    </tr>\n",
       "    <tr>\n",
       "      <th>314</th>\n",
       "      <td>2015-11-14</td>\n",
       "      <td>8898</td>\n",
       "      <td>32780.252521</td>\n",
       "      <td>9294.414146</td>\n",
       "    </tr>\n",
       "    <tr>\n",
       "      <th>607</th>\n",
       "      <td>2016-09-02</td>\n",
       "      <td>0</td>\n",
       "      <td>37829.252521</td>\n",
       "      <td>14343.414146</td>\n",
       "    </tr>\n",
       "    <tr>\n",
       "      <th>615</th>\n",
       "      <td>2016-09-10</td>\n",
       "      <td>17080</td>\n",
       "      <td>43004.919188</td>\n",
       "      <td>19519.080812</td>\n",
       "    </tr>\n",
       "    <tr>\n",
       "      <th>621</th>\n",
       "      <td>2016-09-16</td>\n",
       "      <td>21967</td>\n",
       "      <td>47936.252521</td>\n",
       "      <td>24450.414146</td>\n",
       "    </tr>\n",
       "    <tr>\n",
       "      <th>678</th>\n",
       "      <td>2016-11-12</td>\n",
       "      <td>8990</td>\n",
       "      <td>32620.919188</td>\n",
       "      <td>9135.080812</td>\n",
       "    </tr>\n",
       "  </tbody>\n",
       "</table>\n",
       "</div>"
      ],
      "text/plain": [
       "     timestamp    cnt            ub            lb\n",
       "130 2015-05-14  15609  40452.252521  16966.414146\n",
       "189 2015-07-12  23240  47779.585854  24293.747479\n",
       "201 2015-07-24  16034  42756.585854  19270.747479\n",
       "232 2015-08-24  17400  41272.252521  17786.414146\n",
       "314 2015-11-14   8898  32780.252521   9294.414146\n",
       "607 2016-09-02      0  37829.252521  14343.414146\n",
       "615 2016-09-10  17080  43004.919188  19519.080812\n",
       "621 2016-09-16  21967  47936.252521  24450.414146\n",
       "678 2016-11-12   8990  32620.919188   9135.080812"
      ]
     },
     "execution_count": 127,
     "metadata": {},
     "output_type": "execute_result"
    }
   ],
   "source": [
    "dd[dd.cnt < dd.lb]"
   ]
  },
  {
   "cell_type": "markdown",
   "id": "819b008e",
   "metadata": {},
   "source": [
    "* Забастовки\n",
    "* Ветер\n",
    "* Погода\n",
    "* Пробки\n",
    "* **Ошибка при сборе данных**\n",
    "* Выборы"
   ]
  }
 ],
 "metadata": {
  "kernelspec": {
   "display_name": "Python 3 (ipykernel)",
   "language": "python",
   "name": "python3"
  },
  "language_info": {
   "codemirror_mode": {
    "name": "ipython",
    "version": 3
   },
   "file_extension": ".py",
   "mimetype": "text/x-python",
   "name": "python",
   "nbconvert_exporter": "python",
   "pygments_lexer": "ipython3",
   "version": "3.10.11"
  }
 },
 "nbformat": 4,
 "nbformat_minor": 5
}
