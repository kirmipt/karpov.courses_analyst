{
 "cells": [
  {
   "cell_type": "markdown",
   "id": "858651c8",
   "metadata": {},
   "source": [
    "## Описание эксперимента\n",
    "Перед вами таблица, где числовая переменная – непрерывная. Задача – сравнить группы двумя способами: бутстрапом и u-тестом\n",
    "\n",
    "Описание колонок\n",
    "value – значения метрики\n",
    "experimentVariant – Вариант теста (Control – контроль, Treatment – тест)\n",
    "Задача\n",
    "1. Сравните результат между тестом и контролем по двум кейсам:\n",
    "\n",
    "  + Примените бутстрап (с np.mean) и критерий mann-whitney, а потом сравните p-value\n",
    "  + Примените бутстрап (с np.median) и критерий mann-whitney, а потом сравните p-value.\n",
    "  \n",
    "2. Напишите выводы, которые можно сделать на основе анализа примененных критериев\n"
   ]
  },
  {
   "cell_type": "code",
   "execution_count": 5,
   "id": "37bf1414",
   "metadata": {},
   "outputs": [],
   "source": [
    "import numpy as np\n",
    "import pandas as pd\n",
    "import matplotlib.pyplot as plt\n",
    "import seaborn as sns\n",
    "from scipy.stats import norm, mannwhitneyu\n",
    "\n",
    "from tqdm.auto import tqdm\n",
    "\n",
    "import bootstrapped.bootstrap as bs\n",
    "import bootstrapped.stats_functions as bs_stats\n",
    "import bootstrapped.compare_functions as bs_compare\n",
    "\n",
    "#import warnings\n",
    "#warnings.filterwarnings(\"ignore\")\n",
    "\n",
    "plt.style.use('ggplot')"
   ]
  },
  {
   "cell_type": "markdown",
   "id": "bf973a0e",
   "metadata": {},
   "source": [
    "### Создадим функцию, которая поможет проверять гипотезы с помощью bootstrap"
   ]
  },
  {
   "cell_type": "code",
   "execution_count": 6,
   "id": "fe1082d7",
   "metadata": {},
   "outputs": [],
   "source": [
    "def get_bootstrap(\n",
    "    data_column_1, # числовые значения первой выборки\n",
    "    data_column_2, # числовые значения второй выборки\n",
    "    boot_it = 1000, # количество бутстрэп-подвыборок\n",
    "    statistic = np.mean, # интересующая нас статистика\n",
    "    bootstrap_conf_level = 0.95 # уровень значимости\n",
    "):\n",
    "    boot_len = max([len(data_column_1), len(data_column_2)])\n",
    "    boot_data = []\n",
    "    for i in tqdm(range(boot_it)): # извлекаем подвыборки\n",
    "        samples_1 = data_column_1.sample(\n",
    "            boot_len, \n",
    "            replace = True # параметр возвращения\n",
    "        ).values\n",
    "        \n",
    "        samples_2 = data_column_2.sample(\n",
    "            boot_len, \n",
    "            replace = True\n",
    "        ).values\n",
    "        \n",
    "        boot_data.append(statistic(samples_1-samples_2)) # mean() - применяем статистику\n",
    "        \n",
    "    pd_boot_data = pd.DataFrame(boot_data)\n",
    "        \n",
    "    left_quant = (1 - bootstrap_conf_level)/2\n",
    "    right_quant = 1 - (1 - bootstrap_conf_level) / 2\n",
    "    ci = pd_boot_data.quantile([left_quant, right_quant])\n",
    "        \n",
    "    p_1 = norm.cdf(\n",
    "        x = 0, \n",
    "        loc = np.mean(boot_data), \n",
    "        scale = np.std(boot_data)\n",
    "    )\n",
    "    p_2 = norm.cdf(\n",
    "        x = 0, \n",
    "        loc = -np.mean(boot_data), \n",
    "        scale = np.std(boot_data)\n",
    "    )\n",
    "    p_value = min(p_1, p_2) * 2\n",
    "        \n",
    "    # Визуализация\n",
    "    plt.hist(pd_boot_data[0], bins = 50)\n",
    "    \n",
    "    plt.style.use('ggplot')\n",
    "    plt.vlines(ci,ymin=0,ymax=50,linestyle='--')\n",
    "    plt.xlabel('boot_data')\n",
    "    plt.ylabel('frequency')\n",
    "    plt.title(\"Histogram of boot_data\")\n",
    "    plt.show()\n",
    "       \n",
    "    return {\"boot_data\": boot_data, \n",
    "            \"ci\": ci, \n",
    "            \"p_value\": p_value}"
   ]
  },
  {
   "cell_type": "code",
   "execution_count": 7,
   "id": "a1fa8994",
   "metadata": {
    "scrolled": true
   },
   "outputs": [
    {
     "data": {
      "text/html": [
       "<div>\n",
       "<style scoped>\n",
       "    .dataframe tbody tr th:only-of-type {\n",
       "        vertical-align: middle;\n",
       "    }\n",
       "\n",
       "    .dataframe tbody tr th {\n",
       "        vertical-align: top;\n",
       "    }\n",
       "\n",
       "    .dataframe thead th {\n",
       "        text-align: right;\n",
       "    }\n",
       "</style>\n",
       "<table border=\"1\" class=\"dataframe\">\n",
       "  <thead>\n",
       "    <tr style=\"text-align: right;\">\n",
       "      <th></th>\n",
       "      <th>Unnamed: 0</th>\n",
       "      <th>value</th>\n",
       "      <th>experimentVariant</th>\n",
       "    </tr>\n",
       "  </thead>\n",
       "  <tbody>\n",
       "    <tr>\n",
       "      <th>0</th>\n",
       "      <td>1</td>\n",
       "      <td>10,3804953740268</td>\n",
       "      <td>Control</td>\n",
       "    </tr>\n",
       "    <tr>\n",
       "      <th>1</th>\n",
       "      <td>2</td>\n",
       "      <td>9,54686666784264</td>\n",
       "      <td>Control</td>\n",
       "    </tr>\n",
       "    <tr>\n",
       "      <th>2</th>\n",
       "      <td>3</td>\n",
       "      <td>11,0882146509904</td>\n",
       "      <td>Control</td>\n",
       "    </tr>\n",
       "    <tr>\n",
       "      <th>3</th>\n",
       "      <td>4</td>\n",
       "      <td>10,1472740570122</td>\n",
       "      <td>Control</td>\n",
       "    </tr>\n",
       "    <tr>\n",
       "      <th>4</th>\n",
       "      <td>5</td>\n",
       "      <td>9,78980767524929</td>\n",
       "      <td>Control</td>\n",
       "    </tr>\n",
       "  </tbody>\n",
       "</table>\n",
       "</div>"
      ],
      "text/plain": [
       "   Unnamed: 0             value experimentVariant\n",
       "0           1  10,3804953740268           Control\n",
       "1           2  9,54686666784264           Control\n",
       "2           3  11,0882146509904           Control\n",
       "3           4  10,1472740570122           Control\n",
       "4           5  9,78980767524929           Control"
      ]
     },
     "execution_count": 7,
     "metadata": {},
     "output_type": "execute_result"
    }
   ],
   "source": [
    "df = pd.read_csv('hw_bootstrap.csv', sep=';')\n",
    "df.head()"
   ]
  },
  {
   "cell_type": "code",
   "execution_count": 8,
   "id": "c2ce3a5b",
   "metadata": {},
   "outputs": [],
   "source": [
    "df = df.rename(columns={'experimentVariant':'AorB'})\n",
    "ctrl = df[df.AorB=='Control'].value.apply(lambda x: float(x.replace(',','.')))\n",
    "test = df[df.AorB=='Treatment'].value.apply(lambda x: float(x.replace(',','.')))"
   ]
  },
  {
   "cell_type": "code",
   "execution_count": 9,
   "id": "e0c9a733",
   "metadata": {},
   "outputs": [
    {
     "name": "stderr",
     "output_type": "stream",
     "text": [
      "F:\\Users\\123\\AppData\\Local\\Temp\\ipykernel_7760\\1205626121.py:1: UserWarning: \n",
      "\n",
      "`distplot` is a deprecated function and will be removed in seaborn v0.14.0.\n",
      "\n",
      "Please adapt your code to use either `displot` (a figure-level function with\n",
      "similar flexibility) or `histplot` (an axes-level function for histograms).\n",
      "\n",
      "For a guide to updating your code to use the new functions, please see\n",
      "https://gist.github.com/mwaskom/de44147ed2974457ad6372750bbe5751\n",
      "\n",
      "  sns.distplot(ctrl) #похоже на норм\n"
     ]
    },
    {
     "data": {
      "text/plain": [
       "<Axes: xlabel='value', ylabel='Density'>"
      ]
     },
     "execution_count": 9,
     "metadata": {},
     "output_type": "execute_result"
    },
    {
     "data": {
      "image/png": "[encoded data removed]",
      "text/plain": [
       "<Figure size 640x480 with 1 Axes>"
      ]
     },
     "metadata": {},
     "output_type": "display_data"
    }
   ],
   "source": [
    "sns.distplot(ctrl) #похоже на норм"
   ]
  },
  {
   "cell_type": "markdown",
   "id": "075e5907",
   "metadata": {},
   "source": [
    "Распределение признака в контрольной группе `нормальное`."
   ]
  },
  {
   "cell_type": "code",
   "execution_count": 11,
   "id": "7c38dff9",
   "metadata": {
    "scrolled": true
   },
   "outputs": [
    {
     "name": "stderr",
     "output_type": "stream",
     "text": [
      "F:\\Users\\123\\AppData\\Local\\Temp\\ipykernel_7760\\865661452.py:1: UserWarning: \n",
      "\n",
      "`distplot` is a deprecated function and will be removed in seaborn v0.14.0.\n",
      "\n",
      "Please adapt your code to use either `displot` (a figure-level function with\n",
      "similar flexibility) or `histplot` (an axes-level function for histograms).\n",
      "\n",
      "For a guide to updating your code to use the new functions, please see\n",
      "https://gist.github.com/mwaskom/de44147ed2974457ad6372750bbe5751\n",
      "\n",
      "  sns.distplot(test)\n"
     ]
    },
    {
     "data": {
      "image/png": "[encoded data removed]",
      "text/plain": [
       "<Figure size 640x480 with 1 Axes>"
      ]
     },
     "metadata": {},
     "output_type": "display_data"
    }
   ],
   "source": [
    "sns.distplot(test)\n",
    "sns.despine()"
   ]
  },
  {
   "cell_type": "code",
   "execution_count": 12,
   "id": "48fccf51",
   "metadata": {},
   "outputs": [
    {
     "data": {
      "text/plain": [
       "<Axes: >"
      ]
     },
     "execution_count": 12,
     "metadata": {},
     "output_type": "execute_result"
    },
    {
     "data": {
      "image/png": "[encoded data removed]",
      "text/plain": [
       "<Figure size 640x480 with 1 Axes>"
      ]
     },
     "metadata": {},
     "output_type": "display_data"
    }
   ],
   "source": [
    "sns.boxplot(test.values)"
   ]
  },
  {
   "cell_type": "markdown",
   "id": "a7c4749d",
   "metadata": {},
   "source": [
    "Распределение признака в тестовой группе `не является нормальным`, заметны выбросы."
   ]
  },
  {
   "cell_type": "markdown",
   "id": "11cf9424",
   "metadata": {},
   "source": [
    "### Сравниваем тестовую и контрольную группы с помощью U-критерия Манна-Уитни\n",
    "* H0: Группы не различаются\n",
    "* H1: Группы различаются"
   ]
  },
  {
   "cell_type": "code",
   "execution_count": 13,
   "id": "87b5a6aa",
   "metadata": {},
   "outputs": [
    {
     "data": {
      "text/plain": [
       "MannwhitneyuResult(statistic=124189.5, pvalue=0.8592148582485579)"
      ]
     },
     "execution_count": 13,
     "metadata": {},
     "output_type": "execute_result"
    }
   ],
   "source": [
    "mannwhitneyu(ctrl, test)"
   ]
  },
  {
   "cell_type": "markdown",
   "id": "9cf61045",
   "metadata": {},
   "source": [
    "**Вывод по U-критерию Манна-Уитни:**\n",
    "\n",
    "Значение `p-value > 0.05` говорит об отсутствии статистически значимых различий между контрольной и тестовой группами (значение U-критерия больше, чем пороговое). Мы не имеем оснований отвергнуть нулевую гипотезу, то есть группы не отличаются."
   ]
  },
  {
   "cell_type": "markdown",
   "id": "a27aa717",
   "metadata": {},
   "source": [
    "### Сравниваем средние значения в тестовой и контрольной группах с помощью бутстрапа\n",
    "* H0: Средние значения в двух группах не различаются\n",
    "* H1: Средние значения различаются"
   ]
  },
  {
   "cell_type": "code",
   "execution_count": 14,
   "id": "fe72f809",
   "metadata": {
    "scrolled": true
   },
   "outputs": [
    {
     "data": {
      "application/vnd.jupyter.widget-view+json": {
       "model_id": "7e695e6a26604587bb26cce7cf1ffae5",
       "version_major": 2,
       "version_minor": 0
      },
      "text/plain": [
       "  0%|          | 0/1000 [00:00<?, ?it/s]"
      ]
     },
     "metadata": {},
     "output_type": "display_data"
    },
    {
     "data": {
      "image/png": "[encoded data removed]",
      "text/plain": [
       "<Figure size 640x480 with 1 Axes>"
      ]
     },
     "metadata": {},
     "output_type": "display_data"
    },
    {
     "data": {
      "text/plain": [
       "0.0397403646197951"
      ]
     },
     "execution_count": 14,
     "metadata": {},
     "output_type": "execute_result"
    }
   ],
   "source": [
    "res = get_bootstrap(ctrl, test, boot_it = 1000)\n",
    "res[\"p_value\"]"
   ]
  },
  {
   "cell_type": "code",
   "execution_count": 15,
   "id": "77b6d42f",
   "metadata": {
    "scrolled": true
   },
   "outputs": [
    {
     "data": {
      "text/html": [
       "<div>\n",
       "<style scoped>\n",
       "    .dataframe tbody tr th:only-of-type {\n",
       "        vertical-align: middle;\n",
       "    }\n",
       "\n",
       "    .dataframe tbody tr th {\n",
       "        vertical-align: top;\n",
       "    }\n",
       "\n",
       "    .dataframe thead th {\n",
       "        text-align: right;\n",
       "    }\n",
       "</style>\n",
       "<table border=\"1\" class=\"dataframe\">\n",
       "  <thead>\n",
       "    <tr style=\"text-align: right;\">\n",
       "      <th></th>\n",
       "      <th>0</th>\n",
       "    </tr>\n",
       "  </thead>\n",
       "  <tbody>\n",
       "    <tr>\n",
       "      <th>0.025</th>\n",
       "      <td>-36.720763</td>\n",
       "    </tr>\n",
       "    <tr>\n",
       "      <th>0.975</th>\n",
       "      <td>-3.021297</td>\n",
       "    </tr>\n",
       "  </tbody>\n",
       "</table>\n",
       "</div>"
      ],
      "text/plain": [
       "               0\n",
       "0.025 -36.720763\n",
       "0.975  -3.021297"
      ]
     },
     "execution_count": 15,
     "metadata": {},
     "output_type": "execute_result"
    }
   ],
   "source": [
    "res[\"ci\"]"
   ]
  },
  {
   "cell_type": "code",
   "execution_count": 16,
   "id": "1c76a8f9",
   "metadata": {},
   "outputs": [
    {
     "name": "stdout",
     "output_type": "stream",
     "text": [
      "17.294632522857277\n",
      "17.294632522857277    (-0.8090833357744245, 31.521940961458878)\n"
     ]
    }
   ],
   "source": [
    "test2 = np.array(test)\n",
    "ctrl2 = np.array(ctrl)\n",
    "\n",
    "print(bs_compare.difference(test2.mean(), ctrl2.mean()))\n",
    "\n",
    "print(bs.bootstrap_ab(\n",
    "    test2, \n",
    "    ctrl2, \n",
    "    stat_func=bs_stats.mean,\n",
    "    compare_func=bs_compare.difference\n",
    "))\n",
    "#bootstrapped не информативен"
   ]
  },
  {
   "cell_type": "markdown",
   "id": "28803ef7",
   "metadata": {},
   "source": [
    "### Вывод по бутстрапу (np.mean):\n",
    "Средние значения в тестовой и контрольной группах `различаются` на заданном уровне значимости, поскольку в 95-процентный доверительный интервал `не попадает нулевое значение` разницы между двумя средними.\n",
    "\n",
    "`p-value < 0.05` говорит о том, что при условии верности нулевой гипотезы о равенстве средних в двух группах вероятность получить такое или еще большее отклонение разницы* от 0 составляет менее 5%. То есть полученная нами разница оказалась бы достаточно редким явлением, если бы средние двух групп на самом деле были равны. Значит, мы имеем основание отвергнуть нулевую гипотезу в пользу альтернативной.\n",
    "\n",
    "*Полученная нами разница - это средняя разница между средними значениями бутстрап-выборок.\n",
    "\n",
    "### Сравниваем медианы в тестовой и контрольной группах с помощью бутстрапа\n",
    "* H0: Медианы в двух группах не различаются\n",
    "* H1: Медианы различаются"
   ]
  },
  {
   "cell_type": "code",
   "execution_count": 17,
   "id": "69e2813e",
   "metadata": {},
   "outputs": [
    {
     "data": {
      "application/vnd.jupyter.widget-view+json": {
       "model_id": "d16acb208d094892b4a2a080122f767d",
       "version_major": 2,
       "version_minor": 0
      },
      "text/plain": [
       "  0%|          | 0/1000 [00:00<?, ?it/s]"
      ]
     },
     "metadata": {},
     "output_type": "display_data"
    },
    {
     "data": {
      "image/png": "[encoded data removed]",
      "text/plain": [
       "<Figure size 640x480 with 1 Axes>"
      ]
     },
     "metadata": {},
     "output_type": "display_data"
    }
   ],
   "source": [
    "res2 = booted_data_medians = get_bootstrap(\n",
    "                          ctrl, \n",
    "                          test, \n",
    "                          boot_it = 1000, \n",
    "                          statistic = np.median)"
   ]
  },
  {
   "cell_type": "code",
   "execution_count": 18,
   "id": "b29ab3c3",
   "metadata": {},
   "outputs": [
    {
     "data": {
      "text/plain": [
       "0.8954573326609709"
      ]
     },
     "execution_count": 18,
     "metadata": {},
     "output_type": "execute_result"
    }
   ],
   "source": [
    "res2['p_value']"
   ]
  },
  {
   "cell_type": "code",
   "execution_count": 19,
   "id": "5c006f2b",
   "metadata": {},
   "outputs": [
    {
     "data": {
      "text/html": [
       "<div>\n",
       "<style scoped>\n",
       "    .dataframe tbody tr th:only-of-type {\n",
       "        vertical-align: middle;\n",
       "    }\n",
       "\n",
       "    .dataframe tbody tr th {\n",
       "        vertical-align: top;\n",
       "    }\n",
       "\n",
       "    .dataframe thead th {\n",
       "        text-align: right;\n",
       "    }\n",
       "</style>\n",
       "<table border=\"1\" class=\"dataframe\">\n",
       "  <thead>\n",
       "    <tr style=\"text-align: right;\">\n",
       "      <th></th>\n",
       "      <th>0</th>\n",
       "    </tr>\n",
       "  </thead>\n",
       "  <tbody>\n",
       "    <tr>\n",
       "      <th>0.025</th>\n",
       "      <td>-0.151822</td>\n",
       "    </tr>\n",
       "    <tr>\n",
       "      <th>0.975</th>\n",
       "      <td>0.135214</td>\n",
       "    </tr>\n",
       "  </tbody>\n",
       "</table>\n",
       "</div>"
      ],
      "text/plain": [
       "              0\n",
       "0.025 -0.151822\n",
       "0.975  0.135214"
      ]
     },
     "execution_count": 19,
     "metadata": {},
     "output_type": "execute_result"
    }
   ],
   "source": [
    "res2['ci']"
   ]
  },
  {
   "cell_type": "markdown",
   "id": "86d49801",
   "metadata": {},
   "source": [
    "### Вывод по бутстрапу (np.median):\n",
    "Медианы в тестовой и контрольной группах `не различаются` на заданном уровне значимости, поскольку в 95-процентный доверительный интервал `попадает нулевое значение` разницы между медианами двух групп.\n",
    "\n",
    "`p-value > 0.05` говорит о том, что при условии верности нулевой гипотезы о равенстве медиан в двух группах вероятность получить такое или еще большее отклонение разницы* от 0 составляет более 5%. То есть полученная нами разница не оказалась бы редким явлением, если бы медианы двух групп на самом деле были равны. Значит, мы не имеем весомых оснований отвергнуть нулевую гипотезу и остаемся в ее рамках.\n",
    "\n",
    "*Полученная нами разница - это средняя разница между медианами бутстрап-выборок."
   ]
  },
  {
   "cell_type": "markdown",
   "id": "e0f6e694",
   "metadata": {},
   "source": [
    "## Сравнение результатов и общие выводы\n",
    "Можно заметить, что контрольная и тестовая группы имеют разные значения только у последних 5 наблюдений:"
   ]
  },
  {
   "cell_type": "code",
   "execution_count": 26,
   "id": "6de0b3c8",
   "metadata": {},
   "outputs": [
    {
     "data": {
      "text/plain": [
       "<Axes: >"
      ]
     },
     "execution_count": 26,
     "metadata": {},
     "output_type": "execute_result"
    },
    {
     "data": {
      "image/png": "[encoded data removed]",
      "text/plain": [
       "<Figure size 640x480 with 1 Axes>"
      ]
     },
     "metadata": {},
     "output_type": "display_data"
    }
   ],
   "source": [
    "df_diff = ctrl.values-test.values\n",
    "sns.lineplot(df_diff)"
   ]
  },
  {
   "cell_type": "code",
   "execution_count": 21,
   "id": "522a5d1e",
   "metadata": {},
   "outputs": [
    {
     "data": {
      "text/plain": [
       "5"
      ]
     },
     "execution_count": 21,
     "metadata": {},
     "output_type": "execute_result"
    }
   ],
   "source": [
    "len(df_diff[df_diff != 0])"
   ]
  },
  {
   "cell_type": "markdown",
   "id": "3d7ef264",
   "metadata": {},
   "source": [
    "Причем последние 5 наблюдений в тестовой группе - это `экстремально высокие` значения, которые смещают среднее тестовой группы в большую сторону:"
   ]
  },
  {
   "cell_type": "code",
   "execution_count": 22,
   "id": "74669be0",
   "metadata": {},
   "outputs": [
    {
     "data": {
      "text/plain": [
       "10.026866533804297"
      ]
     },
     "execution_count": 22,
     "metadata": {},
     "output_type": "execute_result"
    }
   ],
   "source": [
    "ctrl.mean()"
   ]
  },
  {
   "cell_type": "code",
   "execution_count": 23,
   "id": "2fba2ba7",
   "metadata": {},
   "outputs": [
    {
     "data": {
      "text/plain": [
       "27.321499056661573"
      ]
     },
     "execution_count": 23,
     "metadata": {},
     "output_type": "execute_result"
    }
   ],
   "source": [
    "test.mean()"
   ]
  },
  {
   "cell_type": "markdown",
   "id": "6d065445",
   "metadata": {},
   "source": [
    "Это объясняет, почему бутстрап для средних значений показал статистически значимое различие `(p < 0.05)` между средними двух групп.\n",
    "\n",
    "В то же время медианы двух групп практически идентичны, так как медиана гораздо менее чувствительна к выбросам, чем среднее:"
   ]
  },
  {
   "cell_type": "code",
   "execution_count": 24,
   "id": "6e480fb4",
   "metadata": {},
   "outputs": [
    {
     "data": {
      "text/plain": [
       "10.0184651909296"
      ]
     },
     "execution_count": 24,
     "metadata": {},
     "output_type": "execute_result"
    }
   ],
   "source": [
    "ctrl.median()"
   ]
  },
  {
   "cell_type": "code",
   "execution_count": 25,
   "id": "ca5250ea",
   "metadata": {},
   "outputs": [
    {
     "data": {
      "text/plain": [
       "10.02584684253515"
      ]
     },
     "execution_count": 25,
     "metadata": {},
     "output_type": "execute_result"
    }
   ],
   "source": [
    "test.median()"
   ]
  },
  {
   "cell_type": "markdown",
   "id": "c95c8661",
   "metadata": {},
   "source": [
    "Соответственно, бутстрап для медиан показал `отсутствие статистически значимого различия (p > 0.05)` между медианами двух групп.\n",
    "\n",
    "Непараметрический U-критерий Манна-Уитни также менее чувствителен к выбросам, поскольку использует ранговую шкалу для оценки различий между двумя группами. Данный критерий также показал, что между группами `нет статистически значимых различий`.\n",
    "\n",
    "В рассмотренном случае стоит доверять бутстрапу для `медиан` и `U-критерию Манна-Уитни`, поскольку они менее чувствительны к экстремально большим (или малым) значениям."
   ]
  }
 ],
 "metadata": {
  "kernelspec": {
   "display_name": "Python 3 (ipykernel)",
   "language": "python",
   "name": "python3"
  },
  "language_info": {
   "codemirror_mode": {
    "name": "ipython",
    "version": 3
   },
   "file_extension": ".py",
   "mimetype": "text/x-python",
   "name": "python",
   "nbconvert_exporter": "python",
   "pygments_lexer": "ipython3",
   "version": "3.10.11"
  }
 },
 "nbformat": 4,
 "nbformat_minor": 5
}
