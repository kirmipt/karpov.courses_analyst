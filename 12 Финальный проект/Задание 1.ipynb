{
 "cells": [
  {
   "cell_type": "markdown",
   "id": "ca155ac3",
   "metadata": {},
   "source": [
    "# Финальный проект: вариант 2\n",
    "## Задание 1. A/B–тестирование\n",
    "### 1.1 Условие\n",
    "\n",
    "Одной из основных задач аналитика в нашей команде является корректное проведение экспериментов. Для этого мы применяем метод A/B–тестирования. В ходе тестирования одной гипотезы целевой группе была предложена новая механика оплаты услуг на сайте, у контрольной группы оставалась базовая механика. В качестве задания Вам необходимо проанализировать итоги эксперимента и сделать вывод, стоит ли запускать новую механику оплаты на всех пользователей.\n",
    "\n",
    "### 1.2 Входные данные\n",
    "\n",
    "В качестве входных данных Вы имеете 4 csv-файла:\n",
    "\n",
    "* `groups.csv` - файл с информацией о принадлежности пользователя к контрольной или экспериментальной группе (А – контроль, B – целевая группа) \n",
    "* `groups_add.csv` - дополнительный файл с пользователями, который вам прислали спустя 2 дня после передачи данных\n",
    "* `active_studs.csv` - файл с информацией о пользователях, которые зашли на платформу в дни проведения эксперимента. \n",
    "* `checks.csv` - файл с информацией об оплатах пользователей в дни проведения эксперимента. \n",
    "\n",
    "### 1.3 Вопросы\n",
    "\n",
    "Предлагаем Вам ответить на следующие вопросы:\n",
    "\n",
    "* На какие метрики Вы смотрите в ходе анализа и почему?\n",
    "* Имеются ли различия в показателях и с чем они могут быть связаны?\n",
    "* Являются ли эти различия статистически значимыми?\n",
    "* Стоит ли запускать новую механику на всех пользователей?\n",
    "Данный список вопросов не является обязательным, и Вы можете при своём ответе опираться на собственный план.\n",
    "\n",
    "### 1.4 Требования к ответу\n",
    "\n",
    "* При выполнении тестового задания необходимо использовать язык программирования Python. \n",
    "* В файле обязательно должны быть комментарии к тем действиям, которые Вы выполняете с данными. \n",
    "\n",
    "-------------------------------\n",
    "\n",
    "Загрузим необходимые библиотеки:"
   ]
  },
  {
   "cell_type": "code",
   "execution_count": 1,
   "id": "6252850d",
   "metadata": {},
   "outputs": [],
   "source": [
    "import pandas as pd\n",
    "import numpy as np\n",
    "\n",
    "import requests\n",
    "from urllib.parse import urlencode\n",
    "\n",
    "from tqdm.auto import tqdm\n",
    "from scipy.stats import norm \n",
    "\n",
    "import seaborn as sns\n",
    "import matplotlib.pyplot as plt\n",
    "\n",
    "import re"
   ]
  },
  {
   "cell_type": "markdown",
   "id": "1d258118",
   "metadata": {},
   "source": [
    "Загрузим датасеты:"
   ]
  },
  {
   "cell_type": "code",
   "execution_count": 2,
   "id": "48a5418e",
   "metadata": {},
   "outputs": [],
   "source": [
    "# Ссылка для получения информации из области ресурсов диска\n",
    "base_url = 'https://cloud-api.yandex.net/v1/disk/public/resources/download?'\n",
    "\n",
    "\n",
    "# ссылки на данные + разделители для csv\n",
    "links_dic = {\n",
    "    'groups':       ['https://disk.yandex.ru/d/UhyYx41rTt3clQ', ';'],\n",
    "    'groups_add':   ['https://disk.yandex.ru/d/5Kxrz02m3IBUwQ', ','],\n",
    "    'active_studs': ['https://disk.yandex.ru/d/Tbs44Bm6H_FwFQ', ','],\n",
    "    'checks':       ['https://disk.yandex.ru/d/pH1q-VqcxXjsVA', ';']\n",
    "            }\n",
    "\n",
    "\n",
    "# отправляем запрос на получение ссылки для скачивания и скачиваем файлы\n",
    "for csv_filename, csv_link in links_dic.items():\n",
    "    final_url               = base_url + urlencode(dict(public_key=csv_link[0]))\n",
    "    response                = requests.get(final_url)\n",
    "    download_url            = response.json()['href']\n",
    "    globals()[csv_filename] = pd.read_csv(download_url, sep=csv_link[1])"
   ]
  },
  {
   "cell_type": "markdown",
   "id": "ebc06570",
   "metadata": {},
   "source": [
    "Обзор данных:"
   ]
  },
  {
   "cell_type": "code",
   "execution_count": 3,
   "id": "50382eaf",
   "metadata": {
    "scrolled": false
   },
   "outputs": [
    {
     "name": "stdout",
     "output_type": "stream",
     "text": [
      "     id grp\n",
      "0  1489   B\n",
      "1  1627   A\n",
      "2  1768   B\n",
      "3  1783   B\n",
      "4  1794   A \n",
      "\n",
      "Кол-во ID: 74484 \n",
      "\n",
      "Кол-во уникальных ID: 74484\n"
     ]
    }
   ],
   "source": [
    "# обзор groups\n",
    "# в каждом датасете проверяем уникальность всех idПосмотрим на данные:\n",
    "print(groups.head(),                              '\\n')\n",
    "print('Кол-во ID:', groups.id.count(), '\\n')\n",
    "print('Кол-во уникальных ID:', groups.id.nunique())"
   ]
  },
  {
   "cell_type": "code",
   "execution_count": 4,
   "id": "f155b0a5",
   "metadata": {},
   "outputs": [
    {
     "name": "stdout",
     "output_type": "stream",
     "text": [
      "        id grp\n",
      "0  5694584   B\n",
      "1  5694830   B\n",
      "2  5695057   B\n",
      "3  5698872   B\n",
      "4  5699067   B \n",
      "\n",
      "Кол-во ID: 92 \n",
      "\n",
      "Кол-во уникальных ID: 92\n"
     ]
    }
   ],
   "source": [
    "# обзор groups_add\n",
    "print(groups_add.head(),'\\n')\n",
    "print('Кол-во ID:', groups_add.id.count(), '\\n')\n",
    "print('Кол-во уникальных ID:', groups_add.id.nunique())"
   ]
  },
  {
   "cell_type": "code",
   "execution_count": 5,
   "id": "e53dbbba",
   "metadata": {},
   "outputs": [
    {
     "name": "stdout",
     "output_type": "stream",
     "text": [
      "   student_id\n",
      "0      581585\n",
      "1     5723133\n",
      "2     3276743\n",
      "3     4238589\n",
      "4     4475369 \n",
      "\n",
      "Кол-во ID: 8341 \n",
      "\n",
      "Кол-во уникальных ID: 8341\n"
     ]
    }
   ],
   "source": [
    "# обзор groups_add\n",
    "print(active_studs.head(),'\\n')\n",
    "print('Кол-во ID:', active_studs.student_id.count(), '\\n')\n",
    "print('Кол-во уникальных ID:', active_studs.student_id.nunique())"
   ]
  },
  {
   "cell_type": "code",
   "execution_count": 6,
   "id": "6e1037f6",
   "metadata": {},
   "outputs": [
    {
     "name": "stdout",
     "output_type": "stream",
     "text": [
      "   student_id    rev\n",
      "0        1627  990.0\n",
      "1        3185  690.0\n",
      "2       25973  690.0\n",
      "3       26280  690.0\n",
      "4      100300  990.0 \n",
      "\n",
      "Кол-во ID: 541 \n",
      "\n",
      "Кол-во уникальных ID: 541\n"
     ]
    }
   ],
   "source": [
    "# обзор checks\n",
    "print(checks.head(),'\\n')\n",
    "print('Кол-во ID:', checks.student_id.count(), '\\n')\n",
    "print('Кол-во уникальных ID:', checks.student_id.nunique())"
   ]
  },
  {
   "cell_type": "markdown",
   "id": "9612306a",
   "metadata": {},
   "source": [
    "Сократим названия id:"
   ]
  },
  {
   "cell_type": "code",
   "execution_count": 7,
   "id": "800fbc9a",
   "metadata": {},
   "outputs": [],
   "source": [
    "active_studs = active_studs.rename(columns={'student_id': 'id'})\n",
    "checks = checks.rename(columns={'student_id': 'id'})"
   ]
  },
  {
   "cell_type": "markdown",
   "id": "383cae60",
   "metadata": {},
   "source": [
    "----------------\n",
    "Требуется проверить все имеющиеся пересечения множеств id из разных таблиц.\n",
    "Проверим, присутствуют ли id из `groups_add` в `active_studs` и `checks`:"
   ]
  },
  {
   "cell_type": "code",
   "execution_count": 8,
   "id": "a814a368",
   "metadata": {
    "scrolled": true
   },
   "outputs": [
    {
     "name": "stdout",
     "output_type": "stream",
     "text": [
      "Кол-во id из add в active_studs: 13 \n",
      "Кол-во id из add в checks: 1\n"
     ]
    }
   ],
   "source": [
    "print('Кол-во id из add в active_studs:', groups_add.query('id in @active_studs.id').shape[0], \n",
    "      '\\nКол-во id из add в checks:',     groups_add.query('id in @checks.id').shape[0])"
   ]
  },
  {
   "cell_type": "markdown",
   "id": "88710b82",
   "metadata": {},
   "source": [
    "Проверим на пересечение id из `groups` и `groups_add`:"
   ]
  },
  {
   "cell_type": "code",
   "execution_count": 9,
   "id": "984b4979",
   "metadata": {
    "scrolled": true
   },
   "outputs": [
    {
     "name": "stdout",
     "output_type": "stream",
     "text": [
      "Кол-во общих id в groups и groups_add: 0\n"
     ]
    }
   ],
   "source": [
    "print('Кол-во общих id в groups и groups_add:', \n",
    "      len(set(groups_add.id) & set(groups.id)))"
   ]
  },
  {
   "cell_type": "markdown",
   "id": "c8e2046d",
   "metadata": {},
   "source": [
    "Соединим датафрейм `groups` c датафреймом `groups_add`:"
   ]
  },
  {
   "cell_type": "code",
   "execution_count": 10,
   "id": "f5c7ab18",
   "metadata": {},
   "outputs": [],
   "source": [
    "groups_full = pd.concat([groups, groups_add])"
   ]
  },
  {
   "cell_type": "code",
   "execution_count": 11,
   "id": "3c8f5daf",
   "metadata": {},
   "outputs": [
    {
     "name": "stdout",
     "output_type": "stream",
     "text": [
      "Доля активных пользователей, отсутствующих/присутствующих в общем списке:\n",
      " 0 / 8341 \n",
      "Доля оплативших пользователей, отсутствующих/присутствующих в общем списке:\n",
      " 0 / 541 \n",
      "Доля оплативших пользователей, отсутствующих/присутствующих в списке активных:\n",
      " 149 / 392\n"
     ]
    }
   ],
   "source": [
    "print('Доля активных пользователей, отсутствующих/присутствующих в общем списке:\\n', \n",
    "      len(set(active_studs.id) - set(groups_full.id)),'/', \n",
    "      len(set(active_studs.id) & set(groups_full.id)),\n",
    "      '\\nДоля оплативших пользователей, отсутствующих/присутствующих в общем списке:\\n',\n",
    "      len(set(checks.id) - set(groups_full.id)),'/', \n",
    "      len(set(checks.id) & set(groups_full.id)),\n",
    "      '\\nДоля оплативших пользователей, отсутствующих/присутствующих в списке активных:\\n',\n",
    "      len(set(checks.id) - set(active_studs.id)),'/', \n",
    "      len(set(checks.id) & set(active_studs.id)))"
   ]
  },
  {
   "cell_type": "markdown",
   "id": "29957780",
   "metadata": {},
   "source": [
    "Диаграмма Эйлера, демонстирующая имеющиеся взаимосвязи id разных табилц:"
   ]
  },
  {
   "attachments": {
    "oval_diagram.png": {
     "image/png": "[encoded data removed]"
    }
   },
   "cell_type": "markdown",
   "id": "733f9acc",
   "metadata": {},
   "source": [
    "![oval_diagram.png](attachment:oval_diagram.png)"
   ]
  },
  {
   "cell_type": "markdown",
   "id": "7765551d",
   "metadata": {},
   "source": [
    "-------------\n",
    "В период проведения экспериментов были оплаты и от не посещавших платформу студентов. Возможно, это оплаты другими способами, например, автоматические оплаты по подписке."
   ]
  },
  {
   "cell_type": "markdown",
   "id": "82fedc58",
   "metadata": {},
   "source": [
    "Возможно это автоматические платежи, а возможно ошибка в данных и все оплатившие являются активными. Так как у нас нет возможности выяснить это, уберём из выборки оплативших не активных."
   ]
  },
  {
   "cell_type": "code",
   "execution_count": 12,
   "id": "c8863d80",
   "metadata": {},
   "outputs": [],
   "source": [
    "checks_relev = checks[checks.id.isin(active_studs.id)]"
   ]
  },
  {
   "cell_type": "code",
   "execution_count": 13,
   "id": "267332c9",
   "metadata": {},
   "outputs": [
    {
     "data": {
      "text/plain": [
       "id     392\n",
       "rev    392\n",
       "dtype: int64"
      ]
     },
     "execution_count": 13,
     "metadata": {},
     "output_type": "execute_result"
    }
   ],
   "source": [
    "checks_relev.count()"
   ]
  },
  {
   "cell_type": "markdown",
   "id": "b9c76e31",
   "metadata": {},
   "source": [
    "Создадим таблицы с распределением активных и оплативших по группам А/B:"
   ]
  },
  {
   "cell_type": "code",
   "execution_count": 14,
   "id": "e8c1eb93",
   "metadata": {},
   "outputs": [],
   "source": [
    "df_visit = active_studs.merge(groups_full, on='id')\n",
    "df_bought = checks_relev.merge(groups_full, on='id')"
   ]
  },
  {
   "cell_type": "markdown",
   "id": "a7b9c1c6",
   "metadata": {},
   "source": [
    "Проверим в них распределение по группам:"
   ]
  },
  {
   "cell_type": "code",
   "execution_count": 15,
   "id": "9f4ab3e6",
   "metadata": {},
   "outputs": [
    {
     "name": "stdout",
     "output_type": "stream",
     "text": [
      "Распределение посетивших пользователей по группам: \n",
      "Группа A: 1538 \n",
      "Группа B: 6803 \n",
      "Всего:    8341 \n",
      "\n",
      "Распределение оплативших пользователей по группам: \n",
      "Группа A: 78 \n",
      "Группа B: 314 \n",
      "Всего:    392\n"
     ]
    }
   ],
   "source": [
    "print('Распределение посетивших пользователей по группам: \\nГруппа A:', \n",
    "      df_visit.grp.value_counts()[1], '\\nГруппа B:',\n",
    "      df_visit.grp.value_counts()[0], '\\nВсего:   ',\n",
    "      df_visit.id.count(), '\\n')\n",
    "print('Распределение оплативших пользователей по группам: \\nГруппа A:', \n",
    "      df_bought.grp.value_counts()[1], '\\nГруппа B:',\n",
    "      df_bought.grp.value_counts()[0], '\\nВсего:   ',\n",
    "      df_bought.id.count())"
   ]
  },
  {
   "cell_type": "markdown",
   "id": "fc7b39ee",
   "metadata": {},
   "source": [
    "Пользователи распределены по группам неравномерно. Группа B значительно больше, чем группа А."
   ]
  },
  {
   "cell_type": "markdown",
   "id": "011bafec",
   "metadata": {},
   "source": [
    "Проверим наличие выбросов в выручке:"
   ]
  },
  {
   "cell_type": "code",
   "execution_count": 16,
   "id": "238a66e5",
   "metadata": {},
   "outputs": [
    {
     "data": {
      "image/png": "[encoded data removed]",
      "text/plain": [
       "<Figure size 640x480 with 1 Axes>"
      ]
     },
     "metadata": {},
     "output_type": "display_data"
    }
   ],
   "source": [
    "sns.boxplot(data=df_bought, y='rev', x='grp')\n",
    "sns.despine()"
   ]
  },
  {
   "cell_type": "markdown",
   "id": "fd1c1fc6",
   "metadata": {},
   "source": [
    "У нас имеются 4 переменные - \n",
    "1) id активных - df_bought.id \n",
    "2) id оплативших- df_visit.id, \n",
    "3) размер оплат - df_bought.rev\n",
    "4) ~~id всех юзеров~~ (механика не влияет на кол-во всех юзеров)\n",
    "\n",
    "<br>Как может влиять новая механика оплаты на них?\n",
    "- Может увеличиться доля оплативших среди активных\n",
    "- Платящие пользователи могут начать тратить больше, если оплата стала проще\n",
    "\n",
    "<br>Данные изменения отражают 3 метрики:\n",
    "- CR - конверсия из активных в оплатившие \n",
    "- ARPPU - средний доход с оплатившего юзера \n",
    "- ARPU - средний доход с активного юзера\n",
    "<br>(является производной остальных двух: ARPU = CR * ARPPU)\n",
    "\n",
    "На данные метрики также влияет качество трафика/мотивированность пользователей, фичи конкурентов, рекламные компании и др. Дизайн эксперимента должен был исключить влияние других факторов насколько возможно."
   ]
  },
  {
   "cell_type": "code",
   "execution_count": 17,
   "id": "4d96fb7e",
   "metadata": {},
   "outputs": [
    {
     "name": "stdout",
     "output_type": "stream",
     "text": [
      "\n",
      "\u001b[1mCR\u001b[0m\n",
      "Конверсия оплативших пользователей:\n",
      "Группа А: 0.0507 \n",
      "Группа В: 0.0462 \n",
      "Конверсия у группы В на 8.88 % меньше, чем у группы А\n",
      "\n",
      "\u001b[1mARPPU\u001b[0m\n",
      "Отношение общей суммы на количество активных оплативших пользователей:\n",
      "Группа А: 933.59 \n",
      "Группа В: 1257.88 \n",
      "ARPPU группы В на 34.74 % больше, чем у группы А\n",
      "\n",
      "\u001b[1mARPU\u001b[0m\n",
      "Отношение общей суммы на количество активных пользователей:\n",
      "Группа А: 933.59 \n",
      "Группа В: 1257.88 \n",
      "ARPU группы В на 34.74 % больше, чем у группы А\n"
     ]
    }
   ],
   "source": [
    "CR = []\n",
    "ARPPU = []\n",
    "ARPU=[]\n",
    "\n",
    "for gr in df_bought.grp.unique():\n",
    "    CR.append( round( df_bought.query('grp==@gr').id.count()\n",
    "              /df_visit.query('grp==@gr').id.count(), 4) )\n",
    "    \n",
    "    ARPPU.append( round( df_bought.query('grp==@gr').rev.mean(), 2))\n",
    "    \n",
    "    ARPU.append( round( df_bought.query('grp==@gr').rev.mean(), 2))\n",
    "\n",
    "percent = []\n",
    "for x in [CR, ARPPU, ARPU]:\n",
    "    percent.append( round( abs( 100*(x[1]-x[0])/x[0]), 2))\n",
    "    \n",
    "print('\\n\\033[1mCR\\033[0m\\nКонверсия оплативших пользователей:\\nГруппа А:',\n",
    "      CR[0], '\\nГруппа В:', CR[1],\n",
    "      '\\nКонверсия у группы В на', percent[0],\n",
    "      '% меньше, чем у группы А')\n",
    "\n",
    "print('\\n\\033[1mARPPU\\033[0m\\nОтношение общей суммы на количество активных оплативших пользователей:\\nГруппа А:',\n",
    "      ARPPU[0], '\\nГруппа В:', ARPPU[1],\n",
    "      '\\nARPPU группы В на', percent[1],\n",
    "      '% больше, чем у группы А')\n",
    "\n",
    "print('\\n\\033[1mARPU\\033[0m\\nОтношение общей суммы на количество активных пользователей:\\nГруппа А:',\n",
    "      ARPU[0], '\\nГруппа В:', ARPU[1],  \n",
    "      '\\nARPU группы В на', percent[2],\n",
    "      '% больше, чем у группы А')"
   ]
  },
  {
   "cell_type": "markdown",
   "id": "d8759c90",
   "metadata": {},
   "source": [
    "### Имеются ли различия в показателях и с чем они могут быть связаны?\n",
    "Видим, что конверсия `CR` падает, но доход на пользователя/покупателя `ARPU`/`ARPPU` растёт. \n",
    "\n",
    "Возможно падение конверсии случайно, в то время как рост `ARPPU` нет, нужны результаты о статистической значимости. Кроме того, ответ в такой ситуации может крыться в сегментах/срезах. Посмотрим на распределение чеков в поисках ответов."
   ]
  },
  {
   "cell_type": "code",
   "execution_count": 18,
   "id": "0cf39a2e",
   "metadata": {},
   "outputs": [
    {
     "data": {
      "text/plain": [
       "<matplotlib.legend.Legend at 0x1c78dba9930>"
      ]
     },
     "execution_count": 18,
     "metadata": {},
     "output_type": "execute_result"
    },
    {
     "data": {
      "image/png": "[encoded data removed]",
      "text/plain": [
       "<Figure size 640x480 with 1 Axes>"
      ]
     },
     "metadata": {},
     "output_type": "display_data"
    }
   ],
   "source": [
    "from matplotlib.lines import Line2D\n",
    "\n",
    "f, ax = plt.subplots(1, 1)\n",
    "a = Line2D([], [], color='blue', label='B')\n",
    "b = Line2D([], [], color='orange', label='A')\n",
    "\n",
    "sns.histplot(ax=ax, data=df_bought.query('grp==\"B\"').rev, stat='percent')\n",
    "sns.histplot(ax=ax, data=df_bought.query('grp==\"A\"').rev, stat='percent')\n",
    "\n",
    "plt.legend(handles=[a, b])\n",
    "#ax.legend(labels=[\"B\", \"A\"])"
   ]
  },
  {
   "cell_type": "code",
   "execution_count": 19,
   "id": "cb33b072",
   "metadata": {},
   "outputs": [
    {
     "data": {
      "text/html": [
       "<div>\n",
       "<style scoped>\n",
       "    .dataframe tbody tr th:only-of-type {\n",
       "        vertical-align: middle;\n",
       "    }\n",
       "\n",
       "    .dataframe tbody tr th {\n",
       "        vertical-align: top;\n",
       "    }\n",
       "\n",
       "    .dataframe thead th {\n",
       "        text-align: right;\n",
       "    }\n",
       "</style>\n",
       "<table border=\"1\" class=\"dataframe\">\n",
       "  <thead>\n",
       "    <tr style=\"text-align: right;\">\n",
       "      <th></th>\n",
       "      <th>Группа В</th>\n",
       "      <th>Группа A</th>\n",
       "    </tr>\n",
       "  </thead>\n",
       "  <tbody>\n",
       "    <tr>\n",
       "      <th>count</th>\n",
       "      <td>314.000000</td>\n",
       "      <td>78.000000</td>\n",
       "    </tr>\n",
       "    <tr>\n",
       "      <th>mean</th>\n",
       "      <td>1257.878992</td>\n",
       "      <td>933.589744</td>\n",
       "    </tr>\n",
       "    <tr>\n",
       "      <th>std</th>\n",
       "      <td>790.864254</td>\n",
       "      <td>919.932711</td>\n",
       "    </tr>\n",
       "    <tr>\n",
       "      <th>min</th>\n",
       "      <td>199.000000</td>\n",
       "      <td>199.000000</td>\n",
       "    </tr>\n",
       "    <tr>\n",
       "      <th>25%</th>\n",
       "      <td>511.750000</td>\n",
       "      <td>290.000000</td>\n",
       "    </tr>\n",
       "    <tr>\n",
       "      <th>50%</th>\n",
       "      <td>1140.000000</td>\n",
       "      <td>585.000000</td>\n",
       "    </tr>\n",
       "    <tr>\n",
       "      <th>75%</th>\n",
       "      <td>1900.000000</td>\n",
       "      <td>1114.750000</td>\n",
       "    </tr>\n",
       "    <tr>\n",
       "      <th>max</th>\n",
       "      <td>4650.000000</td>\n",
       "      <td>3660.000000</td>\n",
       "    </tr>\n",
       "  </tbody>\n",
       "</table>\n",
       "</div>"
      ],
      "text/plain": [
       "          Группа В     Группа A\n",
       "count   314.000000    78.000000\n",
       "mean   1257.878992   933.589744\n",
       "std     790.864254   919.932711\n",
       "min     199.000000   199.000000\n",
       "25%     511.750000   290.000000\n",
       "50%    1140.000000   585.000000\n",
       "75%    1900.000000  1114.750000\n",
       "max    4650.000000  3660.000000"
      ]
     },
     "execution_count": 19,
     "metadata": {},
     "output_type": "execute_result"
    }
   ],
   "source": [
    "pd.concat([df_bought.query('grp==\"B\"').rev.describe().to_frame().rename(columns={'rev': 'Группа В'}), \n",
    "           df_bought.query('grp==\"A\"').rev.describe().to_frame().rename(columns={'rev': 'Группа A'})], axis=1)"
   ]
  },
  {
   "cell_type": "markdown",
   "id": "50514d43",
   "metadata": {},
   "source": [
    "Возможно при уменьшении конверсии произошло отсечение части пользователей платящих малые суммы."
   ]
  },
  {
   "cell_type": "markdown",
   "id": "10298a4c",
   "metadata": {},
   "source": [
    "### Являются ли эти различия статистически значимыми?\n",
    "Размеры групп очень сильно отличаются, поэтому Т-тест может давать большие погрешности.\n",
    "Можно использовать Welch T-test или Bootsrap.\n",
    "Кроме того, конверсия обычно распределена ненормально.\n",
    "В таком случае идеально подходит `bootstrap`.\n",
    "\n",
    "* Строим `bootstrap` распределения для групп А и B.\n",
    "* Вычислим их разницу.\n",
    "* В получившемся рапределении разницы находим доверительных интервал.\n",
    "* Проверяем, попадает ли доверительный интервал в 0. Если да, то нулевая гипотеза на данном уровне значимости принимается, если нет - отвергается.\n",
    "------\n",
    "\n",
    "Функция для проверки гипотез с помощью bootstrap:"
   ]
  },
  {
   "cell_type": "code",
   "execution_count": 20,
   "id": "af79dac1",
   "metadata": {},
   "outputs": [],
   "source": [
    "def get_bootstrap(\n",
    "    data_column_1,                       # числовые значения первой (контрольной) выборки\n",
    "    data_column_2,                       # числовые значения второй (тестовой) выборки\n",
    "    boot_it   = 1000,                    # количество бутстрэп-подвыборок\n",
    "    statistic = np.mean,                 # интересующая нас статистика\n",
    "    bootstrap_conf_level = 0.95,         # уровень значимости\n",
    "    graph         = True,                # отрисовывать ли график\n",
    "    show_progress = True                 # показывать ли индикатор програсса\n",
    "    ):\n",
    "    boot_len  = max([len(data_column_1), len(data_column_2)])\n",
    "    boot_data = []\n",
    "    \n",
    "    # выбираем отрисовывать индикатора програсса или нет\n",
    "    if show_progress:\n",
    "        progress_bar = tqdm\n",
    "    else:\n",
    "        progress_bar = lambda x: x\n",
    "    \n",
    "    for i in progress_bar(range(boot_it)):        # извлекаем подвыборки\n",
    "        samples_1 = data_column_1.sample(\n",
    "            boot_len, \n",
    "            replace = True                        # параметр возвращения\n",
    "        ).values\n",
    "        \n",
    "        samples_2 = data_column_2.sample(\n",
    "            boot_len, \n",
    "            replace = True\n",
    "        ).values\n",
    "        \n",
    "        samples_delta = samples_2 - samples_1      # находим разницу подвыборок\n",
    "        boot_data.append(statistic(samples_delta)) # применяем статистику для разниц подвыборок\n",
    "        \n",
    "    pd_boot_data = pd.DataFrame(boot_data)\n",
    "\n",
    "    # доверительный интервал \n",
    "    left_quant  = (1 - bootstrap_conf_level)/2\n",
    "    right_quant = 1 - (1 - bootstrap_conf_level) / 2\n",
    "    ci = pd_boot_data.quantile([left_quant, right_quant])\n",
    "        \n",
    "    p_1 = norm.cdf(\n",
    "        x     = 0, \n",
    "        loc   = np.mean(boot_data), \n",
    "        scale = np.std(boot_data)\n",
    "    )\n",
    "    p_2 = norm.cdf(\n",
    "        x     = 0, \n",
    "        loc   = -np.mean(boot_data), \n",
    "        scale = np.std(boot_data)\n",
    "    )\n",
    "    p_value = min(p_1, p_2) * 2\n",
    "        \n",
    "    # отисовка графиков\n",
    "    if graph == True:\n",
    "        plt.hist(pd_boot_data[0], bins = 50)\n",
    "        plt.style.use('ggplot')\n",
    "        plt.vlines(ci, ymin=0, ymax=50, linestyle='--')\n",
    "        plt.xlabel('boot_data')\n",
    "        plt.ylabel('frequency')\n",
    "        plt.title(\"Histogram of boot_data\")\n",
    "        plt.show()\n",
    "       \n",
    "    return {\"ci\": ci, \n",
    "            \"p_value\": p_value}"
   ]
  },
  {
   "cell_type": "markdown",
   "id": "d044d9cb",
   "metadata": {},
   "source": [
    "Данная функция требует на вход два столбца данных(А и B) и функцию подсчета метрики.\n",
    "<br>Выберем функции для подсчета каждой метрики. \n",
    "<br>Для CR нужна функция считающая долю True среди True/False.\n",
    "True/False означают произошло целевое действие или нет. Будем использовать sum(x)/len(x)\n",
    "<br>Для ARPPU и ARPU подойдет np.mean(x):"
   ]
  },
  {
   "cell_type": "code",
   "execution_count": 21,
   "id": "05f5f908",
   "metadata": {},
   "outputs": [],
   "source": [
    "def cr_f(x):\n",
    "    return sum(x) / len(x)\n",
    "\n",
    "def arpu_f(y):\n",
    "    return np.mean(y)\n",
    "\n",
    "def arppu_f(y):\n",
    "    return np.mean(y)"
   ]
  },
  {
   "cell_type": "markdown",
   "id": "c4f9e701",
   "metadata": {},
   "source": [
    "Эти функции требуют создания новых датафреймов и столбцов.\n",
    "_________________\n",
    "Объединим таблицы клиентов и юзеров: "
   ]
  },
  {
   "cell_type": "code",
   "execution_count": 22,
   "id": "000ac926",
   "metadata": {},
   "outputs": [],
   "source": [
    "df_visit_bought = df_visit.merge(df_bought, on=['id', 'grp'], how='left')"
   ]
  },
  {
   "cell_type": "markdown",
   "id": "b670ae27",
   "metadata": {},
   "source": [
    "Заполним пропущенные значения оплат нулями:"
   ]
  },
  {
   "cell_type": "code",
   "execution_count": 23,
   "id": "fe55d6a9",
   "metadata": {},
   "outputs": [],
   "source": [
    "df_visit_bought.rev = df_visit_bought.rev.fillna(0)"
   ]
  },
  {
   "cell_type": "markdown",
   "id": "f266c78b",
   "metadata": {},
   "source": [
    "Создадим столбец True/False для теста конверсии:"
   ]
  },
  {
   "cell_type": "code",
   "execution_count": 24,
   "id": "1d09485f",
   "metadata": {},
   "outputs": [],
   "source": [
    "df_visit_bought['bought'] = np.int8(df_visit_bought.rev!=0)"
   ]
  },
  {
   "cell_type": "markdown",
   "id": "af5c61c6",
   "metadata": {},
   "source": [
    "разделим на группы A и B:"
   ]
  },
  {
   "cell_type": "code",
   "execution_count": 25,
   "id": "9b66664d",
   "metadata": {},
   "outputs": [],
   "source": [
    "grp_a = df_visit_bought.query('grp==\"A\"')\n",
    "grp_b = df_visit_bought.query('grp==\"B\"')"
   ]
  },
  {
   "cell_type": "markdown",
   "id": "edd3053e",
   "metadata": {},
   "source": [
    "### CR\n",
    "\n",
    "Сформулируем нулевую и альтернативную гипотезы:\n",
    "\n",
    "* `H0`: CR в двух группах одинаковые.\n",
    "* `H1`: CR в двух группах различаются."
   ]
  },
  {
   "cell_type": "code",
   "execution_count": 26,
   "id": "eeeea4a5",
   "metadata": {},
   "outputs": [
    {
     "data": {
      "application/vnd.jupyter.widget-view+json": {
       "model_id": "b32697904f5c4d87941ac2f5a756376a",
       "version_major": 2,
       "version_minor": 0
      },
      "text/plain": [
       "  0%|          | 0/1000 [00:00<?, ?it/s]"
      ]
     },
     "metadata": {},
     "output_type": "display_data"
    },
    {
     "data": {
      "image/png": "[encoded data removed]",
      "text/plain": [
       "<Figure size 640x480 with 1 Axes>"
      ]
     },
     "metadata": {},
     "output_type": "display_data"
    },
    {
     "data": {
      "text/plain": [
       "{'ci':               0\n",
       " 0.025 -0.011760\n",
       " 0.975  0.002356,\n",
       " 'p_value': 0.20720419282326574}"
      ]
     },
     "execution_count": 26,
     "metadata": {},
     "output_type": "execute_result"
    }
   ],
   "source": [
    "get_bootstrap(grp_a.bought, grp_b.bought, statistic = cr_f)"
   ]
  },
  {
   "cell_type": "markdown",
   "id": "2b1a02ad",
   "metadata": {},
   "source": [
    "Доверительный интервал **попадает в 0**, недостаточно оснований отвергнуть нулевую гипотезу. Нельзя утверждать, что различия CR в двух группах есть.\n",
    "\n",
    "### ARPU\n",
    "Сформулируем нулевую и альтернативную гипотезы:\n",
    "\n",
    "* `H0`: ARPU в двух группах одинаковые.\n",
    "* `H1`: ARPU в двух группах различаются."
   ]
  },
  {
   "cell_type": "code",
   "execution_count": 27,
   "id": "bb57e410",
   "metadata": {},
   "outputs": [
    {
     "data": {
      "application/vnd.jupyter.widget-view+json": {
       "model_id": "1b657e87294142ada409076783b37e76",
       "version_major": 2,
       "version_minor": 0
      },
      "text/plain": [
       "  0%|          | 0/1000 [00:00<?, ?it/s]"
      ]
     },
     "metadata": {},
     "output_type": "display_data"
    },
    {
     "data": {
      "image/png": "[encoded data removed]",
      "text/plain": [
       "<Figure size 640x480 with 1 Axes>"
      ]
     },
     "metadata": {},
     "output_type": "display_data"
    },
    {
     "data": {
      "text/plain": [
       "{'ci':                0\n",
       " 0.025   0.115475\n",
       " 0.975  20.903653,\n",
       " 'p_value': 0.04233150726669371}"
      ]
     },
     "execution_count": 27,
     "metadata": {},
     "output_type": "execute_result"
    }
   ],
   "source": [
    "get_bootstrap(grp_a.rev, grp_b.rev, statistic = arpu_f)"
   ]
  },
  {
   "cell_type": "markdown",
   "id": "ad245a83",
   "metadata": {},
   "source": [
    "Доверительный интервал **не попадает в 0**, отвергаем нулевую гипотезу. ARPU в двух группах различаются.\n",
    "\n",
    "### ARPPU\n",
    "Сформулируем нулевую и альтернативную гипотезы:\n",
    "\n",
    "* `H0`: ARPPU в двух группах одинаковые.\n",
    "* `H1`: ARPPU в двух группах различаются."
   ]
  },
  {
   "cell_type": "code",
   "execution_count": 28,
   "id": "4b5426f7",
   "metadata": {},
   "outputs": [
    {
     "data": {
      "application/vnd.jupyter.widget-view+json": {
       "model_id": "6dd1b6964bc3404e833aa95a3564b48c",
       "version_major": 2,
       "version_minor": 0
      },
      "text/plain": [
       "  0%|          | 0/1000 [00:00<?, ?it/s]"
      ]
     },
     "metadata": {},
     "output_type": "display_data"
    },
    {
     "data": {
      "image/png": "[encoded data removed]",
      "text/plain": [
       "<Figure size 640x480 with 1 Axes>"
      ]
     },
     "metadata": {},
     "output_type": "display_data"
    },
    {
     "data": {
      "text/plain": [
       "{'ci':                 0\n",
       " 0.025  192.037987\n",
       " 0.975  451.749614,\n",
       " 'p_value': 1.949955892971102e-06}"
      ]
     },
     "execution_count": 28,
     "metadata": {},
     "output_type": "execute_result"
    }
   ],
   "source": [
    "get_bootstrap(grp_a.rev[grp_a.rev > 0], grp_b.rev[grp_b.rev > 0], statistic = arppu_f)"
   ]
  },
  {
   "cell_type": "markdown",
   "id": "578e9453",
   "metadata": {},
   "source": [
    "Доверительный интервал **не попадает в 0**, отвергаем нулевую гипотезу. ARPPU в двух группах различаются.\n",
    "\n",
    "### Стоит ли запускать новую механику на всех пользователей?\n",
    "Да, новая механика оплаты даёт статистически значимый прирост в метриках ARPU и ARPPU, отрицательное изменение метрики CR не подтвердилось."
   ]
  }
 ],
 "metadata": {
  "kernelspec": {
   "display_name": "Python 3 (ipykernel)",
   "language": "python",
   "name": "python3"
  },
  "language_info": {
   "codemirror_mode": {
    "name": "ipython",
    "version": 3
   },
   "file_extension": ".py",
   "mimetype": "text/x-python",
   "name": "python",
   "nbconvert_exporter": "python",
   "pygments_lexer": "ipython3",
   "version": "3.10.11"
  }
 },
 "nbformat": 4,
 "nbformat_minor": 5
}
