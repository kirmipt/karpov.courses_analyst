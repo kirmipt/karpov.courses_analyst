{
 "cells": [
  {
   "cell_type": "markdown",
   "id": "ca155ac3",
   "metadata": {},
   "source": [
    "# Финальный проект: вариант 2\n",
    "## Задание 1. A/B–тестирование\n",
    "### 1.1 Условие\n",
    "\n",
    "Одной из основных задач аналитика в нашей команде является корректное проведение экспериментов. Для этого мы применяем метод A/B–тестирования. В ходе тестирования одной гипотезы целевой группе была предложена новая механика оплаты услуг на сайте, у контрольной группы оставалась базовая механика. В качестве задания Вам необходимо проанализировать итоги эксперимента и сделать вывод, стоит ли запускать новую механику оплаты на всех пользователей.\n",
    "\n",
    "### 1.2 Входные данные\n",
    "\n",
    "В качестве входных данных Вы имеете 4 csv-файла:\n",
    "\n",
    "* `groups.csv` - файл с информацией о принадлежности пользователя к контрольной или экспериментальной группе (А – контроль, B – целевая группа) \n",
    "* `groups_add.csv` - дополнительный файл с пользователями, который вам прислали спустя 2 дня после передачи данных\n",
    "* `active_studs.csv` - файл с информацией о пользователях, которые зашли на платформу в дни проведения эксперимента. \n",
    "* `checks.csv` - файл с информацией об оплатах пользователей в дни проведения эксперимента. \n",
    "\n",
    "### 1.3 Вопросы\n",
    "\n",
    "Предлагаем Вам ответить на следующие вопросы:\n",
    "\n",
    "* На какие метрики Вы смотрите в ходе анализа и почему?\n",
    "* Имеются ли различия в показателях и с чем они могут быть связаны?\n",
    "* Являются ли эти различия статистически значимыми?\n",
    "* Стоит ли запускать новую механику на всех пользователей?\n",
    "Данный список вопросов не является обязательным, и Вы можете при своём ответе опираться на собственный план.\n",
    "\n",
    "### 1.4 Требования к ответу\n",
    "\n",
    "* При выполнении тестового задания необходимо использовать язык программирования Python. \n",
    "* В файле обязательно должны быть комментарии к тем действиям, которые Вы выполняете с данными. \n",
    "\n",
    "-------------------------------\n",
    "\n",
    "Загрузим необходимые библиотеки:"
   ]
  },
  {
   "cell_type": "code",
   "execution_count": 1,
   "id": "6252850d",
   "metadata": {},
   "outputs": [],
   "source": [
    "import pandas as pd\n",
    "import numpy as np\n",
    "\n",
    "import requests\n",
    "from urllib.parse import urlencode\n",
    "\n",
    "from tqdm.auto import tqdm\n",
    "from scipy.stats import norm \n",
    "import scipy.stats as ss\n",
    "\n",
    "import seaborn as sns\n",
    "import matplotlib.pyplot as plt"
   ]
  },
  {
   "cell_type": "markdown",
   "id": "1d258118",
   "metadata": {},
   "source": [
    "Загрузим датасеты:"
   ]
  },
  {
   "cell_type": "code",
   "execution_count": 2,
   "id": "48a5418e",
   "metadata": {},
   "outputs": [],
   "source": [
    "# Ссылка для получения информации из области ресурсов диска\n",
    "base_url = 'https://cloud-api.yandex.net/v1/disk/public/resources/download?'\n",
    "\n",
    "\n",
    "# ссылки на данные + разделители для csv\n",
    "links_dic = {\n",
    "    'groups':       ['https://disk.yandex.ru/d/UhyYx41rTt3clQ', ';'],\n",
    "    'groups_add':   ['https://disk.yandex.ru/d/5Kxrz02m3IBUwQ', ','],\n",
    "    'active_studs': ['https://disk.yandex.ru/d/Tbs44Bm6H_FwFQ', ','],\n",
    "    'checks':       ['https://disk.yandex.ru/d/pH1q-VqcxXjsVA', ';']\n",
    "            }\n",
    "\n",
    "\n",
    "# отправляем запрос на получение ссылки для скачивания и скачиваем файлы\n",
    "for csv_filename, csv_link in links_dic.items():\n",
    "    final_url               = base_url + urlencode(dict(public_key=csv_link[0]))\n",
    "    response                = requests.get(final_url)\n",
    "    download_url            = response.json()['href']\n",
    "    globals()[csv_filename] = pd.read_csv(download_url, sep=csv_link[1])"
   ]
  },
  {
   "cell_type": "markdown",
   "id": "2e117b52",
   "metadata": {},
   "source": [
    "-------------------------------\n",
    "Сократим названия id:"
   ]
  },
  {
   "cell_type": "code",
   "execution_count": 3,
   "id": "6e21c7cc",
   "metadata": {},
   "outputs": [],
   "source": [
    "active_studs = active_studs.rename(columns={'student_id': 'id'})\n",
    "checks = checks.rename(columns={'student_id': 'id'})"
   ]
  },
  {
   "cell_type": "markdown",
   "id": "6b502bc0",
   "metadata": {},
   "source": [
    "Обзор данных:"
   ]
  },
  {
   "cell_type": "code",
   "execution_count": 4,
   "id": "50382eaf",
   "metadata": {
    "scrolled": false
   },
   "outputs": [
    {
     "name": "stdout",
     "output_type": "stream",
     "text": [
      "groups\n",
      "     id grp\n",
      "0  1489   B\n",
      "1  1627   A\n",
      "2  1768   B\n",
      "3  1783   B\n",
      "4  1794   A \n",
      "\n",
      "Кол-во ID: 74484 \n",
      "\n",
      "Кол-во уникальных ID: 74484\n",
      "______________________________\n",
      "\n",
      "\n",
      "\n",
      "groups_add\n",
      "        id grp\n",
      "0  5694584   B\n",
      "1  5694830   B\n",
      "2  5695057   B\n",
      "3  5698872   B\n",
      "4  5699067   B \n",
      "\n",
      "Кол-во ID: 92 \n",
      "\n",
      "Кол-во уникальных ID: 92\n",
      "______________________________\n",
      "\n",
      "\n",
      "\n",
      "active_studs\n",
      "        id\n",
      "0   581585\n",
      "1  5723133\n",
      "2  3276743\n",
      "3  4238589\n",
      "4  4475369 \n",
      "\n",
      "Кол-во ID: 8341 \n",
      "\n",
      "Кол-во уникальных ID: 8341\n",
      "______________________________\n",
      "\n",
      "\n",
      "\n",
      "checks\n",
      "       id    rev\n",
      "0    1627  990.0\n",
      "1    3185  690.0\n",
      "2   25973  690.0\n",
      "3   26280  690.0\n",
      "4  100300  990.0 \n",
      "\n",
      "Кол-во ID: 541 \n",
      "\n",
      "Кол-во уникальных ID: 541\n",
      "______________________________\n",
      "\n",
      "\n",
      "\n"
     ]
    }
   ],
   "source": [
    "# обзор датафреймов\n",
    "# в каждом датасете проверяем уникальность всех id\n",
    "for x in ['groups', 'groups_add', 'active_studs', 'checks']:\n",
    "    print(x)\n",
    "    y = globals()[x]\n",
    "    print(y.head(), '\\n')\n",
    "    print('Кол-во ID:', y.id.count(), '\\n')\n",
    "    print('Кол-во уникальных ID:', y.id.nunique())\n",
    "    print('______________________________\\n\\n\\n')"
   ]
  },
  {
   "cell_type": "code",
   "execution_count": 5,
   "id": "5a5126b1",
   "metadata": {},
   "outputs": [
    {
     "name": "stdout",
     "output_type": "stream",
     "text": [
      "Кол-во пропусков: \n",
      " id     0\n",
      "grp    0\n",
      "dtype: int64 \n",
      "\n",
      "Кол-во дупликатов: 0\n",
      "______________________________\n",
      "\n",
      "\n",
      "\n",
      "Кол-во пропусков: \n",
      " id     0\n",
      "grp    0\n",
      "dtype: int64 \n",
      "\n",
      "Кол-во дупликатов: 0\n",
      "______________________________\n",
      "\n",
      "\n",
      "\n",
      "Кол-во пропусков: \n",
      " id    0\n",
      "dtype: int64 \n",
      "\n",
      "Кол-во дупликатов: 0\n",
      "______________________________\n",
      "\n",
      "\n",
      "\n",
      "Кол-во пропусков: \n",
      " id     0\n",
      "rev    0\n",
      "dtype: int64 \n",
      "\n",
      "Кол-во дупликатов: 0\n",
      "______________________________\n",
      "\n",
      "\n",
      "\n"
     ]
    }
   ],
   "source": [
    "for x in ['groups', 'groups_add', 'active_studs', 'checks']:\n",
    "    y = globals()[x]\n",
    "    print('Кол-во пропусков:', '\\n', y.isna().sum(), '\\n')\n",
    "    print('Кол-во дупликатов:', y.duplicated().sum())\n",
    "    print('______________________________\\n\\n\\n')"
   ]
  },
  {
   "cell_type": "markdown",
   "id": "383cae60",
   "metadata": {},
   "source": [
    "----------------\n",
    "Требуется проверить все имеющиеся пересечения множеств id из разных таблиц.\n",
    "Проверим, присутствуют ли id из `groups_add` в `active_studs` и `checks`:"
   ]
  },
  {
   "cell_type": "code",
   "execution_count": 6,
   "id": "a814a368",
   "metadata": {
    "scrolled": true
   },
   "outputs": [
    {
     "name": "stdout",
     "output_type": "stream",
     "text": [
      "Кол-во id из groups_add в active_studs: 13 \n",
      "Кол-во id из groups_add в checks: 1\n"
     ]
    }
   ],
   "source": [
    "print('Кол-во id из groups_add в active_studs:', groups_add.query('id in @active_studs.id').shape[0], \n",
    "      '\\nКол-во id из groups_add в checks:',     groups_add.query('id in @checks.id').shape[0])"
   ]
  },
  {
   "cell_type": "markdown",
   "id": "88710b82",
   "metadata": {},
   "source": [
    "-------------------------------\n",
    "Проверим на пересечение id из `groups` и `groups_add`:"
   ]
  },
  {
   "cell_type": "code",
   "execution_count": 7,
   "id": "984b4979",
   "metadata": {
    "scrolled": true
   },
   "outputs": [
    {
     "name": "stdout",
     "output_type": "stream",
     "text": [
      "Кол-во общих id в groups и groups_add: 0\n"
     ]
    }
   ],
   "source": [
    "print('Кол-во общих id в groups и groups_add:', \n",
    "      len(set(groups_add.id) & set(groups.id)))"
   ]
  },
  {
   "cell_type": "markdown",
   "id": "c8e2046d",
   "metadata": {},
   "source": [
    "-------------------------------\n",
    "Соединим датафрейм `groups` c датафреймом `groups_add`:"
   ]
  },
  {
   "cell_type": "code",
   "execution_count": 8,
   "id": "f5c7ab18",
   "metadata": {},
   "outputs": [],
   "source": [
    "groups_full = pd.concat([groups, groups_add])"
   ]
  },
  {
   "cell_type": "code",
   "execution_count": 9,
   "id": "3c8f5daf",
   "metadata": {},
   "outputs": [
    {
     "name": "stdout",
     "output_type": "stream",
     "text": [
      "Доля активных пользователей, отсутствующих/присутствующих в общем списке:\n",
      " 0 / 8341 \n",
      "Доля оплативших пользователей, отсутствующих/присутствующих в общем списке:\n",
      " 0 / 541 \n",
      "Доля оплативших пользователей, отсутствующих/присутствующих в списке активных:\n",
      " 149 / 392\n"
     ]
    }
   ],
   "source": [
    "print('Доля активных пользователей, отсутствующих/присутствующих в общем списке:\\n', \n",
    "      len(set(active_studs.id) - set(groups_full.id)),'/', \n",
    "      len(set(active_studs.id) & set(groups_full.id)),\n",
    "      '\\nДоля оплативших пользователей, отсутствующих/присутствующих в общем списке:\\n',\n",
    "      len(set(checks.id) - set(groups_full.id)),'/', \n",
    "      len(set(checks.id) & set(groups_full.id)),\n",
    "      '\\nДоля оплативших пользователей, отсутствующих/присутствующих в списке активных:\\n',\n",
    "      len(set(checks.id) - set(active_studs.id)),'/', \n",
    "      len(set(checks.id) & set(active_studs.id)))"
   ]
  },
  {
   "cell_type": "markdown",
   "id": "29957780",
   "metadata": {},
   "source": [
    "-------------------------------\n",
    "Диаграмма Эйлера, демонстирующая имеющиеся взаимосвязи id разных табилц:"
   ]
  },
  {
   "attachments": {
    "oval_diagram.png": {
     "image/png": "[encoded data removed]"
    }
   },
   "cell_type": "markdown",
   "id": "733f9acc",
   "metadata": {},
   "source": [
    "![oval_diagram.png](attachment:oval_diagram.png)"
   ]
  },
  {
   "cell_type": "markdown",
   "id": "7765551d",
   "metadata": {},
   "source": [
    "-------------\n",
    "В период проведения экспериментов были оплаты и от не посещавших платформу студентов. Возможно, это оплаты другими способами, например, автоматические оплаты по подписке."
   ]
  },
  {
   "cell_type": "markdown",
   "id": "82fedc58",
   "metadata": {},
   "source": [
    "Возможно это автоматические платежи, а возможно ошибка в данных и все оплатившие являются активными. Так как у нас нет возможности выяснить это, уберём из выборки оплативших не активных."
   ]
  },
  {
   "cell_type": "code",
   "execution_count": 10,
   "id": "c8863d80",
   "metadata": {},
   "outputs": [],
   "source": [
    "checks_relev = checks[checks.id.isin(active_studs.id)]"
   ]
  },
  {
   "cell_type": "code",
   "execution_count": 11,
   "id": "267332c9",
   "metadata": {},
   "outputs": [
    {
     "data": {
      "text/plain": [
       "id     392\n",
       "rev    392\n",
       "dtype: int64"
      ]
     },
     "execution_count": 11,
     "metadata": {},
     "output_type": "execute_result"
    }
   ],
   "source": [
    "checks_relev.count()"
   ]
  },
  {
   "cell_type": "markdown",
   "id": "b9c76e31",
   "metadata": {},
   "source": [
    "-------------------------------\n",
    "Создадим таблицы с распределением активных и оплативших по группам А/B:"
   ]
  },
  {
   "cell_type": "code",
   "execution_count": 12,
   "id": "e8c1eb93",
   "metadata": {},
   "outputs": [],
   "source": [
    "df_visit = active_studs.merge(groups_full, on='id')\n",
    "df_bought = checks_relev.merge(groups_full, on='id')"
   ]
  },
  {
   "cell_type": "markdown",
   "id": "a7b9c1c6",
   "metadata": {},
   "source": [
    "Проверим в них распределение по группам:"
   ]
  },
  {
   "cell_type": "code",
   "execution_count": 13,
   "id": "9f4ab3e6",
   "metadata": {
    "scrolled": true
   },
   "outputs": [
    {
     "data": {
      "text/plain": [
       "<Axes: title={'center': 'users_bought'}, xlabel='grp', ylabel='count'>"
      ]
     },
     "execution_count": 13,
     "metadata": {},
     "output_type": "execute_result"
    },
    {
     "data": {
      "image/png": "[encoded data removed]",
      "text/plain": [
       "<Figure size 640x480 with 2 Axes>"
      ]
     },
     "metadata": {},
     "output_type": "display_data"
    }
   ],
   "source": [
    "fig, axes = plt.subplots(1, 2)#, sharex=True, figsize=(10,5))\n",
    "axes[0].set_title('users_visited')\n",
    "axes[1].set_title('users_bought')\n",
    "sns.countplot(ax=axes[0], x='grp', \n",
    "              data=df_visit)\n",
    "sns.countplot(ax=axes[1], x='grp', \n",
    "              data=df_bought)"
   ]
  },
  {
   "cell_type": "markdown",
   "id": "b1678c28",
   "metadata": {},
   "source": [
    "Проверим наличие выбросов:"
   ]
  },
  {
   "cell_type": "code",
   "execution_count": 14,
   "id": "daea92a1",
   "metadata": {
    "scrolled": true
   },
   "outputs": [
    {
     "data": {
      "image/png": "[encoded data removed]",
      "text/plain": [
       "<Figure size 640x480 with 1 Axes>"
      ]
     },
     "metadata": {},
     "output_type": "display_data"
    }
   ],
   "source": [
    "sns.boxplot(data=df_bought, y='rev', x='grp')\n",
    "sns.despine()"
   ]
  },
  {
   "cell_type": "markdown",
   "id": "7516fe13",
   "metadata": {},
   "source": [
    "Имеются незначительные выбросы."
   ]
  },
  {
   "cell_type": "markdown",
   "id": "fc7b39ee",
   "metadata": {},
   "source": [
    "-------------------------------\n",
    "Пользователи распределены по группам неравномерно. Группа B значительно больше, чем группа А."
   ]
  },
  {
   "cell_type": "markdown",
   "id": "fd1c1fc6",
   "metadata": {},
   "source": [
    "-------------------------------\n",
    "### Выбор метрики\n",
    "\n",
    "У нас имеются 4 переменные - \n",
    "1) id активных - df_bought.id \n",
    "2) id оплативших- df_visit.id, \n",
    "3) размер оплат - df_bought.rev\n",
    "4) id всех юзеров \n",
    "\n",
    "<br>Как может влиять новая механика оплаты на них?\n",
    "- Может увеличиться доля оплативших среди активных\n",
    "- Платящие пользователи могут начать тратить больше, если оплата стала проще\n",
    "- Механика не влияет на долю активных среди всех!!\n",
    "\n",
    "<br>Данные изменения отражают 3 метрики:\n",
    "- CR - конверсия из активных в оплатившие \n",
    "- ARPPU - средний доход с оплатившего юзера \n",
    "- ARPU - средний доход с активного юзера\n",
    "<br>(является производной остальных двух: ARPU = CR * ARPPU)\n",
    "\n",
    "На данные метрики также могут влиять такие факторы, как качество трафика/мотивированность пользователей, фичи конкурентов, рекламные компании и др. Дизайн эксперимента должен был исключить влияние других факторов насколько возможно."
   ]
  },
  {
   "cell_type": "code",
   "execution_count": 15,
   "id": "4d96fb7e",
   "metadata": {},
   "outputs": [
    {
     "name": "stdout",
     "output_type": "stream",
     "text": [
      "\n",
      "\u001b[1mCR\u001b[0m\n",
      "Конверсия оплативших пользователей:\n",
      "Группа А: 0.0507 \n",
      "Группа В: 0.0462 \n",
      "Конверсия у группы В на 8.88 % меньше, чем у группы А\n",
      "\n",
      "\u001b[1mARPPU\u001b[0m\n",
      "Отношение общей суммы на количество активных оплативших пользователей:\n",
      "Группа А: 933.59 \n",
      "Группа В: 1257.88 \n",
      "ARPPU группы В на 34.74 % больше, чем у группы А\n",
      "\n",
      "\u001b[1mARPU\u001b[0m\n",
      "Отношение общей суммы на количество активных пользователей:\n",
      "Группа А: 47.35 \n",
      "Группа В: 58.06 \n",
      "ARPU группы В на 22.62 % больше, чем у группы А\n"
     ]
    }
   ],
   "source": [
    "CR = []\n",
    "ARPPU = []\n",
    "ARPU=[]\n",
    "\n",
    "for gr in df_bought.grp.unique():\n",
    "    CR.append( round( df_bought.query('grp==@gr').id.count()\n",
    "              /df_visit.query('grp==@gr').id.count(), 4) )\n",
    "    \n",
    "    ARPPU.append( round( df_bought.query('grp==@gr').rev.mean(), 2))\n",
    "    \n",
    "    ARPU.append( round( df_bought.query('grp==@gr').rev.sum()/df_visit.query('grp==@gr').id.count(), 2))\n",
    "\n",
    "percent = []\n",
    "for x in [CR, ARPPU, ARPU]:\n",
    "    percent.append( round( abs( 100*(x[1]-x[0])/x[0]), 2))\n",
    "    \n",
    "print('\\n\\033[1mCR\\033[0m\\nКонверсия оплативших пользователей:\\nГруппа А:',\n",
    "      CR[0], '\\nГруппа В:', CR[1],\n",
    "      '\\nКонверсия у группы В на', percent[0],\n",
    "      '% меньше, чем у группы А')\n",
    "\n",
    "print('\\n\\033[1mARPPU\\033[0m\\nОтношение общей суммы на количество активных оплативших пользователей:\\nГруппа А:',\n",
    "      ARPPU[0], '\\nГруппа В:', ARPPU[1],\n",
    "      '\\nARPPU группы В на', percent[1],\n",
    "      '% больше, чем у группы А')\n",
    "\n",
    "print('\\n\\033[1mARPU\\033[0m\\nОтношение общей суммы на количество активных пользователей:\\nГруппа А:',\n",
    "      ARPU[0], '\\nГруппа В:', ARPU[1],  \n",
    "      '\\nARPU группы В на', percent[2],\n",
    "      '% больше, чем у группы А')"
   ]
  },
  {
   "cell_type": "markdown",
   "id": "d8759c90",
   "metadata": {},
   "source": [
    "-------------------------------\n",
    "### Имеются ли различия в показателях и с чем они могут быть связаны?\n",
    "Видим, что конверсия `CR` падает, но доход на пользователя/покупателя `ARPU`/`ARPPU` растёт. \n",
    "\n",
    "Возможно падение конверсии случайно, в то время как рост `ARPPU` нет, нужны результаты о статистической значимости. Кроме того, ответ в такой ситуации может крыться в сегментах/срезах. Посмотрим на распределение чеков в поисках ответов."
   ]
  },
  {
   "cell_type": "code",
   "execution_count": 16,
   "id": "0cf39a2e",
   "metadata": {},
   "outputs": [
    {
     "data": {
      "text/plain": [
       "<matplotlib.legend.Legend at 0x2b72906cf10>"
      ]
     },
     "execution_count": 16,
     "metadata": {},
     "output_type": "execute_result"
    },
    {
     "data": {
      "image/png": "[encoded data removed]",
      "text/plain": [
       "<Figure size 640x480 with 1 Axes>"
      ]
     },
     "metadata": {},
     "output_type": "display_data"
    }
   ],
   "source": [
    "from matplotlib.lines import Line2D\n",
    "\n",
    "f, ax = plt.subplots(1, 1)\n",
    "a = Line2D([], [], color='blue', label='B')\n",
    "b = Line2D([], [], color='orange', label='A')\n",
    "\n",
    "sns.histplot(ax=ax, data=df_bought.query('grp==\"B\"').rev, stat='percent')\n",
    "sns.histplot(ax=ax, data=df_bought.query('grp==\"A\"').rev, stat='percent')\n",
    "\n",
    "plt.legend(handles=[a, b])\n",
    "#ax.legend(labels=[\"B\", \"A\"])"
   ]
  },
  {
   "cell_type": "code",
   "execution_count": 17,
   "id": "cb33b072",
   "metadata": {},
   "outputs": [
    {
     "data": {
      "text/html": [
       "<div>\n",
       "<style scoped>\n",
       "    .dataframe tbody tr th:only-of-type {\n",
       "        vertical-align: middle;\n",
       "    }\n",
       "\n",
       "    .dataframe tbody tr th {\n",
       "        vertical-align: top;\n",
       "    }\n",
       "\n",
       "    .dataframe thead th {\n",
       "        text-align: right;\n",
       "    }\n",
       "</style>\n",
       "<table border=\"1\" class=\"dataframe\">\n",
       "  <thead>\n",
       "    <tr style=\"text-align: right;\">\n",
       "      <th></th>\n",
       "      <th>Группа В</th>\n",
       "      <th>Группа A</th>\n",
       "    </tr>\n",
       "  </thead>\n",
       "  <tbody>\n",
       "    <tr>\n",
       "      <th>count</th>\n",
       "      <td>314.000000</td>\n",
       "      <td>78.000000</td>\n",
       "    </tr>\n",
       "    <tr>\n",
       "      <th>mean</th>\n",
       "      <td>1257.878992</td>\n",
       "      <td>933.589744</td>\n",
       "    </tr>\n",
       "    <tr>\n",
       "      <th>std</th>\n",
       "      <td>790.864254</td>\n",
       "      <td>919.932711</td>\n",
       "    </tr>\n",
       "    <tr>\n",
       "      <th>min</th>\n",
       "      <td>199.000000</td>\n",
       "      <td>199.000000</td>\n",
       "    </tr>\n",
       "    <tr>\n",
       "      <th>25%</th>\n",
       "      <td>511.750000</td>\n",
       "      <td>290.000000</td>\n",
       "    </tr>\n",
       "    <tr>\n",
       "      <th>50%</th>\n",
       "      <td>1140.000000</td>\n",
       "      <td>585.000000</td>\n",
       "    </tr>\n",
       "    <tr>\n",
       "      <th>75%</th>\n",
       "      <td>1900.000000</td>\n",
       "      <td>1114.750000</td>\n",
       "    </tr>\n",
       "    <tr>\n",
       "      <th>max</th>\n",
       "      <td>4650.000000</td>\n",
       "      <td>3660.000000</td>\n",
       "    </tr>\n",
       "  </tbody>\n",
       "</table>\n",
       "</div>"
      ],
      "text/plain": [
       "          Группа В     Группа A\n",
       "count   314.000000    78.000000\n",
       "mean   1257.878992   933.589744\n",
       "std     790.864254   919.932711\n",
       "min     199.000000   199.000000\n",
       "25%     511.750000   290.000000\n",
       "50%    1140.000000   585.000000\n",
       "75%    1900.000000  1114.750000\n",
       "max    4650.000000  3660.000000"
      ]
     },
     "execution_count": 17,
     "metadata": {},
     "output_type": "execute_result"
    }
   ],
   "source": [
    "pd.concat([df_bought.query('grp==\"B\"').rev.describe().to_frame().rename(columns={'rev': 'Группа В'}), \n",
    "           df_bought.query('grp==\"A\"').rev.describe().to_frame().rename(columns={'rev': 'Группа A'})], axis=1)"
   ]
  },
  {
   "cell_type": "markdown",
   "id": "50514d43",
   "metadata": {},
   "source": [
    "Возможно при уменьшении конверсии произошло отсечение части пользователей платящих малые суммы."
   ]
  },
  {
   "cell_type": "markdown",
   "id": "48c96ed3",
   "metadata": {},
   "source": [
    "Стоит отметить, что данные распределены не нормально. "
   ]
  },
  {
   "cell_type": "markdown",
   "id": "10298a4c",
   "metadata": {},
   "source": [
    "-------------------------------\n",
    "### Являются ли эти различия статистически значимыми?\n",
    "При сравнении конверсии у нас имеется две номинативные переменные: 1.)оплатил/не_оплатил 2.)grp, поэтому стоит использовать `Хи-квадрат`.\n",
    "<br>ARPU и ARPPU - зависимость количественной переменной(rev) от номинативной(grp).\n",
    "Из гистограм видно, что распределение наших данных значительно отличается от нормального. Также известно о наличии выбросов.\n",
    "Поэтому вместо Т-теста стоит использовать Mann-Whitney или Bootstrap. Результаты Mann-Whitney сложнее интерпретировать, поэтому используем `bootstrap`.\n",
    "\n",
    "* Строим `bootstrap` распределения для групп А и B.\n",
    "* Вычислим их разницу.\n",
    "* В получившемся рапределении разницы находим доверительный интервал.\n",
    "* Проверяем, попадает ли доверительный интервал в 0. Если да, то нулевая гипотеза на данном уровне значимости принимается, если нет - отвергается."
   ]
  },
  {
   "cell_type": "markdown",
   "id": "13072777",
   "metadata": {},
   "source": [
    "-------------------------------\n",
    "### CR\n",
    "\n",
    "Сформулируем нулевую и альтернативную гипотезы:\n",
    "\n",
    "* `H0`: CR в двух группах одинаковые.\n",
    "* `H1`: CR в двух группах различаются."
   ]
  },
  {
   "cell_type": "code",
   "execution_count": 18,
   "id": "0c9949b3",
   "metadata": {},
   "outputs": [
    {
     "name": "stdout",
     "output_type": "stream",
     "text": [
      "Хи-квадрат p-value:  0.4672642540463894\n"
     ]
    }
   ],
   "source": [
    "group_A = [df_visit.query('grp==\"A\"').count()[0], df_bought.query('grp==\"A\"').count()[0]]\n",
    "group_B = [df_visit.query('grp==\"B\"').count()[0], df_bought.query('grp==\"B\"').count()[0]]\n",
    "\n",
    "# Запустим тест\n",
    "chi2, p, dof, ex = ss.chi2_contingency([group_A, group_B], correction=False)\n",
    "print(\"Хи-квадрат p-value: \", p)"
   ]
  },
  {
   "cell_type": "markdown",
   "id": "75b8564b",
   "metadata": {},
   "source": [
    "**Нельзя утверждать, что различия CR в двух группах есть.**\n",
    "\n",
    "-----\n",
    "Функция для проверки гипотез с помощью bootstrap:"
   ]
  },
  {
   "cell_type": "code",
   "execution_count": 19,
   "id": "af79dac1",
   "metadata": {},
   "outputs": [],
   "source": [
    "def get_bootstrap(\n",
    "    data_column_1,                       # числовые значения первой (контрольной) выборки\n",
    "    data_column_2,                       # числовые значения второй (тестовой) выборки\n",
    "    boot_it   = 1000,                    # количество бутстрэп-подвыборок\n",
    "    statistic = np.mean,                 # интересующая нас статистика\n",
    "    bootstrap_conf_level = 0.95,         # уровень значимости\n",
    "    graph         = True,                # отрисовывать ли график\n",
    "    show_progress = True                 # показывать ли индикатор програсса\n",
    "    ):\n",
    "    boot_len  = max([len(data_column_1), len(data_column_2)])\n",
    "    boot_data = []\n",
    "    \n",
    "    # выбираем отрисовывать индикатора програсса или нет\n",
    "    if show_progress:\n",
    "        progress_bar = tqdm\n",
    "    else:\n",
    "        progress_bar = lambda x: x\n",
    "    \n",
    "    for i in progress_bar(range(boot_it)):        # извлекаем подвыборки\n",
    "        samples_1 = data_column_1.sample(\n",
    "            boot_len, \n",
    "            replace = True                        # параметр возвращения\n",
    "        ).values\n",
    "        \n",
    "        samples_2 = data_column_2.sample(\n",
    "            boot_len, \n",
    "            replace = True\n",
    "        ).values\n",
    "        \n",
    "        samples_delta = samples_2 - samples_1      # находим разницу подвыборок\n",
    "        boot_data.append(statistic(samples_delta)) # применяем статистику для разниц подвыборок\n",
    "        \n",
    "    pd_boot_data = pd.DataFrame(boot_data)\n",
    "\n",
    "    # доверительный интервал \n",
    "    left_quant  = (1 - bootstrap_conf_level)/2\n",
    "    right_quant = 1 - (1 - bootstrap_conf_level) / 2\n",
    "    ci = pd_boot_data.quantile([left_quant, right_quant])\n",
    "        \n",
    "    p_1 = norm.cdf(\n",
    "        x     = 0, \n",
    "        loc   = np.mean(boot_data), \n",
    "        scale = np.std(boot_data)\n",
    "    )\n",
    "    p_2 = norm.cdf(\n",
    "        x     = 0, \n",
    "        loc   = -np.mean(boot_data), \n",
    "        scale = np.std(boot_data)\n",
    "    )\n",
    "    p_value = min(p_1, p_2) * 2\n",
    "        \n",
    "    # отрисовка графиков\n",
    "    if graph == True:\n",
    "        plt.hist(pd_boot_data[0], bins = 50)\n",
    "        plt.style.use('ggplot')\n",
    "        plt.vlines(ci, ymin=0, ymax=50, linestyle='--')\n",
    "        plt.xlabel('boot_data')\n",
    "        plt.ylabel('frequency')\n",
    "        plt.title(\"Histogram of boot_data\")\n",
    "        plt.show()\n",
    "       \n",
    "    return {\"ci\": ci, \n",
    "            \"p_value\": p_value}"
   ]
  },
  {
   "cell_type": "markdown",
   "id": "d044d9cb",
   "metadata": {},
   "source": [
    "Данная функция требует на вход два столбца данных(А и B) и функцию подсчета метрики.\n",
    "\n",
    "<br>Для ARPPU и ARPU подойдет ф-я np.mean(x):"
   ]
  },
  {
   "cell_type": "code",
   "execution_count": 20,
   "id": "05f5f908",
   "metadata": {},
   "outputs": [],
   "source": [
    "def mean_f(y):\n",
    "    return np.mean(y)"
   ]
  },
  {
   "cell_type": "markdown",
   "id": "c4f9e701",
   "metadata": {},
   "source": [
    "Эти функции требуют создания новых датафреймов и столбцов.\n",
    "_________________\n",
    "Объединим таблицы клиентов и юзеров: "
   ]
  },
  {
   "cell_type": "code",
   "execution_count": 21,
   "id": "000ac926",
   "metadata": {},
   "outputs": [],
   "source": [
    "df_visit_bought = df_visit.merge(df_bought, on=['id', 'grp'], how='left')"
   ]
  },
  {
   "cell_type": "markdown",
   "id": "b670ae27",
   "metadata": {},
   "source": [
    "Заполним пропущенные значения оплат нулями:"
   ]
  },
  {
   "cell_type": "code",
   "execution_count": 22,
   "id": "fe55d6a9",
   "metadata": {},
   "outputs": [],
   "source": [
    "df_visit_bought.rev = df_visit_bought.rev.fillna(0)"
   ]
  },
  {
   "cell_type": "markdown",
   "id": "af5c61c6",
   "metadata": {},
   "source": [
    "разделим на группы A и B:"
   ]
  },
  {
   "cell_type": "code",
   "execution_count": 23,
   "id": "9b66664d",
   "metadata": {},
   "outputs": [],
   "source": [
    "grp_a = df_visit_bought.query('grp==\"A\"')\n",
    "grp_b = df_visit_bought.query('grp==\"B\"')"
   ]
  },
  {
   "cell_type": "markdown",
   "id": "2b1a02ad",
   "metadata": {},
   "source": [
    "-------------------------------\n",
    "### ARPU\n",
    "Сформулируем нулевую и альтернативную гипотезы:\n",
    "\n",
    "* `H0`: ARPU в двух группах одинаковые.\n",
    "* `H1`: ARPU в двух группах различаются."
   ]
  },
  {
   "cell_type": "code",
   "execution_count": 24,
   "id": "bb57e410",
   "metadata": {},
   "outputs": [
    {
     "data": {
      "text/plain": [
       "{'ci':                0\n",
       " 0.025   0.362366\n",
       " 0.975  21.172215,\n",
       " 'p_value': 0.04454591484050235}"
      ]
     },
     "execution_count": 24,
     "metadata": {},
     "output_type": "execute_result"
    }
   ],
   "source": [
    "get_bootstrap(grp_a.rev, grp_b.rev, statistic = mean_f, \n",
    "              graph = False, show_progress = False)"
   ]
  },
  {
   "cell_type": "markdown",
   "id": "ad245a83",
   "metadata": {},
   "source": [
    "Доверительный интервал **не попадает в 0**, отвергаем нулевую гипотезу. ARPU в двух группах различаются.\n",
    "\n",
    "-------------------------------\n",
    "### ARPPU\n",
    "Сформулируем нулевую и альтернативную гипотезы:\n",
    "\n",
    "* `H0`: ARPPU в двух группах одинаковые.\n",
    "* `H1`: ARPPU в двух группах различаются."
   ]
  },
  {
   "cell_type": "code",
   "execution_count": 25,
   "id": "4b5426f7",
   "metadata": {},
   "outputs": [
    {
     "data": {
      "text/plain": [
       "{'ci':                 0\n",
       " 0.025  195.703594\n",
       " 0.975  463.276444,\n",
       " 'p_value': 1.1842881943704748e-06}"
      ]
     },
     "execution_count": 25,
     "metadata": {},
     "output_type": "execute_result"
    }
   ],
   "source": [
    "get_bootstrap(grp_a.rev[grp_a.rev > 0], grp_b.rev[grp_b.rev > 0], statistic = mean_f, \n",
    "              graph = False, show_progress = False)"
   ]
  },
  {
   "cell_type": "markdown",
   "id": "84ec2c48",
   "metadata": {},
   "source": [
    "Доверительный интервал **не попадает в 0**, отвергаем нулевую гипотезу. ARPPU в двух группах различаются.\n",
    "\n",
    "-------------------------------\n",
    "**У нас имеется неопределенность по поводу юзеров которые оплатили**, но не присутствовали на сайте.\n",
    "<br>У меня нету возможности распросить коллег/заказщика о причине этой аномалии. Поэтому мне стоит на всякий случай провести все тесты, на этот раз включая эти данные"
   ]
  },
  {
   "cell_type": "code",
   "execution_count": 26,
   "id": "f18dc227",
   "metadata": {},
   "outputs": [],
   "source": [
    "df_visit = active_studs.merge(groups_full, on='id')\n",
    "df_bought = checks.merge(groups_full, on='id') #использую checks а не checks_relev"
   ]
  },
  {
   "cell_type": "code",
   "execution_count": 27,
   "id": "5804504b",
   "metadata": {},
   "outputs": [],
   "source": [
    "df_visit_bought = df_visit.merge(df_bought, on=['id', 'grp'], how='left')"
   ]
  },
  {
   "cell_type": "markdown",
   "id": "2daaf124",
   "metadata": {},
   "source": [
    "Заполним пропущенные значения оплат нулями:"
   ]
  },
  {
   "cell_type": "code",
   "execution_count": 28,
   "id": "cc0ac131",
   "metadata": {},
   "outputs": [],
   "source": [
    "df_visit_bought.rev = df_visit_bought.rev.fillna(0)"
   ]
  },
  {
   "cell_type": "markdown",
   "id": "159bacac",
   "metadata": {},
   "source": [
    "разделим на группы A и B:"
   ]
  },
  {
   "cell_type": "code",
   "execution_count": 29,
   "id": "83506cb2",
   "metadata": {},
   "outputs": [],
   "source": [
    "grp_a = df_visit_bought.query('grp==\"A\"')\n",
    "grp_b = df_visit_bought.query('grp==\"B\"')"
   ]
  },
  {
   "cell_type": "code",
   "execution_count": 30,
   "id": "bc9b043b",
   "metadata": {},
   "outputs": [
    {
     "name": "stdout",
     "output_type": "stream",
     "text": [
      "Хи-квадрат p-value:  0.43714838107439424\n"
     ]
    }
   ],
   "source": [
    "group_A = [df_visit.query('grp==\"A\"').count()[0], df_bought.query('grp==\"A\"').count()[0]]\n",
    "group_B = [df_visit.query('grp==\"B\"').count()[0], df_bought.query('grp==\"B\"').count()[0]]\n",
    "\n",
    "# Запустим тест\n",
    "chi2, p, dof, ex = ss.chi2_contingency([group_A, group_B], correction=False)\n",
    "print(\"Хи-квадрат p-value: \", p)"
   ]
  },
  {
   "cell_type": "code",
   "execution_count": 31,
   "id": "4ff62fc6",
   "metadata": {},
   "outputs": [
    {
     "data": {
      "text/plain": [
       "{'ci':                0\n",
       " 0.025   0.572343\n",
       " 0.975  20.427308,\n",
       " 'p_value': 0.037047285172488544}"
      ]
     },
     "execution_count": 31,
     "metadata": {},
     "output_type": "execute_result"
    }
   ],
   "source": [
    "get_bootstrap(grp_a.rev, grp_b.rev, statistic = mean_f, \n",
    "              graph = False, show_progress = False)"
   ]
  },
  {
   "cell_type": "code",
   "execution_count": 32,
   "id": "758850aa",
   "metadata": {},
   "outputs": [
    {
     "data": {
      "text/plain": [
       "{'ci':                 0\n",
       " 0.025  189.473260\n",
       " 0.975  460.508213,\n",
       " 'p_value': 1.4689904356023145e-06}"
      ]
     },
     "execution_count": 32,
     "metadata": {},
     "output_type": "execute_result"
    }
   ],
   "source": [
    "get_bootstrap(grp_a.rev[grp_a.rev > 0], grp_b.rev[grp_b.rev > 0], statistic = mean_f, \n",
    "              graph = False, show_progress = False)"
   ]
  },
  {
   "cell_type": "markdown",
   "id": "578e9453",
   "metadata": {},
   "source": [
    "Тесты показали те же результаты.\n",
    "\n",
    "-------------------------------\n",
    "### Стоит ли запускать новую механику на всех пользователей?\n",
    "**Да**, новая механика оплаты даёт статистически значимый прирост в метриках ARPU и ARPPU, отрицательное изменение метрики CR не подтвердилось."
   ]
  },
  {
   "cell_type": "markdown",
   "id": "a8e8494c",
   "metadata": {},
   "source": [
    "## Задание 2. SQL\n",
    "### 2.1 Очень усердные ученики.\n",
    "\n",
    "### 2.1.1 Условие\n",
    "\n",
    "Образовательные курсы состоят из различных уроков, каждый из которых состоит из нескольких маленьких заданий. Каждое такое маленькое задание называется \"горошиной\".\n",
    "\n",
    "Назовём очень усердным учеником того пользователя, который хотя бы раз за текущий месяц правильно решил 20 горошин.\n",
    "\n",
    "### 2.1.2 Задача\n",
    "\n",
    "Дана таблица `default.peas`:\n",
    "\n",
    "Название атрибута | Тип атрибута | Смысловое значение\n",
    "------------------|--------------|-------------------\n",
    "st_id | int | ID ученика\n",
    "timest | timestamp | Время решения карточки\n",
    "correct | bool | Правильно ли решена горошина?\n",
    "subject | text | Дисциплина, в которой находится горошина\n",
    "\n",
    "Необходимо написать <ins>оптимальный запрос</ins>, который даст информацию о количестве очень усердных студентов.\n",
    "\n",
    "*NB! Под усердным студентом мы понимаем студента, который правильно решил 20 задач за текущий месяц.*\n",
    "\n",
    "### 2.2 Оптимизация воронки\n",
    "\n",
    "### 2.2.1 Условие\n",
    "\n",
    "Образовательная платформа предлагает пройти студентам курсы по модели trial: студент может решить бесплатно лишь 30 горошин в день. Для неограниченного количества заданий в определенной дисциплине студенту необходимо приобрести полный доступ. Команда провела эксперимент, где был протестирован новый экран оплаты.\n",
    "\n",
    "2.2.2 Задача\n",
    "\n",
    "Дана таблицы: `default.peas` (см. выше), `default.studs`:\n",
    "\n",
    "Название атрибута | Тип атрибута |Смысловое значение\n",
    "------------------|--------------|-------------------\n",
    "st_id|\tint |\tID ученика\n",
    "test_grp\t|text \t|Метка ученика в данном эксперименте\n",
    "\n",
    "и `default.final_project_check`:\n",
    "\n",
    "\n",
    "Название атрибута\t|Тип атрибута \t|Смысловое значение\n",
    "------------------|--------------|-------------------\n",
    "st_id|\tint |\tID ученика\n",
    "sale_time|\ttimestamp\t|Время покупки\n",
    "money|\tint\t|Цена, по которой приобрели данный курс\n",
    "subject|\ttext |\tДисциплина, на которую приобрели полный доступ\n",
    "\n",
    "Необходимо <ins>в одном запросе</ins> выгрузить следующую информацию о группах пользователей:\n",
    "\n",
    "* ARPU \n",
    "* ARPAU \n",
    "* CR в покупку \n",
    "* СR активного пользователя в покупку \n",
    "* CR пользователя из активности по математике (subject = ’math’) в покупку курса по математике\n",
    "\n",
    "ARPU считается относительно всех пользователей, попавших в группы.\n",
    "\n",
    "**Активным** считается пользователь, за все время решивший **больше** 10 задач правильно в любых дисциплинах.\n",
    "\n",
    "**Активным** по математике считается пользователь, за все время решивший **2 или больше задач** правильно по математике.\n"
   ]
  },
  {
   "cell_type": "code",
   "execution_count": 1,
   "id": "469a01fe",
   "metadata": {},
   "outputs": [],
   "source": [
    "import pandahouse as ph"
   ]
  },
  {
   "cell_type": "code",
   "execution_count": 2,
   "id": "4e3dcd81",
   "metadata": {},
   "outputs": [],
   "source": [
    "connection2 = {'host': 'https://clickhouse.lab.karpov.courses',\n",
    "                      'database':'default',\n",
    "                      'user':'student', \n",
    "                      'password':'dpo_python_2020'\n",
    "                     }"
   ]
  },
  {
   "cell_type": "code",
   "execution_count": 3,
   "id": "dafde0ae",
   "metadata": {},
   "outputs": [
    {
     "data": {
      "text/html": [
       "<div>\n",
       "<style scoped>\n",
       "    .dataframe tbody tr th:only-of-type {\n",
       "        vertical-align: middle;\n",
       "    }\n",
       "\n",
       "    .dataframe tbody tr th {\n",
       "        vertical-align: top;\n",
       "    }\n",
       "\n",
       "    .dataframe thead th {\n",
       "        text-align: right;\n",
       "    }\n",
       "</style>\n",
       "<table border=\"1\" class=\"dataframe\">\n",
       "  <thead>\n",
       "    <tr style=\"text-align: right;\">\n",
       "      <th></th>\n",
       "      <th>count()</th>\n",
       "    </tr>\n",
       "  </thead>\n",
       "  <tbody>\n",
       "    <tr>\n",
       "      <th>0</th>\n",
       "      <td>136</td>\n",
       "    </tr>\n",
       "  </tbody>\n",
       "</table>\n",
       "</div>"
      ],
      "text/plain": [
       "   count()\n",
       "0      136"
      ]
     },
     "execution_count": 3,
     "metadata": {},
     "output_type": "execute_result"
    }
   ],
   "source": [
    "query = \"\"\"\n",
    "SELECT count(*)\n",
    "FROM\n",
    "(SELECT st_id\n",
    "FROM peas\n",
    "WHERE correct=1\n",
    "GROUP BY st_id\n",
    "HAVING count(*)>=20) as subq\n",
    "\"\"\"\n",
    "\n",
    "df = ph.read_clickhouse(query, connection=connection2)\n",
    "df.head()"
   ]
  },
  {
   "cell_type": "code",
   "execution_count": 4,
   "id": "79e1b5a1",
   "metadata": {},
   "outputs": [
    {
     "data": {
      "text/html": [
       "<div>\n",
       "<style scoped>\n",
       "    .dataframe tbody tr th:only-of-type {\n",
       "        vertical-align: middle;\n",
       "    }\n",
       "\n",
       "    .dataframe tbody tr th {\n",
       "        vertical-align: top;\n",
       "    }\n",
       "\n",
       "    .dataframe thead th {\n",
       "        text-align: right;\n",
       "    }\n",
       "</style>\n",
       "<table border=\"1\" class=\"dataframe\">\n",
       "  <thead>\n",
       "    <tr style=\"text-align: right;\">\n",
       "      <th></th>\n",
       "      <th>test_grp</th>\n",
       "      <th>ARPU</th>\n",
       "      <th>ARPAU</th>\n",
       "      <th>CR_to_buy</th>\n",
       "      <th>CR_active_to_buy</th>\n",
       "      <th>CR_math_active_to_buy_math</th>\n",
       "    </tr>\n",
       "  </thead>\n",
       "  <tbody>\n",
       "    <tr>\n",
       "      <th>0</th>\n",
       "      <td>control</td>\n",
       "      <td>4540.983607</td>\n",
       "      <td>10393.700787</td>\n",
       "      <td>0.049180</td>\n",
       "      <td>0.110236</td>\n",
       "      <td>0.061224</td>\n",
       "    </tr>\n",
       "    <tr>\n",
       "      <th>1</th>\n",
       "      <td>pilot</td>\n",
       "      <td>11067.796610</td>\n",
       "      <td>29739.583333</td>\n",
       "      <td>0.101695</td>\n",
       "      <td>0.260417</td>\n",
       "      <td>0.095238</td>\n",
       "    </tr>\n",
       "  </tbody>\n",
       "</table>\n",
       "</div>"
      ],
      "text/plain": [
       "  test_grp          ARPU         ARPAU  CR_to_buy  CR_active_to_buy  \\\n",
       "0  control   4540.983607  10393.700787   0.049180          0.110236   \n",
       "1    pilot  11067.796610  29739.583333   0.101695          0.260417   \n",
       "\n",
       "   CR_math_active_to_buy_math  \n",
       "0                    0.061224  \n",
       "1                    0.095238  "
      ]
     },
     "execution_count": 4,
     "metadata": {},
     "output_type": "execute_result"
    }
   ],
   "source": [
    "query = '''\n",
    "SELECT\n",
    "    test_grp,\n",
    "    sum(total_revenue) / uniqExact(st_id) as ARPU,\n",
    "    sumIf(total_revenue, active_stud=1) / uniqExactIf(st_id, active_stud=1) as ARPAU,\n",
    "    uniqExactIf(st_id, total_revenue > 0) / uniqExact(st_id) as CR_to_buy,\n",
    "    \n",
    "    uniqExactIf(st_id, active_stud=1 and total_revenue>0) \n",
    "        / uniqExactIf(st_id, active_stud=1) as CR_active_to_buy,\n",
    "        \n",
    "    uniqExactIf(st_id, math_active_stud=1 and math_revenue>0) \n",
    "        / uniqExactIf(st_id, math_active_stud=1) as CR_math_active_to_buy_math\n",
    "FROM\n",
    "\n",
    "    (\n",
    "    SELECT \n",
    "        l.test_grp as test_grp,\n",
    "        l.st_id as st_id,\n",
    "        r.active_stud as active_stud,\n",
    "        r.math_active_stud as math_active_stud,\n",
    "        r.total_revenue as total_revenue,\n",
    "        r.math_revenue as math_revenue\n",
    "    FROM\n",
    "    \n",
    "        (\n",
    "        SELECT\n",
    "            test_grp,\n",
    "            st_id\n",
    "        FROM studs\n",
    "        ) as l\n",
    "        \n",
    "    LEFT JOIN\n",
    "        (\n",
    "        SELECT\n",
    "            l.st_id as st_id,\n",
    "            l.active_stud as active_stud,\n",
    "            l.math_active_stud as math_active_stud,\n",
    "            r.total_revenue as total_revenue,\n",
    "            r.math_revenue as math_revenue\n",
    "        FROM\n",
    "            (\n",
    "            SELECT\n",
    "                st_id,\n",
    "                if (sum(correct) > 10, 1, 0) as active_stud,\n",
    "                if (sumIf(correct, subject='Math') >= 2, 1, 0) as math_active_stud\n",
    "            FROM peas\n",
    "            GROUP BY\n",
    "                st_id\n",
    "            ) as l\n",
    "            \n",
    "        LEFT JOIN\n",
    "            (\n",
    "            SELECT\n",
    "                st_id,\n",
    "                sum(money) as total_revenue,\n",
    "                sumIf(money, subject='Math') as math_revenue\n",
    "            FROM final_project_check\n",
    "            GROUP BY st_id\n",
    "            ) as r\n",
    "        ON l.st_id = r.st_id\n",
    "        \n",
    "        ) as r\n",
    "    ON l.st_id = r.st_id\n",
    "    \n",
    "    )\n",
    "GROUP BY\n",
    "    test_grp\n",
    "'''\n",
    "\n",
    "df2 = ph.read_clickhouse(query, connection=connection2)\n",
    "df2.head()"
   ]
  },
  {
   "cell_type": "markdown",
   "id": "355744db",
   "metadata": {},
   "source": [
    "## Задание 3. Python\n",
    "### 3.1 Задача\n",
    "\n",
    "1. Реализуйте функцию, которая будет автоматически подгружать информацию из дополнительного файла `groups_add.csv` (заголовки могут отличаться) и на основании дополнительных параметров пересчитывать метрики.\n",
    "2. Реализуйте функцию, которая будет строить графики по получаемым метрикам.\n",
    "\n",
    "-------------------------------"
   ]
  },
  {
   "cell_type": "markdown",
   "id": "150815e1",
   "metadata": {},
   "source": [
    "Предположим, что у нас уже получен объединенный датафрейм:"
   ]
  },
  {
   "cell_type": "code",
   "execution_count": 1,
   "id": "2e7e8fc0",
   "metadata": {},
   "outputs": [],
   "source": [
    "import pandas as pd\n",
    "import numpy as np\n",
    "\n",
    "import requests\n",
    "from urllib.parse import urlencode\n",
    "\n",
    "from tqdm.auto import tqdm\n",
    "from scipy.stats import norm \n",
    "import scipy.stats as ss\n",
    "\n",
    "import seaborn as sns\n",
    "import matplotlib.pyplot as plt\n",
    "\n",
    "import re"
   ]
  },
  {
   "cell_type": "markdown",
   "id": "96e1b29e",
   "metadata": {},
   "source": [
    "Установка пакета kaleido, чтобы github отобразил индиакторы прироста метрик из библиотеки plot.ly "
   ]
  },
  {
   "cell_type": "code",
   "execution_count": 2,
   "id": "470a07e1",
   "metadata": {},
   "outputs": [
    {
     "name": "stdout",
     "output_type": "stream",
     "text": [
      "Requirement already satisfied: kaleido in f:\\users\\123\\appdata\\local\\programs\\python\\python310\\lib\\site-packages (0.2.1)\n",
      "Note: you may need to restart the kernel to use updated packages.\n"
     ]
    }
   ],
   "source": [
    "pip install -U kaleido"
   ]
  },
  {
   "cell_type": "markdown",
   "id": "85376140",
   "metadata": {},
   "source": [
    "Не будем дублировать функцию бутстрапа внутри нашей функции, объявим ее заранее:"
   ]
  },
  {
   "cell_type": "code",
   "execution_count": 3,
   "id": "d7ab5ca8",
   "metadata": {},
   "outputs": [],
   "source": [
    "def get_bootstrap(\n",
    "    data_column_1,                       # числовые значения первой (контрольной) выборки\n",
    "    data_column_2,                       # числовые значения второй (тестовой) выборки\n",
    "    boot_it   = 1000,                    # количество бутстрэп-подвыборок\n",
    "    statistic = np.mean,                 # интересующая нас статистика\n",
    "    bootstrap_conf_level = 0.95,         # уровень значимости\n",
    "    graph         = True,                # отрисовывать ли график\n",
    "    show_progress = True                 # показывать ли индикатор програсса\n",
    "    ):\n",
    "    boot_len  = max([len(data_column_1), len(data_column_2)])\n",
    "    boot_data = []\n",
    "    \n",
    "    # выбираем отрисовывать индикатора програсса или нет\n",
    "    if show_progress:\n",
    "        progress_bar = tqdm\n",
    "    else:\n",
    "        progress_bar = lambda x: x\n",
    "    \n",
    "    for i in progress_bar(range(boot_it)):        # извлекаем подвыборки\n",
    "        samples_1 = data_column_1.sample(\n",
    "            boot_len, \n",
    "            replace = True                        # параметр возвращения\n",
    "        ).values\n",
    "        \n",
    "        samples_2 = data_column_2.sample(\n",
    "            boot_len, \n",
    "            replace = True\n",
    "        ).values\n",
    "        \n",
    "        samples_delta = samples_2 - samples_1      # находим разницу подвыборок\n",
    "        boot_data.append(statistic(samples_delta)) # применяем статистику для разниц подвыборок\n",
    "        \n",
    "    pd_boot_data = pd.DataFrame(boot_data)\n",
    "\n",
    "    # доверительный интервал \n",
    "    left_quant  = (1 - bootstrap_conf_level)/2\n",
    "    right_quant = 1 - (1 - bootstrap_conf_level) / 2\n",
    "    ci = pd_boot_data.quantile([left_quant, right_quant])\n",
    "        \n",
    "    p_1 = norm.cdf(\n",
    "        x     = 0, \n",
    "        loc   = np.mean(boot_data), \n",
    "        scale = np.std(boot_data)\n",
    "    )\n",
    "    p_2 = norm.cdf(\n",
    "        x     = 0, \n",
    "        loc   = -np.mean(boot_data), \n",
    "        scale = np.std(boot_data)\n",
    "    )\n",
    "    p_value = min(p_1, p_2) * 2\n",
    "        \n",
    "    # отрисовка графиков\n",
    "    if graph == True:\n",
    "        plt.hist(pd_boot_data[0], bins = 50)\n",
    "        plt.style.use('ggplot')\n",
    "        plt.vlines(ci, ymin=0, ymax=50, linestyle='--')\n",
    "        plt.xlabel('boot_data')\n",
    "        plt.ylabel('frequency')\n",
    "        plt.title(\"Histogram of boot_data\")\n",
    "        plt.show()\n",
    "       \n",
    "    return {\"ci\": ci, \n",
    "            \"p_value\": p_value}"
   ]
  },
  {
   "cell_type": "markdown",
   "id": "0766b150",
   "metadata": {},
   "source": [
    "Допустим, что у нас имеется датафрейм:"
   ]
  },
  {
   "cell_type": "code",
   "execution_count": 4,
   "id": "bf784aac",
   "metadata": {},
   "outputs": [],
   "source": [
    "links_dic = {\n",
    "    'groups':       ['groups.csv', ';'],\n",
    "    'active_studs': ['active_studs.csv', ','],\n",
    "    'checks':       ['checks.csv', ';']\n",
    "            }\n",
    "\n",
    "for csv_filename, csv_link in links_dic.items():\n",
    "    globals()[csv_filename] = pd.read_csv(csv_link[0], sep=csv_link[1])"
   ]
  },
  {
   "cell_type": "code",
   "execution_count": 5,
   "id": "40d6b91f",
   "metadata": {},
   "outputs": [],
   "source": [
    "active_studs = active_studs.rename(columns={'student_id': 'id'})\n",
    "checks = checks.rename(columns={'student_id': 'id'}).assign(payment = 1)"
   ]
  },
  {
   "cell_type": "code",
   "execution_count": 6,
   "id": "f44545e1",
   "metadata": {},
   "outputs": [],
   "source": [
    "df = pd.merge(pd.merge(active_studs, checks, on='id', how='left'), groups, on='id').assign(step=0)"
   ]
  },
  {
   "cell_type": "code",
   "execution_count": 7,
   "id": "1229767c",
   "metadata": {},
   "outputs": [],
   "source": [
    "df = df.fillna(0)"
   ]
  },
  {
   "cell_type": "code",
   "execution_count": 8,
   "id": "179383d3",
   "metadata": {},
   "outputs": [
    {
     "data": {
      "text/html": [
       "<div>\n",
       "<style scoped>\n",
       "    .dataframe tbody tr th:only-of-type {\n",
       "        vertical-align: middle;\n",
       "    }\n",
       "\n",
       "    .dataframe tbody tr th {\n",
       "        vertical-align: top;\n",
       "    }\n",
       "\n",
       "    .dataframe thead th {\n",
       "        text-align: right;\n",
       "    }\n",
       "</style>\n",
       "<table border=\"1\" class=\"dataframe\">\n",
       "  <thead>\n",
       "    <tr style=\"text-align: right;\">\n",
       "      <th></th>\n",
       "      <th>id</th>\n",
       "      <th>rev</th>\n",
       "      <th>payment</th>\n",
       "      <th>grp</th>\n",
       "      <th>step</th>\n",
       "    </tr>\n",
       "  </thead>\n",
       "  <tbody>\n",
       "    <tr>\n",
       "      <th>0</th>\n",
       "      <td>581585</td>\n",
       "      <td>0.0</td>\n",
       "      <td>0.0</td>\n",
       "      <td>A</td>\n",
       "      <td>0</td>\n",
       "    </tr>\n",
       "    <tr>\n",
       "      <th>1</th>\n",
       "      <td>3276743</td>\n",
       "      <td>0.0</td>\n",
       "      <td>0.0</td>\n",
       "      <td>B</td>\n",
       "      <td>0</td>\n",
       "    </tr>\n",
       "    <tr>\n",
       "      <th>2</th>\n",
       "      <td>4238589</td>\n",
       "      <td>0.0</td>\n",
       "      <td>0.0</td>\n",
       "      <td>A</td>\n",
       "      <td>0</td>\n",
       "    </tr>\n",
       "    <tr>\n",
       "      <th>3</th>\n",
       "      <td>4475369</td>\n",
       "      <td>0.0</td>\n",
       "      <td>0.0</td>\n",
       "      <td>B</td>\n",
       "      <td>0</td>\n",
       "    </tr>\n",
       "    <tr>\n",
       "      <th>4</th>\n",
       "      <td>5481015</td>\n",
       "      <td>0.0</td>\n",
       "      <td>0.0</td>\n",
       "      <td>B</td>\n",
       "      <td>0</td>\n",
       "    </tr>\n",
       "  </tbody>\n",
       "</table>\n",
       "</div>"
      ],
      "text/plain": [
       "        id  rev  payment grp  step\n",
       "0   581585  0.0      0.0   A     0\n",
       "1  3276743  0.0      0.0   B     0\n",
       "2  4238589  0.0      0.0   A     0\n",
       "3  4475369  0.0      0.0   B     0\n",
       "4  5481015  0.0      0.0   B     0"
      ]
     },
     "execution_count": 8,
     "metadata": {},
     "output_type": "execute_result"
    }
   ],
   "source": [
    "df.head()"
   ]
  },
  {
   "cell_type": "markdown",
   "id": "b5f96c1d",
   "metadata": {},
   "source": [
    "У нас имеется ссылка на дополнительный файл (на Яндекс.Диске, или локально):"
   ]
  },
  {
   "cell_type": "code",
   "execution_count": 9,
   "id": "7bd0d2bc",
   "metadata": {},
   "outputs": [],
   "source": [
    "# ссылка на дополнительный файл\n",
    "add_csv_link = 'group_add.csv'\n",
    "# или add_csv_link = 'https://disk.yandex.ru/d/5Kxrz02m3IBUwQ'  "
   ]
  },
  {
   "cell_type": "markdown",
   "id": "78dcb228",
   "metadata": {},
   "source": [
    "**Напишем функцию, которая будет автоматически подгружать информацию из дополнительного файла `groups_add.csv` и пересчитывать метрики:**"
   ]
  },
  {
   "cell_type": "code",
   "execution_count": 10,
   "id": "531768f3",
   "metadata": {},
   "outputs": [],
   "source": [
    "def update_metrics(df, add_csv_link, last_string=False):\n",
    "    '''\n",
    "    Функция пересчёта метрик.\n",
    "    На выходе - датафрэйм со значениями метрик и p-value, \n",
    "    Кол-во строк соответствует кол-ву повторных обновлений данных(step)\n",
    "    df       - объединённый дф из groups.csv, active_studs.csv, checks.csv (получены в первый раз).\n",
    "    add_csv_link  - ссылка на дополнительный файл groups_add.csv, \n",
    "                    возможно использование web-ссылки на Яндекс.Диск, или ссылки на файл в каталоге.\n",
    "    last_string         - если True, выведет только последнюю (финальную) строку таблицы.\n",
    "    '''\n",
    "    #3 подфункции:\n",
    "    # ф-я определения разделителя в csv-файле\n",
    "    def def_sep(file_link):\n",
    "        with open(file_link, 'r') as file:\n",
    "            temp = file.readline()\n",
    "        pattern = re.compile(r'\\w*([,;])\\w*')\n",
    "        return pattern.findall(temp)[0]\n",
    "\n",
    "\n",
    "    # переименовываем колонки по типу данных\n",
    "    def rename_cols(df):\n",
    "        if str(df.iloc[0, 0]).isalpha():\n",
    "            df.columns = ['grp', 'id']\n",
    "        else:\n",
    "            df.columns = ['id', 'grp']\n",
    "\n",
    "    # чистим и заполняем пропуски \n",
    "    def na_filter(df, to_dropna_ls=['grp'], to_fillna_ls=['payment', 'rev']):\n",
    "        df = (df\n",
    "             .copy()\n",
    "             .dropna(subset=to_dropna_ls)\n",
    "             )\n",
    "        for i in to_fillna_ls:\n",
    "            df[i] = df[i].fillna(0)\n",
    "        return df\n",
    "    \n",
    "    # ф-я среднего, необходимая для ф-ии бутстрапа\n",
    "    def mean_f(y):\n",
    "        return np.mean(y)\n",
    "\n",
    "    try:\n",
    "        if add_csv_link.startswith('https://'):\n",
    "\n",
    "            # скачиваем дополнительный файл\n",
    "            base_url = 'https://cloud-api.yandex.net/v1/disk/public/resources/download?'\n",
    "            final_url    = base_url + urlencode(dict(public_key=add_csv_link))\n",
    "            response     = requests.get(final_url)\n",
    "            download_url = response.json()['href']\n",
    "            group_add_df = pd.read_csv(download_url, sep=',')\n",
    "\n",
    "            # загружаем файл и сохраняем его\n",
    "            download_response = requests.get(download_url)\n",
    "            with open('group_add.csv', 'wb') as f:\n",
    "                f.write(download_response.content)\n",
    "\n",
    "            # открываем файл\n",
    "            group_add_df = pd.read_csv('group_add.csv', sep=def_sep('group_add.csv'))\n",
    "        else:\n",
    "\n",
    "            # открываем файл\n",
    "            group_add_df = pd.read_csv(add_csv_link, sep=def_sep(add_csv_link))\n",
    "    except:\n",
    "        print('ОШИБКА! Дополнительные пользователи не загружены')\n",
    "        \n",
    "    # переименуем колонки в соответствие с типом данных\n",
    "    rename_cols(group_add_df)\n",
    "    \n",
    "    # объединяем основной дф с дополнительным\n",
    "    df          = df.merge(group_add_df, on='id', how='outer')\n",
    "    df['grp_x'] = df.grp_x.fillna('')                  # заполняем пропуски пустым символом\n",
    "    df['grp_y'] = df.grp_y.fillna('')                  # заполняем пропуски пустым символом\n",
    "    df['grp']   = df.grp_x + df.grp_y             # объединяем колонки групп\n",
    "    df          = df.drop(['grp_x', 'grp_y'], axis=1)  # удаляем колонки grp_x и grp_y\n",
    "\n",
    "    # присваиваем значения step в добавленных строках\n",
    "    mask = df.id.isin(group_add_df.id)             # назначаем маску, согласно которой будем присваивать новый номер степа\n",
    "    df.loc[mask, 'step'] = df.step.max() + 1  # присваиваем номер степа\n",
    "    df['step'] = df.step.astype('int')        # переводим колонку степ в int\n",
    "    \n",
    "    # отфильтруем пропуски\n",
    "    df = na_filter(df)\n",
    "    \n",
    "    # пересчитываем метрики, каждый цикл - новое добавление файла groups_add\n",
    "    df_ab = pd.DataFrame()  # пустой датафрейм для заполнения \n",
    "\n",
    "    for i in range(df.step.max() + 1):  # итеритуемся по максимальному значению колонки step +1\n",
    "        # фильтруем датасет для рассчёта метрик\n",
    "        rev_a      = df.query('step <= @i and grp ==\"A\"').rev\n",
    "        rev_b      = df.query('step <= @i and grp ==\"B\"').rev\n",
    "        rev_positive_a = df.query('step <= @i and rev > 0 and grp ==\"A\"').rev\n",
    "        rev_positive_b = df.query('step <= @i and rev > 0 and grp ==\"B\"').rev\n",
    "    \n",
    "        all_A   = df[df.payment==0].query('step <= @i and grp==\"A\"').count()[0]\n",
    "        payed_A = df[df.payment==1].query('step <= @i and grp==\"A\"').count()[0]\n",
    "        all_B   = df[df.payment==0].query('step <= @i and grp==\"B\"').count()[0]\n",
    "        payed_B = df[df.payment==1].query('step <= @i and grp==\"B\"').count()[0]\n",
    "\n",
    "        #конверсия по группам \n",
    "        cr_a = payed_A/all_A\n",
    "        cr_b = payed_B/all_B\n",
    "        #Хи - квадрат тест конверсии\n",
    "        group_A = [all_A, payed_A]\n",
    "        group_B = [all_B, payed_B]\n",
    "  \n",
    "        chi2, cr_p_value, dof, ex = ss.chi2_contingency([group_A, group_B], correction=False)\n",
    "        \n",
    "        #ARPU по группам\n",
    "        arpu_a = mean_f(rev_a)\n",
    "        arpu_b = mean_f(rev_b)\n",
    "        #ARPU p-value\n",
    "        arpu_p_value = get_bootstrap(rev_a, \n",
    "                                     rev_b,\n",
    "                                     statistic=mean_f,\n",
    "                                     graph = False,\n",
    "                                     show_progress = False\n",
    "                       )[\"p_value\"]\n",
    "        #ARPPU по группам\n",
    "        arppu_a       = mean_f(rev_positive_a)\n",
    "        arppu_b       = mean_f(rev_positive_b)\n",
    "        #ARPPU p-value\n",
    "        arppu_p_value = get_bootstrap(rev_positive_a,\n",
    "                                      rev_positive_b,\n",
    "                                      statistic=mean_f,\n",
    "                                      graph = False,\n",
    "                                      show_progress = False\n",
    "                        )[\"p_value\"]\n",
    "\n",
    "        # временный датафрэйм\n",
    "        temp_df = pd.DataFrame([[cr_a, \n",
    "                                 cr_b, \n",
    "                                 cr_p_value, \n",
    "                                 arpu_a, \n",
    "                                 arpu_b, \n",
    "                                 arpu_p_value, \n",
    "                                 arppu_a, \n",
    "                                 arppu_b, \n",
    "                                 arppu_p_value]],\n",
    "                               columns=['CR_A',\n",
    "                                        'CR_B',\n",
    "                                        'CR_p-value',\n",
    "                                        'ARPU_A',\n",
    "                                        'ARPU_B',\n",
    "                                        'ARPU_p-value', \n",
    "                                        'ARPPU_A',\n",
    "                                        'ARPPU_B',\n",
    "                                        'ARPPU_p-value'])\n",
    "        # добавляем строку в итоговый дф\n",
    "        df_ab = pd.concat([df_ab, temp_df])      \n",
    "    \n",
    "    # сбрасываем индексы\n",
    "    df_ab.reset_index(drop=True, inplace=True)  \n",
    "    df_ab['step'] = df_ab.index\n",
    "    \n",
    "    if last_string == True:\n",
    "        return df_ab.tail(1)\n",
    "    \n",
    "    return df_ab"
   ]
  },
  {
   "cell_type": "markdown",
   "id": "0ec3c2ad",
   "metadata": {},
   "source": [
    "В функцию `get_update` передадим предварительно сформированный датафрейм `total_test`:"
   ]
  },
  {
   "cell_type": "code",
   "execution_count": 11,
   "id": "3ef72178",
   "metadata": {},
   "outputs": [
    {
     "data": {
      "text/html": [
       "<div>\n",
       "<style scoped>\n",
       "    .dataframe tbody tr th:only-of-type {\n",
       "        vertical-align: middle;\n",
       "    }\n",
       "\n",
       "    .dataframe tbody tr th {\n",
       "        vertical-align: top;\n",
       "    }\n",
       "\n",
       "    .dataframe thead th {\n",
       "        text-align: right;\n",
       "    }\n",
       "</style>\n",
       "<table border=\"1\" class=\"dataframe\">\n",
       "  <thead>\n",
       "    <tr style=\"text-align: right;\">\n",
       "      <th></th>\n",
       "      <th>CR_A</th>\n",
       "      <th>CR_B</th>\n",
       "      <th>CR_p-value</th>\n",
       "      <th>ARPU_A</th>\n",
       "      <th>ARPU_B</th>\n",
       "      <th>ARPU_p-value</th>\n",
       "      <th>ARPPU_A</th>\n",
       "      <th>ARPPU_B</th>\n",
       "      <th>ARPPU_p-value</th>\n",
       "      <th>step</th>\n",
       "    </tr>\n",
       "  </thead>\n",
       "  <tbody>\n",
       "    <tr>\n",
       "      <th>0</th>\n",
       "      <td>0.053535</td>\n",
       "      <td>0.048302</td>\n",
       "      <td>0.428082</td>\n",
       "      <td>47.439739</td>\n",
       "      <td>57.864567</td>\n",
       "      <td>0.041592</td>\n",
       "      <td>933.589744</td>\n",
       "      <td>1255.827487</td>\n",
       "      <td>0.000008</td>\n",
       "      <td>0</td>\n",
       "    </tr>\n",
       "    <tr>\n",
       "      <th>1</th>\n",
       "      <td>0.052738</td>\n",
       "      <td>0.047786</td>\n",
       "      <td>0.447235</td>\n",
       "      <td>46.769428</td>\n",
       "      <td>57.274370</td>\n",
       "      <td>0.035144</td>\n",
       "      <td>933.589744</td>\n",
       "      <td>1255.827487</td>\n",
       "      <td>0.000002</td>\n",
       "      <td>1</td>\n",
       "    </tr>\n",
       "  </tbody>\n",
       "</table>\n",
       "</div>"
      ],
      "text/plain": [
       "       CR_A      CR_B  CR_p-value     ARPU_A     ARPU_B  ARPU_p-value  \\\n",
       "0  0.053535  0.048302    0.428082  47.439739  57.864567      0.041592   \n",
       "1  0.052738  0.047786    0.447235  46.769428  57.274370      0.035144   \n",
       "\n",
       "      ARPPU_A      ARPPU_B  ARPPU_p-value  step  \n",
       "0  933.589744  1255.827487       0.000008     0  \n",
       "1  933.589744  1255.827487       0.000002     1  "
      ]
     },
     "execution_count": 11,
     "metadata": {},
     "output_type": "execute_result"
    }
   ],
   "source": [
    "metrics = update_metrics(df, add_csv_link)\n",
    "metrics"
   ]
  },
  {
   "cell_type": "markdown",
   "id": "7afe608f",
   "metadata": {},
   "source": [
    "Напишем функцию отрисовки графиков:"
   ]
  },
  {
   "cell_type": "code",
   "execution_count": 16,
   "id": "40b9e9f1",
   "metadata": {},
   "outputs": [],
   "source": [
    "def get_graphs(df):\n",
    "    '''\n",
    "    Функция построения графика на основе датасэта, сформированного функцией get_update\n",
    "    Шесть графиков: \n",
    "    по оси X - номер обновления (колонка step в передаваемом дф), показывает \n",
    "    какой раз обновились данные (некий аналог временной шкалы, т.к. не известны даты создания \n",
    "    дополнительных файлов)\n",
    "    по оси Y - метрики (верхний ряд графиков) и p-value этих метрик (нижний ряд графиков)\n",
    "    '''\n",
    "    # формируем датафрэйм для отрисовки метрик\n",
    "    import pandas as pd\n",
    "    metrix_df = pd.DataFrame(columns = ['step', 'group'])                     # создаём пустой финальный дф для построения графиков метрик\n",
    "    for i in ['CR_', 'ARPU_', 'ARPPU_']:                                      # список части названий колонок для отбора\n",
    "        cols    = df.filter(like = i).columns                                 # отбираем колонки содержащие названия метрик\n",
    "        temp_df = pd.DataFrame()                                              # создаём пустой дф\n",
    "        for j in cols[:2]:                                                    # итерируемся по названиям колонок, кроме p-value\n",
    "            tmp_row         = df[[j, 'step']] \\\n",
    "            .assign(group = j[-1:]) \\\n",
    "            .rename(columns = {j: j[:-2]})  # формируем строку нового дф\n",
    "            temp_df         = pd.concat([temp_df, tmp_row])                   # добавляем строку в промежуточный дф\n",
    "        metrix_df = metrix_df \\\n",
    "                    .merge(temp_df, on=['step', 'group'], how='right')        # объединяем промежуточный дф с финальным\n",
    "\n",
    "    import plotly.graph_objects as go\n",
    "    from plotly.subplots import make_subplots\n",
    "    import pandas as pd\n",
    "\n",
    "    df1 = metrix_df.query('step==0').drop(columns=['step']).set_index(\"group\")\n",
    "    df2 = metrix_df.query('step==1').drop(columns=['step']).set_index(\"group\")\n",
    "\n",
    "    fig = make_subplots(\n",
    "        rows=len(df1),\n",
    "        cols=len(df1.columns),\n",
    "        specs=[[{\"type\": \"indicator\"} for c in range(3)] for t in range(2)]\n",
    "    )\n",
    "\n",
    "    for r, grp in enumerate(df1.index):\n",
    "        for c, metr in enumerate(df1.columns):\n",
    "            fig.add_trace(\n",
    "                go.Indicator(mode=\"number+delta\", value=df1.loc[grp, metr], title={\"text\":f\"{metr} - {grp}\"},\n",
    "                             delta = {'reference': df2.loc[grp, metr], \n",
    "                         'relative': True}),\n",
    "                row=r + 1,\n",
    "                col=c + 1,\n",
    "            )\n",
    "\n",
    "    fig.update_layout(margin={\"l\": 0, \"r\": 20, \"t\": 50, \"b\": 0})       \n",
    "    # формируем блок из 6 графиков\n",
    "\n",
    "    figure, axes = plt.subplots(2, 3, sharex=True, figsize=(16,7))   \n",
    "       \n",
    "    # заголовок\n",
    "    figure.suptitle('Метрики и p-value', fontsize=20)   \n",
    "    \n",
    "    # графики CR и p-value для CR\n",
    "    sns.lineplot(ax=axes[0, 0], data=metrix_df, x='step', y='CR', hue='group', linewidth=2, palette=['b', 'g'])\n",
    "    ax1 = sns.lineplot(ax=axes[1, 0], data=df, x='step', y='CR_p-value', linewidth=2, color=\"green\", label='p-value')\n",
    "    ax1.axhline(0.05, ls='--', linewidth=1.5, color='red', label='p-value = 0.05')\n",
    "    ax1.set_ylabel('P-value для CR')\n",
    "    ax1.set_xlabel('Номер обновления')\n",
    "    ax1.legend()\n",
    "    \n",
    "    # графики ARPU и p-value для ARPU\n",
    "    sns.lineplot(ax=axes[0, 1], data=metrix_df, x='step', y='ARPU', hue='group', linewidth=2, palette=['b', 'g'])\n",
    "    ax2 = sns.lineplot(ax=axes[1, 1], data=df, x='step', y='ARPU_p-value', linewidth=2, color=\"green\", label='p-value')\n",
    "    ax2.axhline(0.05, ls='--', linewidth=1.5, color='red', label='p-value = 0.05')\n",
    "    ax2.set_ylabel('P-value для ARPU')\n",
    "    ax2.set_xlabel('Номер обновления')\n",
    "    ax2.legend()\n",
    "    \n",
    "    # графики ARPPU и p-value для ARPPU\n",
    "    sns.lineplot(ax=axes[0, 2], data=metrix_df, x='step', y='ARPPU', hue='group', linewidth=2, palette=['b', 'g'])\n",
    "    ax3 = sns.lineplot(ax=axes[1, 2], data=df, x='step', y='ARPPU_p-value', linewidth=2, color=\"green\", label='p-value')\n",
    "    ax3.axhline(0.05, ls='--', linewidth=1.5, color='red', label='p-value = 0.05')\n",
    "    ax3.set_ylabel('P-value для ARPPU ')\n",
    "    ax3.set_xlabel('Номер обновления')\n",
    "    ax3.set_xticks(range(0, metrix_df.step.max() + 1))  # сделаем шаг по оси х = 1\n",
    "    ax3.legend()\n",
    "    \n",
    "    # устанавливаем лимиты на ось y\n",
    "    plt.gcf().get_axes()[0].set_ylim(metrix_df.CR.min() * 0.9, metrix_df.CR.max() * 1.1)                  \n",
    "    plt.gcf().get_axes()[1].set_ylim(metrix_df.ARPU.min() * 0.9, metrix_df.ARPU.max() * 1.1)\n",
    "    plt.gcf().get_axes()[2].set_ylim(metrix_df.ARPPU.min() * 0.9, metrix_df.ARPPU.max() * 1.1)\n",
    "    plt.gcf().get_axes()[3].set_ylim(min(0.05, df['CR_p-value'].min()) * 0.9, \n",
    "                                     max(0.05, df['CR_p-value'].max()) * 1.1)\n",
    "    plt.gcf().get_axes()[4].set_ylim(min(0.05, df['ARPU_p-value'].min()) * 0.9, \n",
    "                                     max(0.05, df['ARPU_p-value'].max()) * 1.1)\n",
    "    plt.gcf().get_axes()[5].set_ylim(min(0.05, df['ARPPU_p-value'].min()) * 0.9, \n",
    "                                     max(0.05, df['ARPPU_p-value'].max()) * 1.1)\n",
    "    \n",
    "    # добавляем расстояния между графиками\n",
    "    #plt.subplots_adjust(top=0.92, hspace = 0.1, wspace=0.3)\n",
    "    \n",
    "    import plotly.io as pio\n",
    "    pio.renderers\n",
    "    return fig.show(renderer=\"png\")"
   ]
  },
  {
   "cell_type": "markdown",
   "id": "ca0cc619",
   "metadata": {},
   "source": [
    "В функцию `get_graphs` передадим метрики, записанные в переменную `metrix`:"
   ]
  },
  {
   "cell_type": "code",
   "execution_count": 17,
   "id": "19c53a64",
   "metadata": {
    "scrolled": true
   },
   "outputs": [
    {
     "data": {
      "image/png": "[encoded data removed]"
     },
     "metadata": {},
     "output_type": "display_data"
    },
    {
     "data": {
      "image/png": "[encoded data removed]",
      "text/plain": [
       "<Figure size 1600x700 with 6 Axes>"
      ]
     },
     "metadata": {},
     "output_type": "display_data"
    }
   ],
   "source": [
    "get_graphs(metrics)"
   ]
  }
 ],
 "metadata": {
  "kernelspec": {
   "display_name": "Python 3 (ipykernel)",
   "language": "python",
   "name": "python3"
  },
  "language_info": {
   "codemirror_mode": {
    "name": "ipython",
    "version": 3
   },
   "file_extension": ".py",
   "mimetype": "text/x-python",
   "name": "python",
   "nbconvert_exporter": "python",
   "pygments_lexer": "ipython3",
   "version": "3.10.11"
  }
 },
 "nbformat": 4,
 "nbformat_minor": 5
}
