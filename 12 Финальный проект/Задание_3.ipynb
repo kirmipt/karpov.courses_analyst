{
 "cells": [
  {
   "cell_type": "markdown",
   "id": "355744db",
   "metadata": {},
   "source": [
    "## Задание 3. Python\n",
    "### 3.1 Задача\n",
    "\n",
    "1. Реализуйте функцию, которая будет автоматически подгружать информацию из дополнительного файла `groups_add.csv` (заголовки могут отличаться) и на основании дополнительных параметров пересчитывать метрики.\n",
    "2. Реализуйте функцию, которая будет строить графики по получаемым метрикам.\n",
    "\n",
    "-------------------------------"
   ]
  },
  {
   "cell_type": "markdown",
   "id": "150815e1",
   "metadata": {},
   "source": [
    "Предположим, что у нас уже получен объединенный датафрейм:"
   ]
  },
  {
   "cell_type": "code",
   "execution_count": 1,
   "id": "2e7e8fc0",
   "metadata": {},
   "outputs": [],
   "source": [
    "import pandas as pd\n",
    "import numpy as np\n",
    "\n",
    "import requests\n",
    "from urllib.parse import urlencode\n",
    "\n",
    "from tqdm.auto import tqdm\n",
    "from scipy.stats import norm \n",
    "import scipy.stats as ss\n",
    "\n",
    "import seaborn as sns\n",
    "import matplotlib.pyplot as plt\n",
    "\n",
    "import re"
   ]
  },
  {
   "cell_type": "markdown",
   "id": "61c61600",
   "metadata": {},
   "source": [
    "Установка пакета kaleido, чтобы github отобразил индиакторы прироста метрик из библиотеки plot.ly "
   ]
  },
  {
   "cell_type": "code",
   "execution_count": 2,
   "id": "c2062d75",
   "metadata": {},
   "outputs": [
    {
     "name": "stdout",
     "output_type": "stream",
     "text": [
      "Requirement already satisfied: kaleido in f:\\users\\123\\appdata\\local\\programs\\python\\python310\\lib\\site-packages (0.2.1)\n",
      "Note: you may need to restart the kernel to use updated packages.\n"
     ]
    }
   ],
   "source": [
    "pip install -U kaleido"
   ]
  },
  {
   "cell_type": "markdown",
   "id": "85376140",
   "metadata": {},
   "source": [
    "Не будем дублировать функцию бутстрапа внутри нашей функции, объявим ее заранее:"
   ]
  },
  {
   "cell_type": "code",
   "execution_count": 3,
   "id": "d7ab5ca8",
   "metadata": {},
   "outputs": [],
   "source": [
    "def get_bootstrap(\n",
    "    data_column_1,                       # числовые значения первой (контрольной) выборки\n",
    "    data_column_2,                       # числовые значения второй (тестовой) выборки\n",
    "    boot_it   = 1000,                    # количество бутстрэп-подвыборок\n",
    "    statistic = np.mean,                 # интересующая нас статистика\n",
    "    bootstrap_conf_level = 0.95,         # уровень значимости\n",
    "    graph         = True,                # отрисовывать ли график\n",
    "    show_progress = True                 # показывать ли индикатор програсса\n",
    "    ):\n",
    "    boot_len  = max([len(data_column_1), len(data_column_2)])\n",
    "    boot_data = []\n",
    "    \n",
    "    # выбираем отрисовывать индикатора програсса или нет\n",
    "    if show_progress:\n",
    "        progress_bar = tqdm\n",
    "    else:\n",
    "        progress_bar = lambda x: x\n",
    "    \n",
    "    for i in progress_bar(range(boot_it)):        # извлекаем подвыборки\n",
    "        samples_1 = data_column_1.sample(\n",
    "            boot_len, \n",
    "            replace = True                        # параметр возвращения\n",
    "        ).values\n",
    "        \n",
    "        samples_2 = data_column_2.sample(\n",
    "            boot_len, \n",
    "            replace = True\n",
    "        ).values\n",
    "        \n",
    "        samples_delta = samples_2 - samples_1      # находим разницу подвыборок\n",
    "        boot_data.append(statistic(samples_delta)) # применяем статистику для разниц подвыборок\n",
    "        \n",
    "    pd_boot_data = pd.DataFrame(boot_data)\n",
    "\n",
    "    # доверительный интервал \n",
    "    left_quant  = (1 - bootstrap_conf_level)/2\n",
    "    right_quant = 1 - (1 - bootstrap_conf_level) / 2\n",
    "    ci = pd_boot_data.quantile([left_quant, right_quant])\n",
    "        \n",
    "    p_1 = norm.cdf(\n",
    "        x     = 0, \n",
    "        loc   = np.mean(boot_data), \n",
    "        scale = np.std(boot_data)\n",
    "    )\n",
    "    p_2 = norm.cdf(\n",
    "        x     = 0, \n",
    "        loc   = -np.mean(boot_data), \n",
    "        scale = np.std(boot_data)\n",
    "    )\n",
    "    p_value = min(p_1, p_2) * 2\n",
    "        \n",
    "    # отрисовка графиков\n",
    "    if graph == True:\n",
    "        plt.hist(pd_boot_data[0], bins = 50)\n",
    "        plt.style.use('ggplot')\n",
    "        plt.vlines(ci, ymin=0, ymax=50, linestyle='--')\n",
    "        plt.xlabel('boot_data')\n",
    "        plt.ylabel('frequency')\n",
    "        plt.title(\"Histogram of boot_data\")\n",
    "        plt.show()\n",
    "       \n",
    "    return {\"ci\": ci, \n",
    "            \"p_value\": p_value}"
   ]
  },
  {
   "cell_type": "markdown",
   "id": "0766b150",
   "metadata": {},
   "source": [
    "Допустим, что у нас имеется датафрейм:"
   ]
  },
  {
   "cell_type": "code",
   "execution_count": 4,
   "id": "48a5418e",
   "metadata": {},
   "outputs": [],
   "source": [
    "links_dic = {\n",
    "    'groups':       ['groups.csv', ';'],\n",
    "    'active_studs': ['active_studs.csv', ','],\n",
    "    'checks':       ['checks.csv', ';']\n",
    "            }\n",
    "\n",
    "for csv_filename, csv_link in links_dic.items():\n",
    "    globals()[csv_filename] = pd.read_csv(csv_link[0], sep=csv_link[1])"
   ]
  },
  {
   "cell_type": "code",
   "execution_count": 5,
   "id": "6e21c7cc",
   "metadata": {},
   "outputs": [],
   "source": [
    "active_studs = active_studs.rename(columns={'student_id': 'id'})\n",
    "checks = checks.rename(columns={'student_id': 'id'}).assign(payment = 1)"
   ]
  },
  {
   "cell_type": "code",
   "execution_count": 6,
   "id": "000ac926",
   "metadata": {},
   "outputs": [],
   "source": [
    "df = pd.merge(pd.merge(active_studs, checks, on='id', how='left'), groups, on='id').assign(step=0)"
   ]
  },
  {
   "cell_type": "code",
   "execution_count": 7,
   "id": "fe55d6a9",
   "metadata": {},
   "outputs": [],
   "source": [
    "df = df.fillna(0)"
   ]
  },
  {
   "cell_type": "code",
   "execution_count": 8,
   "id": "179383d3",
   "metadata": {},
   "outputs": [
    {
     "data": {
      "text/html": [
       "<div>\n",
       "<style scoped>\n",
       "    .dataframe tbody tr th:only-of-type {\n",
       "        vertical-align: middle;\n",
       "    }\n",
       "\n",
       "    .dataframe tbody tr th {\n",
       "        vertical-align: top;\n",
       "    }\n",
       "\n",
       "    .dataframe thead th {\n",
       "        text-align: right;\n",
       "    }\n",
       "</style>\n",
       "<table border=\"1\" class=\"dataframe\">\n",
       "  <thead>\n",
       "    <tr style=\"text-align: right;\">\n",
       "      <th></th>\n",
       "      <th>id</th>\n",
       "      <th>rev</th>\n",
       "      <th>payment</th>\n",
       "      <th>grp</th>\n",
       "      <th>step</th>\n",
       "    </tr>\n",
       "  </thead>\n",
       "  <tbody>\n",
       "    <tr>\n",
       "      <th>0</th>\n",
       "      <td>581585</td>\n",
       "      <td>0.0</td>\n",
       "      <td>0.0</td>\n",
       "      <td>A</td>\n",
       "      <td>0</td>\n",
       "    </tr>\n",
       "    <tr>\n",
       "      <th>1</th>\n",
       "      <td>3276743</td>\n",
       "      <td>0.0</td>\n",
       "      <td>0.0</td>\n",
       "      <td>B</td>\n",
       "      <td>0</td>\n",
       "    </tr>\n",
       "    <tr>\n",
       "      <th>2</th>\n",
       "      <td>4238589</td>\n",
       "      <td>0.0</td>\n",
       "      <td>0.0</td>\n",
       "      <td>A</td>\n",
       "      <td>0</td>\n",
       "    </tr>\n",
       "    <tr>\n",
       "      <th>3</th>\n",
       "      <td>4475369</td>\n",
       "      <td>0.0</td>\n",
       "      <td>0.0</td>\n",
       "      <td>B</td>\n",
       "      <td>0</td>\n",
       "    </tr>\n",
       "    <tr>\n",
       "      <th>4</th>\n",
       "      <td>5481015</td>\n",
       "      <td>0.0</td>\n",
       "      <td>0.0</td>\n",
       "      <td>B</td>\n",
       "      <td>0</td>\n",
       "    </tr>\n",
       "  </tbody>\n",
       "</table>\n",
       "</div>"
      ],
      "text/plain": [
       "        id  rev  payment grp  step\n",
       "0   581585  0.0      0.0   A     0\n",
       "1  3276743  0.0      0.0   B     0\n",
       "2  4238589  0.0      0.0   A     0\n",
       "3  4475369  0.0      0.0   B     0\n",
       "4  5481015  0.0      0.0   B     0"
      ]
     },
     "execution_count": 8,
     "metadata": {},
     "output_type": "execute_result"
    }
   ],
   "source": [
    "df.head()"
   ]
  },
  {
   "cell_type": "markdown",
   "id": "b5f96c1d",
   "metadata": {},
   "source": [
    "У нас имеется ссылка на дополнительный файл (на Яндекс.Диске, или локально):"
   ]
  },
  {
   "cell_type": "code",
   "execution_count": 9,
   "id": "7bd0d2bc",
   "metadata": {},
   "outputs": [],
   "source": [
    "# ссылка на дополнительный файл\n",
    "add_csv_link = 'group_add.csv'\n",
    "# или add_csv_link = 'https://disk.yandex.ru/d/5Kxrz02m3IBUwQ'  "
   ]
  },
  {
   "cell_type": "markdown",
   "id": "78dcb228",
   "metadata": {},
   "source": [
    "**Напишем функцию, которая будет автоматически подгружать информацию из дополнительного файла `groups_add.csv` и пересчитывать метрики:**"
   ]
  },
  {
   "cell_type": "code",
   "execution_count": 10,
   "id": "531768f3",
   "metadata": {},
   "outputs": [],
   "source": [
    "def update_metrics(df, add_csv_link, last_string=False):\n",
    "    '''\n",
    "    Функция пересчёта метрик.\n",
    "    На выходе - датафрэйм со значениями метрик и p-value, \n",
    "    Кол-во строк соответствует кол-ву повторных обновлений данных(step)\n",
    "    df       - объединённый дф из groups.csv, active_studs.csv, checks.csv (получены в первый раз).\n",
    "    add_csv_link  - ссылка на дополнительный файл groups_add.csv, \n",
    "                    возможно использование web-ссылки на Яндекс.Диск, или ссылки на файл в каталоге.\n",
    "    last_string         - если True, выведет только последнюю (финальную) строку таблицы.\n",
    "    '''\n",
    "    #3 подфункции:\n",
    "    # ф-я определения разделителя в csv-файле\n",
    "    def def_sep(file_link):\n",
    "        with open(file_link, 'r') as file:\n",
    "            temp = file.readline()\n",
    "        pattern = re.compile(r'\\w*([,;])\\w*')\n",
    "        return pattern.findall(temp)[0]\n",
    "\n",
    "\n",
    "    # переименовываем колонки по типу данных\n",
    "    def rename_cols(df):\n",
    "        if str(df.iloc[0, 0]).isalpha():\n",
    "            df.columns = ['grp', 'id']\n",
    "        else:\n",
    "            df.columns = ['id', 'grp']\n",
    "\n",
    "    # чистим и заполняем пропуски \n",
    "    def na_filter(df, to_dropna_ls=['grp'], to_fillna_ls=['payment', 'rev']):\n",
    "        df = (df\n",
    "             .copy()\n",
    "             .dropna(subset=to_dropna_ls)\n",
    "             )\n",
    "        for i in to_fillna_ls:\n",
    "            df[i] = df[i].fillna(0)\n",
    "        return df\n",
    "    \n",
    "    # ф-я среднего, необходимая для ф-ии бутстрапа\n",
    "    def mean_f(y):\n",
    "        return np.mean(y)\n",
    "\n",
    "    try:\n",
    "        if add_csv_link.startswith('https://'):\n",
    "\n",
    "            # скачиваем дополнительный файл\n",
    "            base_url = 'https://cloud-api.yandex.net/v1/disk/public/resources/download?'\n",
    "            final_url    = base_url + urlencode(dict(public_key=add_csv_link))\n",
    "            response     = requests.get(final_url)\n",
    "            download_url = response.json()['href']\n",
    "            group_add_df = pd.read_csv(download_url, sep=',')\n",
    "\n",
    "            # загружаем файл и сохраняем его\n",
    "            download_response = requests.get(download_url)\n",
    "            with open('group_add.csv', 'wb') as f:\n",
    "                f.write(download_response.content)\n",
    "\n",
    "            # открываем файл\n",
    "            group_add_df = pd.read_csv('group_add.csv', sep=def_sep('group_add.csv'))\n",
    "        else:\n",
    "\n",
    "            # открываем файл\n",
    "            group_add_df = pd.read_csv(add_csv_link, sep=def_sep(add_csv_link))\n",
    "    except:\n",
    "        print('ОШИБКА! Дополнительные пользователи не загружены')\n",
    "        \n",
    "    # переименуем колонки в соответствие с типом данных\n",
    "    rename_cols(group_add_df)\n",
    "    \n",
    "    # объединяем основной дф с дополнительным\n",
    "    df          = df.merge(group_add_df, on='id', how='outer')\n",
    "    df['grp_x'] = df.grp_x.fillna('')                  # заполняем пропуски пустым символом\n",
    "    df['grp_y'] = df.grp_y.fillna('')                  # заполняем пропуски пустым символом\n",
    "    df['grp']   = df.grp_x + df.grp_y             # объединяем колонки групп\n",
    "    df          = df.drop(['grp_x', 'grp_y'], axis=1)  # удаляем колонки grp_x и grp_y\n",
    "\n",
    "    # присваиваем значения step в добавленных строках\n",
    "    mask = df.id.isin(group_add_df.id)             # назначаем маску, согласно которой будем присваивать новый номер степа\n",
    "    df.loc[mask, 'step'] = df.step.max() + 1  # присваиваем номер степа\n",
    "    df['step'] = df.step.astype('int')        # переводим колонку степ в int\n",
    "    \n",
    "    # отфильтруем пропуски\n",
    "    df = na_filter(df)\n",
    "    \n",
    "    # пересчитываем метрики, каждый цикл - новое добавление файла groups_add\n",
    "    df_ab = pd.DataFrame()  # пустой датафрейм для заполнения \n",
    "\n",
    "    for i in range(df.step.max() + 1):  # итеритуемся по максимальному значению колонки step +1\n",
    "        # фильтруем датасет для рассчёта метрик\n",
    "        rev_a      = df.query('step <= @i and grp ==\"A\"').rev\n",
    "        rev_b      = df.query('step <= @i and grp ==\"B\"').rev\n",
    "        rev_positive_a = df.query('step <= @i and rev > 0 and grp ==\"A\"').rev\n",
    "        rev_positive_b = df.query('step <= @i and rev > 0 and grp ==\"B\"').rev\n",
    "    \n",
    "        all_A   = df[df.payment==0].query('step <= @i and grp==\"A\"').count()[0]\n",
    "        payed_A = df[df.payment==1].query('step <= @i and grp==\"A\"').count()[0]\n",
    "        all_B   = df[df.payment==0].query('step <= @i and grp==\"B\"').count()[0]\n",
    "        payed_B = df[df.payment==1].query('step <= @i and grp==\"B\"').count()[0]\n",
    "\n",
    "        #конверсия по группам \n",
    "        cr_a = payed_A/all_A\n",
    "        cr_b = payed_B/all_B\n",
    "        #Хи - квадрат тест конверсии\n",
    "        group_A = [all_A, payed_A]\n",
    "        group_B = [all_B, payed_B]\n",
    "  \n",
    "        chi2, cr_p_value, dof, ex = ss.chi2_contingency([group_A, group_B], correction=False)\n",
    "        \n",
    "        #ARPU по группам\n",
    "        arpu_a = mean_f(rev_a)\n",
    "        arpu_b = mean_f(rev_b)\n",
    "        #ARPU p-value\n",
    "        arpu_p_value = get_bootstrap(rev_a, \n",
    "                                     rev_b,\n",
    "                                     statistic=mean_f,\n",
    "                                     graph = False,\n",
    "                                     show_progress = False\n",
    "                       )[\"p_value\"]\n",
    "        #ARPPU по группам\n",
    "        arppu_a       = mean_f(rev_positive_a)\n",
    "        arppu_b       = mean_f(rev_positive_b)\n",
    "        #ARPPU p-value\n",
    "        arppu_p_value = get_bootstrap(rev_positive_a,\n",
    "                                      rev_positive_b,\n",
    "                                      statistic=mean_f,\n",
    "                                      graph = False,\n",
    "                                      show_progress = False\n",
    "                        )[\"p_value\"]\n",
    "\n",
    "        # временный датафрэйм\n",
    "        temp_df = pd.DataFrame([[cr_a, \n",
    "                                 cr_b, \n",
    "                                 cr_p_value, \n",
    "                                 arpu_a, \n",
    "                                 arpu_b, \n",
    "                                 arpu_p_value, \n",
    "                                 arppu_a, \n",
    "                                 arppu_b, \n",
    "                                 arppu_p_value]],\n",
    "                               columns=['CR_A',\n",
    "                                        'CR_B',\n",
    "                                        'CR_p-value',\n",
    "                                        'ARPU_A',\n",
    "                                        'ARPU_B',\n",
    "                                        'ARPU_p-value', \n",
    "                                        'ARPPU_A',\n",
    "                                        'ARPPU_B',\n",
    "                                        'ARPPU_p-value'])\n",
    "        # добавляем строку в итоговый дф\n",
    "        df_ab = pd.concat([df_ab, temp_df])      \n",
    "    \n",
    "    # сбрасываем индексы\n",
    "    df_ab.reset_index(drop=True, inplace=True)  \n",
    "    df_ab['step'] = df_ab.index\n",
    "    \n",
    "    if last_string == True:\n",
    "        return df_ab.tail(1)\n",
    "    \n",
    "    return df_ab"
   ]
  },
  {
   "cell_type": "markdown",
   "id": "0ec3c2ad",
   "metadata": {},
   "source": [
    "В функцию `get_update` передадим предварительно сформированный датафрейм `total_test`:"
   ]
  },
  {
   "cell_type": "code",
   "execution_count": 11,
   "id": "3ef72178",
   "metadata": {},
   "outputs": [
    {
     "data": {
      "text/html": [
       "<div>\n",
       "<style scoped>\n",
       "    .dataframe tbody tr th:only-of-type {\n",
       "        vertical-align: middle;\n",
       "    }\n",
       "\n",
       "    .dataframe tbody tr th {\n",
       "        vertical-align: top;\n",
       "    }\n",
       "\n",
       "    .dataframe thead th {\n",
       "        text-align: right;\n",
       "    }\n",
       "</style>\n",
       "<table border=\"1\" class=\"dataframe\">\n",
       "  <thead>\n",
       "    <tr style=\"text-align: right;\">\n",
       "      <th></th>\n",
       "      <th>CR_A</th>\n",
       "      <th>CR_B</th>\n",
       "      <th>CR_p-value</th>\n",
       "      <th>ARPU_A</th>\n",
       "      <th>ARPU_B</th>\n",
       "      <th>ARPU_p-value</th>\n",
       "      <th>ARPPU_A</th>\n",
       "      <th>ARPPU_B</th>\n",
       "      <th>ARPPU_p-value</th>\n",
       "      <th>step</th>\n",
       "    </tr>\n",
       "  </thead>\n",
       "  <tbody>\n",
       "    <tr>\n",
       "      <th>0</th>\n",
       "      <td>0.053535</td>\n",
       "      <td>0.048302</td>\n",
       "      <td>0.428082</td>\n",
       "      <td>47.439739</td>\n",
       "      <td>57.864567</td>\n",
       "      <td>0.041592</td>\n",
       "      <td>933.589744</td>\n",
       "      <td>1255.827487</td>\n",
       "      <td>0.000008</td>\n",
       "      <td>0</td>\n",
       "    </tr>\n",
       "    <tr>\n",
       "      <th>1</th>\n",
       "      <td>0.052738</td>\n",
       "      <td>0.047786</td>\n",
       "      <td>0.447235</td>\n",
       "      <td>46.769428</td>\n",
       "      <td>57.274370</td>\n",
       "      <td>0.035144</td>\n",
       "      <td>933.589744</td>\n",
       "      <td>1255.827487</td>\n",
       "      <td>0.000002</td>\n",
       "      <td>1</td>\n",
       "    </tr>\n",
       "  </tbody>\n",
       "</table>\n",
       "</div>"
      ],
      "text/plain": [
       "       CR_A      CR_B  CR_p-value     ARPU_A     ARPU_B  ARPU_p-value  \\\n",
       "0  0.053535  0.048302    0.428082  47.439739  57.864567      0.041592   \n",
       "1  0.052738  0.047786    0.447235  46.769428  57.274370      0.035144   \n",
       "\n",
       "      ARPPU_A      ARPPU_B  ARPPU_p-value  step  \n",
       "0  933.589744  1255.827487       0.000008     0  \n",
       "1  933.589744  1255.827487       0.000002     1  "
      ]
     },
     "execution_count": 11,
     "metadata": {},
     "output_type": "execute_result"
    }
   ],
   "source": [
    "metrics = update_metrics(df, add_csv_link)\n",
    "metrics"
   ]
  },
  {
   "cell_type": "markdown",
   "id": "7afe608f",
   "metadata": {},
   "source": [
    "Напишем функцию отрисовки графиков:"
   ]
  },
  {
   "cell_type": "code",
   "execution_count": 14,
   "id": "40b9e9f1",
   "metadata": {},
   "outputs": [],
   "source": [
    "def get_graphs(df):\n",
    "    '''\n",
    "    Функция построения графика на основе датасэта, сформированного функцией get_update\n",
    "    Шесть графиков: \n",
    "    по оси X - номер обновления (колонка step в передаваемом дф), показывает \n",
    "    какой раз обновились данные (некий аналог временной шкалы, т.к. не известны даты создания \n",
    "    дополнительных файлов)\n",
    "    по оси Y - метрики (верхний ряд графиков) и p-value этих метрик (нижний ряд графиков)\n",
    "    '''\n",
    "    # формируем датафрэйм для отрисовки метрик\n",
    "    import pandas as pd\n",
    "    metrix_df = pd.DataFrame(columns = ['step', 'group'])                     # создаём пустой финальный дф для построения графиков метрик\n",
    "    for i in ['CR_', 'ARPU_', 'ARPPU_']:                                      # список части названий колонок для отбора\n",
    "        cols    = df.filter(like = i).columns                                 # отбираем колонки содержащие названия метрик\n",
    "        temp_df = pd.DataFrame()                                              # создаём пустой дф\n",
    "        for j in cols[:2]:                                                    # итерируемся по названиям колонок, кроме p-value\n",
    "            tmp_row         = df[[j, 'step']] \\\n",
    "            .assign(group = j[-1:]) \\\n",
    "            .rename(columns = {j: j[:-2]})  # формируем строку нового дф\n",
    "            temp_df         = pd.concat([temp_df, tmp_row])                   # добавляем строку в промежуточный дф\n",
    "        metrix_df = metrix_df \\\n",
    "                    .merge(temp_df, on=['step', 'group'], how='right')        # объединяем промежуточный дф с финальным\n",
    "\n",
    "    import plotly.graph_objects as go\n",
    "    from plotly.subplots import make_subplots\n",
    "    import pandas as pd\n",
    "\n",
    "    df1 = metrix_df.query('step==0').drop(columns=['step']).set_index(\"group\")\n",
    "    df2 = metrix_df.query('step==1').drop(columns=['step']).set_index(\"group\")\n",
    "\n",
    "    fig = make_subplots(\n",
    "        rows=len(df1),\n",
    "        cols=len(df1.columns),\n",
    "        specs=[[{\"type\": \"indicator\"} for c in range(3)] for t in range(2)]\n",
    "    )\n",
    "\n",
    "    for r, grp in enumerate(df1.index):\n",
    "        for c, metr in enumerate(df1.columns):\n",
    "            fig.add_trace(\n",
    "                go.Indicator(mode=\"number+delta\", value=df1.loc[grp, metr], title={\"text\":f\"{metr} - {grp}\"},\n",
    "                             delta = {'reference': df2.loc[grp, metr], \n",
    "                         'relative': True}),\n",
    "                row=r + 1,\n",
    "                col=c + 1,\n",
    "            )\n",
    "\n",
    "    fig.update_layout(margin={\"l\": 0, \"r\": 20, \"t\": 50, \"b\": 0})       \n",
    "    # формируем блок из 6 графиков\n",
    "\n",
    "    figure, axes = plt.subplots(2, 3, sharex=True, figsize=(16,7))   \n",
    "       \n",
    "    # заголовок\n",
    "    figure.suptitle('Метрики и p-value', fontsize=20)   \n",
    "    \n",
    "    # графики CR и p-value для CR\n",
    "    sns.lineplot(ax=axes[0, 0], data=metrix_df, x='step', y='CR', hue='group', linewidth=2, palette=['b', 'g'])\n",
    "    ax1 = sns.lineplot(ax=axes[1, 0], data=df, x='step', y='CR_p-value', linewidth=2, color=\"green\", label='p-value')\n",
    "    ax1.axhline(0.05, ls='--', linewidth=1.5, color='red', label='p-value = 0.05')\n",
    "    ax1.set_ylabel('P-value для CR')\n",
    "    ax1.set_xlabel('Номер обновления')\n",
    "    ax1.legend()\n",
    "    \n",
    "    # графики ARPU и p-value для ARPU\n",
    "    sns.lineplot(ax=axes[0, 1], data=metrix_df, x='step', y='ARPU', hue='group', linewidth=2, palette=['b', 'g'])\n",
    "    ax2 = sns.lineplot(ax=axes[1, 1], data=df, x='step', y='ARPU_p-value', linewidth=2, color=\"green\", label='p-value')\n",
    "    ax2.axhline(0.05, ls='--', linewidth=1.5, color='red', label='p-value = 0.05')\n",
    "    ax2.set_ylabel('P-value для ARPU')\n",
    "    ax2.set_xlabel('Номер обновления')\n",
    "    ax2.legend()\n",
    "    \n",
    "    # графики ARPPU и p-value для ARPPU\n",
    "    sns.lineplot(ax=axes[0, 2], data=metrix_df, x='step', y='ARPPU', hue='group', linewidth=2, palette=['b', 'g'])\n",
    "    ax3 = sns.lineplot(ax=axes[1, 2], data=df, x='step', y='ARPPU_p-value', linewidth=2, color=\"green\", label='p-value')\n",
    "    ax3.axhline(0.05, ls='--', linewidth=1.5, color='red', label='p-value = 0.05')\n",
    "    ax3.set_ylabel('P-value для ARPPU ')\n",
    "    ax3.set_xlabel('Номер обновления')\n",
    "    ax3.set_xticks(range(0, metrix_df.step.max() + 1))  # сделаем шаг по оси х = 1\n",
    "    ax3.legend()\n",
    "    \n",
    "    # устанавливаем лимиты на ось y\n",
    "    plt.gcf().get_axes()[0].set_ylim(metrix_df.CR.min() * 0.9, metrix_df.CR.max() * 1.1)                  \n",
    "    plt.gcf().get_axes()[1].set_ylim(metrix_df.ARPU.min() * 0.9, metrix_df.ARPU.max() * 1.1)\n",
    "    plt.gcf().get_axes()[2].set_ylim(metrix_df.ARPPU.min() * 0.9, metrix_df.ARPPU.max() * 1.1)\n",
    "    plt.gcf().get_axes()[3].set_ylim(min(0.05, df['CR_p-value'].min()) * 0.9, \n",
    "                                     max(0.05, df['CR_p-value'].max()) * 1.1)\n",
    "    plt.gcf().get_axes()[4].set_ylim(min(0.05, df['ARPU_p-value'].min()) * 0.9, \n",
    "                                     max(0.05, df['ARPU_p-value'].max()) * 1.1)\n",
    "    plt.gcf().get_axes()[5].set_ylim(min(0.05, df['ARPPU_p-value'].min()) * 0.9, \n",
    "                                     max(0.05, df['ARPPU_p-value'].max()) * 1.1)\n",
    "    \n",
    "    # добавляем расстояния между графиками\n",
    "    #plt.subplots_adjust(top=0.92, hspace = 0.1, wspace=0.3)\n",
    "    \n",
    "#     import plotly.io as pio\n",
    "#     pio.renderers\n",
    "#     return fig.show(renderer=\"svg\")\n",
    "\n",
    "    from plotly.offline import plot, iplot, init_notebook_mode\n",
    "    import plotly.graph_objs as go\n",
    "    init_notebook_mode(connected=True)\n",
    "    return iplot(fig)"
   ]
  },
  {
   "cell_type": "markdown",
   "id": "ca0cc619",
   "metadata": {},
   "source": [
    "В функцию `get_graphs` передадим метрики, записанные в переменную `metrix`:"
   ]
  },
  {
   "cell_type": "code",
   "execution_count": 15,
   "id": "19c53a64",
   "metadata": {
    "scrolled": true
   },
   "outputs": [
    {
     "data": {
      "text/html": [
       "        <script type=\"text/javascript\">\n",
       "        window.PlotlyConfig = {MathJaxConfig: 'local'};\n",
       "        if (window.MathJax && window.MathJax.Hub && window.MathJax.Hub.Config) {window.MathJax.Hub.Config({SVG: {font: \"STIX-Web\"}});}\n",
       "        if (typeof require !== 'undefined') {\n",
       "        require.undef(\"plotly\");\n",
       "        requirejs.config({\n",
       "            paths: {\n",
       "                'plotly': ['https://cdn.plot.ly/plotly-2.25.2.min']\n",
       "            }\n",
       "        });\n",
       "        require(['plotly'], function(Plotly) {\n",
       "            window._Plotly = Plotly;\n",
       "        });\n",
       "        }\n",
       "        </script>\n",
       "        "
      ]
     },
     "metadata": {},
     "output_type": "display_data"
    },
    {
     "data": {
      "application/vnd.plotly.v1+json": {
       "config": {
        "linkText": "Export to plot.ly",
        "plotlyServerURL": "https://plot.ly",
        "showLink": false
       },
       "data": [
        {
         "delta": {
          "reference": 0.05273833671399594,
          "relative": true
         },
         "domain": {
          "x": [
           0,
           0.2888888888888889
          ],
          "y": [
           0.575,
           1
          ]
         },
         "mode": "number+delta",
         "title": {
          "text": "CR - A"
         },
         "type": "indicator",
         "value": 0.053534660260809885
        },
        {
         "delta": {
          "reference": 46.7694283879255,
          "relative": true
         },
         "domain": {
          "x": [
           0.35555555555555557,
           0.6444444444444445
          ],
          "y": [
           0.575,
           1
          ]
         },
         "mode": "number+delta",
         "title": {
          "text": "ARPU - A"
         },
         "type": "indicator",
         "value": 47.43973941368078
        },
        {
         "delta": {
          "reference": 933.5897435897435,
          "relative": true
         },
         "domain": {
          "x": [
           0.7111111111111111,
           1
          ],
          "y": [
           0.575,
           1
          ]
         },
         "mode": "number+delta",
         "title": {
          "text": "ARPPU - A"
         },
         "type": "indicator",
         "value": 933.5897435897435
        },
        {
         "delta": {
          "reference": 0.04778625954198473,
          "relative": true
         },
         "domain": {
          "x": [
           0,
           0.2888888888888889
          ],
          "y": [
           0,
           0.425
          ]
         },
         "mode": "number+delta",
         "title": {
          "text": "CR - B"
         },
         "type": "indicator",
         "value": 0.04830246913580247
        },
        {
         "delta": {
          "reference": 57.27437031910243,
          "relative": true
         },
         "domain": {
          "x": [
           0.35555555555555557,
           0.6444444444444445
          ],
          "y": [
           0,
           0.425
          ]
         },
         "mode": "number+delta",
         "title": {
          "text": "ARPU - B"
         },
         "type": "indicator",
         "value": 57.86456698071544
        },
        {
         "delta": {
          "reference": 1255.8274872204472,
          "relative": true
         },
         "domain": {
          "x": [
           0.7111111111111111,
           1
          ],
          "y": [
           0,
           0.425
          ]
         },
         "mode": "number+delta",
         "title": {
          "text": "ARPPU - B"
         },
         "type": "indicator",
         "value": 1255.8274872204472
        }
       ],
       "layout": {
        "margin": {
         "b": 0,
         "l": 0,
         "r": 20,
         "t": 50
        },
        "template": {
         "data": {
          "bar": [
           {
            "error_x": {
             "color": "#2a3f5f"
            },
            "error_y": {
             "color": "#2a3f5f"
            },
            "marker": {
             "line": {
              "color": "#E5ECF6",
              "width": 0.5
             },
             "pattern": {
              "fillmode": "overlay",
              "size": 10,
              "solidity": 0.2
             }
            },
            "type": "bar"
           }
          ],
          "barpolar": [
           {
            "marker": {
             "line": {
              "color": "#E5ECF6",
              "width": 0.5
             },
             "pattern": {
              "fillmode": "overlay",
              "size": 10,
              "solidity": 0.2
             }
            },
            "type": "barpolar"
           }
          ],
          "carpet": [
           {
            "aaxis": {
             "endlinecolor": "#2a3f5f",
             "gridcolor": "white",
             "linecolor": "white",
             "minorgridcolor": "white",
             "startlinecolor": "#2a3f5f"
            },
            "baxis": {
             "endlinecolor": "#2a3f5f",
             "gridcolor": "white",
             "linecolor": "white",
             "minorgridcolor": "white",
             "startlinecolor": "#2a3f5f"
            },
            "type": "carpet"
           }
          ],
          "choropleth": [
           {
            "colorbar": {
             "outlinewidth": 0,
             "ticks": ""
            },
            "type": "choropleth"
           }
          ],
          "contour": [
           {
            "colorbar": {
             "outlinewidth": 0,
             "ticks": ""
            },
            "colorscale": [
             [
              0,
              "#0d0887"
             ],
             [
              0.1111111111111111,
              "#46039f"
             ],
             [
              0.2222222222222222,
              "#7201a8"
             ],
             [
              0.3333333333333333,
              "#9c179e"
             ],
             [
              0.4444444444444444,
              "#bd3786"
             ],
             [
              0.5555555555555556,
              "#d8576b"
             ],
             [
              0.6666666666666666,
              "#ed7953"
             ],
             [
              0.7777777777777778,
              "#fb9f3a"
             ],
             [
              0.8888888888888888,
              "#fdca26"
             ],
             [
              1,
              "#f0f921"
             ]
            ],
            "type": "contour"
           }
          ],
          "contourcarpet": [
           {
            "colorbar": {
             "outlinewidth": 0,
             "ticks": ""
            },
            "type": "contourcarpet"
           }
          ],
          "heatmap": [
           {
            "colorbar": {
             "outlinewidth": 0,
             "ticks": ""
            },
            "colorscale": [
             [
              0,
              "#0d0887"
             ],
             [
              0.1111111111111111,
              "#46039f"
             ],
             [
              0.2222222222222222,
              "#7201a8"
             ],
             [
              0.3333333333333333,
              "#9c179e"
             ],
             [
              0.4444444444444444,
              "#bd3786"
             ],
             [
              0.5555555555555556,
              "#d8576b"
             ],
             [
              0.6666666666666666,
              "#ed7953"
             ],
             [
              0.7777777777777778,
              "#fb9f3a"
             ],
             [
              0.8888888888888888,
              "#fdca26"
             ],
             [
              1,
              "#f0f921"
             ]
            ],
            "type": "heatmap"
           }
          ],
          "heatmapgl": [
           {
            "colorbar": {
             "outlinewidth": 0,
             "ticks": ""
            },
            "colorscale": [
             [
              0,
              "#0d0887"
             ],
             [
              0.1111111111111111,
              "#46039f"
             ],
             [
              0.2222222222222222,
              "#7201a8"
             ],
             [
              0.3333333333333333,
              "#9c179e"
             ],
             [
              0.4444444444444444,
              "#bd3786"
             ],
             [
              0.5555555555555556,
              "#d8576b"
             ],
             [
              0.6666666666666666,
              "#ed7953"
             ],
             [
              0.7777777777777778,
              "#fb9f3a"
             ],
             [
              0.8888888888888888,
              "#fdca26"
             ],
             [
              1,
              "#f0f921"
             ]
            ],
            "type": "heatmapgl"
           }
          ],
          "histogram": [
           {
            "marker": {
             "pattern": {
              "fillmode": "overlay",
              "size": 10,
              "solidity": 0.2
             }
            },
            "type": "histogram"
           }
          ],
          "histogram2d": [
           {
            "colorbar": {
             "outlinewidth": 0,
             "ticks": ""
            },
            "colorscale": [
             [
              0,
              "#0d0887"
             ],
             [
              0.1111111111111111,
              "#46039f"
             ],
             [
              0.2222222222222222,
              "#7201a8"
             ],
             [
              0.3333333333333333,
              "#9c179e"
             ],
             [
              0.4444444444444444,
              "#bd3786"
             ],
             [
              0.5555555555555556,
              "#d8576b"
             ],
             [
              0.6666666666666666,
              "#ed7953"
             ],
             [
              0.7777777777777778,
              "#fb9f3a"
             ],
             [
              0.8888888888888888,
              "#fdca26"
             ],
             [
              1,
              "#f0f921"
             ]
            ],
            "type": "histogram2d"
           }
          ],
          "histogram2dcontour": [
           {
            "colorbar": {
             "outlinewidth": 0,
             "ticks": ""
            },
            "colorscale": [
             [
              0,
              "#0d0887"
             ],
             [
              0.1111111111111111,
              "#46039f"
             ],
             [
              0.2222222222222222,
              "#7201a8"
             ],
             [
              0.3333333333333333,
              "#9c179e"
             ],
             [
              0.4444444444444444,
              "#bd3786"
             ],
             [
              0.5555555555555556,
              "#d8576b"
             ],
             [
              0.6666666666666666,
              "#ed7953"
             ],
             [
              0.7777777777777778,
              "#fb9f3a"
             ],
             [
              0.8888888888888888,
              "#fdca26"
             ],
             [
              1,
              "#f0f921"
             ]
            ],
            "type": "histogram2dcontour"
           }
          ],
          "mesh3d": [
           {
            "colorbar": {
             "outlinewidth": 0,
             "ticks": ""
            },
            "type": "mesh3d"
           }
          ],
          "parcoords": [
           {
            "line": {
             "colorbar": {
              "outlinewidth": 0,
              "ticks": ""
             }
            },
            "type": "parcoords"
           }
          ],
          "pie": [
           {
            "automargin": true,
            "type": "pie"
           }
          ],
          "scatter": [
           {
            "fillpattern": {
             "fillmode": "overlay",
             "size": 10,
             "solidity": 0.2
            },
            "type": "scatter"
           }
          ],
          "scatter3d": [
           {
            "line": {
             "colorbar": {
              "outlinewidth": 0,
              "ticks": ""
             }
            },
            "marker": {
             "colorbar": {
              "outlinewidth": 0,
              "ticks": ""
             }
            },
            "type": "scatter3d"
           }
          ],
          "scattercarpet": [
           {
            "marker": {
             "colorbar": {
              "outlinewidth": 0,
              "ticks": ""
             }
            },
            "type": "scattercarpet"
           }
          ],
          "scattergeo": [
           {
            "marker": {
             "colorbar": {
              "outlinewidth": 0,
              "ticks": ""
             }
            },
            "type": "scattergeo"
           }
          ],
          "scattergl": [
           {
            "marker": {
             "colorbar": {
              "outlinewidth": 0,
              "ticks": ""
             }
            },
            "type": "scattergl"
           }
          ],
          "scattermapbox": [
           {
            "marker": {
             "colorbar": {
              "outlinewidth": 0,
              "ticks": ""
             }
            },
            "type": "scattermapbox"
           }
          ],
          "scatterpolar": [
           {
            "marker": {
             "colorbar": {
              "outlinewidth": 0,
              "ticks": ""
             }
            },
            "type": "scatterpolar"
           }
          ],
          "scatterpolargl": [
           {
            "marker": {
             "colorbar": {
              "outlinewidth": 0,
              "ticks": ""
             }
            },
            "type": "scatterpolargl"
           }
          ],
          "scatterternary": [
           {
            "marker": {
             "colorbar": {
              "outlinewidth": 0,
              "ticks": ""
             }
            },
            "type": "scatterternary"
           }
          ],
          "surface": [
           {
            "colorbar": {
             "outlinewidth": 0,
             "ticks": ""
            },
            "colorscale": [
             [
              0,
              "#0d0887"
             ],
             [
              0.1111111111111111,
              "#46039f"
             ],
             [
              0.2222222222222222,
              "#7201a8"
             ],
             [
              0.3333333333333333,
              "#9c179e"
             ],
             [
              0.4444444444444444,
              "#bd3786"
             ],
             [
              0.5555555555555556,
              "#d8576b"
             ],
             [
              0.6666666666666666,
              "#ed7953"
             ],
             [
              0.7777777777777778,
              "#fb9f3a"
             ],
             [
              0.8888888888888888,
              "#fdca26"
             ],
             [
              1,
              "#f0f921"
             ]
            ],
            "type": "surface"
           }
          ],
          "table": [
           {
            "cells": {
             "fill": {
              "color": "#EBF0F8"
             },
             "line": {
              "color": "white"
             }
            },
            "header": {
             "fill": {
              "color": "#C8D4E3"
             },
             "line": {
              "color": "white"
             }
            },
            "type": "table"
           }
          ]
         },
         "layout": {
          "annotationdefaults": {
           "arrowcolor": "#2a3f5f",
           "arrowhead": 0,
           "arrowwidth": 1
          },
          "autotypenumbers": "strict",
          "coloraxis": {
           "colorbar": {
            "outlinewidth": 0,
            "ticks": ""
           }
          },
          "colorscale": {
           "diverging": [
            [
             0,
             "#8e0152"
            ],
            [
             0.1,
             "#c51b7d"
            ],
            [
             0.2,
             "#de77ae"
            ],
            [
             0.3,
             "#f1b6da"
            ],
            [
             0.4,
             "#fde0ef"
            ],
            [
             0.5,
             "#f7f7f7"
            ],
            [
             0.6,
             "#e6f5d0"
            ],
            [
             0.7,
             "#b8e186"
            ],
            [
             0.8,
             "#7fbc41"
            ],
            [
             0.9,
             "#4d9221"
            ],
            [
             1,
             "#276419"
            ]
           ],
           "sequential": [
            [
             0,
             "#0d0887"
            ],
            [
             0.1111111111111111,
             "#46039f"
            ],
            [
             0.2222222222222222,
             "#7201a8"
            ],
            [
             0.3333333333333333,
             "#9c179e"
            ],
            [
             0.4444444444444444,
             "#bd3786"
            ],
            [
             0.5555555555555556,
             "#d8576b"
            ],
            [
             0.6666666666666666,
             "#ed7953"
            ],
            [
             0.7777777777777778,
             "#fb9f3a"
            ],
            [
             0.8888888888888888,
             "#fdca26"
            ],
            [
             1,
             "#f0f921"
            ]
           ],
           "sequentialminus": [
            [
             0,
             "#0d0887"
            ],
            [
             0.1111111111111111,
             "#46039f"
            ],
            [
             0.2222222222222222,
             "#7201a8"
            ],
            [
             0.3333333333333333,
             "#9c179e"
            ],
            [
             0.4444444444444444,
             "#bd3786"
            ],
            [
             0.5555555555555556,
             "#d8576b"
            ],
            [
             0.6666666666666666,
             "#ed7953"
            ],
            [
             0.7777777777777778,
             "#fb9f3a"
            ],
            [
             0.8888888888888888,
             "#fdca26"
            ],
            [
             1,
             "#f0f921"
            ]
           ]
          },
          "colorway": [
           "#636efa",
           "#EF553B",
           "#00cc96",
           "#ab63fa",
           "#FFA15A",
           "#19d3f3",
           "#FF6692",
           "#B6E880",
           "#FF97FF",
           "#FECB52"
          ],
          "font": {
           "color": "#2a3f5f"
          },
          "geo": {
           "bgcolor": "white",
           "lakecolor": "white",
           "landcolor": "#E5ECF6",
           "showlakes": true,
           "showland": true,
           "subunitcolor": "white"
          },
          "hoverlabel": {
           "align": "left"
          },
          "hovermode": "closest",
          "mapbox": {
           "style": "light"
          },
          "paper_bgcolor": "white",
          "plot_bgcolor": "#E5ECF6",
          "polar": {
           "angularaxis": {
            "gridcolor": "white",
            "linecolor": "white",
            "ticks": ""
           },
           "bgcolor": "#E5ECF6",
           "radialaxis": {
            "gridcolor": "white",
            "linecolor": "white",
            "ticks": ""
           }
          },
          "scene": {
           "xaxis": {
            "backgroundcolor": "#E5ECF6",
            "gridcolor": "white",
            "gridwidth": 2,
            "linecolor": "white",
            "showbackground": true,
            "ticks": "",
            "zerolinecolor": "white"
           },
           "yaxis": {
            "backgroundcolor": "#E5ECF6",
            "gridcolor": "white",
            "gridwidth": 2,
            "linecolor": "white",
            "showbackground": true,
            "ticks": "",
            "zerolinecolor": "white"
           },
           "zaxis": {
            "backgroundcolor": "#E5ECF6",
            "gridcolor": "white",
            "gridwidth": 2,
            "linecolor": "white",
            "showbackground": true,
            "ticks": "",
            "zerolinecolor": "white"
           }
          },
          "shapedefaults": {
           "line": {
            "color": "#2a3f5f"
           }
          },
          "ternary": {
           "aaxis": {
            "gridcolor": "white",
            "linecolor": "white",
            "ticks": ""
           },
           "baxis": {
            "gridcolor": "white",
            "linecolor": "white",
            "ticks": ""
           },
           "bgcolor": "#E5ECF6",
           "caxis": {
            "gridcolor": "white",
            "linecolor": "white",
            "ticks": ""
           }
          },
          "title": {
           "x": 0.05
          },
          "xaxis": {
           "automargin": true,
           "gridcolor": "white",
           "linecolor": "white",
           "ticks": "",
           "title": {
            "standoff": 15
           },
           "zerolinecolor": "white",
           "zerolinewidth": 2
          },
          "yaxis": {
           "automargin": true,
           "gridcolor": "white",
           "linecolor": "white",
           "ticks": "",
           "title": {
            "standoff": 15
           },
           "zerolinecolor": "white",
           "zerolinewidth": 2
          }
         }
        }
       }
      },
      "text/html": [
       "<div>                            <div id=\"b4788af7-538b-4236-a831-fc7b11a4e3b5\" class=\"plotly-graph-div\" style=\"height:525px; width:100%;\"></div>            <script type=\"text/javascript\">                require([\"plotly\"], function(Plotly) {                    window.PLOTLYENV=window.PLOTLYENV || {};                                    if (document.getElementById(\"b4788af7-538b-4236-a831-fc7b11a4e3b5\")) {                    Plotly.newPlot(                        \"b4788af7-538b-4236-a831-fc7b11a4e3b5\",                        [{\"delta\":{\"reference\":0.05273833671399594,\"relative\":true},\"domain\":{\"x\":[0.0,0.2888888888888889],\"y\":[0.575,1.0]},\"mode\":\"number+delta\",\"title\":{\"text\":\"CR - A\"},\"value\":0.053534660260809885,\"type\":\"indicator\"},{\"delta\":{\"reference\":46.7694283879255,\"relative\":true},\"domain\":{\"x\":[0.35555555555555557,0.6444444444444445],\"y\":[0.575,1.0]},\"mode\":\"number+delta\",\"title\":{\"text\":\"ARPU - A\"},\"value\":47.43973941368078,\"type\":\"indicator\"},{\"delta\":{\"reference\":933.5897435897435,\"relative\":true},\"domain\":{\"x\":[0.7111111111111111,1.0],\"y\":[0.575,1.0]},\"mode\":\"number+delta\",\"title\":{\"text\":\"ARPPU - A\"},\"value\":933.5897435897435,\"type\":\"indicator\"},{\"delta\":{\"reference\":0.04778625954198473,\"relative\":true},\"domain\":{\"x\":[0.0,0.2888888888888889],\"y\":[0.0,0.425]},\"mode\":\"number+delta\",\"title\":{\"text\":\"CR - B\"},\"value\":0.04830246913580247,\"type\":\"indicator\"},{\"delta\":{\"reference\":57.27437031910243,\"relative\":true},\"domain\":{\"x\":[0.35555555555555557,0.6444444444444445],\"y\":[0.0,0.425]},\"mode\":\"number+delta\",\"title\":{\"text\":\"ARPU - B\"},\"value\":57.86456698071544,\"type\":\"indicator\"},{\"delta\":{\"reference\":1255.8274872204472,\"relative\":true},\"domain\":{\"x\":[0.7111111111111111,1.0],\"y\":[0.0,0.425]},\"mode\":\"number+delta\",\"title\":{\"text\":\"ARPPU - B\"},\"value\":1255.8274872204472,\"type\":\"indicator\"}],                        {\"margin\":{\"b\":0,\"l\":0,\"r\":20,\"t\":50},\"template\":{\"data\":{\"barpolar\":[{\"marker\":{\"line\":{\"color\":\"#E5ECF6\",\"width\":0.5},\"pattern\":{\"fillmode\":\"overlay\",\"size\":10,\"solidity\":0.2}},\"type\":\"barpolar\"}],\"bar\":[{\"error_x\":{\"color\":\"#2a3f5f\"},\"error_y\":{\"color\":\"#2a3f5f\"},\"marker\":{\"line\":{\"color\":\"#E5ECF6\",\"width\":0.5},\"pattern\":{\"fillmode\":\"overlay\",\"size\":10,\"solidity\":0.2}},\"type\":\"bar\"}],\"carpet\":[{\"aaxis\":{\"endlinecolor\":\"#2a3f5f\",\"gridcolor\":\"white\",\"linecolor\":\"white\",\"minorgridcolor\":\"white\",\"startlinecolor\":\"#2a3f5f\"},\"baxis\":{\"endlinecolor\":\"#2a3f5f\",\"gridcolor\":\"white\",\"linecolor\":\"white\",\"minorgridcolor\":\"white\",\"startlinecolor\":\"#2a3f5f\"},\"type\":\"carpet\"}],\"choropleth\":[{\"colorbar\":{\"outlinewidth\":0,\"ticks\":\"\"},\"type\":\"choropleth\"}],\"contourcarpet\":[{\"colorbar\":{\"outlinewidth\":0,\"ticks\":\"\"},\"type\":\"contourcarpet\"}],\"contour\":[{\"colorbar\":{\"outlinewidth\":0,\"ticks\":\"\"},\"colorscale\":[[0.0,\"#0d0887\"],[0.1111111111111111,\"#46039f\"],[0.2222222222222222,\"#7201a8\"],[0.3333333333333333,\"#9c179e\"],[0.4444444444444444,\"#bd3786\"],[0.5555555555555556,\"#d8576b\"],[0.6666666666666666,\"#ed7953\"],[0.7777777777777778,\"#fb9f3a\"],[0.8888888888888888,\"#fdca26\"],[1.0,\"#f0f921\"]],\"type\":\"contour\"}],\"heatmapgl\":[{\"colorbar\":{\"outlinewidth\":0,\"ticks\":\"\"},\"colorscale\":[[0.0,\"#0d0887\"],[0.1111111111111111,\"#46039f\"],[0.2222222222222222,\"#7201a8\"],[0.3333333333333333,\"#9c179e\"],[0.4444444444444444,\"#bd3786\"],[0.5555555555555556,\"#d8576b\"],[0.6666666666666666,\"#ed7953\"],[0.7777777777777778,\"#fb9f3a\"],[0.8888888888888888,\"#fdca26\"],[1.0,\"#f0f921\"]],\"type\":\"heatmapgl\"}],\"heatmap\":[{\"colorbar\":{\"outlinewidth\":0,\"ticks\":\"\"},\"colorscale\":[[0.0,\"#0d0887\"],[0.1111111111111111,\"#46039f\"],[0.2222222222222222,\"#7201a8\"],[0.3333333333333333,\"#9c179e\"],[0.4444444444444444,\"#bd3786\"],[0.5555555555555556,\"#d8576b\"],[0.6666666666666666,\"#ed7953\"],[0.7777777777777778,\"#fb9f3a\"],[0.8888888888888888,\"#fdca26\"],[1.0,\"#f0f921\"]],\"type\":\"heatmap\"}],\"histogram2dcontour\":[{\"colorbar\":{\"outlinewidth\":0,\"ticks\":\"\"},\"colorscale\":[[0.0,\"#0d0887\"],[0.1111111111111111,\"#46039f\"],[0.2222222222222222,\"#7201a8\"],[0.3333333333333333,\"#9c179e\"],[0.4444444444444444,\"#bd3786\"],[0.5555555555555556,\"#d8576b\"],[0.6666666666666666,\"#ed7953\"],[0.7777777777777778,\"#fb9f3a\"],[0.8888888888888888,\"#fdca26\"],[1.0,\"#f0f921\"]],\"type\":\"histogram2dcontour\"}],\"histogram2d\":[{\"colorbar\":{\"outlinewidth\":0,\"ticks\":\"\"},\"colorscale\":[[0.0,\"#0d0887\"],[0.1111111111111111,\"#46039f\"],[0.2222222222222222,\"#7201a8\"],[0.3333333333333333,\"#9c179e\"],[0.4444444444444444,\"#bd3786\"],[0.5555555555555556,\"#d8576b\"],[0.6666666666666666,\"#ed7953\"],[0.7777777777777778,\"#fb9f3a\"],[0.8888888888888888,\"#fdca26\"],[1.0,\"#f0f921\"]],\"type\":\"histogram2d\"}],\"histogram\":[{\"marker\":{\"pattern\":{\"fillmode\":\"overlay\",\"size\":10,\"solidity\":0.2}},\"type\":\"histogram\"}],\"mesh3d\":[{\"colorbar\":{\"outlinewidth\":0,\"ticks\":\"\"},\"type\":\"mesh3d\"}],\"parcoords\":[{\"line\":{\"colorbar\":{\"outlinewidth\":0,\"ticks\":\"\"}},\"type\":\"parcoords\"}],\"pie\":[{\"automargin\":true,\"type\":\"pie\"}],\"scatter3d\":[{\"line\":{\"colorbar\":{\"outlinewidth\":0,\"ticks\":\"\"}},\"marker\":{\"colorbar\":{\"outlinewidth\":0,\"ticks\":\"\"}},\"type\":\"scatter3d\"}],\"scattercarpet\":[{\"marker\":{\"colorbar\":{\"outlinewidth\":0,\"ticks\":\"\"}},\"type\":\"scattercarpet\"}],\"scattergeo\":[{\"marker\":{\"colorbar\":{\"outlinewidth\":0,\"ticks\":\"\"}},\"type\":\"scattergeo\"}],\"scattergl\":[{\"marker\":{\"colorbar\":{\"outlinewidth\":0,\"ticks\":\"\"}},\"type\":\"scattergl\"}],\"scattermapbox\":[{\"marker\":{\"colorbar\":{\"outlinewidth\":0,\"ticks\":\"\"}},\"type\":\"scattermapbox\"}],\"scatterpolargl\":[{\"marker\":{\"colorbar\":{\"outlinewidth\":0,\"ticks\":\"\"}},\"type\":\"scatterpolargl\"}],\"scatterpolar\":[{\"marker\":{\"colorbar\":{\"outlinewidth\":0,\"ticks\":\"\"}},\"type\":\"scatterpolar\"}],\"scatter\":[{\"fillpattern\":{\"fillmode\":\"overlay\",\"size\":10,\"solidity\":0.2},\"type\":\"scatter\"}],\"scatterternary\":[{\"marker\":{\"colorbar\":{\"outlinewidth\":0,\"ticks\":\"\"}},\"type\":\"scatterternary\"}],\"surface\":[{\"colorbar\":{\"outlinewidth\":0,\"ticks\":\"\"},\"colorscale\":[[0.0,\"#0d0887\"],[0.1111111111111111,\"#46039f\"],[0.2222222222222222,\"#7201a8\"],[0.3333333333333333,\"#9c179e\"],[0.4444444444444444,\"#bd3786\"],[0.5555555555555556,\"#d8576b\"],[0.6666666666666666,\"#ed7953\"],[0.7777777777777778,\"#fb9f3a\"],[0.8888888888888888,\"#fdca26\"],[1.0,\"#f0f921\"]],\"type\":\"surface\"}],\"table\":[{\"cells\":{\"fill\":{\"color\":\"#EBF0F8\"},\"line\":{\"color\":\"white\"}},\"header\":{\"fill\":{\"color\":\"#C8D4E3\"},\"line\":{\"color\":\"white\"}},\"type\":\"table\"}]},\"layout\":{\"annotationdefaults\":{\"arrowcolor\":\"#2a3f5f\",\"arrowhead\":0,\"arrowwidth\":1},\"autotypenumbers\":\"strict\",\"coloraxis\":{\"colorbar\":{\"outlinewidth\":0,\"ticks\":\"\"}},\"colorscale\":{\"diverging\":[[0,\"#8e0152\"],[0.1,\"#c51b7d\"],[0.2,\"#de77ae\"],[0.3,\"#f1b6da\"],[0.4,\"#fde0ef\"],[0.5,\"#f7f7f7\"],[0.6,\"#e6f5d0\"],[0.7,\"#b8e186\"],[0.8,\"#7fbc41\"],[0.9,\"#4d9221\"],[1,\"#276419\"]],\"sequential\":[[0.0,\"#0d0887\"],[0.1111111111111111,\"#46039f\"],[0.2222222222222222,\"#7201a8\"],[0.3333333333333333,\"#9c179e\"],[0.4444444444444444,\"#bd3786\"],[0.5555555555555556,\"#d8576b\"],[0.6666666666666666,\"#ed7953\"],[0.7777777777777778,\"#fb9f3a\"],[0.8888888888888888,\"#fdca26\"],[1.0,\"#f0f921\"]],\"sequentialminus\":[[0.0,\"#0d0887\"],[0.1111111111111111,\"#46039f\"],[0.2222222222222222,\"#7201a8\"],[0.3333333333333333,\"#9c179e\"],[0.4444444444444444,\"#bd3786\"],[0.5555555555555556,\"#d8576b\"],[0.6666666666666666,\"#ed7953\"],[0.7777777777777778,\"#fb9f3a\"],[0.8888888888888888,\"#fdca26\"],[1.0,\"#f0f921\"]]},\"colorway\":[\"#636efa\",\"#EF553B\",\"#00cc96\",\"#ab63fa\",\"#FFA15A\",\"#19d3f3\",\"#FF6692\",\"#B6E880\",\"#FF97FF\",\"#FECB52\"],\"font\":{\"color\":\"#2a3f5f\"},\"geo\":{\"bgcolor\":\"white\",\"lakecolor\":\"white\",\"landcolor\":\"#E5ECF6\",\"showlakes\":true,\"showland\":true,\"subunitcolor\":\"white\"},\"hoverlabel\":{\"align\":\"left\"},\"hovermode\":\"closest\",\"mapbox\":{\"style\":\"light\"},\"paper_bgcolor\":\"white\",\"plot_bgcolor\":\"#E5ECF6\",\"polar\":{\"angularaxis\":{\"gridcolor\":\"white\",\"linecolor\":\"white\",\"ticks\":\"\"},\"bgcolor\":\"#E5ECF6\",\"radialaxis\":{\"gridcolor\":\"white\",\"linecolor\":\"white\",\"ticks\":\"\"}},\"scene\":{\"xaxis\":{\"backgroundcolor\":\"#E5ECF6\",\"gridcolor\":\"white\",\"gridwidth\":2,\"linecolor\":\"white\",\"showbackground\":true,\"ticks\":\"\",\"zerolinecolor\":\"white\"},\"yaxis\":{\"backgroundcolor\":\"#E5ECF6\",\"gridcolor\":\"white\",\"gridwidth\":2,\"linecolor\":\"white\",\"showbackground\":true,\"ticks\":\"\",\"zerolinecolor\":\"white\"},\"zaxis\":{\"backgroundcolor\":\"#E5ECF6\",\"gridcolor\":\"white\",\"gridwidth\":2,\"linecolor\":\"white\",\"showbackground\":true,\"ticks\":\"\",\"zerolinecolor\":\"white\"}},\"shapedefaults\":{\"line\":{\"color\":\"#2a3f5f\"}},\"ternary\":{\"aaxis\":{\"gridcolor\":\"white\",\"linecolor\":\"white\",\"ticks\":\"\"},\"baxis\":{\"gridcolor\":\"white\",\"linecolor\":\"white\",\"ticks\":\"\"},\"bgcolor\":\"#E5ECF6\",\"caxis\":{\"gridcolor\":\"white\",\"linecolor\":\"white\",\"ticks\":\"\"}},\"title\":{\"x\":0.05},\"xaxis\":{\"automargin\":true,\"gridcolor\":\"white\",\"linecolor\":\"white\",\"ticks\":\"\",\"title\":{\"standoff\":15},\"zerolinecolor\":\"white\",\"zerolinewidth\":2},\"yaxis\":{\"automargin\":true,\"gridcolor\":\"white\",\"linecolor\":\"white\",\"ticks\":\"\",\"title\":{\"standoff\":15},\"zerolinecolor\":\"white\",\"zerolinewidth\":2}}}},                        {\"responsive\": true}                    ).then(function(){\n",
       "                            \n",
       "var gd = document.getElementById('b4788af7-538b-4236-a831-fc7b11a4e3b5');\n",
       "var x = new MutationObserver(function (mutations, observer) {{\n",
       "        var display = window.getComputedStyle(gd).display;\n",
       "        if (!display || display === 'none') {{\n",
       "            console.log([gd, 'removed!']);\n",
       "            Plotly.purge(gd);\n",
       "            observer.disconnect();\n",
       "        }}\n",
       "}});\n",
       "\n",
       "// Listen for the removal of the full notebook cells\n",
       "var notebookContainer = gd.closest('#notebook-container');\n",
       "if (notebookContainer) {{\n",
       "    x.observe(notebookContainer, {childList: true});\n",
       "}}\n",
       "\n",
       "// Listen for the clearing of the current output cell\n",
       "var outputEl = gd.closest('.output');\n",
       "if (outputEl) {{\n",
       "    x.observe(outputEl, {childList: true});\n",
       "}}\n",
       "\n",
       "                        })                };                });            </script>        </div>"
      ]
     },
     "metadata": {},
     "output_type": "display_data"
    },
    {
     "data": {
      "image/png": "[encoded data removed]",
      "text/plain": [
       "<Figure size 1600x700 with 6 Axes>"
      ]
     },
     "metadata": {},
     "output_type": "display_data"
    }
   ],
   "source": [
    "get_graphs(metrics)"
   ]
  }
 ],
 "metadata": {
  "kernelspec": {
   "display_name": "Python 3 (ipykernel)",
   "language": "python",
   "name": "python3"
  },
  "language_info": {
   "codemirror_mode": {
    "name": "ipython",
    "version": 3
   },
   "file_extension": ".py",
   "mimetype": "text/x-python",
   "name": "python",
   "nbconvert_exporter": "python",
   "pygments_lexer": "ipython3",
   "version": "3.10.11"
  }
 },
 "nbformat": 4,
 "nbformat_minor": 5
}
